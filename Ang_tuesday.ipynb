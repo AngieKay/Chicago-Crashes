{
 "cells": [
  {
   "cell_type": "markdown",
   "metadata": {},
   "source": [
    "# Working Notebook"
   ]
  },
  {
   "cell_type": "markdown",
   "metadata": {},
   "source": [
    "__Phase 3 Project - Chicago Traffic Crash Classification__"
   ]
  },
  {
   "cell_type": "markdown",
   "metadata": {},
   "source": [
    "### Business Understanding"
   ]
  },
  {
   "cell_type": "markdown",
   "metadata": {},
   "source": []
  },
  {
   "cell_type": "markdown",
   "metadata": {},
   "source": [
    "### Data Understanding and Preparation"
   ]
  },
  {
   "cell_type": "markdown",
   "metadata": {},
   "source": [
    "Load dependencies"
   ]
  },
  {
   "cell_type": "code",
   "execution_count": 1,
   "metadata": {},
   "outputs": [],
   "source": [
    "import pandas as pd\n",
    "import numpy as np\n",
    "import seaborn as sns\n",
    "from scipy import stats as stats\n",
    "import matplotlib.pyplot as plt\n",
    "%matplotlib inline\n",
    "\n",
    "from sklearn.preprocessing import OneHotEncoder, StandardScaler\n",
    "from sklearn.impute import SimpleImputer\n",
    "from sklearn.pipeline import Pipeline\n",
    "from sklearn.compose import ColumnTransformer\n",
    "from sklearn.impute import KNNImputer\n",
    "\n",
    "\n",
    "from sklearn.dummy import DummyClassifier\n",
    "from sklearn.linear_model import LogisticRegression\n",
    "from sklearn.neighbors import KNeighborsClassifier\n",
    "from sklearn.tree import DecisionTreeClassifier\n",
    "\n",
    "from sklearn.ensemble import RandomForestClassifier\n",
    "\n",
    "from sklearn.metrics import accuracy_score, precision_score, recall_score, confusion_matrix\n",
    "from sklearn.model_selection import train_test_split, GridSearchCV,\\\n",
    "cross_val_score, RandomizedSearchCV\n"
   ]
  },
  {
   "cell_type": "markdown",
   "metadata": {},
   "source": [
    "Import data files"
   ]
  },
  {
   "cell_type": "code",
   "execution_count": 2,
   "metadata": {},
   "outputs": [],
   "source": [
<<<<<<< HEAD:Ang_tuesday.ipynb
    "crashes = pd.read_csv('C:/Users/angie/Desktop/group_project/Chicago-Crashes/data/Traffic_Crashes_-_Crashes.csv', low_memory=False)\n",
    "people = pd.read_csv('C:/Users/angie/Desktop/group_project/Chicago-Crashes/data/Traffic_Crashes_-_People.csv', low_memory=False)\n",
    "vehicles = pd.read_csv('C:/Users/angie/Desktop/group_project/Chicago-Crashes/data/Traffic_Crashes_-_Vehicles.csv', low_memory = False)"
=======
    "crashes = pd.read_csv('Chicago-Crashes/data/Traffic_Crashes_-_Crashes.csv', low_memory=False)\n",
    "people = pd.read_csv('Chicago-Crashes/data/Traffic_Crashes_-_People.csv', low_memory=False)\n",
    "#vehicles = pd.read_csv('Chicago-Crashes/data/Traffic_Crashes_-_Vehicles.csv', low_memory=False)"
>>>>>>> fd2a1972e96d6fd633cdb95cae47776047b2f306:Meaghan_wn.ipynb
   ]
  },
  {
   "cell_type": "code",
   "execution_count": 3,
   "metadata": {},
   "outputs": [
    {
     "name": "stdout",
     "output_type": "stream",
     "text": [
      "<class 'pandas.core.frame.DataFrame'>\n",
      "RangeIndex: 541142 entries, 0 to 541141\n",
      "Data columns (total 49 columns):\n",
      " #   Column                         Non-Null Count   Dtype  \n",
      "---  ------                         --------------   -----  \n",
      " 0   CRASH_RECORD_ID                541142 non-null  object \n",
      " 1   RD_NO                          536550 non-null  object \n",
      " 2   CRASH_DATE_EST_I               41029 non-null   object \n",
      " 3   CRASH_DATE                     541142 non-null  object \n",
      " 4   POSTED_SPEED_LIMIT             541142 non-null  int64  \n",
      " 5   TRAFFIC_CONTROL_DEVICE         541142 non-null  object \n",
      " 6   DEVICE_CONDITION               541142 non-null  object \n",
      " 7   WEATHER_CONDITION              541142 non-null  object \n",
      " 8   LIGHTING_CONDITION             541142 non-null  object \n",
      " 9   FIRST_CRASH_TYPE               541142 non-null  object \n",
      " 10  TRAFFICWAY_TYPE                541142 non-null  object \n",
      " 11  LANE_CNT                       198968 non-null  float64\n",
      " 12  ALIGNMENT                      541142 non-null  object \n",
      " 13  ROADWAY_SURFACE_COND           541142 non-null  object \n",
      " 14  ROAD_DEFECT                    541142 non-null  object \n",
      " 15  REPORT_TYPE                    527615 non-null  object \n",
      " 16  CRASH_TYPE                     541142 non-null  object \n",
      " 17  INTERSECTION_RELATED_I         122702 non-null  object \n",
      " 18  NOT_RIGHT_OF_WAY_I             25602 non-null   object \n",
      " 19  HIT_AND_RUN_I                  162942 non-null  object \n",
      " 20  DAMAGE                         541142 non-null  object \n",
      " 21  DATE_POLICE_NOTIFIED           541142 non-null  object \n",
      " 22  PRIM_CONTRIBUTORY_CAUSE        541142 non-null  object \n",
      " 23  SEC_CONTRIBUTORY_CAUSE         541142 non-null  object \n",
      " 24  STREET_NO                      541142 non-null  int64  \n",
      " 25  STREET_DIRECTION               541139 non-null  object \n",
      " 26  STREET_NAME                    541141 non-null  object \n",
      " 27  BEAT_OF_OCCURRENCE             541137 non-null  float64\n",
      " 28  PHOTOS_TAKEN_I                 6746 non-null    object \n",
      " 29  STATEMENTS_TAKEN_I             11007 non-null   object \n",
      " 30  DOORING_I                      1746 non-null    object \n",
      " 31  WORK_ZONE_I                    3412 non-null    object \n",
      " 32  WORK_ZONE_TYPE                 2696 non-null    object \n",
      " 33  WORKERS_PRESENT_I              843 non-null     object \n",
      " 34  NUM_UNITS                      541133 non-null  float64\n",
      " 35  MOST_SEVERE_INJURY             540019 non-null  object \n",
      " 36  INJURIES_TOTAL                 540030 non-null  float64\n",
      " 37  INJURIES_FATAL                 540030 non-null  float64\n",
      " 38  INJURIES_INCAPACITATING        540030 non-null  float64\n",
      " 39  INJURIES_NON_INCAPACITATING    540030 non-null  float64\n",
      " 40  INJURIES_REPORTED_NOT_EVIDENT  540030 non-null  float64\n",
      " 41  INJURIES_NO_INDICATION         540030 non-null  float64\n",
      " 42  INJURIES_UNKNOWN               540030 non-null  float64\n",
      " 43  CRASH_HOUR                     541142 non-null  int64  \n",
      " 44  CRASH_DAY_OF_WEEK              541142 non-null  int64  \n",
      " 45  CRASH_MONTH                    541142 non-null  int64  \n",
      " 46  LATITUDE                       538026 non-null  float64\n",
      " 47  LONGITUDE                      538026 non-null  float64\n",
      " 48  LOCATION                       538026 non-null  object \n",
      "dtypes: float64(12), int64(5), object(32)\n",
      "memory usage: 202.3+ MB\n"
     ]
    }
   ],
   "source": [
    "crashes.info()"
   ]
  },
  {
   "cell_type": "code",
   "execution_count": 4,
   "metadata": {},
   "outputs": [
    {
     "name": "stdout",
     "output_type": "stream",
     "text": [
      "<class 'pandas.core.frame.DataFrame'>\n",
      "RangeIndex: 1195747 entries, 0 to 1195746\n",
      "Data columns (total 30 columns):\n",
      " #   Column                 Non-Null Count    Dtype  \n",
      "---  ------                 --------------    -----  \n",
      " 0   PERSON_ID              1195747 non-null  object \n",
      " 1   PERSON_TYPE            1195747 non-null  object \n",
      " 2   CRASH_RECORD_ID        1195747 non-null  object \n",
      " 3   RD_NO                  1185613 non-null  object \n",
      " 4   VEHICLE_ID             1172146 non-null  float64\n",
      " 5   CRASH_DATE             1195747 non-null  object \n",
      " 6   SEAT_NO                244512 non-null   float64\n",
      " 7   CITY                   879728 non-null   object \n",
      " 8   STATE                  890189 non-null   object \n",
      " 9   ZIPCODE                803192 non-null   object \n",
      " 10  SEX                    1177665 non-null  object \n",
      " 11  AGE                    852450 non-null   float64\n",
      " 12  DRIVERS_LICENSE_STATE  705542 non-null   object \n",
      " 13  DRIVERS_LICENSE_CLASS  608027 non-null   object \n",
      " 14  SAFETY_EQUIPMENT       1192258 non-null  object \n",
      " 15  AIRBAG_DEPLOYED        1173141 non-null  object \n",
      " 16  EJECTION               1181206 non-null  object \n",
      " 17  INJURY_CLASSIFICATION  1195154 non-null  object \n",
      " 18  HOSPITAL               215168 non-null   object \n",
      " 19  EMS_AGENCY             136061 non-null   object \n",
      " 20  EMS_RUN_NO             22281 non-null    object \n",
      " 21  DRIVER_ACTION          948962 non-null   object \n",
      " 22  DRIVER_VISION          948631 non-null   object \n",
      " 23  PHYSICAL_CONDITION     949646 non-null   object \n",
      " 24  PEDPEDAL_ACTION        22222 non-null    object \n",
      " 25  PEDPEDAL_VISIBILITY    22174 non-null    object \n",
      " 26  PEDPEDAL_LOCATION      22221 non-null    object \n",
      " 27  BAC_RESULT             950056 non-null   object \n",
      " 28  BAC_RESULT VALUE       1513 non-null     float64\n",
      " 29  CELL_PHONE_USE         1157 non-null     object \n",
      "dtypes: float64(4), object(26)\n",
      "memory usage: 273.7+ MB\n"
     ]
    }
   ],
   "source": [
    "people.info()"
   ]
  },
  {
   "cell_type": "markdown",
   "metadata": {},
   "source": [
    "Remove columns with 80% or more of null values."
   ]
  },
  {
   "cell_type": "code",
   "execution_count": 5,
   "metadata": {},
   "outputs": [],
   "source": [
    "df_list=[crashes, people]\n",
    "for df in df_list:\n",
    "    min_count =  int((20/100)*df.shape[0] + 1)\n",
    "    df = df.dropna(axis=1, thresh=min_count, inplace=True)"
   ]
  },
  {
   "cell_type": "code",
   "execution_count": 6,
   "metadata": {},
   "outputs": [],
   "source": [
    "#vehicles.info()"
   ]
  },
  {
   "cell_type": "markdown",
   "metadata": {},
   "source": [
    "Drop columns that will not be used"
   ]
  },
  {
   "cell_type": "code",
   "execution_count": 7,
   "metadata": {},
   "outputs": [
    {
     "name": "stdout",
     "output_type": "stream",
     "text": [
      "<class 'pandas.core.frame.DataFrame'>\n",
      "RangeIndex: 541142 entries, 0 to 541141\n",
      "Data columns (total 41 columns):\n",
      " #   Column                         Non-Null Count   Dtype  \n",
      "---  ------                         --------------   -----  \n",
      " 0   CRASH_RECORD_ID                541142 non-null  object \n",
      " 1   RD_NO                          536550 non-null  object \n",
      " 2   CRASH_DATE                     541142 non-null  object \n",
      " 3   POSTED_SPEED_LIMIT             541142 non-null  int64  \n",
      " 4   TRAFFIC_CONTROL_DEVICE         541142 non-null  object \n",
      " 5   DEVICE_CONDITION               541142 non-null  object \n",
      " 6   WEATHER_CONDITION              541142 non-null  object \n",
      " 7   LIGHTING_CONDITION             541142 non-null  object \n",
      " 8   FIRST_CRASH_TYPE               541142 non-null  object \n",
      " 9   TRAFFICWAY_TYPE                541142 non-null  object \n",
      " 10  LANE_CNT                       198968 non-null  float64\n",
      " 11  ALIGNMENT                      541142 non-null  object \n",
      " 12  ROADWAY_SURFACE_COND           541142 non-null  object \n",
      " 13  ROAD_DEFECT                    541142 non-null  object \n",
      " 14  REPORT_TYPE                    527615 non-null  object \n",
      " 15  CRASH_TYPE                     541142 non-null  object \n",
      " 16  INTERSECTION_RELATED_I         122702 non-null  object \n",
      " 17  HIT_AND_RUN_I                  162942 non-null  object \n",
      " 18  DAMAGE                         541142 non-null  object \n",
      " 19  DATE_POLICE_NOTIFIED           541142 non-null  object \n",
      " 20  PRIM_CONTRIBUTORY_CAUSE        541142 non-null  object \n",
      " 21  SEC_CONTRIBUTORY_CAUSE         541142 non-null  object \n",
      " 22  STREET_NO                      541142 non-null  int64  \n",
      " 23  STREET_DIRECTION               541139 non-null  object \n",
      " 24  STREET_NAME                    541141 non-null  object \n",
      " 25  BEAT_OF_OCCURRENCE             541137 non-null  float64\n",
      " 26  NUM_UNITS                      541133 non-null  float64\n",
      " 27  MOST_SEVERE_INJURY             540019 non-null  object \n",
      " 28  INJURIES_TOTAL                 540030 non-null  float64\n",
      " 29  INJURIES_FATAL                 540030 non-null  float64\n",
      " 30  INJURIES_INCAPACITATING        540030 non-null  float64\n",
      " 31  INJURIES_NON_INCAPACITATING    540030 non-null  float64\n",
      " 32  INJURIES_REPORTED_NOT_EVIDENT  540030 non-null  float64\n",
      " 33  INJURIES_NO_INDICATION         540030 non-null  float64\n",
      " 34  INJURIES_UNKNOWN               540030 non-null  float64\n",
      " 35  CRASH_HOUR                     541142 non-null  int64  \n",
      " 36  CRASH_DAY_OF_WEEK              541142 non-null  int64  \n",
      " 37  CRASH_MONTH                    541142 non-null  int64  \n",
      " 38  LATITUDE                       538026 non-null  float64\n",
      " 39  LONGITUDE                      538026 non-null  float64\n",
      " 40  LOCATION                       538026 non-null  object \n",
      "dtypes: float64(12), int64(5), object(24)\n",
      "memory usage: 169.3+ MB\n"
     ]
    }
   ],
   "source": [
    "crashes.info()"
   ]
  },
  {
   "cell_type": "code",
   "execution_count": 8,
   "metadata": {},
   "outputs": [],
   "source": [
    "crashes_mod = crashes.drop(['CRASH_DATE','RD_NO','REPORT_TYPE', 'DATE_POLICE_NOTIFIED', 'STREET_NO', \n",
    "              'STREET_DIRECTION', 'STREET_NAME', 'MOST_SEVERE_INJURY', 'INJURIES_TOTAL', 'INJURIES_FATAL',\n",
    "             'INJURIES_INCAPACITATING', 'INJURIES_NON_INCAPACITATING', 'INJURIES_REPORTED_NOT_EVIDENT', \n",
    "             'INJURIES_NO_INDICATION', 'INJURIES_UNKNOWN'], axis =1)"
   ]
  },
  {
   "cell_type": "code",
   "execution_count": 9,
   "metadata": {},
   "outputs": [],
   "source": [
    "people_mod = people.drop(['CITY', 'ZIPCODE','RD_NO'], axis =1)"
   ]
  },
  {
   "cell_type": "code",
<<<<<<< HEAD:Ang_tuesday.ipynb
   "execution_count": 11,
=======
   "execution_count": 10,
>>>>>>> fd2a1972e96d6fd633cdb95cae47776047b2f306:Meaghan_wn.ipynb
   "metadata": {},
   "outputs": [],
   "source": [
    "#vehicles_mod = vehicles.drop(['RD_NO', 'CRASH_DATE', 'UNIT_NO', 'AREA_01_I'], axis =1)"
   ]
  },
  {
   "cell_type": "code",
<<<<<<< HEAD:Ang_tuesday.ipynb
   "execution_count": 12,
=======
   "execution_count": 11,
>>>>>>> fd2a1972e96d6fd633cdb95cae47776047b2f306:Meaghan_wn.ipynb
   "metadata": {},
   "outputs": [
    {
     "data": {
      "text/plain": [
       "(1195747, 19)"
      ]
     },
<<<<<<< HEAD:Ang_tuesday.ipynb
     "execution_count": 12,
=======
     "execution_count": 11,
>>>>>>> fd2a1972e96d6fd633cdb95cae47776047b2f306:Meaghan_wn.ipynb
     "metadata": {},
     "output_type": "execute_result"
    }
   ],
   "source": [
    "people_mod.shape"
   ]
  },
  {
   "cell_type": "code",
<<<<<<< HEAD:Ang_tuesday.ipynb
   "execution_count": 13,
   "metadata": {},
   "outputs": [
    {
     "data": {
      "text/plain": [
       "(1107267, 15)"
      ]
     },
     "execution_count": 13,
     "metadata": {},
     "output_type": "execute_result"
    }
   ],
=======
   "execution_count": 12,
   "metadata": {},
   "outputs": [],
>>>>>>> fd2a1972e96d6fd633cdb95cae47776047b2f306:Meaghan_wn.ipynb
   "source": [
    "#vehicles_mod.shape"
   ]
  },
  {
   "cell_type": "code",
<<<<<<< HEAD:Ang_tuesday.ipynb
   "execution_count": 14,
=======
   "execution_count": 13,
>>>>>>> fd2a1972e96d6fd633cdb95cae47776047b2f306:Meaghan_wn.ipynb
   "metadata": {},
   "outputs": [
    {
     "data": {
      "text/plain": [
       "(541142, 26)"
      ]
     },
<<<<<<< HEAD:Ang_tuesday.ipynb
     "execution_count": 14,
=======
     "execution_count": 13,
>>>>>>> fd2a1972e96d6fd633cdb95cae47776047b2f306:Meaghan_wn.ipynb
     "metadata": {},
     "output_type": "execute_result"
    }
   ],
   "source": [
    "crashes_mod.shape"
   ]
  },
  {
   "cell_type": "markdown",
   "metadata": {},
   "source": [
    "## First Simple Model"
   ]
  },
  {
   "cell_type": "code",
<<<<<<< HEAD:Ang_tuesday.ipynb
   "execution_count": 15,
=======
   "execution_count": 14,
>>>>>>> fd2a1972e96d6fd633cdb95cae47776047b2f306:Meaghan_wn.ipynb
   "metadata": {},
   "outputs": [
    {
     "name": "stdout",
     "output_type": "stream",
     "text": [
      "<class 'pandas.core.frame.DataFrame'>\n",
      "RangeIndex: 541142 entries, 0 to 541141\n",
      "Data columns (total 41 columns):\n",
      " #   Column                         Non-Null Count   Dtype  \n",
      "---  ------                         --------------   -----  \n",
      " 0   CRASH_RECORD_ID                541142 non-null  object \n",
      " 1   RD_NO                          536550 non-null  object \n",
      " 2   CRASH_DATE                     541142 non-null  object \n",
      " 3   POSTED_SPEED_LIMIT             541142 non-null  int64  \n",
      " 4   TRAFFIC_CONTROL_DEVICE         541142 non-null  object \n",
      " 5   DEVICE_CONDITION               541142 non-null  object \n",
      " 6   WEATHER_CONDITION              541142 non-null  object \n",
      " 7   LIGHTING_CONDITION             541142 non-null  object \n",
      " 8   FIRST_CRASH_TYPE               541142 non-null  object \n",
      " 9   TRAFFICWAY_TYPE                541142 non-null  object \n",
      " 10  LANE_CNT                       198968 non-null  float64\n",
      " 11  ALIGNMENT                      541142 non-null  object \n",
      " 12  ROADWAY_SURFACE_COND           541142 non-null  object \n",
      " 13  ROAD_DEFECT                    541142 non-null  object \n",
      " 14  REPORT_TYPE                    527615 non-null  object \n",
      " 15  CRASH_TYPE                     541142 non-null  object \n",
      " 16  INTERSECTION_RELATED_I         122702 non-null  object \n",
      " 17  HIT_AND_RUN_I                  162942 non-null  object \n",
      " 18  DAMAGE                         541142 non-null  object \n",
      " 19  DATE_POLICE_NOTIFIED           541142 non-null  object \n",
      " 20  PRIM_CONTRIBUTORY_CAUSE        541142 non-null  object \n",
      " 21  SEC_CONTRIBUTORY_CAUSE         541142 non-null  object \n",
      " 22  STREET_NO                      541142 non-null  int64  \n",
      " 23  STREET_DIRECTION               541139 non-null  object \n",
      " 24  STREET_NAME                    541141 non-null  object \n",
      " 25  BEAT_OF_OCCURRENCE             541137 non-null  float64\n",
      " 26  NUM_UNITS                      541133 non-null  float64\n",
      " 27  MOST_SEVERE_INJURY             540019 non-null  object \n",
      " 28  INJURIES_TOTAL                 540030 non-null  float64\n",
      " 29  INJURIES_FATAL                 540030 non-null  float64\n",
      " 30  INJURIES_INCAPACITATING        540030 non-null  float64\n",
      " 31  INJURIES_NON_INCAPACITATING    540030 non-null  float64\n",
      " 32  INJURIES_REPORTED_NOT_EVIDENT  540030 non-null  float64\n",
      " 33  INJURIES_NO_INDICATION         540030 non-null  float64\n",
      " 34  INJURIES_UNKNOWN               540030 non-null  float64\n",
      " 35  CRASH_HOUR                     541142 non-null  int64  \n",
      " 36  CRASH_DAY_OF_WEEK              541142 non-null  int64  \n",
      " 37  CRASH_MONTH                    541142 non-null  int64  \n",
      " 38  LATITUDE                       538026 non-null  float64\n",
      " 39  LONGITUDE                      538026 non-null  float64\n",
      " 40  LOCATION                       538026 non-null  object \n",
      "dtypes: float64(12), int64(5), object(24)\n",
      "memory usage: 169.3+ MB\n"
     ]
    }
   ],
   "source": [
    "crashes.info()"
   ]
  },
  {
   "cell_type": "code",
<<<<<<< HEAD:Ang_tuesday.ipynb
   "execution_count": 16,
=======
   "execution_count": 15,
>>>>>>> fd2a1972e96d6fd633cdb95cae47776047b2f306:Meaghan_wn.ipynb
   "metadata": {},
   "outputs": [
    {
     "data": {
      "text/plain": [
       "NO INDICATION OF INJURY     468994\n",
       "NONINCAPACITATING INJURY     39675\n",
       "REPORTED, NOT EVIDENT        21763\n",
       "INCAPACITATING INJURY         9040\n",
       "FATAL                          547\n",
       "Name: MOST_SEVERE_INJURY, dtype: int64"
      ]
     },
<<<<<<< HEAD:Ang_tuesday.ipynb
     "execution_count": 16,
=======
     "execution_count": 15,
>>>>>>> fd2a1972e96d6fd633cdb95cae47776047b2f306:Meaghan_wn.ipynb
     "metadata": {},
     "output_type": "execute_result"
    }
   ],
   "source": [
    "crashes.MOST_SEVERE_INJURY.value_counts()"
   ]
  },
  {
   "cell_type": "markdown",
   "metadata": {},
   "source": [
    "Set up target variable:\n",
    " - 0: NO INDICATION OF INJURY, NONINCAPACITATING INJURY, REPORTED, NOT EVIDENT\n",
    " - 1: INCAPACITATING INJURY, FATAL\n",
    " "
   ]
  },
  {
   "cell_type": "code",
<<<<<<< HEAD:Ang_tuesday.ipynb
   "execution_count": 17,
=======
   "execution_count": 16,
>>>>>>> fd2a1972e96d6fd633cdb95cae47776047b2f306:Meaghan_wn.ipynb
   "metadata": {},
   "outputs": [],
   "source": [
    "crashes['TARGET']= crashes['MOST_SEVERE_INJURY'].map({'NO INDICATION OF INJURY': 0,\n",
    "                                                      'NONINCAPACITATING INJURY': 0,\n",
    "                                                      'REPORTED, NOT EVIDENT': 0,\n",
    "                                                      'INCAPACITATING INJURY': 1,\n",
    "                                                      'FATAL': 1})"
   ]
  },
  {
   "cell_type": "code",
<<<<<<< HEAD:Ang_tuesday.ipynb
   "execution_count": 18,
=======
   "execution_count": 17,
>>>>>>> fd2a1972e96d6fd633cdb95cae47776047b2f306:Meaghan_wn.ipynb
   "metadata": {},
   "outputs": [],
   "source": [
    "crashes.TARGET.fillna(0, inplace=True)"
   ]
  },
  {
   "cell_type": "code",
<<<<<<< HEAD:Ang_tuesday.ipynb
   "execution_count": 19,
=======
   "execution_count": 18,
>>>>>>> fd2a1972e96d6fd633cdb95cae47776047b2f306:Meaghan_wn.ipynb
   "metadata": {},
   "outputs": [
    {
     "data": {
      "text/plain": [
       "0.0    531555\n",
       "1.0      9587\n",
       "Name: TARGET, dtype: int64"
      ]
     },
<<<<<<< HEAD:Ang_tuesday.ipynb
     "execution_count": 19,
=======
     "execution_count": 18,
>>>>>>> fd2a1972e96d6fd633cdb95cae47776047b2f306:Meaghan_wn.ipynb
     "metadata": {},
     "output_type": "execute_result"
    }
   ],
   "source": [
    "crashes.TARGET.value_counts()"
   ]
  },
  {
   "cell_type": "code",
<<<<<<< HEAD:Ang_tuesday.ipynb
   "execution_count": 20,
=======
   "execution_count": 19,
>>>>>>> fd2a1972e96d6fd633cdb95cae47776047b2f306:Meaghan_wn.ipynb
   "metadata": {},
   "outputs": [],
   "source": [
    "from sklearn.model_selection import train_test_split\n",
    "X = crashes.drop(['MOST_SEVERE_INJURY','INJURIES_TOTAL', 'INJURIES_FATAL','INJURIES_INCAPACITATING',\n",
    "                      'INJURIES_NON_INCAPACITATING', 'INJURIES_REPORTED_NOT_EVIDENT',\n",
    "                      'INJURIES_NO_INDICATION', 'TARGET', 'CRASH_RECORD_ID', 'CRASH_DATE', 'LATITUDE', \n",
    "                      'LONGITUDE','LOCATION'], axis=1)\n",
    "y = crashes['TARGET']\n",
    "X_train, X_test, y_train, y_test = train_test_split(X, y, random_state=42)"
   ]
  },
  {
   "cell_type": "code",
<<<<<<< HEAD:Ang_tuesday.ipynb
   "execution_count": 21,
=======
   "execution_count": 20,
>>>>>>> fd2a1972e96d6fd633cdb95cae47776047b2f306:Meaghan_wn.ipynb
   "metadata": {},
   "outputs": [],
   "source": [
    "X_train_nums = X_train.select_dtypes(include=['float64', 'int64'])\n",
    "X_train_cat = X_train.select_dtypes('object')"
   ]
  },
  {
   "cell_type": "code",
<<<<<<< HEAD:Ang_tuesday.ipynb
   "execution_count": 22,
=======
   "execution_count": 21,
>>>>>>> fd2a1972e96d6fd633cdb95cae47776047b2f306:Meaghan_wn.ipynb
   "metadata": {},
   "outputs": [],
   "source": [
    "numerical_pipeline = Pipeline(steps=[\n",
    "    ('knn_impute', KNNImputer()),\n",
    "    ('ss', StandardScaler())\n",
    "])\n",
    "                \n",
    "categorical_pipeline = Pipeline(steps=[\n",
    "    ('ohe', OneHotEncoder(drop='first',\n",
    "                         sparse=False))\n",
    "])\n",
    "\n",
    "trans = ColumnTransformer(transformers=[\n",
    "    ('numerical', numerical_pipeline, X_train_nums.columns),\n",
    "    ('categorical', categorical_pipeline, X_train_cat.columns)\n",
    "])"
   ]
  },
  {
   "cell_type": "code",
<<<<<<< HEAD:Ang_tuesday.ipynb
   "execution_count": 23,
=======
   "execution_count": 22,
>>>>>>> fd2a1972e96d6fd633cdb95cae47776047b2f306:Meaghan_wn.ipynb
   "metadata": {},
   "outputs": [],
   "source": [
    "model_pipe = Pipeline(steps=[\n",
    "    ('trans', trans),\n",
    "    ('dc', DummyClassifier(strategy='most_frequent'))\n",
    "])"
   ]
  },
  {
   "cell_type": "code",
<<<<<<< HEAD:Ang_tuesday.ipynb
   "execution_count": 24,
=======
   "execution_count": 23,
>>>>>>> fd2a1972e96d6fd633cdb95cae47776047b2f306:Meaghan_wn.ipynb
   "metadata": {},
   "outputs": [],
   "source": [
    "#model_pipe.fit(X_train, y_train)"
   ]
  },
  {
   "cell_type": "code",
<<<<<<< HEAD:Ang_tuesday.ipynb
   "execution_count": 25,
=======
   "execution_count": 24,
>>>>>>> fd2a1972e96d6fd633cdb95cae47776047b2f306:Meaghan_wn.ipynb
   "metadata": {},
   "outputs": [],
   "source": [
    "#model_pipe.score(X_train, y_train)"
   ]
  },
  {
<<<<<<< HEAD:Ang_tuesday.ipynb
   "cell_type": "code",
   "execution_count": 26,
   "metadata": {},
   "outputs": [],
   "source": [
    "#model_pipe.score(X_test, y_test)"
=======
   "cell_type": "markdown",
   "metadata": {},
   "source": [
    "Add cross val score"
>>>>>>> fd2a1972e96d6fd633cdb95cae47776047b2f306:Meaghan_wn.ipynb
   ]
  },
  {
   "cell_type": "code",
   "execution_count": null,
   "metadata": {},
   "outputs": [],
   "source": []
  },
  {
   "cell_type": "markdown",
   "metadata": {},
   "source": [
    "### Merging Dataframes"
   ]
  },
  {
   "cell_type": "markdown",
   "metadata": {},
   "source": [
    "From the people data, the target will be the injury classification so that the model will predict the severity of injuries."
   ]
  },
  {
   "cell_type": "code",
   "execution_count": 27,
   "metadata": {},
   "outputs": [
    {
     "data": {
      "text/plain": [
       "NO INDICATION OF INJURY     1096283\n",
       "NONINCAPACITATING INJURY      55296\n",
       "REPORTED, NOT EVIDENT         32092\n",
       "INCAPACITATING INJURY         10827\n",
       "FATAL                           656\n",
       "Name: INJURY_CLASSIFICATION, dtype: int64"
      ]
     },
     "execution_count": 27,
     "metadata": {},
     "output_type": "execute_result"
    }
   ],
   "source": [
    "people_mod.INJURY_CLASSIFICATION.value_counts()"
   ]
  },
  {
   "cell_type": "markdown",
   "metadata": {},
   "source": [
    "To avoid too many repeated rows from crashes_dropped_df, we'll use the `CRASH_RECORD_ID` to only merge in rows from people_dropped_df where `DRIVER_TYPE == DRIVER`, then use the `VEHICLE_ID` to only merge in that driver's vehicle from vehicles_dropped_df.\n",
    "\n",
    "This will allow us to still retain over 75% of the rows from people."
   ]
  },
  {
   "cell_type": "code",
   "execution_count": 28,
   "metadata": {},
   "outputs": [
    {
     "data": {
      "text/plain": [
       "DRIVER                 0.776163\n",
       "PASSENGER              0.204485\n",
       "PEDESTRIAN             0.011393\n",
       "BICYCLE                0.006911\n",
       "NON-MOTOR VEHICLE      0.000866\n",
       "NON-CONTACT VEHICLE    0.000181\n",
       "Name: PERSON_TYPE, dtype: float64"
      ]
     },
     "execution_count": 28,
     "metadata": {},
     "output_type": "execute_result"
    }
   ],
   "source": [
    "people_mod.PERSON_TYPE.value_counts(normalize=True)"
   ]
  },
  {
   "cell_type": "code",
<<<<<<< HEAD:Ang_tuesday.ipynb
   "execution_count": 29,
=======
   "execution_count": 27,
>>>>>>> fd2a1972e96d6fd633cdb95cae47776047b2f306:Meaghan_wn.ipynb
   "metadata": {},
   "outputs": [],
   "source": [
    "people_crashes_df = people_mod.merge(crashes_mod, on='CRASH_RECORD_ID', how='left')"
   ]
  },
  {
   "cell_type": "code",
<<<<<<< HEAD:Ang_tuesday.ipynb
   "execution_count": 30,
=======
   "execution_count": 28,
>>>>>>> fd2a1972e96d6fd633cdb95cae47776047b2f306:Meaghan_wn.ipynb
   "metadata": {},
   "outputs": [
    {
     "name": "stdout",
     "output_type": "stream",
     "text": [
      "<class 'pandas.core.frame.DataFrame'>\n",
      "Int64Index: 1195747 entries, 0 to 1195746\n",
      "Data columns (total 44 columns):\n",
      " #   Column                   Non-Null Count    Dtype  \n",
      "---  ------                   --------------    -----  \n",
      " 0   PERSON_ID                1195747 non-null  object \n",
      " 1   PERSON_TYPE              1195747 non-null  object \n",
      " 2   CRASH_RECORD_ID          1195747 non-null  object \n",
      " 3   VEHICLE_ID               1172146 non-null  float64\n",
      " 4   CRASH_DATE               1195747 non-null  object \n",
      " 5   SEAT_NO                  244512 non-null   float64\n",
      " 6   STATE                    890189 non-null   object \n",
      " 7   SEX                      1177665 non-null  object \n",
      " 8   AGE                      852450 non-null   float64\n",
      " 9   DRIVERS_LICENSE_STATE    705542 non-null   object \n",
      " 10  DRIVERS_LICENSE_CLASS    608027 non-null   object \n",
      " 11  SAFETY_EQUIPMENT         1192258 non-null  object \n",
      " 12  AIRBAG_DEPLOYED          1173141 non-null  object \n",
      " 13  EJECTION                 1181206 non-null  object \n",
      " 14  INJURY_CLASSIFICATION    1195154 non-null  object \n",
      " 15  DRIVER_ACTION            948962 non-null   object \n",
      " 16  DRIVER_VISION            948631 non-null   object \n",
      " 17  PHYSICAL_CONDITION       949646 non-null   object \n",
      " 18  BAC_RESULT               950056 non-null   object \n",
      " 19  POSTED_SPEED_LIMIT       1195747 non-null  int64  \n",
      " 20  TRAFFIC_CONTROL_DEVICE   1195747 non-null  object \n",
      " 21  DEVICE_CONDITION         1195747 non-null  object \n",
      " 22  WEATHER_CONDITION        1195747 non-null  object \n",
      " 23  LIGHTING_CONDITION       1195747 non-null  object \n",
      " 24  FIRST_CRASH_TYPE         1195747 non-null  object \n",
      " 25  TRAFFICWAY_TYPE          1195747 non-null  object \n",
      " 26  LANE_CNT                 446346 non-null   float64\n",
      " 27  ALIGNMENT                1195747 non-null  object \n",
      " 28  ROADWAY_SURFACE_COND     1195747 non-null  object \n",
      " 29  ROAD_DEFECT              1195747 non-null  object \n",
      " 30  CRASH_TYPE               1195747 non-null  object \n",
      " 31  INTERSECTION_RELATED_I   326381 non-null   object \n",
      " 32  HIT_AND_RUN_I            310957 non-null   object \n",
      " 33  DAMAGE                   1195747 non-null  object \n",
      " 34  PRIM_CONTRIBUTORY_CAUSE  1195747 non-null  object \n",
      " 35  SEC_CONTRIBUTORY_CAUSE   1195747 non-null  object \n",
      " 36  BEAT_OF_OCCURRENCE       1195735 non-null  float64\n",
      " 37  NUM_UNITS                1195747 non-null  float64\n",
      " 38  CRASH_HOUR               1195747 non-null  int64  \n",
      " 39  CRASH_DAY_OF_WEEK        1195747 non-null  int64  \n",
      " 40  CRASH_MONTH              1195747 non-null  int64  \n",
      " 41  LATITUDE                 1188743 non-null  float64\n",
      " 42  LONGITUDE                1188743 non-null  float64\n",
      " 43  LOCATION                 1188743 non-null  object \n",
      "dtypes: float64(8), int64(4), object(32)\n",
      "memory usage: 410.5+ MB\n"
     ]
    }
   ],
   "source": [
    "people_crashes_df.info()"
   ]
  },
  {
   "cell_type": "code",
<<<<<<< HEAD:Ang_tuesday.ipynb
   "execution_count": 31,
=======
   "execution_count": 29,
>>>>>>> fd2a1972e96d6fd633cdb95cae47776047b2f306:Meaghan_wn.ipynb
   "metadata": {},
   "outputs": [
    {
     "data": {
      "text/plain": [
       "NO INDICATION OF INJURY     1096283\n",
       "NONINCAPACITATING INJURY      55296\n",
       "REPORTED, NOT EVIDENT         32092\n",
       "INCAPACITATING INJURY         10827\n",
       "FATAL                           656\n",
       "Name: INJURY_CLASSIFICATION, dtype: int64"
      ]
     },
<<<<<<< HEAD:Ang_tuesday.ipynb
     "execution_count": 31,
=======
     "execution_count": 29,
>>>>>>> fd2a1972e96d6fd633cdb95cae47776047b2f306:Meaghan_wn.ipynb
     "metadata": {},
     "output_type": "execute_result"
    }
   ],
   "source": [
    "people_crashes_df.INJURY_CLASSIFICATION.value_counts()"
   ]
  },
  {
   "cell_type": "code",
<<<<<<< HEAD:Ang_tuesday.ipynb
   "execution_count": 32,
=======
   "execution_count": 30,
>>>>>>> fd2a1972e96d6fd633cdb95cae47776047b2f306:Meaghan_wn.ipynb
   "metadata": {},
   "outputs": [],
   "source": [
    "people_crashes_df['TARGET'] = people_crashes_df['INJURY_CLASSIFICATION'].map({np.nan: 0,\n",
    "                                                      'NO INDICATION OF INJURY': 0,\n",
    "                                                      'NONINCAPACITATING INJURY': 1,\n",
    "                                                      'REPORTED, NOT EVIDENT': 1,\n",
    "                                                      'INCAPACITATING INJURY': 2,\n",
    "                                                      'FATAL': 3})"
   ]
  },
  {
   "cell_type": "code",
<<<<<<< HEAD:Ang_tuesday.ipynb
   "execution_count": 33,
=======
   "execution_count": 31,
>>>>>>> fd2a1972e96d6fd633cdb95cae47776047b2f306:Meaghan_wn.ipynb
   "metadata": {},
   "outputs": [
    {
     "data": {
      "text/plain": [
       "0"
      ]
     },
<<<<<<< HEAD:Ang_tuesday.ipynb
     "execution_count": 33,
=======
     "execution_count": 31,
>>>>>>> fd2a1972e96d6fd633cdb95cae47776047b2f306:Meaghan_wn.ipynb
     "metadata": {},
     "output_type": "execute_result"
    }
   ],
   "source": [
    "people_crashes_df.TARGET.isna().sum()"
   ]
  },
  {
   "cell_type": "code",
<<<<<<< HEAD:Ang_tuesday.ipynb
   "execution_count": 34,
=======
   "execution_count": 32,
>>>>>>> fd2a1972e96d6fd633cdb95cae47776047b2f306:Meaghan_wn.ipynb
   "metadata": {},
   "outputs": [],
   "source": [
    "people_crashes_df['CRASH_YEAR']=pd.to_datetime(people_crashes_df['CRASH_DATE']).dt.year"
   ]
  },
  {
   "cell_type": "code",
<<<<<<< HEAD:Ang_tuesday.ipynb
   "execution_count": 35,
=======
   "execution_count": 33,
>>>>>>> fd2a1972e96d6fd633cdb95cae47776047b2f306:Meaghan_wn.ipynb
   "metadata": {},
   "outputs": [
    {
     "data": {
      "text/plain": [
       "2018    265694\n",
       "2019    263972\n",
       "2020    202084\n",
       "2017    185328\n",
       "2021    161704\n",
       "2016     96020\n",
       "2015     20931\n",
       "2014        11\n",
       "2013         3\n",
       "Name: CRASH_YEAR, dtype: int64"
      ]
     },
<<<<<<< HEAD:Ang_tuesday.ipynb
     "execution_count": 35,
=======
     "execution_count": 33,
>>>>>>> fd2a1972e96d6fd633cdb95cae47776047b2f306:Meaghan_wn.ipynb
     "metadata": {},
     "output_type": "execute_result"
    }
   ],
   "source": [
    "people_crashes_df['CRASH_YEAR'].value_counts()"
   ]
  },
  {
   "cell_type": "code",
<<<<<<< HEAD:Ang_tuesday.ipynb
   "execution_count": 36,
=======
   "execution_count": 34,
>>>>>>> fd2a1972e96d6fd633cdb95cae47776047b2f306:Meaghan_wn.ipynb
   "metadata": {},
   "outputs": [
    {
     "name": "stdout",
     "output_type": "stream",
     "text": [
      "<class 'pandas.core.frame.DataFrame'>\n",
      "Int64Index: 1195747 entries, 0 to 1195746\n",
      "Data columns (total 46 columns):\n",
      " #   Column                   Non-Null Count    Dtype  \n",
      "---  ------                   --------------    -----  \n",
      " 0   PERSON_ID                1195747 non-null  object \n",
      " 1   PERSON_TYPE              1195747 non-null  object \n",
      " 2   CRASH_RECORD_ID          1195747 non-null  object \n",
      " 3   VEHICLE_ID               1172146 non-null  float64\n",
      " 4   CRASH_DATE               1195747 non-null  object \n",
      " 5   SEAT_NO                  244512 non-null   float64\n",
      " 6   STATE                    890189 non-null   object \n",
      " 7   SEX                      1177665 non-null  object \n",
      " 8   AGE                      852450 non-null   float64\n",
      " 9   DRIVERS_LICENSE_STATE    705542 non-null   object \n",
      " 10  DRIVERS_LICENSE_CLASS    608027 non-null   object \n",
      " 11  SAFETY_EQUIPMENT         1192258 non-null  object \n",
      " 12  AIRBAG_DEPLOYED          1173141 non-null  object \n",
      " 13  EJECTION                 1181206 non-null  object \n",
      " 14  INJURY_CLASSIFICATION    1195154 non-null  object \n",
      " 15  DRIVER_ACTION            948962 non-null   object \n",
      " 16  DRIVER_VISION            948631 non-null   object \n",
      " 17  PHYSICAL_CONDITION       949646 non-null   object \n",
      " 18  BAC_RESULT               950056 non-null   object \n",
      " 19  POSTED_SPEED_LIMIT       1195747 non-null  int64  \n",
      " 20  TRAFFIC_CONTROL_DEVICE   1195747 non-null  object \n",
      " 21  DEVICE_CONDITION         1195747 non-null  object \n",
      " 22  WEATHER_CONDITION        1195747 non-null  object \n",
      " 23  LIGHTING_CONDITION       1195747 non-null  object \n",
      " 24  FIRST_CRASH_TYPE         1195747 non-null  object \n",
      " 25  TRAFFICWAY_TYPE          1195747 non-null  object \n",
      " 26  LANE_CNT                 446346 non-null   float64\n",
      " 27  ALIGNMENT                1195747 non-null  object \n",
      " 28  ROADWAY_SURFACE_COND     1195747 non-null  object \n",
      " 29  ROAD_DEFECT              1195747 non-null  object \n",
      " 30  CRASH_TYPE               1195747 non-null  object \n",
      " 31  INTERSECTION_RELATED_I   326381 non-null   object \n",
      " 32  HIT_AND_RUN_I            310957 non-null   object \n",
      " 33  DAMAGE                   1195747 non-null  object \n",
      " 34  PRIM_CONTRIBUTORY_CAUSE  1195747 non-null  object \n",
      " 35  SEC_CONTRIBUTORY_CAUSE   1195747 non-null  object \n",
      " 36  BEAT_OF_OCCURRENCE       1195735 non-null  float64\n",
      " 37  NUM_UNITS                1195747 non-null  float64\n",
      " 38  CRASH_HOUR               1195747 non-null  int64  \n",
      " 39  CRASH_DAY_OF_WEEK        1195747 non-null  int64  \n",
      " 40  CRASH_MONTH              1195747 non-null  int64  \n",
      " 41  LATITUDE                 1188743 non-null  float64\n",
      " 42  LONGITUDE                1188743 non-null  float64\n",
      " 43  LOCATION                 1188743 non-null  object \n",
      " 44  TARGET                   1195747 non-null  int64  \n",
      " 45  CRASH_YEAR               1195747 non-null  int64  \n",
      "dtypes: float64(8), int64(6), object(32)\n",
      "memory usage: 428.8+ MB\n"
     ]
    }
   ],
   "source": [
    "people_crashes_df.info()"
   ]
  },
  {
   "cell_type": "code",
<<<<<<< HEAD:Ang_tuesday.ipynb
   "execution_count": null,
   "metadata": {},
   "outputs": [],
   "source": []
  },
  {
   "cell_type": "code",
   "execution_count": 37,
=======
   "execution_count": 35,
>>>>>>> fd2a1972e96d6fd633cdb95cae47776047b2f306:Meaghan_wn.ipynb
   "metadata": {},
   "outputs": [],
   "source": [
    "from sklearn.model_selection import train_test_split\n",
<<<<<<< HEAD:Ang_tuesday.ipynb
    "X = people_crashes_df.drop(['PERSON_ID', 'CRASH_RECORD_ID','VEHICLE_ID','CRASH_DATE', 'LATITUDE', \n",
    "                      'LONGITUDE','LOCATION', 'TARGET', 'INJURY_CLASSIFICATION'], axis=1)\n",
=======
    "X = people_crashes_df.drop(['PERSON_ID', 'CRASH_RECORD_ID','LANE_CNT', 'VEHICLE_ID','CRASH_DATE', 'LATITUDE', \n",
    "                            'INJURY_CLASSIFICATION','LONGITUDE','LOCATION', 'TARGET'], axis=1)\n",
>>>>>>> fd2a1972e96d6fd633cdb95cae47776047b2f306:Meaghan_wn.ipynb
    "y = people_crashes_df['TARGET']\n",
    "X_train, X_test, y_train, y_test = train_test_split(X, y, random_state=42, stratify=y)"
   ]
  },
  {
   "cell_type": "code",
<<<<<<< HEAD:Ang_tuesday.ipynb
=======
   "execution_count": 36,
   "metadata": {},
   "outputs": [
    {
     "data": {
      "text/plain": [
       "Index(['PERSON_TYPE', 'SEAT_NO', 'STATE', 'SEX', 'AGE',\n",
       "       'DRIVERS_LICENSE_STATE', 'DRIVERS_LICENSE_CLASS', 'SAFETY_EQUIPMENT',\n",
       "       'AIRBAG_DEPLOYED', 'EJECTION', 'DRIVER_ACTION', 'DRIVER_VISION',\n",
       "       'PHYSICAL_CONDITION', 'BAC_RESULT', 'POSTED_SPEED_LIMIT',\n",
       "       'TRAFFIC_CONTROL_DEVICE', 'DEVICE_CONDITION', 'WEATHER_CONDITION',\n",
       "       'LIGHTING_CONDITION', 'FIRST_CRASH_TYPE', 'TRAFFICWAY_TYPE',\n",
       "       'ALIGNMENT', 'ROADWAY_SURFACE_COND', 'ROAD_DEFECT', 'CRASH_TYPE',\n",
       "       'INTERSECTION_RELATED_I', 'HIT_AND_RUN_I', 'DAMAGE',\n",
       "       'PRIM_CONTRIBUTORY_CAUSE', 'SEC_CONTRIBUTORY_CAUSE',\n",
       "       'BEAT_OF_OCCURRENCE', 'NUM_UNITS', 'CRASH_HOUR', 'CRASH_DAY_OF_WEEK',\n",
       "       'CRASH_MONTH', 'CRASH_YEAR'],\n",
       "      dtype='object')"
      ]
     },
     "execution_count": 36,
     "metadata": {},
     "output_type": "execute_result"
    }
   ],
   "source": [
    "X_train.columns"
   ]
  },
  {
   "cell_type": "code",
   "execution_count": 37,
   "metadata": {
    "scrolled": true
   },
   "outputs": [
    {
     "name": "stdout",
     "output_type": "stream",
     "text": [
      "DRIVER                 696187\n",
      "PASSENGER              183340\n",
      "PEDESTRIAN              10182\n",
      "BICYCLE                  6157\n",
      "NON-MOTOR VEHICLE         780\n",
      "NON-CONTACT VEHICLE       164\n",
      "Name: PERSON_TYPE, dtype: int64\n",
      "0\n",
      "--------------------\n",
      "3.0     88954\n",
      "6.0     31345\n",
      "4.0     24589\n",
      "5.0      8651\n",
      "1.0      7881\n",
      "2.0      7261\n",
      "12.0     4628\n",
      "7.0      4228\n",
      "10.0     4010\n",
      "11.0     1592\n",
      "8.0       201\n",
      "Name: SEAT_NO, dtype: int64\n",
      "713470\n",
      "--------------------\n",
      "IL    631158\n",
      "IN     10262\n",
      "XX      4549\n",
      "WI      3048\n",
      "MI      2414\n",
      "FL      1632\n",
      "TX      1333\n",
      "OH      1256\n",
      "CA      1230\n",
      "IA       955\n",
      "GA       843\n",
      "MN       818\n",
      "MO       801\n",
      "NY       624\n",
      "TN       543\n",
      "WA       520\n",
      "AZ       417\n",
      "NC       393\n",
      "PA       374\n",
      "CO       337\n",
      "KY       322\n",
      "VA       278\n",
      "NJ       266\n",
      "MS       258\n",
      "MA       247\n",
      "MD       233\n",
      "AL       223\n",
      "NV       200\n",
      "ID       200\n",
      "AR       196\n",
      "LA       181\n",
      "NB       164\n",
      "KS       159\n",
      "SC       147\n",
      "OK       141\n",
      "CT        95\n",
      "OR        79\n",
      "UT        69\n",
      "NM        59\n",
      "NH        47\n",
      "SD        43\n",
      "ND        43\n",
      "MT        42\n",
      "DC        41\n",
      "WV        31\n",
      "ME        30\n",
      "WY        28\n",
      "HI        25\n",
      "DE        23\n",
      "AK        20\n",
      "RI        18\n",
      "VT        11\n",
      "Name: STATE, dtype: int64\n",
      "229384\n",
      "--------------------\n",
      "M    467096\n",
      "F    338780\n",
      "X     77438\n",
      "Name: SEX, dtype: int64\n",
      "13496\n",
      "--------------------\n",
      " 25.0     18534\n",
      " 26.0     18271\n",
      " 27.0     18126\n",
      " 24.0     17700\n",
      " 28.0     17655\n",
      "          ...  \n",
      " 106.0        1\n",
      "-49.0         1\n",
      "-177.0        1\n",
      "-47.0         1\n",
      "-40.0         1\n",
      "Name: AGE, Length: 115, dtype: int64\n",
      "257634\n",
      "--------------------\n",
      "IL    485999\n",
      "XX     11554\n",
      "IN      8799\n",
      "WI      2824\n",
      "MI      2293\n",
      "       ...  \n",
      "NX         1\n",
      "VC         1\n",
      "GK         1\n",
      "GG         1\n",
      "YG         1\n",
      "Name: DRIVERS_LICENSE_STATE, Length: 177, dtype: int64\n",
      "367906\n",
      "--------------------\n",
      "D     397293\n",
      "A      15573\n",
      "C      12438\n",
      "B      12116\n",
      "DM      7347\n",
      "       ...  \n",
      "LA         1\n",
      "FD         1\n",
      "EK         1\n",
      "GE         1\n",
      "DZ         1\n",
      "Name: DRIVERS_LICENSE_CLASS, Length: 216, dtype: int64\n",
      "440910\n",
      "--------------------\n",
      "SAFETY BELT USED                              446261\n",
      "USAGE UNKNOWN                                 398067\n",
      "NONE PRESENT                                   27980\n",
      "CHILD RESTRAINT USED                            5847\n",
      "SAFETY BELT NOT USED                            5199\n",
      "HELMET NOT USED                                 3530\n",
      "CHILD RESTRAINT - FORWARD FACING                1684\n",
      "BICYCLE HELMET (PEDACYCLIST INVOLVED ONLY)      1233\n",
      "HELMET USED                                      994\n",
      "CHILD RESTRAINT - TYPE UNKNOWN                   851\n",
      "CHILD RESTRAINT - REAR FACING                    830\n",
      "DOT COMPLIANT MOTORCYCLE HELMET                  477\n",
      "BOOSTER SEAT                                     453\n",
      "CHILD RESTRAINT NOT USED                         437\n",
      "NOT DOT COMPLIANT MOTORCYCLE HELMET               97\n",
      "SHOULD/LAP BELT USED IMPROPERLY                   92\n",
      "WHEELCHAIR                                        84\n",
      "CHILD RESTRAINT USED IMPROPERLY                   68\n",
      "STRETCHER                                         16\n",
      "Name: SAFETY_EQUIPMENT, dtype: int64\n",
      "2610\n",
      "--------------------\n",
      "DID NOT DEPLOY                            513536\n",
      "DEPLOYMENT UNKNOWN                        173054\n",
      "NOT APPLICABLE                            139820\n",
      "DEPLOYED, FRONT                            27838\n",
      "DEPLOYED, COMBINATION                      18064\n",
      "DEPLOYED, SIDE                              7234\n",
      "DEPLOYED OTHER (KNEE, AIR, BELT, ETC.)       378\n",
      "Name: AIRBAG_DEPLOYED, dtype: int64\n",
      "16886\n",
      "--------------------\n",
      "NONE                  832159\n",
      "UNKNOWN                49205\n",
      "TOTALLY EJECTED         3208\n",
      "PARTIALLY EJECTED        809\n",
      "TRAPPED/EXTRICATED       559\n",
      "Name: EJECTION, dtype: int64\n",
      "10870\n",
      "--------------------\n",
      "NONE                                 258393\n",
      "UNKNOWN                              170924\n",
      "FAILED TO YIELD                       65701\n",
      "OTHER                                 61541\n",
      "FOLLOWED TOO CLOSELY                  45541\n",
      "IMPROPER BACKING                      22729\n",
      "IMPROPER TURN                         18998\n",
      "IMPROPER LANE CHANGE                  18839\n",
      "IMPROPER PASSING                      15685\n",
      "DISREGARDED CONTROL DEVICES           11935\n",
      "TOO FAST FOR CONDITIONS               11606\n",
      "IMPROPER PARKING                       2801\n",
      "WRONG WAY/SIDE                         2743\n",
      "EVADING POLICE VEHICLE                 1202\n",
      "CELL PHONE USE OTHER THAN TEXTING      1154\n",
      "OVERCORRECTED                           857\n",
      "EMERGENCY VEHICLE ON CALL               695\n",
      "TEXTING                                 320\n",
      "STOPPED SCHOOL BUS                       74\n",
      "LICENSE RESTRICTIONS                     24\n",
      "Name: DRIVER_ACTION, dtype: int64\n",
      "185048\n",
      "--------------------\n",
      "NOT OBSCURED              383504\n",
      "UNKNOWN                   309468\n",
      "OTHER                       7504\n",
      "MOVING VEHICLES             4438\n",
      "PARKED VEHICLES             2671\n",
      "WINDSHIELD (WATER/ICE)      2196\n",
      "BLINDED - SUNLIGHT           852\n",
      "TREES, PLANTS                348\n",
      "BUILDINGS                    292\n",
      "BLINDED - HEADLIGHTS          70\n",
      "HILLCREST                     60\n",
      "BLOWING MATERIALS             56\n",
      "EMBANKMENT                    39\n",
      "SIGNBOARD                     19\n",
      "Name: DRIVER_VISION, dtype: int64\n",
      "185293\n",
      "--------------------\n",
      "NORMAL                          474943\n",
      "UNKNOWN                         223776\n",
      "IMPAIRED - ALCOHOL                3418\n",
      "REMOVED BY EMS                    2804\n",
      "OTHER                             2014\n",
      "FATIGUED/ASLEEP                   1849\n",
      "EMOTIONAL                         1586\n",
      "ILLNESS/FAINTED                    690\n",
      "HAD BEEN DRINKING                  558\n",
      "IMPAIRED - DRUGS                   403\n",
      "IMPAIRED - ALCOHOL AND DRUGS       175\n",
      "MEDICATED                           73\n",
      "Name: PHYSICAL_CONDITION, dtype: int64\n",
      "184521\n",
      "--------------------\n",
      "TEST NOT OFFERED                   701640\n",
      "TEST REFUSED                         7808\n",
      "TEST PERFORMED, RESULTS UNKNOWN      1795\n",
      "TEST TAKEN                           1354\n",
      "Name: BAC_RESULT, dtype: int64\n",
      "184213\n",
      "--------------------\n",
      "30    681302\n",
      "35     65129\n",
      "25     48568\n",
      "20     28949\n",
      "15     24894\n",
      "10     15128\n",
      "0      10056\n",
      "40      9648\n",
      "45      6101\n",
      "5       5024\n",
      "55       933\n",
      "3        229\n",
      "50       216\n",
      "9        142\n",
      "99       106\n",
      "39        91\n",
      "60        47\n",
      "1         43\n",
      "24        33\n",
      "65        26\n",
      "2         25\n",
      "33        21\n",
      "32        19\n",
      "34        17\n",
      "11        10\n",
      "6         10\n",
      "36         9\n",
      "31         7\n",
      "4          3\n",
      "14         3\n",
      "12         3\n",
      "22         3\n",
      "18         2\n",
      "7          2\n",
      "38         2\n",
      "63         2\n",
      "70         2\n",
      "29         2\n",
      "49         1\n",
      "23         1\n",
      "26         1\n",
      "Name: POSTED_SPEED_LIMIT, dtype: int64\n",
      "0\n",
      "--------------------\n",
      "NO CONTROLS                 462104\n",
      "TRAFFIC SIGNAL              293188\n",
      "STOP SIGN/FLASHER           101363\n",
      "UNKNOWN                      26838\n",
      "OTHER                         5322\n",
      "LANE USE MARKING              2154\n",
      "YIELD                         1384\n",
      "OTHER REG. SIGN                863\n",
      "OTHER WARNING SIGN             728\n",
      "RAILROAD CROSSING GATE         642\n",
      "PEDESTRIAN CROSSING SIGN       440\n",
      "POLICE/FLAGMAN                 376\n",
      "SCHOOL ZONE                    336\n",
      "FLASHING CONTROL SIGNAL        327\n",
      "DELINEATORS                    319\n",
      "OTHER RAILROAD CROSSING        244\n",
      "RR CROSSING SIGN                99\n",
      "NO PASSING                      52\n",
      "BICYCLE CROSSING SIGN           31\n",
      "Name: TRAFFIC_CONTROL_DEVICE, dtype: int64\n",
      "0\n",
      "--------------------\n",
      "NO CONTROLS                 470311\n",
      "FUNCTIONING PROPERLY        362306\n",
      "UNKNOWN                      48278\n",
      "OTHER                         7124\n",
      "FUNCTIONING IMPROPERLY        5208\n",
      "NOT FUNCTIONING               3104\n",
      "WORN REFLECTIVE MATERIAL       355\n",
      "MISSING                        124\n",
      "Name: DEVICE_CONDITION, dtype: int64\n",
      "0\n",
      "--------------------\n",
      "CLEAR                       719977\n",
      "RAIN                         80864\n",
      "SNOW                         31815\n",
      "UNKNOWN                      29684\n",
      "CLOUDY/OVERCAST              27717\n",
      "OTHER                         2655\n",
      "FOG/SMOKE/HAZE                1398\n",
      "SLEET/HAIL                    1187\n",
      "FREEZING RAIN/DRIZZLE         1115\n",
      "BLOWING SNOW                   247\n",
      "SEVERE CROSS WIND GATE         147\n",
      "BLOWING SAND, SOIL, DIRT         4\n",
      "Name: WEATHER_CONDITION, dtype: int64\n",
      "0\n",
      "--------------------\n",
      "DAYLIGHT                  597093\n",
      "DARKNESS, LIGHTED ROAD    193278\n",
      "DARKNESS                   40859\n",
      "DUSK                       28379\n",
      "UNKNOWN                    22666\n",
      "DAWN                       14535\n",
      "Name: LIGHTING_CONDITION, dtype: int64\n",
      "0\n",
      "--------------------\n",
      "REAR END                        252257\n",
      "SIDESWIPE SAME DIRECTION        156984\n",
      "TURNING                         150290\n",
      "PARKED MOTOR VEHICLE            116930\n",
      "ANGLE                           116477\n",
      "FIXED OBJECT                     25144\n",
      "PEDESTRIAN                       20920\n",
      "SIDESWIPE OPPOSITE DIRECTION     15333\n",
      "PEDALCYCLIST                     13022\n",
      "HEAD ON                           9674\n",
      "REAR TO FRONT                     6644\n",
      "OTHER OBJECT                      5074\n",
      "REAR TO SIDE                      4194\n",
      "OTHER NONCOLLISION                1697\n",
      "REAR TO REAR                      1404\n",
      "ANIMAL                             369\n",
      "OVERTURNED                         335\n",
      "TRAIN                               62\n",
      "Name: FIRST_CRASH_TYPE, dtype: int64\n",
      "0\n",
      "--------------------\n",
      "NOT DIVIDED                        405822\n",
      "DIVIDED - W/MEDIAN (NOT RAISED)    169335\n",
      "ONE-WAY                             98381\n",
      "DIVIDED - W/MEDIAN BARRIER          58885\n",
      "PARKING LOT                         49101\n",
      "FOUR WAY                            41810\n",
      "OTHER                               24466\n",
      "ALLEY                               11560\n",
      "CENTER TURN LANE                     8898\n",
      "UNKNOWN                              8870\n",
      "T-INTERSECTION                       8530\n",
      "RAMP                                 2860\n",
      "DRIVEWAY                             2501\n",
      "UNKNOWN INTERSECTION TYPE            2390\n",
      "FIVE POINT, OR MORE                  1054\n",
      "Y-INTERSECTION                        935\n",
      "TRAFFIC ROUTE                         728\n",
      "NOT REPORTED                          379\n",
      "ROUNDABOUT                            177\n",
      "L-INTERSECTION                        128\n",
      "Name: TRAFFICWAY_TYPE, dtype: int64\n",
      "0\n",
      "--------------------\n",
      "STRAIGHT AND LEVEL       873787\n",
      "STRAIGHT ON GRADE         11653\n",
      "CURVE, LEVEL               6817\n",
      "STRAIGHT ON HILLCREST      2869\n",
      "CURVE ON GRADE             1305\n",
      "CURVE ON HILLCREST          379\n",
      "Name: ALIGNMENT, dtype: int64\n",
      "0\n",
      "--------------------\n",
      "DRY                680942\n",
      "WET                124605\n",
      "UNKNOWN             51612\n",
      "SNOW OR SLUSH       31142\n",
      "ICE                  6251\n",
      "OTHER                1957\n",
      "SAND, MUD, DIRT       301\n",
      "Name: ROADWAY_SURFACE_COND, dtype: int64\n",
      "0\n",
      "--------------------\n",
      "NO DEFECTS           749193\n",
      "UNKNOWN              130871\n",
      "RUT, HOLES             5716\n",
      "OTHER                  4779\n",
      "WORN SURFACE           3708\n",
      "SHOULDER DEFECT        1857\n",
      "DEBRIS ON ROADWAY       686\n",
      "Name: ROAD_DEFECT, dtype: int64\n",
      "0\n",
      "--------------------\n",
      "NO INJURY / DRIVE AWAY              637693\n",
      "INJURY AND / OR TOW DUE TO CRASH    259117\n",
      "Name: CRASH_TYPE, dtype: int64\n",
      "0\n",
      "--------------------\n",
      "Y    233852\n",
      "N     10758\n",
      "Name: INTERSECTION_RELATED_I, dtype: int64\n",
      "652200\n",
      "--------------------\n",
      "Y    222356\n",
      "N     11185\n",
      "Name: HIT_AND_RUN_I, dtype: int64\n",
      "663269\n",
      "--------------------\n",
      "OVER $1,500      538150\n",
      "$501 - $1,500    250370\n",
      "$500 OR LESS     108290\n",
      "Name: DAMAGE, dtype: int64\n",
      "0\n",
      "--------------------\n",
      "UNABLE TO DETERMINE                                                                 297391\n",
      "FAILING TO YIELD RIGHT-OF-WAY                                                       114024\n",
      "FOLLOWING TOO CLOSELY                                                               108252\n",
      "IMPROPER OVERTAKING/PASSING                                                          46326\n",
      "FAILING TO REDUCE SPEED TO AVOID CRASH                                               44078\n",
      "NOT APPLICABLE                                                                       42289\n",
      "IMPROPER LANE USAGE                                                                  36254\n",
      "IMPROPER BACKING                                                                     34253\n",
      "IMPROPER TURNING/NO SIGNAL                                                           33665\n",
      "DRIVING SKILLS/KNOWLEDGE/EXPERIENCE                                                  25105\n",
      "DISREGARDING TRAFFIC SIGNALS                                                         22187\n",
      "WEATHER                                                                              13642\n",
      "DISREGARDING STOP SIGN                                                               12477\n",
      "OPERATING VEHICLE IN ERRATIC, RECKLESS, CARELESS, NEGLIGENT OR AGGRESSIVE MANNER     11973\n",
      "DISTRACTION - FROM INSIDE VEHICLE                                                     7135\n",
      "VISION OBSCURED (SIGNS, TREE LIMBS, BUILDINGS, ETC.)                                  5389\n",
      "EQUIPMENT - VEHICLE CONDITION                                                         5162\n",
      "DRIVING ON WRONG SIDE/WRONG WAY                                                       4848\n",
      "PHYSICAL CONDITION OF DRIVER                                                          4399\n",
      "UNDER THE INFLUENCE OF ALCOHOL/DRUGS (USE WHEN ARREST IS EFFECTED)                    4390\n",
      "DISTRACTION - FROM OUTSIDE VEHICLE                                                    3870\n",
      "EXCEEDING AUTHORIZED SPEED LIMIT                                                      3319\n",
      "EXCEEDING SAFE SPEED FOR CONDITIONS                                                   2808\n",
      "DISREGARDING OTHER TRAFFIC SIGNS                                                      2189\n",
      "ROAD CONSTRUCTION/MAINTENANCE                                                         1562\n",
      "ROAD ENGINEERING/SURFACE/MARKING DEFECTS                                              1547\n",
      "EVASIVE ACTION DUE TO ANIMAL, OBJECT, NONMOTORIST                                     1517\n",
      "CELL PHONE USE OTHER THAN TEXTING                                                     1304\n",
      "DISREGARDING ROAD MARKINGS                                                            1253\n",
      "HAD BEEN DRINKING (USE WHEN ARREST IS NOT MADE)                                        939\n",
      "TURNING RIGHT ON RED                                                                   771\n",
      "ANIMAL                                                                                 502\n",
      "DISTRACTION - OTHER ELECTRONIC DEVICE (NAVIGATION DEVICE, DVD PLAYER, ETC.)            437\n",
      "TEXTING                                                                                417\n",
      "RELATED TO BUS STOP                                                                    375\n",
      "DISREGARDING YIELD SIGN                                                                364\n",
      "PASSING STOPPED SCHOOL BUS                                                             179\n",
      "BICYCLE ADVANCING LEGALLY ON RED LIGHT                                                 110\n",
      "OBSTRUCTED CROSSWALKS                                                                   77\n",
      "MOTORCYCLE ADVANCING LEGALLY ON RED LIGHT                                               31\n",
      "Name: PRIM_CONTRIBUTORY_CAUSE, dtype: int64\n",
      "0\n",
      "--------------------\n",
      "NOT APPLICABLE                                                                      358179\n",
      "UNABLE TO DETERMINE                                                                 305361\n",
      "FAILING TO REDUCE SPEED TO AVOID CRASH                                               42573\n",
      "FAILING TO YIELD RIGHT-OF-WAY                                                        31236\n",
      "DRIVING SKILLS/KNOWLEDGE/EXPERIENCE                                                  28794\n",
      "FOLLOWING TOO CLOSELY                                                                28515\n",
      "IMPROPER OVERTAKING/PASSING                                                          14736\n",
      "IMPROPER LANE USAGE                                                                  13798\n",
      "WEATHER                                                                              11466\n",
      "IMPROPER TURNING/NO SIGNAL                                                           10193\n",
      "IMPROPER BACKING                                                                      6949\n",
      "OPERATING VEHICLE IN ERRATIC, RECKLESS, CARELESS, NEGLIGENT OR AGGRESSIVE MANNER      6526\n",
      "DISREGARDING TRAFFIC SIGNALS                                                          4549\n",
      "DISTRACTION - FROM INSIDE VEHICLE                                                     3350\n",
      "DISREGARDING STOP SIGN                                                                3340\n",
      "VISION OBSCURED (SIGNS, TREE LIMBS, BUILDINGS, ETC.)                                  3333\n",
      "EXCEEDING AUTHORIZED SPEED LIMIT                                                      2754\n",
      "PHYSICAL CONDITION OF DRIVER                                                          2631\n",
      "EXCEEDING SAFE SPEED FOR CONDITIONS                                                   2621\n",
      "EQUIPMENT - VEHICLE CONDITION                                                         1915\n",
      "DRIVING ON WRONG SIDE/WRONG WAY                                                       1852\n",
      "DISTRACTION - FROM OUTSIDE VEHICLE                                                    1670\n",
      "UNDER THE INFLUENCE OF ALCOHOL/DRUGS (USE WHEN ARREST IS EFFECTED)                    1639\n",
      "HAD BEEN DRINKING (USE WHEN ARREST IS NOT MADE)                                       1149\n",
      "DISREGARDING OTHER TRAFFIC SIGNS                                                      1075\n",
      "DISREGARDING ROAD MARKINGS                                                            1052\n",
      "ROAD CONSTRUCTION/MAINTENANCE                                                          990\n",
      "CELL PHONE USE OTHER THAN TEXTING                                                      772\n",
      "ROAD ENGINEERING/SURFACE/MARKING DEFECTS                                               733\n",
      "EVASIVE ACTION DUE TO ANIMAL, OBJECT, NONMOTORIST                                      496\n",
      "RELATED TO BUS STOP                                                                    387\n",
      "TURNING RIGHT ON RED                                                                   360\n",
      "BICYCLE ADVANCING LEGALLY ON RED LIGHT                                                 358\n",
      "ANIMAL                                                                                 347\n",
      "DISTRACTION - OTHER ELECTRONIC DEVICE (NAVIGATION DEVICE, DVD PLAYER, ETC.)            314\n",
      "DISREGARDING YIELD SIGN                                                                287\n",
      "TEXTING                                                                                188\n",
      "PASSING STOPPED SCHOOL BUS                                                             162\n",
      "OBSTRUCTED CROSSWALKS                                                                   83\n",
      "MOTORCYCLE ADVANCING LEGALLY ON RED LIGHT                                               77\n",
      "Name: SEC_CONTRIBUTORY_CAUSE, dtype: int64\n",
      "0\n",
      "--------------------\n",
      "1834.0    12114\n",
      "114.0     10394\n",
      "122.0      9212\n",
      "1831.0     9090\n",
      "813.0      8902\n",
      "          ...  \n",
      "422.0       777\n",
      "1653.0      385\n",
      "1655.0      143\n",
      "1652.0      138\n",
      "6100.0        2\n",
      "Name: BEAT_OF_OCCURRENCE, Length: 275, dtype: int64\n",
      "9\n",
      "--------------------\n",
      "2.0     786885\n",
      "3.0      65191\n",
      "1.0      27663\n",
      "4.0      12556\n",
      "5.0       2963\n",
      "6.0        954\n",
      "7.0        335\n",
      "8.0        161\n",
      "9.0         54\n",
      "10.0        24\n",
      "14.0        12\n",
      "11.0         7\n",
      "12.0         2\n",
      "16.0         1\n",
      "18.0         1\n",
      "15.0         1\n",
      "Name: NUM_UNITS, dtype: int64\n",
      "0\n",
      "--------------------\n",
      "16    73545\n",
      "15    72095\n",
      "17    71731\n",
      "14    63007\n",
      "18    59172\n",
      "13    56309\n",
      "12    52917\n",
      "8     45286\n",
      "11    45142\n",
      "19    42636\n",
      "10    39018\n",
      "9     38715\n",
      "7     36800\n",
      "20    33051\n",
      "21    29906\n",
      "22    27172\n",
      "23    22176\n",
      "6     17376\n",
      "0     17049\n",
      "1     14336\n",
      "2     11884\n",
      "5     10046\n",
      "3      9268\n",
      "4      8173\n",
      "Name: CRASH_HOUR, dtype: int64\n",
      "0\n",
      "--------------------\n",
      "6    146841\n",
      "7    137197\n",
      "5    127753\n",
      "3    126543\n",
      "4    126357\n",
      "2    121452\n",
      "1    110667\n",
      "Name: CRASH_DAY_OF_WEEK, dtype: int64\n",
      "0\n",
      "--------------------\n",
      "8     85667\n",
      "7     83424\n",
      "6     80948\n",
      "5     78708\n",
      "10    77448\n",
      "9     77098\n",
      "12    73168\n",
      "11    70884\n",
      "3     68880\n",
      "1     68258\n",
      "2     66867\n",
      "4     65460\n",
      "Name: CRASH_MONTH, dtype: int64\n",
      "0\n",
      "--------------------\n",
      "2018    199331\n",
      "2019    198323\n",
      "2020    151416\n",
      "2017    139099\n",
      "2021    121145\n",
      "2016     71870\n",
      "2015     15615\n",
      "2014         9\n",
      "2013         2\n",
      "Name: CRASH_YEAR, dtype: int64\n",
      "0\n",
      "--------------------\n"
     ]
    }
   ],
   "source": [
    "for i in range(len(X_train.columns)):\n",
    "    print(X_train[X_train.columns[i]].value_counts())\n",
    "    print(X_train[X_train.columns[i]].isna().sum())\n",
    "    print('--------------------')"
   ]
  },
  {
   "cell_type": "code",
>>>>>>> fd2a1972e96d6fd633cdb95cae47776047b2f306:Meaghan_wn.ipynb
   "execution_count": 38,
   "metadata": {},
   "outputs": [
    {
     "data": {
<<<<<<< HEAD:Ang_tuesday.ipynb
      "text/html": [
       "<div>\n",
       "<style scoped>\n",
       "    .dataframe tbody tr th:only-of-type {\n",
       "        vertical-align: middle;\n",
       "    }\n",
       "\n",
       "    .dataframe tbody tr th {\n",
       "        vertical-align: top;\n",
       "    }\n",
       "\n",
       "    .dataframe thead th {\n",
       "        text-align: right;\n",
       "    }\n",
       "</style>\n",
       "<table border=\"1\" class=\"dataframe\">\n",
       "  <thead>\n",
       "    <tr style=\"text-align: right;\">\n",
       "      <th></th>\n",
       "      <th>PERSON_TYPE</th>\n",
       "      <th>SEAT_NO</th>\n",
       "      <th>STATE</th>\n",
       "      <th>SEX</th>\n",
       "      <th>AGE</th>\n",
       "      <th>DRIVERS_LICENSE_STATE</th>\n",
       "      <th>DRIVERS_LICENSE_CLASS</th>\n",
       "      <th>SAFETY_EQUIPMENT</th>\n",
       "      <th>AIRBAG_DEPLOYED</th>\n",
       "      <th>EJECTION</th>\n",
       "      <th>...</th>\n",
       "      <th>HIT_AND_RUN_I</th>\n",
       "      <th>DAMAGE</th>\n",
       "      <th>PRIM_CONTRIBUTORY_CAUSE</th>\n",
       "      <th>SEC_CONTRIBUTORY_CAUSE</th>\n",
       "      <th>BEAT_OF_OCCURRENCE</th>\n",
       "      <th>NUM_UNITS</th>\n",
       "      <th>CRASH_HOUR</th>\n",
       "      <th>CRASH_DAY_OF_WEEK</th>\n",
       "      <th>CRASH_MONTH</th>\n",
       "      <th>CRASH_YEAR</th>\n",
       "    </tr>\n",
       "  </thead>\n",
       "  <tbody>\n",
       "    <tr>\n",
       "      <th>635474</th>\n",
       "      <td>DRIVER</td>\n",
       "      <td>NaN</td>\n",
       "      <td>IL</td>\n",
       "      <td>F</td>\n",
       "      <td>34.0</td>\n",
       "      <td>IL</td>\n",
       "      <td>D</td>\n",
       "      <td>SAFETY BELT USED</td>\n",
       "      <td>DID NOT DEPLOY</td>\n",
       "      <td>NONE</td>\n",
       "      <td>...</td>\n",
       "      <td>NaN</td>\n",
       "      <td>OVER $1,500</td>\n",
       "      <td>IMPROPER TURNING/NO SIGNAL</td>\n",
       "      <td>FAILING TO YIELD RIGHT-OF-WAY</td>\n",
       "      <td>1922.0</td>\n",
       "      <td>2.0</td>\n",
       "      <td>11</td>\n",
       "      <td>7</td>\n",
       "      <td>2</td>\n",
       "      <td>2019</td>\n",
       "    </tr>\n",
       "    <tr>\n",
       "      <th>425369</th>\n",
       "      <td>DRIVER</td>\n",
       "      <td>NaN</td>\n",
       "      <td>IL</td>\n",
       "      <td>M</td>\n",
       "      <td>29.0</td>\n",
       "      <td>IL</td>\n",
       "      <td>D</td>\n",
       "      <td>SAFETY BELT USED</td>\n",
       "      <td>DID NOT DEPLOY</td>\n",
       "      <td>NONE</td>\n",
       "      <td>...</td>\n",
       "      <td>NaN</td>\n",
       "      <td>$501 - $1,500</td>\n",
       "      <td>DISREGARDING TRAFFIC SIGNALS</td>\n",
       "      <td>NOT APPLICABLE</td>\n",
       "      <td>1232.0</td>\n",
       "      <td>2.0</td>\n",
       "      <td>2</td>\n",
       "      <td>2</td>\n",
       "      <td>3</td>\n",
       "      <td>2018</td>\n",
       "    </tr>\n",
       "    <tr>\n",
       "      <th>1152397</th>\n",
       "      <td>DRIVER</td>\n",
       "      <td>NaN</td>\n",
       "      <td>NaN</td>\n",
       "      <td>M</td>\n",
       "      <td>39.0</td>\n",
       "      <td>IL</td>\n",
       "      <td>NaN</td>\n",
       "      <td>SAFETY BELT USED</td>\n",
       "      <td>NOT APPLICABLE</td>\n",
       "      <td>NONE</td>\n",
       "      <td>...</td>\n",
       "      <td>NaN</td>\n",
       "      <td>$501 - $1,500</td>\n",
       "      <td>NOT APPLICABLE</td>\n",
       "      <td>NOT APPLICABLE</td>\n",
       "      <td>823.0</td>\n",
       "      <td>2.0</td>\n",
       "      <td>17</td>\n",
       "      <td>3</td>\n",
       "      <td>5</td>\n",
       "      <td>2021</td>\n",
       "    </tr>\n",
       "    <tr>\n",
       "      <th>75101</th>\n",
       "      <td>DRIVER</td>\n",
       "      <td>NaN</td>\n",
       "      <td>IL</td>\n",
       "      <td>M</td>\n",
       "      <td>26.0</td>\n",
       "      <td>WA</td>\n",
       "      <td>9</td>\n",
       "      <td>SAFETY BELT USED</td>\n",
       "      <td>DID NOT DEPLOY</td>\n",
       "      <td>NONE</td>\n",
       "      <td>...</td>\n",
       "      <td>NaN</td>\n",
       "      <td>OVER $1,500</td>\n",
       "      <td>DISREGARDING ROAD MARKINGS</td>\n",
       "      <td>NOT APPLICABLE</td>\n",
       "      <td>1732.0</td>\n",
       "      <td>2.0</td>\n",
       "      <td>23</td>\n",
       "      <td>1</td>\n",
       "      <td>4</td>\n",
       "      <td>2018</td>\n",
       "    </tr>\n",
       "    <tr>\n",
       "      <th>265075</th>\n",
       "      <td>DRIVER</td>\n",
       "      <td>NaN</td>\n",
       "      <td>IL</td>\n",
       "      <td>M</td>\n",
       "      <td>24.0</td>\n",
       "      <td>IL</td>\n",
       "      <td>D</td>\n",
       "      <td>USAGE UNKNOWN</td>\n",
       "      <td>DID NOT DEPLOY</td>\n",
       "      <td>NONE</td>\n",
       "      <td>...</td>\n",
       "      <td>NaN</td>\n",
       "      <td>$501 - $1,500</td>\n",
       "      <td>FAILING TO REDUCE SPEED TO AVOID CRASH</td>\n",
       "      <td>FOLLOWING TOO CLOSELY</td>\n",
       "      <td>831.0</td>\n",
       "      <td>2.0</td>\n",
       "      <td>6</td>\n",
       "      <td>1</td>\n",
       "      <td>6</td>\n",
       "      <td>2017</td>\n",
       "    </tr>\n",
       "  </tbody>\n",
       "</table>\n",
       "<p>5 rows × 37 columns</p>\n",
       "</div>"
      ],
      "text/plain": [
       "        PERSON_TYPE  SEAT_NO STATE SEX   AGE DRIVERS_LICENSE_STATE  \\\n",
       "635474       DRIVER      NaN    IL   F  34.0                    IL   \n",
       "425369       DRIVER      NaN    IL   M  29.0                    IL   \n",
       "1152397      DRIVER      NaN   NaN   M  39.0                    IL   \n",
       "75101        DRIVER      NaN    IL   M  26.0                    WA   \n",
       "265075       DRIVER      NaN    IL   M  24.0                    IL   \n",
       "\n",
       "        DRIVERS_LICENSE_CLASS  SAFETY_EQUIPMENT AIRBAG_DEPLOYED EJECTION  ...  \\\n",
       "635474                      D  SAFETY BELT USED  DID NOT DEPLOY     NONE  ...   \n",
       "425369                      D  SAFETY BELT USED  DID NOT DEPLOY     NONE  ...   \n",
       "1152397                   NaN  SAFETY BELT USED  NOT APPLICABLE     NONE  ...   \n",
       "75101                       9  SAFETY BELT USED  DID NOT DEPLOY     NONE  ...   \n",
       "265075                      D     USAGE UNKNOWN  DID NOT DEPLOY     NONE  ...   \n",
       "\n",
       "        HIT_AND_RUN_I         DAMAGE                 PRIM_CONTRIBUTORY_CAUSE  \\\n",
       "635474            NaN    OVER $1,500              IMPROPER TURNING/NO SIGNAL   \n",
       "425369            NaN  $501 - $1,500            DISREGARDING TRAFFIC SIGNALS   \n",
       "1152397           NaN  $501 - $1,500                          NOT APPLICABLE   \n",
       "75101             NaN    OVER $1,500              DISREGARDING ROAD MARKINGS   \n",
       "265075            NaN  $501 - $1,500  FAILING TO REDUCE SPEED TO AVOID CRASH   \n",
       "\n",
       "                SEC_CONTRIBUTORY_CAUSE  BEAT_OF_OCCURRENCE NUM_UNITS  \\\n",
       "635474   FAILING TO YIELD RIGHT-OF-WAY              1922.0       2.0   \n",
       "425369                  NOT APPLICABLE              1232.0       2.0   \n",
       "1152397                 NOT APPLICABLE               823.0       2.0   \n",
       "75101                   NOT APPLICABLE              1732.0       2.0   \n",
       "265075           FOLLOWING TOO CLOSELY               831.0       2.0   \n",
       "\n",
       "        CRASH_HOUR CRASH_DAY_OF_WEEK CRASH_MONTH CRASH_YEAR  \n",
       "635474          11                 7           2       2019  \n",
       "425369           2                 2           3       2018  \n",
       "1152397         17                 3           5       2021  \n",
       "75101           23                 1           4       2018  \n",
       "265075           6                 1           6       2017  \n",
       "\n",
       "[5 rows x 37 columns]"
=======
      "text/plain": [
       "(896810, 36)"
>>>>>>> fd2a1972e96d6fd633cdb95cae47776047b2f306:Meaghan_wn.ipynb
      ]
     },
     "execution_count": 38,
     "metadata": {},
     "output_type": "execute_result"
    }
   ],
   "source": [
    "X_train.shape"
   ]
  },
  {
   "cell_type": "code",
<<<<<<< HEAD:Ang_tuesday.ipynb
   "execution_count": 40,
   "metadata": {},
   "outputs": [],
   "source": [
    "#XX = ['STATE', 'DRIVERS_LICENSE_STATE']\n",
    "#UNKNOWN = ['EJECTION', 'DRIVER_ACTION', 'DRIVER_VISION', 'PHYSICAL_CONDITION']\n",
    "#USAGE_UNKNOWN = ['SAFETY_EQUIPMENT']\n",
    "#DEPLOYMENT_UNKNOWN = ['AIRBAG_DEPLOYED']"
=======
   "execution_count": 39,
   "metadata": {},
   "outputs": [],
   "source": [
    "from sklearn.preprocessing import FunctionTransformer\n",
    "\n",
    "def seat_no_transformer(df):\n",
    "    df['SEAT_NO'][df.PERSON_TYPE == 'DRIVER'] = 1\n",
    "    df['SEAT_NO'].fillna(0, inplace=True)\n",
    "    return df"
   ]
  },
  {
   "cell_type": "code",
   "execution_count": 40,
   "metadata": {},
   "outputs": [],
   "source": [
    "def age_transformer(df):\n",
    "    df['AGE'][df.AGE < 0] = np.nan\n",
    "    df.loc[(df.AGE==0)&(df.PERSON_TYPE == 'DRIVER')]['AGE'] = np.nan\n",
    "    return df"
   ]
  },
  {
   "cell_type": "code",
   "execution_count": 41,
   "metadata": {},
   "outputs": [],
   "source": [
    "def speed_transformer(df):\n",
    "    df['POSTED_SPEED_LIMIT'][df.POSTED_SPEED_LIMIT == 0] = np.nan\n",
    "    df['POSTED_SPEED_LIMIT'][(df.POSTED_SPEED_LIMIT %5) != 0] = np.nan\n",
    "    return df"
   ]
  },
  {
   "cell_type": "code",
   "execution_count": 42,
   "metadata": {},
   "outputs": [],
   "source": [
    "def beat_transformer(df):\n",
    "    df['BEAT_OF_OCCURRENCE'] = df['BEAT_OF_OCCURRENCE'].astype(str)\n",
    "    df['BEAT_OF_OCCURRENCE'] = df['BEAT_OF_OCCURRENCE'].apply(lambda x: x[:-4])\n",
    "    return df"
   ]
  },
  {
   "cell_type": "code",
   "execution_count": 43,
   "metadata": {},
   "outputs": [],
   "source": [
    "def fill_categories(df):\n",
    "    df.fillna({'STATE':'XX', \n",
    "               'DRIVERS_LICENSE_STATE':'XX',\n",
    "               'DRIVERS_LICENSE_CLASS': 'D',\n",
    "               'EJECTION': 'UNKNOWN',\n",
    "               'DRIVER_ACTION': 'UNKNOWN',\n",
    "               'DRIVER_VISION': 'UNKNOWN',\n",
    "               'PHYSICAL_CONDITION': 'UNKNOWN',\n",
    "               'SAFETY_EQUIPMENT': 'USAGE_UNKNOWN',\n",
    "               'AIRBAG_DEPLOYED': 'DEPLOYMENT_UNKNOWN',\n",
    "               'INTERSECTION_RELATED_I': 'N',\n",
    "               'HIT_AND_RUN_I': 'N',\n",
    "               'BAC_RESULT': 'TEST NOT OFFERED',\n",
    "               'SEX': 'UNKNOWN'\n",
    "              }, inplace=True)\n",
    "    return df"
   ]
  },
  {
   "cell_type": "code",
   "execution_count": 44,
   "metadata": {},
   "outputs": [],
   "source": [
    "from sklearn.impute import KNNImputer\n",
    "cleaning_pipeline = Pipeline(steps=[\n",
    "    ('age_trans', FunctionTransformer(age_transformer)),\n",
    "    ('seat_no', FunctionTransformer(seat_no_transformer)),\n",
    "    ('speed_trans', FunctionTransformer(speed_transformer)),\n",
    "    ('beat_trans', FunctionTransformer(beat_transformer)),\n",
    "    ('fill_cat', FunctionTransformer(fill_categories)),\n",
    "])"
   ]
  },
  {
   "cell_type": "code",
   "execution_count": 52,
   "metadata": {},
   "outputs": [
    {
     "name": "stderr",
     "output_type": "stream",
     "text": [
      "<ipython-input-40-0af6b45a6029>:2: SettingWithCopyWarning: \n",
      "A value is trying to be set on a copy of a slice from a DataFrame\n",
      "\n",
      "See the caveats in the documentation: https://pandas.pydata.org/pandas-docs/stable/user_guide/indexing.html#returning-a-view-versus-a-copy\n",
      "  df['AGE'][df.AGE < 0] = np.nan\n",
      "/Users/meaghanross/opt/anaconda3/envs/learn-env/lib/python3.8/site-packages/pandas/core/series.py:1020: SettingWithCopyWarning: \n",
      "A value is trying to be set on a copy of a slice from a DataFrame\n",
      "\n",
      "See the caveats in the documentation: https://pandas.pydata.org/pandas-docs/stable/user_guide/indexing.html#returning-a-view-versus-a-copy\n",
      "  self._where(~key, value, inplace=True)\n",
      "<ipython-input-40-0af6b45a6029>:3: SettingWithCopyWarning: \n",
      "A value is trying to be set on a copy of a slice from a DataFrame.\n",
      "Try using .loc[row_indexer,col_indexer] = value instead\n",
      "\n",
      "See the caveats in the documentation: https://pandas.pydata.org/pandas-docs/stable/user_guide/indexing.html#returning-a-view-versus-a-copy\n",
      "  df.loc[(df.AGE==0)&(df.PERSON_TYPE == 'DRIVER')]['AGE'] = np.nan\n",
      "<ipython-input-39-c43a26f0d7e1>:4: SettingWithCopyWarning: \n",
      "A value is trying to be set on a copy of a slice from a DataFrame\n",
      "\n",
      "See the caveats in the documentation: https://pandas.pydata.org/pandas-docs/stable/user_guide/indexing.html#returning-a-view-versus-a-copy\n",
      "  df['SEAT_NO'][df.PERSON_TYPE == 'DRIVER'] = 1\n",
      "/Users/meaghanross/opt/anaconda3/envs/learn-env/lib/python3.8/site-packages/pandas/core/series.py:1020: SettingWithCopyWarning: \n",
      "A value is trying to be set on a copy of a slice from a DataFrame\n",
      "\n",
      "See the caveats in the documentation: https://pandas.pydata.org/pandas-docs/stable/user_guide/indexing.html#returning-a-view-versus-a-copy\n",
      "  self._where(~key, value, inplace=True)\n",
      "/Users/meaghanross/opt/anaconda3/envs/learn-env/lib/python3.8/site-packages/pandas/core/series.py:4517: SettingWithCopyWarning: \n",
      "A value is trying to be set on a copy of a slice from a DataFrame\n",
      "\n",
      "See the caveats in the documentation: https://pandas.pydata.org/pandas-docs/stable/user_guide/indexing.html#returning-a-view-versus-a-copy\n",
      "  return super().fillna(\n",
      "<ipython-input-41-c0663be570c1>:2: SettingWithCopyWarning: \n",
      "A value is trying to be set on a copy of a slice from a DataFrame\n",
      "\n",
      "See the caveats in the documentation: https://pandas.pydata.org/pandas-docs/stable/user_guide/indexing.html#returning-a-view-versus-a-copy\n",
      "  df['POSTED_SPEED_LIMIT'][df.POSTED_SPEED_LIMIT == 0] = np.nan\n",
      "/Users/meaghanross/opt/anaconda3/envs/learn-env/lib/python3.8/site-packages/pandas/core/series.py:1020: SettingWithCopyWarning: \n",
      "A value is trying to be set on a copy of a slice from a DataFrame\n",
      "\n",
      "See the caveats in the documentation: https://pandas.pydata.org/pandas-docs/stable/user_guide/indexing.html#returning-a-view-versus-a-copy\n",
      "  self._where(~key, value, inplace=True)\n",
      "<ipython-input-41-c0663be570c1>:3: SettingWithCopyWarning: \n",
      "A value is trying to be set on a copy of a slice from a DataFrame\n",
      "\n",
      "See the caveats in the documentation: https://pandas.pydata.org/pandas-docs/stable/user_guide/indexing.html#returning-a-view-versus-a-copy\n",
      "  df['POSTED_SPEED_LIMIT'][(df.POSTED_SPEED_LIMIT %5) != 0] = np.nan\n",
      "/Users/meaghanross/opt/anaconda3/envs/learn-env/lib/python3.8/site-packages/pandas/core/series.py:1020: SettingWithCopyWarning: \n",
      "A value is trying to be set on a copy of a slice from a DataFrame\n",
      "\n",
      "See the caveats in the documentation: https://pandas.pydata.org/pandas-docs/stable/user_guide/indexing.html#returning-a-view-versus-a-copy\n",
      "  self._where(~key, value, inplace=True)\n",
      "<ipython-input-42-368b3d78eab6>:2: SettingWithCopyWarning: \n",
      "A value is trying to be set on a copy of a slice from a DataFrame.\n",
      "Try using .loc[row_indexer,col_indexer] = value instead\n",
      "\n",
      "See the caveats in the documentation: https://pandas.pydata.org/pandas-docs/stable/user_guide/indexing.html#returning-a-view-versus-a-copy\n",
      "  df['BEAT_OF_OCCURRENCE'] = df['BEAT_OF_OCCURRENCE'].astype(str)\n",
      "<ipython-input-42-368b3d78eab6>:3: SettingWithCopyWarning: \n",
      "A value is trying to be set on a copy of a slice from a DataFrame.\n",
      "Try using .loc[row_indexer,col_indexer] = value instead\n",
      "\n",
      "See the caveats in the documentation: https://pandas.pydata.org/pandas-docs/stable/user_guide/indexing.html#returning-a-view-versus-a-copy\n",
      "  df['BEAT_OF_OCCURRENCE'] = df['BEAT_OF_OCCURRENCE'].apply(lambda x: x[:-4])\n",
      "/Users/meaghanross/opt/anaconda3/envs/learn-env/lib/python3.8/site-packages/pandas/core/series.py:4517: SettingWithCopyWarning: \n",
      "A value is trying to be set on a copy of a slice from a DataFrame\n",
      "\n",
      "See the caveats in the documentation: https://pandas.pydata.org/pandas-docs/stable/user_guide/indexing.html#returning-a-view-versus-a-copy\n",
      "  return super().fillna(\n"
     ]
    }
   ],
   "source": [
    "X_train_transformed = cleaning_pipeline.fit_transform(X_train)"
>>>>>>> fd2a1972e96d6fd633cdb95cae47776047b2f306:Meaghan_wn.ipynb
   ]
  },
  {
   "cell_type": "code",
<<<<<<< HEAD:Ang_tuesday.ipynb
   "execution_count": 41,
   "metadata": {},
   "outputs": [],
   "source": [
    "from sklearn.preprocessing import FunctionTransformer\n",
    "\n",
    "def seat_no_transformer(df):\n",
    "    '''\n",
    "    Set all SEAT_NO = 1 if PERSON_TYPE = 'DRIVER'\n",
    "    and fill the rest with 0.\n",
    "    '''\n",
    "    df.loc[df.PERSON_TYPE == 'DRIVER']['SEAT_NO'] = 1\n",
    "    df['SEAT_NO'].fillna(value=0, inplace=True)\n",
    "    return df"
   ]
  },
  {
   "cell_type": "code",
   "execution_count": 42,
   "metadata": {},
   "outputs": [],
   "source": [
    "def speed_transformer(df):\n",
    "    df['POSTED_SPEED_LIMIT'][df.POSTED_SPEED_LIMIT == 0] = np.nan\n",
    "    df['POSTED_SPEED_LIMIT'][(df.POSTED_SPEED_LIMIT %5) != 0] = np.nan\n",
    "    return df"
   ]
  },
  {
   "cell_type": "code",
   "execution_count": 43,
   "metadata": {},
   "outputs": [],
   "source": [
    "def beat_transformer(df):\n",
    "    df['BEAT_OF_OCCURENCE'] = df['BEAT_OF_OCCURENCE'].astype(str)\n",
    "    df['BEAT_OF_OCCURENCE'] = df['BEAT_OF_OCCURENCE'].apply(lambda x: x[:-4])\n",
    "    return df"
   ]
  },
  {
   "cell_type": "code",
   "execution_count": 44,
   "metadata": {},
   "outputs": [],
   "source": [
    "def age_transformer(df):\n",
    "    df['AGE'][df.AGE < 0] = np.nan\n",
    "    df.loc[(df.AGE == 0) & (df.PERSON_TYPE == 'DRIVER')]['AGE'] = np.nan\n",
    "    return df"
   ]
  },
  {
   "cell_type": "code",
   "execution_count": 45,
   "metadata": {},
   "outputs": [],
   "source": [
    "def fill_categories(df):\n",
    "    df.fillna({'STATE': 'XX',\n",
    "              'DRIVERS_LICENSE_STATE': 'UNKNOWN',\n",
    "              'DRIVERS_LICENSE_CLASS': 'UNKNOWN',\n",
    "              'EJECTION': 'UNKNOWN',\n",
    "              'DRIVER_ACTION': 'UNKNOWN',\n",
    "              'DRIVER_VISION': 'UNKNOWN',\n",
    "              'PHYSICAL_CONDITION': 'UNKNOWN',\n",
    "              'SAFETY_EQUIPMENT': 'USAGE_UNKNOWN',\n",
    "              'AIRBAG_DEPLOYED': 'DEPLOYMENT_UNKNOWN',\n",
    "              'SEX': 'UNKNOWN',\n",
    "              'HIT_AND_RUN_I': 'N',\n",
    "              'INTERSECTION_RELATED_I': 'N',\n",
    "              'BAC_RESULT': 'TEST NOT OFFERED'\n",
    "              }, inplace = True)\n",
    "    return df"
   ]
  },
  {
   "cell_type": "code",
   "execution_count": 48,
   "metadata": {},
   "outputs": [],
   "source": [
    "cleaning_pipeline = Pipeline(steps = [\n",
    "    ('age_trans', FunctionTransformer(age_transformer)),\n",
    "    ('seat_no', FunctionTransformer(seat_no_transformer)),\n",
    "    ('speed_trans', FunctionTransformer(speed_transformer)),\n",
    "    ('beat_trans', FunctionTransformer(beat_transformer)),\n",
    "    ('fill_cat', FunctionTransformer(fill_categories))\n",
    "])"
   ]
  },
  {
   "cell_type": "code",
   "execution_count": 50,
=======
   "execution_count": 51,
>>>>>>> fd2a1972e96d6fd633cdb95cae47776047b2f306:Meaghan_wn.ipynb
   "metadata": {},
   "outputs": [
    {
     "name": "stdout",
     "output_type": "stream",
     "text": [
      "<class 'pandas.core.frame.DataFrame'>\n",
      "Int64Index: 896810 entries, 635474 to 360305\n",
      "Data columns (total 36 columns):\n",
      " #   Column                   Non-Null Count   Dtype  \n",
      "---  ------                   --------------   -----  \n",
      " 0   PERSON_TYPE              896810 non-null  object \n",
      " 1   SEAT_NO                  896810 non-null  float64\n",
      " 2   STATE                    896810 non-null  object \n",
      " 3   SEX                      896810 non-null  object \n",
      " 4   AGE                      639170 non-null  float64\n",
      " 5   DRIVERS_LICENSE_STATE    896810 non-null  object \n",
      " 6   DRIVERS_LICENSE_CLASS    896810 non-null  object \n",
      " 7   SAFETY_EQUIPMENT         896810 non-null  object \n",
      " 8   AIRBAG_DEPLOYED          896810 non-null  object \n",
      " 9   EJECTION                 896810 non-null  object \n",
      " 10  DRIVER_ACTION            896810 non-null  object \n",
      " 11  DRIVER_VISION            896810 non-null  object \n",
      " 12  PHYSICAL_CONDITION       896810 non-null  object \n",
      " 13  BAC_RESULT               896810 non-null  object \n",
      " 14  POSTED_SPEED_LIMIT       885967 non-null  float64\n",
      " 15  TRAFFIC_CONTROL_DEVICE   896810 non-null  object \n",
      " 16  DEVICE_CONDITION         896810 non-null  object \n",
      " 17  WEATHER_CONDITION        896810 non-null  object \n",
      " 18  LIGHTING_CONDITION       896810 non-null  object \n",
      " 19  FIRST_CRASH_TYPE         896810 non-null  object \n",
      " 20  TRAFFICWAY_TYPE          896810 non-null  object \n",
      " 21  ALIGNMENT                896810 non-null  object \n",
      " 22  ROADWAY_SURFACE_COND     896810 non-null  object \n",
      " 23  ROAD_DEFECT              896810 non-null  object \n",
      " 24  CRASH_TYPE               896810 non-null  object \n",
      " 25  INTERSECTION_RELATED_I   896810 non-null  object \n",
      " 26  HIT_AND_RUN_I            896810 non-null  object \n",
      " 27  DAMAGE                   896810 non-null  object \n",
      " 28  PRIM_CONTRIBUTORY_CAUSE  896810 non-null  object \n",
      " 29  SEC_CONTRIBUTORY_CAUSE   896810 non-null  object \n",
      " 30  BEAT_OF_OCCURRENCE       896810 non-null  object \n",
      " 31  NUM_UNITS                896810 non-null  float64\n",
      " 32  CRASH_HOUR               896810 non-null  int64  \n",
      " 33  CRASH_DAY_OF_WEEK        896810 non-null  int64  \n",
      " 34  CRASH_MONTH              896810 non-null  int64  \n",
      " 35  CRASH_YEAR               896810 non-null  int64  \n",
      "dtypes: float64(4), int64(4), object(28)\n",
      "memory usage: 253.2+ MB\n"
     ]
    }
   ],
   "source": [
    "X_train.info()"
   ]
  },
  {
   "cell_type": "code",
   "execution_count": 46,
   "metadata": {
    "scrolled": true
   },
   "outputs": [],
   "source": [
    "# for i in range(len(X_train_transformed.columns)):\n",
    "#    print(X_train_transformed[X_train_transformed.columns[i]].value_counts())\n",
    "#    print(X_train_transformed[X_train_transformed.columns[i]].isna().sum())\n",
    "#    print('--------------------')"
   ]
  },
  {
   "cell_type": "code",
   "execution_count": 47,
   "metadata": {},
   "outputs": [],
   "source": [
    "#X_train_nums = X_train_transformed.select_dtypes(include=['float64', 'int64'])\n",
    "#X_train_cat = X_train_transformed.select_dtypes('object')"
   ]
  },
  {
   "cell_type": "code",
   "execution_count": 53,
   "metadata": {},
   "outputs": [],
   "source": [
    "from sklearn.impute import SimpleImputer\n",
    "numerical_pipeline = Pipeline(steps=[\n",
    "    ('impute', SimpleImputer()),\n",
    "    ('ss', StandardScaler())\n",
    "])\n",
    "                \n",
    "categorical_pipeline = Pipeline(steps=[\n",
    "    ('ohe', OneHotEncoder(drop='first',\n",
    "                         sparse=False))\n",
    "])\n",
    "\n",
    "trans = ColumnTransformer(transformers=[\n",
    "    ('numerical', numerical_pipeline, X_train.select_dtypes(include=['float64', 'int64']).columns),\n",
    "    ('categorical', categorical_pipeline, X_train.select_dtypes('object').columns)\n",
    "])"
   ]
  },
  {
   "cell_type": "code",
   "execution_count": 54,
   "metadata": {},
   "outputs": [],
   "source": [
    "model_pipe = Pipeline(steps=[\n",
    "#    ('cleaning', cleaning_pipeline),\n",
    "    ('trans', trans),\n",
    "    ('lr', LogisticRegression(random_state=42))\n",
    "])"
   ]
  },
  {
   "cell_type": "code",
   "execution_count": 55,
   "metadata": {},
   "outputs": [
    {
     "name": "stderr",
     "output_type": "stream",
     "text": [
      "/Users/meaghanross/opt/anaconda3/envs/learn-env/lib/python3.8/site-packages/sklearn/linear_model/_logistic.py:763: ConvergenceWarning: lbfgs failed to converge (status=1):\n",
      "STOP: TOTAL NO. of ITERATIONS REACHED LIMIT.\n",
      "\n",
      "Increase the number of iterations (max_iter) or scale the data as shown in:\n",
      "    https://scikit-learn.org/stable/modules/preprocessing.html\n",
      "Please also refer to the documentation for alternative solver options:\n",
      "    https://scikit-learn.org/stable/modules/linear_model.html#logistic-regression\n",
      "  n_iter_i = _check_optimize_result(\n"
     ]
    },
    {
     "data": {
<<<<<<< HEAD:Ang_tuesday.ipynb
      "text/html": [
       "<div>\n",
       "<style scoped>\n",
       "    .dataframe tbody tr th:only-of-type {\n",
       "        vertical-align: middle;\n",
       "    }\n",
       "\n",
       "    .dataframe tbody tr th {\n",
       "        vertical-align: top;\n",
       "    }\n",
       "\n",
       "    .dataframe thead th {\n",
       "        text-align: right;\n",
       "    }\n",
       "</style>\n",
       "<table border=\"1\" class=\"dataframe\">\n",
       "  <thead>\n",
       "    <tr style=\"text-align: right;\">\n",
       "      <th></th>\n",
       "      <th>PERSON_TYPE</th>\n",
       "      <th>SEAT_NO</th>\n",
       "      <th>STATE</th>\n",
       "      <th>SEX</th>\n",
       "      <th>AGE</th>\n",
       "      <th>DRIVERS_LICENSE_STATE</th>\n",
       "      <th>DRIVERS_LICENSE_CLASS</th>\n",
       "      <th>SAFETY_EQUIPMENT</th>\n",
       "      <th>AIRBAG_DEPLOYED</th>\n",
       "      <th>EJECTION</th>\n",
       "      <th>...</th>\n",
       "      <th>HIT_AND_RUN_I</th>\n",
       "      <th>DAMAGE</th>\n",
       "      <th>PRIM_CONTRIBUTORY_CAUSE</th>\n",
       "      <th>SEC_CONTRIBUTORY_CAUSE</th>\n",
       "      <th>BEAT_OF_OCCURRENCE</th>\n",
       "      <th>NUM_UNITS</th>\n",
       "      <th>CRASH_HOUR</th>\n",
       "      <th>CRASH_DAY_OF_WEEK</th>\n",
       "      <th>CRASH_MONTH</th>\n",
       "      <th>CRASH_YEAR</th>\n",
       "    </tr>\n",
       "  </thead>\n",
       "  <tbody>\n",
       "    <tr>\n",
       "      <th>635474</th>\n",
       "      <td>DRIVER</td>\n",
       "      <td>0.0</td>\n",
       "      <td>IL</td>\n",
       "      <td>F</td>\n",
       "      <td>34.0</td>\n",
       "      <td>IL</td>\n",
       "      <td>D</td>\n",
       "      <td>SAFETY BELT USED</td>\n",
       "      <td>DID NOT DEPLOY</td>\n",
       "      <td>NONE</td>\n",
       "      <td>...</td>\n",
       "      <td>NaN</td>\n",
       "      <td>OVER $1,500</td>\n",
       "      <td>IMPROPER TURNING/NO SIGNAL</td>\n",
       "      <td>FAILING TO YIELD RIGHT-OF-WAY</td>\n",
       "      <td>1922.0</td>\n",
       "      <td>2.0</td>\n",
       "      <td>11</td>\n",
       "      <td>7</td>\n",
       "      <td>2</td>\n",
       "      <td>2019</td>\n",
       "    </tr>\n",
       "    <tr>\n",
       "      <th>425369</th>\n",
       "      <td>DRIVER</td>\n",
       "      <td>0.0</td>\n",
       "      <td>IL</td>\n",
       "      <td>M</td>\n",
       "      <td>29.0</td>\n",
       "      <td>IL</td>\n",
       "      <td>D</td>\n",
       "      <td>SAFETY BELT USED</td>\n",
       "      <td>DID NOT DEPLOY</td>\n",
       "      <td>NONE</td>\n",
       "      <td>...</td>\n",
       "      <td>NaN</td>\n",
       "      <td>$501 - $1,500</td>\n",
       "      <td>DISREGARDING TRAFFIC SIGNALS</td>\n",
       "      <td>NOT APPLICABLE</td>\n",
       "      <td>1232.0</td>\n",
       "      <td>2.0</td>\n",
       "      <td>2</td>\n",
       "      <td>2</td>\n",
       "      <td>3</td>\n",
       "      <td>2018</td>\n",
       "    </tr>\n",
       "    <tr>\n",
       "      <th>1152397</th>\n",
       "      <td>DRIVER</td>\n",
       "      <td>0.0</td>\n",
       "      <td>NaN</td>\n",
       "      <td>M</td>\n",
       "      <td>39.0</td>\n",
       "      <td>IL</td>\n",
       "      <td>NaN</td>\n",
       "      <td>SAFETY BELT USED</td>\n",
       "      <td>NOT APPLICABLE</td>\n",
       "      <td>NONE</td>\n",
       "      <td>...</td>\n",
       "      <td>NaN</td>\n",
       "      <td>$501 - $1,500</td>\n",
       "      <td>NOT APPLICABLE</td>\n",
       "      <td>NOT APPLICABLE</td>\n",
       "      <td>823.0</td>\n",
       "      <td>2.0</td>\n",
       "      <td>17</td>\n",
       "      <td>3</td>\n",
       "      <td>5</td>\n",
       "      <td>2021</td>\n",
       "    </tr>\n",
       "    <tr>\n",
       "      <th>75101</th>\n",
       "      <td>DRIVER</td>\n",
       "      <td>0.0</td>\n",
       "      <td>IL</td>\n",
       "      <td>M</td>\n",
       "      <td>26.0</td>\n",
       "      <td>WA</td>\n",
       "      <td>9</td>\n",
       "      <td>SAFETY BELT USED</td>\n",
       "      <td>DID NOT DEPLOY</td>\n",
       "      <td>NONE</td>\n",
       "      <td>...</td>\n",
       "      <td>NaN</td>\n",
       "      <td>OVER $1,500</td>\n",
       "      <td>DISREGARDING ROAD MARKINGS</td>\n",
       "      <td>NOT APPLICABLE</td>\n",
       "      <td>1732.0</td>\n",
       "      <td>2.0</td>\n",
       "      <td>23</td>\n",
       "      <td>1</td>\n",
       "      <td>4</td>\n",
       "      <td>2018</td>\n",
       "    </tr>\n",
       "    <tr>\n",
       "      <th>265075</th>\n",
       "      <td>DRIVER</td>\n",
       "      <td>0.0</td>\n",
       "      <td>IL</td>\n",
       "      <td>M</td>\n",
       "      <td>24.0</td>\n",
       "      <td>IL</td>\n",
       "      <td>D</td>\n",
       "      <td>USAGE UNKNOWN</td>\n",
       "      <td>DID NOT DEPLOY</td>\n",
       "      <td>NONE</td>\n",
       "      <td>...</td>\n",
       "      <td>NaN</td>\n",
       "      <td>$501 - $1,500</td>\n",
       "      <td>FAILING TO REDUCE SPEED TO AVOID CRASH</td>\n",
       "      <td>FOLLOWING TOO CLOSELY</td>\n",
       "      <td>831.0</td>\n",
       "      <td>2.0</td>\n",
       "      <td>6</td>\n",
       "      <td>1</td>\n",
       "      <td>6</td>\n",
       "      <td>2017</td>\n",
       "    </tr>\n",
       "  </tbody>\n",
       "</table>\n",
       "<p>5 rows × 37 columns</p>\n",
       "</div>"
      ],
      "text/plain": [
       "        PERSON_TYPE  SEAT_NO STATE SEX   AGE DRIVERS_LICENSE_STATE  \\\n",
       "635474       DRIVER      0.0    IL   F  34.0                    IL   \n",
       "425369       DRIVER      0.0    IL   M  29.0                    IL   \n",
       "1152397      DRIVER      0.0   NaN   M  39.0                    IL   \n",
       "75101        DRIVER      0.0    IL   M  26.0                    WA   \n",
       "265075       DRIVER      0.0    IL   M  24.0                    IL   \n",
       "\n",
       "        DRIVERS_LICENSE_CLASS  SAFETY_EQUIPMENT AIRBAG_DEPLOYED EJECTION  ...  \\\n",
       "635474                      D  SAFETY BELT USED  DID NOT DEPLOY     NONE  ...   \n",
       "425369                      D  SAFETY BELT USED  DID NOT DEPLOY     NONE  ...   \n",
       "1152397                   NaN  SAFETY BELT USED  NOT APPLICABLE     NONE  ...   \n",
       "75101                       9  SAFETY BELT USED  DID NOT DEPLOY     NONE  ...   \n",
       "265075                      D     USAGE UNKNOWN  DID NOT DEPLOY     NONE  ...   \n",
       "\n",
       "        HIT_AND_RUN_I         DAMAGE                 PRIM_CONTRIBUTORY_CAUSE  \\\n",
       "635474            NaN    OVER $1,500              IMPROPER TURNING/NO SIGNAL   \n",
       "425369            NaN  $501 - $1,500            DISREGARDING TRAFFIC SIGNALS   \n",
       "1152397           NaN  $501 - $1,500                          NOT APPLICABLE   \n",
       "75101             NaN    OVER $1,500              DISREGARDING ROAD MARKINGS   \n",
       "265075            NaN  $501 - $1,500  FAILING TO REDUCE SPEED TO AVOID CRASH   \n",
       "\n",
       "                SEC_CONTRIBUTORY_CAUSE  BEAT_OF_OCCURRENCE NUM_UNITS  \\\n",
       "635474   FAILING TO YIELD RIGHT-OF-WAY              1922.0       2.0   \n",
       "425369                  NOT APPLICABLE              1232.0       2.0   \n",
       "1152397                 NOT APPLICABLE               823.0       2.0   \n",
       "75101                   NOT APPLICABLE              1732.0       2.0   \n",
       "265075           FOLLOWING TOO CLOSELY               831.0       2.0   \n",
       "\n",
       "        CRASH_HOUR CRASH_DAY_OF_WEEK CRASH_MONTH CRASH_YEAR  \n",
       "635474          11                 7           2       2019  \n",
       "425369           2                 2           3       2018  \n",
       "1152397         17                 3           5       2021  \n",
       "75101           23                 1           4       2018  \n",
       "265075           6                 1           6       2017  \n",
       "\n",
       "[5 rows x 37 columns]"
      ]
     },
     "execution_count": 50,
=======
      "text/plain": [
       "Pipeline(steps=[('trans',\n",
       "                 ColumnTransformer(transformers=[('numerical',\n",
       "                                                  Pipeline(steps=[('impute',\n",
       "                                                                   SimpleImputer()),\n",
       "                                                                  ('ss',\n",
       "                                                                   StandardScaler())]),\n",
       "                                                  Index(['SEAT_NO', 'AGE', 'POSTED_SPEED_LIMIT', 'NUM_UNITS', 'CRASH_HOUR',\n",
       "       'CRASH_DAY_OF_WEEK', 'CRASH_MONTH', 'CRASH_YEAR'],\n",
       "      dtype='object')),\n",
       "                                                 ('categorical',\n",
       "                                                  Pipeline(steps=[('ohe',\n",
       "                                                                   OneHotEncoder(drop='first',\n",
       "                                                                                 sparse=False...\n",
       "       'BAC_RESULT', 'TRAFFIC_CONTROL_DEVICE', 'DEVICE_CONDITION',\n",
       "       'WEATHER_CONDITION', 'LIGHTING_CONDITION', 'FIRST_CRASH_TYPE',\n",
       "       'TRAFFICWAY_TYPE', 'ALIGNMENT', 'ROADWAY_SURFACE_COND', 'ROAD_DEFECT',\n",
       "       'CRASH_TYPE', 'INTERSECTION_RELATED_I', 'HIT_AND_RUN_I', 'DAMAGE',\n",
       "       'PRIM_CONTRIBUTORY_CAUSE', 'SEC_CONTRIBUTORY_CAUSE',\n",
       "       'BEAT_OF_OCCURRENCE'],\n",
       "      dtype='object'))])),\n",
       "                ('lr', LogisticRegression(random_state=42))])"
      ]
     },
     "execution_count": 55,
>>>>>>> fd2a1972e96d6fd633cdb95cae47776047b2f306:Meaghan_wn.ipynb
     "metadata": {},
     "output_type": "execute_result"
    }
   ],
   "source": [
<<<<<<< HEAD:Ang_tuesday.ipynb
    "X_train.head()"
=======
    "model_pipe.fit(X_train, y_train)"
>>>>>>> fd2a1972e96d6fd633cdb95cae47776047b2f306:Meaghan_wn.ipynb
   ]
  },
  {
   "cell_type": "code",
<<<<<<< HEAD:Ang_tuesday.ipynb
   "execution_count": 49,
   "metadata": {},
   "outputs": [
    {
     "name": "stderr",
     "output_type": "stream",
     "text": [
      "<ipython-input-44-5a87e6e6625e>:2: SettingWithCopyWarning: \n",
      "A value is trying to be set on a copy of a slice from a DataFrame\n",
      "\n",
      "See the caveats in the documentation: https://pandas.pydata.org/pandas-docs/stable/user_guide/indexing.html#returning-a-view-versus-a-copy\n",
      "  df['AGE'][df.AGE < 0] = np.nan\n",
      "C:\\Users\\angie\\anaconda3\\envs\\learn-env\\lib\\site-packages\\pandas\\core\\series.py:1020: SettingWithCopyWarning: \n",
      "A value is trying to be set on a copy of a slice from a DataFrame\n",
      "\n",
      "See the caveats in the documentation: https://pandas.pydata.org/pandas-docs/stable/user_guide/indexing.html#returning-a-view-versus-a-copy\n",
      "  self._where(~key, value, inplace=True)\n",
      "<ipython-input-44-5a87e6e6625e>:3: SettingWithCopyWarning: \n",
      "A value is trying to be set on a copy of a slice from a DataFrame.\n",
      "Try using .loc[row_indexer,col_indexer] = value instead\n",
      "\n",
      "See the caveats in the documentation: https://pandas.pydata.org/pandas-docs/stable/user_guide/indexing.html#returning-a-view-versus-a-copy\n",
      "  df.loc[(df.AGE == 0) & (df.PERSON_TYPE == 'DRIVER')]['AGE'] = np.nan\n",
      "<ipython-input-41-7d5df9cf6b56>:8: SettingWithCopyWarning: \n",
      "A value is trying to be set on a copy of a slice from a DataFrame.\n",
      "Try using .loc[row_indexer,col_indexer] = value instead\n",
      "\n",
      "See the caveats in the documentation: https://pandas.pydata.org/pandas-docs/stable/user_guide/indexing.html#returning-a-view-versus-a-copy\n",
      "  df.loc[df.PERSON_TYPE == 'DRIVER']['SEAT_NO'] = 1\n",
      "C:\\Users\\angie\\anaconda3\\envs\\learn-env\\lib\\site-packages\\pandas\\core\\series.py:4517: SettingWithCopyWarning: \n",
      "A value is trying to be set on a copy of a slice from a DataFrame\n",
      "\n",
      "See the caveats in the documentation: https://pandas.pydata.org/pandas-docs/stable/user_guide/indexing.html#returning-a-view-versus-a-copy\n",
      "  return super().fillna(\n",
      "<ipython-input-42-c0663be570c1>:2: SettingWithCopyWarning: \n",
      "A value is trying to be set on a copy of a slice from a DataFrame\n",
      "\n",
      "See the caveats in the documentation: https://pandas.pydata.org/pandas-docs/stable/user_guide/indexing.html#returning-a-view-versus-a-copy\n",
      "  df['POSTED_SPEED_LIMIT'][df.POSTED_SPEED_LIMIT == 0] = np.nan\n",
      "C:\\Users\\angie\\anaconda3\\envs\\learn-env\\lib\\site-packages\\pandas\\core\\series.py:1020: SettingWithCopyWarning: \n",
      "A value is trying to be set on a copy of a slice from a DataFrame\n",
      "\n",
      "See the caveats in the documentation: https://pandas.pydata.org/pandas-docs/stable/user_guide/indexing.html#returning-a-view-versus-a-copy\n",
      "  self._where(~key, value, inplace=True)\n",
      "<ipython-input-42-c0663be570c1>:3: SettingWithCopyWarning: \n",
      "A value is trying to be set on a copy of a slice from a DataFrame\n",
      "\n",
      "See the caveats in the documentation: https://pandas.pydata.org/pandas-docs/stable/user_guide/indexing.html#returning-a-view-versus-a-copy\n",
      "  df['POSTED_SPEED_LIMIT'][(df.POSTED_SPEED_LIMIT %5) != 0] = np.nan\n",
      "C:\\Users\\angie\\anaconda3\\envs\\learn-env\\lib\\site-packages\\pandas\\core\\series.py:1020: SettingWithCopyWarning: \n",
      "A value is trying to be set on a copy of a slice from a DataFrame\n",
      "\n",
      "See the caveats in the documentation: https://pandas.pydata.org/pandas-docs/stable/user_guide/indexing.html#returning-a-view-versus-a-copy\n",
      "  self._where(~key, value, inplace=True)\n"
     ]
    },
    {
     "ename": "KeyError",
     "evalue": "'BEAT_OF_OCCURENCE'",
     "output_type": "error",
     "traceback": [
      "\u001b[1;31m---------------------------------------------------------------------------\u001b[0m",
      "\u001b[1;31mKeyError\u001b[0m                                  Traceback (most recent call last)",
      "\u001b[1;32m~\\anaconda3\\envs\\learn-env\\lib\\site-packages\\pandas\\core\\indexes\\base.py\u001b[0m in \u001b[0;36mget_loc\u001b[1;34m(self, key, method, tolerance)\u001b[0m\n\u001b[0;32m   2894\u001b[0m             \u001b[1;32mtry\u001b[0m\u001b[1;33m:\u001b[0m\u001b[1;33m\u001b[0m\u001b[1;33m\u001b[0m\u001b[0m\n\u001b[1;32m-> 2895\u001b[1;33m                 \u001b[1;32mreturn\u001b[0m \u001b[0mself\u001b[0m\u001b[1;33m.\u001b[0m\u001b[0m_engine\u001b[0m\u001b[1;33m.\u001b[0m\u001b[0mget_loc\u001b[0m\u001b[1;33m(\u001b[0m\u001b[0mcasted_key\u001b[0m\u001b[1;33m)\u001b[0m\u001b[1;33m\u001b[0m\u001b[1;33m\u001b[0m\u001b[0m\n\u001b[0m\u001b[0;32m   2896\u001b[0m             \u001b[1;32mexcept\u001b[0m \u001b[0mKeyError\u001b[0m \u001b[1;32mas\u001b[0m \u001b[0merr\u001b[0m\u001b[1;33m:\u001b[0m\u001b[1;33m\u001b[0m\u001b[1;33m\u001b[0m\u001b[0m\n",
      "\u001b[1;32mpandas\\_libs\\index.pyx\u001b[0m in \u001b[0;36mpandas._libs.index.IndexEngine.get_loc\u001b[1;34m()\u001b[0m\n",
      "\u001b[1;32mpandas\\_libs\\index.pyx\u001b[0m in \u001b[0;36mpandas._libs.index.IndexEngine.get_loc\u001b[1;34m()\u001b[0m\n",
      "\u001b[1;32mpandas\\_libs\\hashtable_class_helper.pxi\u001b[0m in \u001b[0;36mpandas._libs.hashtable.PyObjectHashTable.get_item\u001b[1;34m()\u001b[0m\n",
      "\u001b[1;32mpandas\\_libs\\hashtable_class_helper.pxi\u001b[0m in \u001b[0;36mpandas._libs.hashtable.PyObjectHashTable.get_item\u001b[1;34m()\u001b[0m\n",
      "\u001b[1;31mKeyError\u001b[0m: 'BEAT_OF_OCCURENCE'",
      "\nThe above exception was the direct cause of the following exception:\n",
      "\u001b[1;31mKeyError\u001b[0m                                  Traceback (most recent call last)",
      "\u001b[1;32m<ipython-input-49-d41888bfa862>\u001b[0m in \u001b[0;36m<module>\u001b[1;34m\u001b[0m\n\u001b[1;32m----> 1\u001b[1;33m \u001b[0mX_train_transformed\u001b[0m \u001b[1;33m=\u001b[0m \u001b[0mcleaning_pipeline\u001b[0m\u001b[1;33m.\u001b[0m\u001b[0mfit_transform\u001b[0m\u001b[1;33m(\u001b[0m\u001b[0mX_train\u001b[0m\u001b[1;33m)\u001b[0m\u001b[1;33m\u001b[0m\u001b[1;33m\u001b[0m\u001b[0m\n\u001b[0m",
      "\u001b[1;32m~\\anaconda3\\envs\\learn-env\\lib\\site-packages\\sklearn\\pipeline.py\u001b[0m in \u001b[0;36mfit_transform\u001b[1;34m(self, X, y, **fit_params)\u001b[0m\n\u001b[0;32m    365\u001b[0m         \"\"\"\n\u001b[0;32m    366\u001b[0m         \u001b[0mfit_params_steps\u001b[0m \u001b[1;33m=\u001b[0m \u001b[0mself\u001b[0m\u001b[1;33m.\u001b[0m\u001b[0m_check_fit_params\u001b[0m\u001b[1;33m(\u001b[0m\u001b[1;33m**\u001b[0m\u001b[0mfit_params\u001b[0m\u001b[1;33m)\u001b[0m\u001b[1;33m\u001b[0m\u001b[1;33m\u001b[0m\u001b[0m\n\u001b[1;32m--> 367\u001b[1;33m         \u001b[0mXt\u001b[0m \u001b[1;33m=\u001b[0m \u001b[0mself\u001b[0m\u001b[1;33m.\u001b[0m\u001b[0m_fit\u001b[0m\u001b[1;33m(\u001b[0m\u001b[0mX\u001b[0m\u001b[1;33m,\u001b[0m \u001b[0my\u001b[0m\u001b[1;33m,\u001b[0m \u001b[1;33m**\u001b[0m\u001b[0mfit_params_steps\u001b[0m\u001b[1;33m)\u001b[0m\u001b[1;33m\u001b[0m\u001b[1;33m\u001b[0m\u001b[0m\n\u001b[0m\u001b[0;32m    368\u001b[0m \u001b[1;33m\u001b[0m\u001b[0m\n\u001b[0;32m    369\u001b[0m         \u001b[0mlast_step\u001b[0m \u001b[1;33m=\u001b[0m \u001b[0mself\u001b[0m\u001b[1;33m.\u001b[0m\u001b[0m_final_estimator\u001b[0m\u001b[1;33m\u001b[0m\u001b[1;33m\u001b[0m\u001b[0m\n",
      "\u001b[1;32m~\\anaconda3\\envs\\learn-env\\lib\\site-packages\\sklearn\\pipeline.py\u001b[0m in \u001b[0;36m_fit\u001b[1;34m(self, X, y, **fit_params_steps)\u001b[0m\n\u001b[0;32m    290\u001b[0m                 \u001b[0mcloned_transformer\u001b[0m \u001b[1;33m=\u001b[0m \u001b[0mclone\u001b[0m\u001b[1;33m(\u001b[0m\u001b[0mtransformer\u001b[0m\u001b[1;33m)\u001b[0m\u001b[1;33m\u001b[0m\u001b[1;33m\u001b[0m\u001b[0m\n\u001b[0;32m    291\u001b[0m             \u001b[1;31m# Fit or load from cache the current transformer\u001b[0m\u001b[1;33m\u001b[0m\u001b[1;33m\u001b[0m\u001b[1;33m\u001b[0m\u001b[0m\n\u001b[1;32m--> 292\u001b[1;33m             X, fitted_transformer = fit_transform_one_cached(\n\u001b[0m\u001b[0;32m    293\u001b[0m                 \u001b[0mcloned_transformer\u001b[0m\u001b[1;33m,\u001b[0m \u001b[0mX\u001b[0m\u001b[1;33m,\u001b[0m \u001b[0my\u001b[0m\u001b[1;33m,\u001b[0m \u001b[1;32mNone\u001b[0m\u001b[1;33m,\u001b[0m\u001b[1;33m\u001b[0m\u001b[1;33m\u001b[0m\u001b[0m\n\u001b[0;32m    294\u001b[0m                 \u001b[0mmessage_clsname\u001b[0m\u001b[1;33m=\u001b[0m\u001b[1;34m'Pipeline'\u001b[0m\u001b[1;33m,\u001b[0m\u001b[1;33m\u001b[0m\u001b[1;33m\u001b[0m\u001b[0m\n",
      "\u001b[1;32m~\\anaconda3\\envs\\learn-env\\lib\\site-packages\\joblib\\memory.py\u001b[0m in \u001b[0;36m__call__\u001b[1;34m(self, *args, **kwargs)\u001b[0m\n\u001b[0;32m    350\u001b[0m \u001b[1;33m\u001b[0m\u001b[0m\n\u001b[0;32m    351\u001b[0m     \u001b[1;32mdef\u001b[0m \u001b[0m__call__\u001b[0m\u001b[1;33m(\u001b[0m\u001b[0mself\u001b[0m\u001b[1;33m,\u001b[0m \u001b[1;33m*\u001b[0m\u001b[0margs\u001b[0m\u001b[1;33m,\u001b[0m \u001b[1;33m**\u001b[0m\u001b[0mkwargs\u001b[0m\u001b[1;33m)\u001b[0m\u001b[1;33m:\u001b[0m\u001b[1;33m\u001b[0m\u001b[1;33m\u001b[0m\u001b[0m\n\u001b[1;32m--> 352\u001b[1;33m         \u001b[1;32mreturn\u001b[0m \u001b[0mself\u001b[0m\u001b[1;33m.\u001b[0m\u001b[0mfunc\u001b[0m\u001b[1;33m(\u001b[0m\u001b[1;33m*\u001b[0m\u001b[0margs\u001b[0m\u001b[1;33m,\u001b[0m \u001b[1;33m**\u001b[0m\u001b[0mkwargs\u001b[0m\u001b[1;33m)\u001b[0m\u001b[1;33m\u001b[0m\u001b[1;33m\u001b[0m\u001b[0m\n\u001b[0m\u001b[0;32m    353\u001b[0m \u001b[1;33m\u001b[0m\u001b[0m\n\u001b[0;32m    354\u001b[0m     \u001b[1;32mdef\u001b[0m \u001b[0mcall_and_shelve\u001b[0m\u001b[1;33m(\u001b[0m\u001b[0mself\u001b[0m\u001b[1;33m,\u001b[0m \u001b[1;33m*\u001b[0m\u001b[0margs\u001b[0m\u001b[1;33m,\u001b[0m \u001b[1;33m**\u001b[0m\u001b[0mkwargs\u001b[0m\u001b[1;33m)\u001b[0m\u001b[1;33m:\u001b[0m\u001b[1;33m\u001b[0m\u001b[1;33m\u001b[0m\u001b[0m\n",
      "\u001b[1;32m~\\anaconda3\\envs\\learn-env\\lib\\site-packages\\sklearn\\pipeline.py\u001b[0m in \u001b[0;36m_fit_transform_one\u001b[1;34m(transformer, X, y, weight, message_clsname, message, **fit_params)\u001b[0m\n\u001b[0;32m    738\u001b[0m     \u001b[1;32mwith\u001b[0m \u001b[0m_print_elapsed_time\u001b[0m\u001b[1;33m(\u001b[0m\u001b[0mmessage_clsname\u001b[0m\u001b[1;33m,\u001b[0m \u001b[0mmessage\u001b[0m\u001b[1;33m)\u001b[0m\u001b[1;33m:\u001b[0m\u001b[1;33m\u001b[0m\u001b[1;33m\u001b[0m\u001b[0m\n\u001b[0;32m    739\u001b[0m         \u001b[1;32mif\u001b[0m \u001b[0mhasattr\u001b[0m\u001b[1;33m(\u001b[0m\u001b[0mtransformer\u001b[0m\u001b[1;33m,\u001b[0m \u001b[1;34m'fit_transform'\u001b[0m\u001b[1;33m)\u001b[0m\u001b[1;33m:\u001b[0m\u001b[1;33m\u001b[0m\u001b[1;33m\u001b[0m\u001b[0m\n\u001b[1;32m--> 740\u001b[1;33m             \u001b[0mres\u001b[0m \u001b[1;33m=\u001b[0m \u001b[0mtransformer\u001b[0m\u001b[1;33m.\u001b[0m\u001b[0mfit_transform\u001b[0m\u001b[1;33m(\u001b[0m\u001b[0mX\u001b[0m\u001b[1;33m,\u001b[0m \u001b[0my\u001b[0m\u001b[1;33m,\u001b[0m \u001b[1;33m**\u001b[0m\u001b[0mfit_params\u001b[0m\u001b[1;33m)\u001b[0m\u001b[1;33m\u001b[0m\u001b[1;33m\u001b[0m\u001b[0m\n\u001b[0m\u001b[0;32m    741\u001b[0m         \u001b[1;32melse\u001b[0m\u001b[1;33m:\u001b[0m\u001b[1;33m\u001b[0m\u001b[1;33m\u001b[0m\u001b[0m\n\u001b[0;32m    742\u001b[0m             \u001b[0mres\u001b[0m \u001b[1;33m=\u001b[0m \u001b[0mtransformer\u001b[0m\u001b[1;33m.\u001b[0m\u001b[0mfit\u001b[0m\u001b[1;33m(\u001b[0m\u001b[0mX\u001b[0m\u001b[1;33m,\u001b[0m \u001b[0my\u001b[0m\u001b[1;33m,\u001b[0m \u001b[1;33m**\u001b[0m\u001b[0mfit_params\u001b[0m\u001b[1;33m)\u001b[0m\u001b[1;33m.\u001b[0m\u001b[0mtransform\u001b[0m\u001b[1;33m(\u001b[0m\u001b[0mX\u001b[0m\u001b[1;33m)\u001b[0m\u001b[1;33m\u001b[0m\u001b[1;33m\u001b[0m\u001b[0m\n",
      "\u001b[1;32m~\\anaconda3\\envs\\learn-env\\lib\\site-packages\\sklearn\\base.py\u001b[0m in \u001b[0;36mfit_transform\u001b[1;34m(self, X, y, **fit_params)\u001b[0m\n\u001b[0;32m    688\u001b[0m         \u001b[1;32mif\u001b[0m \u001b[0my\u001b[0m \u001b[1;32mis\u001b[0m \u001b[1;32mNone\u001b[0m\u001b[1;33m:\u001b[0m\u001b[1;33m\u001b[0m\u001b[1;33m\u001b[0m\u001b[0m\n\u001b[0;32m    689\u001b[0m             \u001b[1;31m# fit method of arity 1 (unsupervised transformation)\u001b[0m\u001b[1;33m\u001b[0m\u001b[1;33m\u001b[0m\u001b[1;33m\u001b[0m\u001b[0m\n\u001b[1;32m--> 690\u001b[1;33m             \u001b[1;32mreturn\u001b[0m \u001b[0mself\u001b[0m\u001b[1;33m.\u001b[0m\u001b[0mfit\u001b[0m\u001b[1;33m(\u001b[0m\u001b[0mX\u001b[0m\u001b[1;33m,\u001b[0m \u001b[1;33m**\u001b[0m\u001b[0mfit_params\u001b[0m\u001b[1;33m)\u001b[0m\u001b[1;33m.\u001b[0m\u001b[0mtransform\u001b[0m\u001b[1;33m(\u001b[0m\u001b[0mX\u001b[0m\u001b[1;33m)\u001b[0m\u001b[1;33m\u001b[0m\u001b[1;33m\u001b[0m\u001b[0m\n\u001b[0m\u001b[0;32m    691\u001b[0m         \u001b[1;32melse\u001b[0m\u001b[1;33m:\u001b[0m\u001b[1;33m\u001b[0m\u001b[1;33m\u001b[0m\u001b[0m\n\u001b[0;32m    692\u001b[0m             \u001b[1;31m# fit method of arity 2 (supervised transformation)\u001b[0m\u001b[1;33m\u001b[0m\u001b[1;33m\u001b[0m\u001b[1;33m\u001b[0m\u001b[0m\n",
      "\u001b[1;32m~\\anaconda3\\envs\\learn-env\\lib\\site-packages\\sklearn\\preprocessing\\_function_transformer.py\u001b[0m in \u001b[0;36mtransform\u001b[1;34m(self, X)\u001b[0m\n\u001b[0;32m    145\u001b[0m             \u001b[0mTransformed\u001b[0m \u001b[0minput\u001b[0m\u001b[1;33m.\u001b[0m\u001b[1;33m\u001b[0m\u001b[1;33m\u001b[0m\u001b[0m\n\u001b[0;32m    146\u001b[0m         \"\"\"\n\u001b[1;32m--> 147\u001b[1;33m         \u001b[1;32mreturn\u001b[0m \u001b[0mself\u001b[0m\u001b[1;33m.\u001b[0m\u001b[0m_transform\u001b[0m\u001b[1;33m(\u001b[0m\u001b[0mX\u001b[0m\u001b[1;33m,\u001b[0m \u001b[0mfunc\u001b[0m\u001b[1;33m=\u001b[0m\u001b[0mself\u001b[0m\u001b[1;33m.\u001b[0m\u001b[0mfunc\u001b[0m\u001b[1;33m,\u001b[0m \u001b[0mkw_args\u001b[0m\u001b[1;33m=\u001b[0m\u001b[0mself\u001b[0m\u001b[1;33m.\u001b[0m\u001b[0mkw_args\u001b[0m\u001b[1;33m)\u001b[0m\u001b[1;33m\u001b[0m\u001b[1;33m\u001b[0m\u001b[0m\n\u001b[0m\u001b[0;32m    148\u001b[0m \u001b[1;33m\u001b[0m\u001b[0m\n\u001b[0;32m    149\u001b[0m     \u001b[1;32mdef\u001b[0m \u001b[0minverse_transform\u001b[0m\u001b[1;33m(\u001b[0m\u001b[0mself\u001b[0m\u001b[1;33m,\u001b[0m \u001b[0mX\u001b[0m\u001b[1;33m)\u001b[0m\u001b[1;33m:\u001b[0m\u001b[1;33m\u001b[0m\u001b[1;33m\u001b[0m\u001b[0m\n",
      "\u001b[1;32m~\\anaconda3\\envs\\learn-env\\lib\\site-packages\\sklearn\\preprocessing\\_function_transformer.py\u001b[0m in \u001b[0;36m_transform\u001b[1;34m(self, X, func, kw_args)\u001b[0m\n\u001b[0;32m    169\u001b[0m             \u001b[0mfunc\u001b[0m \u001b[1;33m=\u001b[0m \u001b[0m_identity\u001b[0m\u001b[1;33m\u001b[0m\u001b[1;33m\u001b[0m\u001b[0m\n\u001b[0;32m    170\u001b[0m \u001b[1;33m\u001b[0m\u001b[0m\n\u001b[1;32m--> 171\u001b[1;33m         \u001b[1;32mreturn\u001b[0m \u001b[0mfunc\u001b[0m\u001b[1;33m(\u001b[0m\u001b[0mX\u001b[0m\u001b[1;33m,\u001b[0m \u001b[1;33m**\u001b[0m\u001b[1;33m(\u001b[0m\u001b[0mkw_args\u001b[0m \u001b[1;32mif\u001b[0m \u001b[0mkw_args\u001b[0m \u001b[1;32melse\u001b[0m \u001b[1;33m{\u001b[0m\u001b[1;33m}\u001b[0m\u001b[1;33m)\u001b[0m\u001b[1;33m)\u001b[0m\u001b[1;33m\u001b[0m\u001b[1;33m\u001b[0m\u001b[0m\n\u001b[0m\u001b[0;32m    172\u001b[0m \u001b[1;33m\u001b[0m\u001b[0m\n\u001b[0;32m    173\u001b[0m     \u001b[1;32mdef\u001b[0m \u001b[0m_more_tags\u001b[0m\u001b[1;33m(\u001b[0m\u001b[0mself\u001b[0m\u001b[1;33m)\u001b[0m\u001b[1;33m:\u001b[0m\u001b[1;33m\u001b[0m\u001b[1;33m\u001b[0m\u001b[0m\n",
      "\u001b[1;32m<ipython-input-43-a09fcdbf2347>\u001b[0m in \u001b[0;36mbeat_transformer\u001b[1;34m(df)\u001b[0m\n\u001b[0;32m      1\u001b[0m \u001b[1;32mdef\u001b[0m \u001b[0mbeat_transformer\u001b[0m\u001b[1;33m(\u001b[0m\u001b[0mdf\u001b[0m\u001b[1;33m)\u001b[0m\u001b[1;33m:\u001b[0m\u001b[1;33m\u001b[0m\u001b[1;33m\u001b[0m\u001b[0m\n\u001b[1;32m----> 2\u001b[1;33m     \u001b[0mdf\u001b[0m\u001b[1;33m[\u001b[0m\u001b[1;34m'BEAT_OF_OCCURENCE'\u001b[0m\u001b[1;33m]\u001b[0m \u001b[1;33m=\u001b[0m \u001b[0mdf\u001b[0m\u001b[1;33m[\u001b[0m\u001b[1;34m'BEAT_OF_OCCURENCE'\u001b[0m\u001b[1;33m]\u001b[0m\u001b[1;33m.\u001b[0m\u001b[0mastype\u001b[0m\u001b[1;33m(\u001b[0m\u001b[0mstr\u001b[0m\u001b[1;33m)\u001b[0m\u001b[1;33m\u001b[0m\u001b[1;33m\u001b[0m\u001b[0m\n\u001b[0m\u001b[0;32m      3\u001b[0m     \u001b[0mdf\u001b[0m\u001b[1;33m[\u001b[0m\u001b[1;34m'BEAT_OF_OCCURENCE'\u001b[0m\u001b[1;33m]\u001b[0m \u001b[1;33m=\u001b[0m \u001b[0mdf\u001b[0m\u001b[1;33m[\u001b[0m\u001b[1;34m'BEAT_OF_OCCURENCE'\u001b[0m\u001b[1;33m]\u001b[0m\u001b[1;33m.\u001b[0m\u001b[0mapply\u001b[0m\u001b[1;33m(\u001b[0m\u001b[1;32mlambda\u001b[0m \u001b[0mx\u001b[0m\u001b[1;33m:\u001b[0m \u001b[0mx\u001b[0m\u001b[1;33m[\u001b[0m\u001b[1;33m:\u001b[0m\u001b[1;33m-\u001b[0m\u001b[1;36m4\u001b[0m\u001b[1;33m]\u001b[0m\u001b[1;33m)\u001b[0m\u001b[1;33m\u001b[0m\u001b[1;33m\u001b[0m\u001b[0m\n\u001b[0;32m      4\u001b[0m     \u001b[1;32mreturn\u001b[0m \u001b[0mdf\u001b[0m\u001b[1;33m\u001b[0m\u001b[1;33m\u001b[0m\u001b[0m\n",
      "\u001b[1;32m~\\anaconda3\\envs\\learn-env\\lib\\site-packages\\pandas\\core\\frame.py\u001b[0m in \u001b[0;36m__getitem__\u001b[1;34m(self, key)\u001b[0m\n\u001b[0;32m   2900\u001b[0m             \u001b[1;32mif\u001b[0m \u001b[0mself\u001b[0m\u001b[1;33m.\u001b[0m\u001b[0mcolumns\u001b[0m\u001b[1;33m.\u001b[0m\u001b[0mnlevels\u001b[0m \u001b[1;33m>\u001b[0m \u001b[1;36m1\u001b[0m\u001b[1;33m:\u001b[0m\u001b[1;33m\u001b[0m\u001b[1;33m\u001b[0m\u001b[0m\n\u001b[0;32m   2901\u001b[0m                 \u001b[1;32mreturn\u001b[0m \u001b[0mself\u001b[0m\u001b[1;33m.\u001b[0m\u001b[0m_getitem_multilevel\u001b[0m\u001b[1;33m(\u001b[0m\u001b[0mkey\u001b[0m\u001b[1;33m)\u001b[0m\u001b[1;33m\u001b[0m\u001b[1;33m\u001b[0m\u001b[0m\n\u001b[1;32m-> 2902\u001b[1;33m             \u001b[0mindexer\u001b[0m \u001b[1;33m=\u001b[0m \u001b[0mself\u001b[0m\u001b[1;33m.\u001b[0m\u001b[0mcolumns\u001b[0m\u001b[1;33m.\u001b[0m\u001b[0mget_loc\u001b[0m\u001b[1;33m(\u001b[0m\u001b[0mkey\u001b[0m\u001b[1;33m)\u001b[0m\u001b[1;33m\u001b[0m\u001b[1;33m\u001b[0m\u001b[0m\n\u001b[0m\u001b[0;32m   2903\u001b[0m             \u001b[1;32mif\u001b[0m \u001b[0mis_integer\u001b[0m\u001b[1;33m(\u001b[0m\u001b[0mindexer\u001b[0m\u001b[1;33m)\u001b[0m\u001b[1;33m:\u001b[0m\u001b[1;33m\u001b[0m\u001b[1;33m\u001b[0m\u001b[0m\n\u001b[0;32m   2904\u001b[0m                 \u001b[0mindexer\u001b[0m \u001b[1;33m=\u001b[0m \u001b[1;33m[\u001b[0m\u001b[0mindexer\u001b[0m\u001b[1;33m]\u001b[0m\u001b[1;33m\u001b[0m\u001b[1;33m\u001b[0m\u001b[0m\n",
      "\u001b[1;32m~\\anaconda3\\envs\\learn-env\\lib\\site-packages\\pandas\\core\\indexes\\base.py\u001b[0m in \u001b[0;36mget_loc\u001b[1;34m(self, key, method, tolerance)\u001b[0m\n\u001b[0;32m   2895\u001b[0m                 \u001b[1;32mreturn\u001b[0m \u001b[0mself\u001b[0m\u001b[1;33m.\u001b[0m\u001b[0m_engine\u001b[0m\u001b[1;33m.\u001b[0m\u001b[0mget_loc\u001b[0m\u001b[1;33m(\u001b[0m\u001b[0mcasted_key\u001b[0m\u001b[1;33m)\u001b[0m\u001b[1;33m\u001b[0m\u001b[1;33m\u001b[0m\u001b[0m\n\u001b[0;32m   2896\u001b[0m             \u001b[1;32mexcept\u001b[0m \u001b[0mKeyError\u001b[0m \u001b[1;32mas\u001b[0m \u001b[0merr\u001b[0m\u001b[1;33m:\u001b[0m\u001b[1;33m\u001b[0m\u001b[1;33m\u001b[0m\u001b[0m\n\u001b[1;32m-> 2897\u001b[1;33m                 \u001b[1;32mraise\u001b[0m \u001b[0mKeyError\u001b[0m\u001b[1;33m(\u001b[0m\u001b[0mkey\u001b[0m\u001b[1;33m)\u001b[0m \u001b[1;32mfrom\u001b[0m \u001b[0merr\u001b[0m\u001b[1;33m\u001b[0m\u001b[1;33m\u001b[0m\u001b[0m\n\u001b[0m\u001b[0;32m   2898\u001b[0m \u001b[1;33m\u001b[0m\u001b[0m\n\u001b[0;32m   2899\u001b[0m         \u001b[1;32mif\u001b[0m \u001b[0mtolerance\u001b[0m \u001b[1;32mis\u001b[0m \u001b[1;32mnot\u001b[0m \u001b[1;32mNone\u001b[0m\u001b[1;33m:\u001b[0m\u001b[1;33m\u001b[0m\u001b[1;33m\u001b[0m\u001b[0m\n",
      "\u001b[1;31mKeyError\u001b[0m: 'BEAT_OF_OCCURENCE'"
     ]
    }
   ],
   "source": [
    "X_train_transformed = cleaning_pipeline.fit_transform(X_train)"
   ]
  },
  {
   "cell_type": "code",
   "execution_count": null,
   "metadata": {},
   "outputs": [],
   "source": [
    "X_train_nums = X_train.select_dtypes(include = ['float64', 'int64'])\n",
    "X_train_cat = X_train.select_dtypes('object')"
   ]
  },
  {
   "cell_type": "code",
   "execution_count": null,
   "metadata": {},
   "outputs": [],
   "source": [
    "from sklearn.impute import KNNImputer\n",
    "from sklearn.impute import SimpleImputer\n"
   ]
  },
  {
   "cell_type": "code",
   "execution_count": null,
   "metadata": {},
   "outputs": [],
   "source": [
    "numerical_pipeline = Pipeline(steps=[\n",
    "    ('impute', SimpleImputer(missing_values = np.nan, strategy = 'median')),\n",
    "    ('ss', StandardScaler())\n",
    "])\n",
    "                \n",
    "categorical_pipeline = Pipeline(steps=[\n",
    "    ('ohe', OneHotEncoder(drop='first',\n",
    "                         sparse=False))\n",
    "])\n",
    "\n",
    "trans = ColumnTransformer(transformers=[\n",
    "    ('numerical', numerical_pipeline, X_train_nums.select_dtypes(include = ['float64', 'int64']).columns),\n",
    "    ('categorical', categorical_pipeline, X_train.select_dtypes('object').columns)\n",
    "])"
   ]
  },
  {
   "cell_type": "code",
   "execution_count": null,
   "metadata": {},
   "outputs": [],
   "source": [
    "model_pipe = Pipeline(steps = [\n",
    "    ('trans', trans),\n",
    "    ('dc', DummyClassifier(strategy = 'most_frequent'))\n",
    "])"
=======
   "execution_count": 56,
   "metadata": {},
   "outputs": [
    {
     "data": {
      "text/plain": [
       "0.932349104046565"
      ]
     },
     "execution_count": 56,
     "metadata": {},
     "output_type": "execute_result"
    }
   ],
   "source": [
    "model_pipe.score(X_train, y_train)"
>>>>>>> fd2a1972e96d6fd633cdb95cae47776047b2f306:Meaghan_wn.ipynb
   ]
  },
  {
   "cell_type": "code",
<<<<<<< HEAD:Ang_tuesday.ipynb
   "execution_count": null,
   "metadata": {},
   "outputs": [],
   "source": [
    "model_pipe.fit(X_train_transformed, y_train)"
=======
   "execution_count": 65,
   "metadata": {},
   "outputs": [
    {
     "ename": "KeyboardInterrupt",
     "evalue": "",
     "output_type": "error",
     "traceback": [
      "\u001b[0;31m---------------------------------------------------------------------------\u001b[0m",
      "\u001b[0;31mKeyboardInterrupt\u001b[0m                         Traceback (most recent call last)",
      "\u001b[0;32m<ipython-input-65-94c5293183f4>\u001b[0m in \u001b[0;36m<module>\u001b[0;34m\u001b[0m\n\u001b[1;32m      1\u001b[0m \u001b[0mknn_impute\u001b[0m \u001b[0;34m=\u001b[0m \u001b[0mKNNImputer\u001b[0m\u001b[0;34m(\u001b[0m\u001b[0mn_neighbors\u001b[0m\u001b[0;34m=\u001b[0m\u001b[0;36m3\u001b[0m\u001b[0;34m)\u001b[0m\u001b[0;34m\u001b[0m\u001b[0;34m\u001b[0m\u001b[0m\n\u001b[0;32m----> 2\u001b[0;31m \u001b[0mX_train_knn\u001b[0m \u001b[0;34m=\u001b[0m \u001b[0mknn_impute\u001b[0m\u001b[0;34m.\u001b[0m\u001b[0mfit_transform\u001b[0m\u001b[0;34m(\u001b[0m\u001b[0mX_train_nums\u001b[0m\u001b[0;34m)\u001b[0m\u001b[0;34m\u001b[0m\u001b[0;34m\u001b[0m\u001b[0m\n\u001b[0m",
      "\u001b[0;32m~/opt/anaconda3/envs/learn-env/lib/python3.8/site-packages/sklearn/base.py\u001b[0m in \u001b[0;36mfit_transform\u001b[0;34m(self, X, y, **fit_params)\u001b[0m\n\u001b[1;32m    697\u001b[0m         \u001b[0;32mif\u001b[0m \u001b[0my\u001b[0m \u001b[0;32mis\u001b[0m \u001b[0;32mNone\u001b[0m\u001b[0;34m:\u001b[0m\u001b[0;34m\u001b[0m\u001b[0;34m\u001b[0m\u001b[0m\n\u001b[1;32m    698\u001b[0m             \u001b[0;31m# fit method of arity 1 (unsupervised transformation)\u001b[0m\u001b[0;34m\u001b[0m\u001b[0;34m\u001b[0m\u001b[0;34m\u001b[0m\u001b[0m\n\u001b[0;32m--> 699\u001b[0;31m             \u001b[0;32mreturn\u001b[0m \u001b[0mself\u001b[0m\u001b[0;34m.\u001b[0m\u001b[0mfit\u001b[0m\u001b[0;34m(\u001b[0m\u001b[0mX\u001b[0m\u001b[0;34m,\u001b[0m \u001b[0;34m**\u001b[0m\u001b[0mfit_params\u001b[0m\u001b[0;34m)\u001b[0m\u001b[0;34m.\u001b[0m\u001b[0mtransform\u001b[0m\u001b[0;34m(\u001b[0m\u001b[0mX\u001b[0m\u001b[0;34m)\u001b[0m\u001b[0;34m\u001b[0m\u001b[0;34m\u001b[0m\u001b[0m\n\u001b[0m\u001b[1;32m    700\u001b[0m         \u001b[0;32melse\u001b[0m\u001b[0;34m:\u001b[0m\u001b[0;34m\u001b[0m\u001b[0;34m\u001b[0m\u001b[0m\n\u001b[1;32m    701\u001b[0m             \u001b[0;31m# fit method of arity 2 (supervised transformation)\u001b[0m\u001b[0;34m\u001b[0m\u001b[0;34m\u001b[0m\u001b[0;34m\u001b[0m\u001b[0m\n",
      "\u001b[0;32m~/opt/anaconda3/envs/learn-env/lib/python3.8/site-packages/sklearn/impute/_knn.py\u001b[0m in \u001b[0;36mtransform\u001b[0;34m(self, X)\u001b[0m\n\u001b[1;32m    295\u001b[0m             \u001b[0mforce_all_finite\u001b[0m\u001b[0;34m=\u001b[0m\u001b[0mforce_all_finite\u001b[0m\u001b[0;34m,\u001b[0m\u001b[0;34m\u001b[0m\u001b[0;34m\u001b[0m\u001b[0m\n\u001b[1;32m    296\u001b[0m             reduce_func=process_chunk)\n\u001b[0;32m--> 297\u001b[0;31m         \u001b[0;32mfor\u001b[0m \u001b[0mchunk\u001b[0m \u001b[0;32min\u001b[0m \u001b[0mgen\u001b[0m\u001b[0;34m:\u001b[0m\u001b[0;34m\u001b[0m\u001b[0;34m\u001b[0m\u001b[0m\n\u001b[0m\u001b[1;32m    298\u001b[0m             \u001b[0;31m# process_chunk modifies X in place. No return value.\u001b[0m\u001b[0;34m\u001b[0m\u001b[0;34m\u001b[0m\u001b[0;34m\u001b[0m\u001b[0m\n\u001b[1;32m    299\u001b[0m             \u001b[0;32mpass\u001b[0m\u001b[0;34m\u001b[0m\u001b[0;34m\u001b[0m\u001b[0m\n",
      "\u001b[0;32m~/opt/anaconda3/envs/learn-env/lib/python3.8/site-packages/sklearn/metrics/pairwise.py\u001b[0m in \u001b[0;36mpairwise_distances_chunked\u001b[0;34m(X, Y, reduce_func, metric, n_jobs, working_memory, **kwds)\u001b[0m\n\u001b[1;32m   1621\u001b[0m         \u001b[0;32melse\u001b[0m\u001b[0;34m:\u001b[0m\u001b[0;34m\u001b[0m\u001b[0;34m\u001b[0m\u001b[0m\n\u001b[1;32m   1622\u001b[0m             \u001b[0mX_chunk\u001b[0m \u001b[0;34m=\u001b[0m \u001b[0mX\u001b[0m\u001b[0;34m[\u001b[0m\u001b[0msl\u001b[0m\u001b[0;34m]\u001b[0m\u001b[0;34m\u001b[0m\u001b[0;34m\u001b[0m\u001b[0m\n\u001b[0;32m-> 1623\u001b[0;31m         D_chunk = pairwise_distances(X_chunk, Y, metric=metric,\n\u001b[0m\u001b[1;32m   1624\u001b[0m                                      n_jobs=n_jobs, **kwds)\n\u001b[1;32m   1625\u001b[0m         if ((X is Y or Y is None)\n",
      "\u001b[0;32m~/opt/anaconda3/envs/learn-env/lib/python3.8/site-packages/sklearn/utils/validation.py\u001b[0m in \u001b[0;36minner_f\u001b[0;34m(*args, **kwargs)\u001b[0m\n\u001b[1;32m     61\u001b[0m             \u001b[0mextra_args\u001b[0m \u001b[0;34m=\u001b[0m \u001b[0mlen\u001b[0m\u001b[0;34m(\u001b[0m\u001b[0margs\u001b[0m\u001b[0;34m)\u001b[0m \u001b[0;34m-\u001b[0m \u001b[0mlen\u001b[0m\u001b[0;34m(\u001b[0m\u001b[0mall_args\u001b[0m\u001b[0;34m)\u001b[0m\u001b[0;34m\u001b[0m\u001b[0;34m\u001b[0m\u001b[0m\n\u001b[1;32m     62\u001b[0m             \u001b[0;32mif\u001b[0m \u001b[0mextra_args\u001b[0m \u001b[0;34m<=\u001b[0m \u001b[0;36m0\u001b[0m\u001b[0;34m:\u001b[0m\u001b[0;34m\u001b[0m\u001b[0;34m\u001b[0m\u001b[0m\n\u001b[0;32m---> 63\u001b[0;31m                 \u001b[0;32mreturn\u001b[0m \u001b[0mf\u001b[0m\u001b[0;34m(\u001b[0m\u001b[0;34m*\u001b[0m\u001b[0margs\u001b[0m\u001b[0;34m,\u001b[0m \u001b[0;34m**\u001b[0m\u001b[0mkwargs\u001b[0m\u001b[0;34m)\u001b[0m\u001b[0;34m\u001b[0m\u001b[0;34m\u001b[0m\u001b[0m\n\u001b[0m\u001b[1;32m     64\u001b[0m \u001b[0;34m\u001b[0m\u001b[0m\n\u001b[1;32m     65\u001b[0m             \u001b[0;31m# extra_args > 0\u001b[0m\u001b[0;34m\u001b[0m\u001b[0;34m\u001b[0m\u001b[0;34m\u001b[0m\u001b[0m\n",
      "\u001b[0;32m~/opt/anaconda3/envs/learn-env/lib/python3.8/site-packages/sklearn/metrics/pairwise.py\u001b[0m in \u001b[0;36mpairwise_distances\u001b[0;34m(X, Y, metric, n_jobs, force_all_finite, **kwds)\u001b[0m\n\u001b[1;32m   1788\u001b[0m         \u001b[0mfunc\u001b[0m \u001b[0;34m=\u001b[0m \u001b[0mpartial\u001b[0m\u001b[0;34m(\u001b[0m\u001b[0mdistance\u001b[0m\u001b[0;34m.\u001b[0m\u001b[0mcdist\u001b[0m\u001b[0;34m,\u001b[0m \u001b[0mmetric\u001b[0m\u001b[0;34m=\u001b[0m\u001b[0mmetric\u001b[0m\u001b[0;34m,\u001b[0m \u001b[0;34m**\u001b[0m\u001b[0mkwds\u001b[0m\u001b[0;34m)\u001b[0m\u001b[0;34m\u001b[0m\u001b[0;34m\u001b[0m\u001b[0m\n\u001b[1;32m   1789\u001b[0m \u001b[0;34m\u001b[0m\u001b[0m\n\u001b[0;32m-> 1790\u001b[0;31m     \u001b[0;32mreturn\u001b[0m \u001b[0m_parallel_pairwise\u001b[0m\u001b[0;34m(\u001b[0m\u001b[0mX\u001b[0m\u001b[0;34m,\u001b[0m \u001b[0mY\u001b[0m\u001b[0;34m,\u001b[0m \u001b[0mfunc\u001b[0m\u001b[0;34m,\u001b[0m \u001b[0mn_jobs\u001b[0m\u001b[0;34m,\u001b[0m \u001b[0;34m**\u001b[0m\u001b[0mkwds\u001b[0m\u001b[0;34m)\u001b[0m\u001b[0;34m\u001b[0m\u001b[0;34m\u001b[0m\u001b[0m\n\u001b[0m\u001b[1;32m   1791\u001b[0m \u001b[0;34m\u001b[0m\u001b[0m\n\u001b[1;32m   1792\u001b[0m \u001b[0;34m\u001b[0m\u001b[0m\n",
      "\u001b[0;32m~/opt/anaconda3/envs/learn-env/lib/python3.8/site-packages/sklearn/metrics/pairwise.py\u001b[0m in \u001b[0;36m_parallel_pairwise\u001b[0;34m(X, Y, func, n_jobs, **kwds)\u001b[0m\n\u001b[1;32m   1357\u001b[0m \u001b[0;34m\u001b[0m\u001b[0m\n\u001b[1;32m   1358\u001b[0m     \u001b[0;32mif\u001b[0m \u001b[0meffective_n_jobs\u001b[0m\u001b[0;34m(\u001b[0m\u001b[0mn_jobs\u001b[0m\u001b[0;34m)\u001b[0m \u001b[0;34m==\u001b[0m \u001b[0;36m1\u001b[0m\u001b[0;34m:\u001b[0m\u001b[0;34m\u001b[0m\u001b[0;34m\u001b[0m\u001b[0m\n\u001b[0;32m-> 1359\u001b[0;31m         \u001b[0;32mreturn\u001b[0m \u001b[0mfunc\u001b[0m\u001b[0;34m(\u001b[0m\u001b[0mX\u001b[0m\u001b[0;34m,\u001b[0m \u001b[0mY\u001b[0m\u001b[0;34m,\u001b[0m \u001b[0;34m**\u001b[0m\u001b[0mkwds\u001b[0m\u001b[0;34m)\u001b[0m\u001b[0;34m\u001b[0m\u001b[0;34m\u001b[0m\u001b[0m\n\u001b[0m\u001b[1;32m   1360\u001b[0m \u001b[0;34m\u001b[0m\u001b[0m\n\u001b[1;32m   1361\u001b[0m     \u001b[0;31m# enforce a threading backend to prevent data communication overhead\u001b[0m\u001b[0;34m\u001b[0m\u001b[0;34m\u001b[0m\u001b[0;34m\u001b[0m\u001b[0m\n",
      "\u001b[0;32m~/opt/anaconda3/envs/learn-env/lib/python3.8/site-packages/sklearn/utils/validation.py\u001b[0m in \u001b[0;36minner_f\u001b[0;34m(*args, **kwargs)\u001b[0m\n\u001b[1;32m     61\u001b[0m             \u001b[0mextra_args\u001b[0m \u001b[0;34m=\u001b[0m \u001b[0mlen\u001b[0m\u001b[0;34m(\u001b[0m\u001b[0margs\u001b[0m\u001b[0;34m)\u001b[0m \u001b[0;34m-\u001b[0m \u001b[0mlen\u001b[0m\u001b[0;34m(\u001b[0m\u001b[0mall_args\u001b[0m\u001b[0;34m)\u001b[0m\u001b[0;34m\u001b[0m\u001b[0;34m\u001b[0m\u001b[0m\n\u001b[1;32m     62\u001b[0m             \u001b[0;32mif\u001b[0m \u001b[0mextra_args\u001b[0m \u001b[0;34m<=\u001b[0m \u001b[0;36m0\u001b[0m\u001b[0;34m:\u001b[0m\u001b[0;34m\u001b[0m\u001b[0;34m\u001b[0m\u001b[0m\n\u001b[0;32m---> 63\u001b[0;31m                 \u001b[0;32mreturn\u001b[0m \u001b[0mf\u001b[0m\u001b[0;34m(\u001b[0m\u001b[0;34m*\u001b[0m\u001b[0margs\u001b[0m\u001b[0;34m,\u001b[0m \u001b[0;34m**\u001b[0m\u001b[0mkwargs\u001b[0m\u001b[0;34m)\u001b[0m\u001b[0;34m\u001b[0m\u001b[0;34m\u001b[0m\u001b[0m\n\u001b[0m\u001b[1;32m     64\u001b[0m \u001b[0;34m\u001b[0m\u001b[0m\n\u001b[1;32m     65\u001b[0m             \u001b[0;31m# extra_args > 0\u001b[0m\u001b[0;34m\u001b[0m\u001b[0;34m\u001b[0m\u001b[0;34m\u001b[0m\u001b[0m\n",
      "\u001b[0;32m~/opt/anaconda3/envs/learn-env/lib/python3.8/site-packages/sklearn/metrics/pairwise.py\u001b[0m in \u001b[0;36mnan_euclidean_distances\u001b[0;34m(X, Y, squared, missing_values, copy)\u001b[0m\n\u001b[1;32m    427\u001b[0m     \u001b[0mpresent_X\u001b[0m \u001b[0;34m=\u001b[0m \u001b[0;36m1\u001b[0m \u001b[0;34m-\u001b[0m \u001b[0mmissing_X\u001b[0m\u001b[0;34m\u001b[0m\u001b[0;34m\u001b[0m\u001b[0m\n\u001b[1;32m    428\u001b[0m     \u001b[0mpresent_Y\u001b[0m \u001b[0;34m=\u001b[0m \u001b[0mpresent_X\u001b[0m \u001b[0;32mif\u001b[0m \u001b[0mY\u001b[0m \u001b[0;32mis\u001b[0m \u001b[0mX\u001b[0m \u001b[0;32melse\u001b[0m \u001b[0;34m~\u001b[0m\u001b[0mmissing_Y\u001b[0m\u001b[0;34m\u001b[0m\u001b[0;34m\u001b[0m\u001b[0m\n\u001b[0;32m--> 429\u001b[0;31m     \u001b[0mpresent_count\u001b[0m \u001b[0;34m=\u001b[0m \u001b[0mnp\u001b[0m\u001b[0;34m.\u001b[0m\u001b[0mdot\u001b[0m\u001b[0;34m(\u001b[0m\u001b[0mpresent_X\u001b[0m\u001b[0;34m,\u001b[0m \u001b[0mpresent_Y\u001b[0m\u001b[0;34m.\u001b[0m\u001b[0mT\u001b[0m\u001b[0;34m)\u001b[0m\u001b[0;34m\u001b[0m\u001b[0;34m\u001b[0m\u001b[0m\n\u001b[0m\u001b[1;32m    430\u001b[0m     \u001b[0mdistances\u001b[0m\u001b[0;34m[\u001b[0m\u001b[0mpresent_count\u001b[0m \u001b[0;34m==\u001b[0m \u001b[0;36m0\u001b[0m\u001b[0;34m]\u001b[0m \u001b[0;34m=\u001b[0m \u001b[0mnp\u001b[0m\u001b[0;34m.\u001b[0m\u001b[0mnan\u001b[0m\u001b[0;34m\u001b[0m\u001b[0;34m\u001b[0m\u001b[0m\n\u001b[1;32m    431\u001b[0m     \u001b[0;31m# avoid divide by zero\u001b[0m\u001b[0;34m\u001b[0m\u001b[0;34m\u001b[0m\u001b[0;34m\u001b[0m\u001b[0m\n",
      "\u001b[0;32m<__array_function__ internals>\u001b[0m in \u001b[0;36mdot\u001b[0;34m(*args, **kwargs)\u001b[0m\n",
      "\u001b[0;31mKeyboardInterrupt\u001b[0m: "
     ]
    }
   ],
   "source": [
    "knn_impute = KNNImputer(n_neighbors=3)\n",
    "X_train_knn = knn_impute.fit_transform(X_train_nums)"
>>>>>>> fd2a1972e96d6fd633cdb95cae47776047b2f306:Meaghan_wn.ipynb
   ]
  },
  {
   "cell_type": "code",
   "execution_count": null,
   "metadata": {},
   "outputs": [],
   "source": [
    "X_train_knn"
   ]
  }
 ],
 "metadata": {
  "kernelspec": {
   "display_name": "Python (learn-env)",
   "language": "python",
   "name": "learn-env"
  },
  "language_info": {
   "codemirror_mode": {
    "name": "ipython",
    "version": 3
   },
   "file_extension": ".py",
   "mimetype": "text/x-python",
   "name": "python",
   "nbconvert_exporter": "python",
   "pygments_lexer": "ipython3",
   "version": "3.8.5"
  }
 },
 "nbformat": 4,
 "nbformat_minor": 4
}
