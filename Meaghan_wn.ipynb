{
 "cells": [
  {
   "cell_type": "markdown",
   "metadata": {},
   "source": [
    "# Working Notebook"
   ]
  },
  {
   "cell_type": "markdown",
   "metadata": {},
   "source": [
    "__Phase 3 Project - Chicago Traffic Crash Classification__"
   ]
  },
  {
   "cell_type": "markdown",
   "metadata": {},
   "source": [
    "### Business Understanding"
   ]
  },
  {
   "cell_type": "markdown",
   "metadata": {},
   "source": []
  },
  {
   "cell_type": "markdown",
   "metadata": {},
   "source": [
    "### Data Understanding and Preparation"
   ]
  },
  {
   "cell_type": "markdown",
   "metadata": {},
   "source": [
    "Load dependencies"
   ]
  },
  {
   "cell_type": "code",
   "execution_count": 1,
   "metadata": {},
   "outputs": [],
   "source": [
    "import pandas as pd\n",
    "import numpy as np\n",
    "import seaborn as sns\n",
    "from scipy import stats as stats\n",
    "import matplotlib.pyplot as plt\n",
    "%matplotlib inline\n",
    "\n",
    "from sklearn.preprocessing import OneHotEncoder, StandardScaler\n",
    "from sklearn.impute import SimpleImputer\n",
    "from sklearn.pipeline import Pipeline\n",
    "from sklearn.compose import ColumnTransformer\n",
    "\n",
    "from sklearn.dummy import DummyClassifier\n",
    "from sklearn.linear_model import LogisticRegression\n",
    "from sklearn.neighbors import KNeighborsClassifier\n",
    "from sklearn.tree import DecisionTreeClassifier\n",
    "\n",
    "from sklearn.ensemble import RandomForestClassifier\n",
    "\n",
    "from sklearn.metrics import accuracy_score, precision_score, recall_score, confusion_matrix\n",
    "from sklearn.model_selection import train_test_split, GridSearchCV,\\\n",
    "cross_val_score, RandomizedSearchCV\n"
   ]
  },
  {
   "cell_type": "markdown",
   "metadata": {},
   "source": [
    "Import data files"
   ]
  },
  {
   "cell_type": "code",
   "execution_count": 2,
   "metadata": {},
   "outputs": [],
   "source": [
    "crashes = pd.read_csv('Chicago-Crashes/data/Traffic_Crashes_-_Crashes.csv', low_memory=False)\n",
    "people = pd.read_csv('Chicago-Crashes/data/Traffic_Crashes_-_People.csv', low_memory=False)\n",
    "vehicles = pd.read_csv('Chicago-Crashes/data/Traffic_Crashes_-_Vehicles.csv', low_memory=False)"
   ]
  },
  {
   "cell_type": "code",
   "execution_count": 3,
   "metadata": {},
   "outputs": [
    {
     "name": "stdout",
     "output_type": "stream",
     "text": [
      "<class 'pandas.core.frame.DataFrame'>\n",
      "RangeIndex: 541142 entries, 0 to 541141\n",
      "Data columns (total 49 columns):\n",
      " #   Column                         Non-Null Count   Dtype  \n",
      "---  ------                         --------------   -----  \n",
      " 0   CRASH_RECORD_ID                541142 non-null  object \n",
      " 1   RD_NO                          536550 non-null  object \n",
      " 2   CRASH_DATE_EST_I               41029 non-null   object \n",
      " 3   CRASH_DATE                     541142 non-null  object \n",
      " 4   POSTED_SPEED_LIMIT             541142 non-null  int64  \n",
      " 5   TRAFFIC_CONTROL_DEVICE         541142 non-null  object \n",
      " 6   DEVICE_CONDITION               541142 non-null  object \n",
      " 7   WEATHER_CONDITION              541142 non-null  object \n",
      " 8   LIGHTING_CONDITION             541142 non-null  object \n",
      " 9   FIRST_CRASH_TYPE               541142 non-null  object \n",
      " 10  TRAFFICWAY_TYPE                541142 non-null  object \n",
      " 11  LANE_CNT                       198968 non-null  float64\n",
      " 12  ALIGNMENT                      541142 non-null  object \n",
      " 13  ROADWAY_SURFACE_COND           541142 non-null  object \n",
      " 14  ROAD_DEFECT                    541142 non-null  object \n",
      " 15  REPORT_TYPE                    527615 non-null  object \n",
      " 16  CRASH_TYPE                     541142 non-null  object \n",
      " 17  INTERSECTION_RELATED_I         122702 non-null  object \n",
      " 18  NOT_RIGHT_OF_WAY_I             25602 non-null   object \n",
      " 19  HIT_AND_RUN_I                  162942 non-null  object \n",
      " 20  DAMAGE                         541142 non-null  object \n",
      " 21  DATE_POLICE_NOTIFIED           541142 non-null  object \n",
      " 22  PRIM_CONTRIBUTORY_CAUSE        541142 non-null  object \n",
      " 23  SEC_CONTRIBUTORY_CAUSE         541142 non-null  object \n",
      " 24  STREET_NO                      541142 non-null  int64  \n",
      " 25  STREET_DIRECTION               541139 non-null  object \n",
      " 26  STREET_NAME                    541141 non-null  object \n",
      " 27  BEAT_OF_OCCURRENCE             541137 non-null  float64\n",
      " 28  PHOTOS_TAKEN_I                 6746 non-null    object \n",
      " 29  STATEMENTS_TAKEN_I             11007 non-null   object \n",
      " 30  DOORING_I                      1746 non-null    object \n",
      " 31  WORK_ZONE_I                    3412 non-null    object \n",
      " 32  WORK_ZONE_TYPE                 2696 non-null    object \n",
      " 33  WORKERS_PRESENT_I              843 non-null     object \n",
      " 34  NUM_UNITS                      541133 non-null  float64\n",
      " 35  MOST_SEVERE_INJURY             540019 non-null  object \n",
      " 36  INJURIES_TOTAL                 540030 non-null  float64\n",
      " 37  INJURIES_FATAL                 540030 non-null  float64\n",
      " 38  INJURIES_INCAPACITATING        540030 non-null  float64\n",
      " 39  INJURIES_NON_INCAPACITATING    540030 non-null  float64\n",
      " 40  INJURIES_REPORTED_NOT_EVIDENT  540030 non-null  float64\n",
      " 41  INJURIES_NO_INDICATION         540030 non-null  float64\n",
      " 42  INJURIES_UNKNOWN               540030 non-null  float64\n",
      " 43  CRASH_HOUR                     541142 non-null  int64  \n",
      " 44  CRASH_DAY_OF_WEEK              541142 non-null  int64  \n",
      " 45  CRASH_MONTH                    541142 non-null  int64  \n",
      " 46  LATITUDE                       538026 non-null  float64\n",
      " 47  LONGITUDE                      538026 non-null  float64\n",
      " 48  LOCATION                       538026 non-null  object \n",
      "dtypes: float64(12), int64(5), object(32)\n",
      "memory usage: 202.3+ MB\n"
     ]
    }
   ],
   "source": [
    "crashes.info()"
   ]
  },
  {
   "cell_type": "code",
   "execution_count": 4,
   "metadata": {},
   "outputs": [
    {
     "name": "stdout",
     "output_type": "stream",
     "text": [
      "<class 'pandas.core.frame.DataFrame'>\n",
      "RangeIndex: 1195747 entries, 0 to 1195746\n",
      "Data columns (total 30 columns):\n",
      " #   Column                 Non-Null Count    Dtype  \n",
      "---  ------                 --------------    -----  \n",
      " 0   PERSON_ID              1195747 non-null  object \n",
      " 1   PERSON_TYPE            1195747 non-null  object \n",
      " 2   CRASH_RECORD_ID        1195747 non-null  object \n",
      " 3   RD_NO                  1185613 non-null  object \n",
      " 4   VEHICLE_ID             1172146 non-null  float64\n",
      " 5   CRASH_DATE             1195747 non-null  object \n",
      " 6   SEAT_NO                244512 non-null   float64\n",
      " 7   CITY                   879728 non-null   object \n",
      " 8   STATE                  890189 non-null   object \n",
      " 9   ZIPCODE                803192 non-null   object \n",
      " 10  SEX                    1177665 non-null  object \n",
      " 11  AGE                    852450 non-null   float64\n",
      " 12  DRIVERS_LICENSE_STATE  705542 non-null   object \n",
      " 13  DRIVERS_LICENSE_CLASS  608027 non-null   object \n",
      " 14  SAFETY_EQUIPMENT       1192258 non-null  object \n",
      " 15  AIRBAG_DEPLOYED        1173141 non-null  object \n",
      " 16  EJECTION               1181206 non-null  object \n",
      " 17  INJURY_CLASSIFICATION  1195154 non-null  object \n",
      " 18  HOSPITAL               215168 non-null   object \n",
      " 19  EMS_AGENCY             136061 non-null   object \n",
      " 20  EMS_RUN_NO             22281 non-null    object \n",
      " 21  DRIVER_ACTION          948962 non-null   object \n",
      " 22  DRIVER_VISION          948631 non-null   object \n",
      " 23  PHYSICAL_CONDITION     949646 non-null   object \n",
      " 24  PEDPEDAL_ACTION        22222 non-null    object \n",
      " 25  PEDPEDAL_VISIBILITY    22174 non-null    object \n",
      " 26  PEDPEDAL_LOCATION      22221 non-null    object \n",
      " 27  BAC_RESULT             950056 non-null   object \n",
      " 28  BAC_RESULT VALUE       1513 non-null     float64\n",
      " 29  CELL_PHONE_USE         1157 non-null     object \n",
      "dtypes: float64(4), object(26)\n",
      "memory usage: 273.7+ MB\n"
     ]
    }
   ],
   "source": [
    "people.info()"
   ]
  },
  {
   "cell_type": "markdown",
   "metadata": {},
   "source": [
    "Remove columns with 80% or more of null values."
   ]
  },
  {
   "cell_type": "code",
   "execution_count": 5,
   "metadata": {},
   "outputs": [],
   "source": [
    "df_list=[crashes, people, vehicles]\n",
    "for df in df_list:\n",
    "    min_count =  int((20/100)*df.shape[0] + 1)\n",
    "    df = df.dropna(axis=1, thresh=min_count, inplace=True)\n",
    "    "
   ]
  },
  {
   "cell_type": "code",
   "execution_count": 6,
   "metadata": {},
   "outputs": [
    {
     "name": "stdout",
     "output_type": "stream",
     "text": [
      "<class 'pandas.core.frame.DataFrame'>\n",
      "RangeIndex: 1107267 entries, 0 to 1107266\n",
      "Data columns (total 19 columns):\n",
      " #   Column               Non-Null Count    Dtype  \n",
      "---  ------               --------------    -----  \n",
      " 0   CRASH_UNIT_ID        1107267 non-null  int64  \n",
      " 1   CRASH_RECORD_ID      1107267 non-null  object \n",
      " 2   RD_NO                1097786 non-null  object \n",
      " 3   CRASH_DATE           1107267 non-null  object \n",
      " 4   UNIT_NO              1107267 non-null  int64  \n",
      " 5   UNIT_TYPE            1105670 non-null  object \n",
      " 6   VEHICLE_ID           1081934 non-null  float64\n",
      " 7   MAKE                 1081929 non-null  object \n",
      " 8   MODEL                1081786 non-null  object \n",
      " 9   LIC_PLATE_STATE      987487 non-null   object \n",
      " 10  VEHICLE_YEAR         905696 non-null   float64\n",
      " 11  VEHICLE_DEFECT       1081934 non-null  object \n",
      " 12  VEHICLE_TYPE         1081934 non-null  object \n",
      " 13  VEHICLE_USE          1081934 non-null  object \n",
      " 14  TRAVEL_DIRECTION     1081934 non-null  object \n",
      " 15  MANEUVER             1081934 non-null  object \n",
      " 16  OCCUPANT_CNT         1081934 non-null  float64\n",
      " 17  AREA_01_I            288768 non-null   object \n",
      " 18  FIRST_CONTACT_POINT  1073691 non-null  object \n",
      "dtypes: float64(3), int64(2), object(14)\n",
      "memory usage: 160.5+ MB\n"
     ]
    }
   ],
   "source": [
    "vehicles.info()"
   ]
  },
  {
   "cell_type": "markdown",
   "metadata": {},
   "source": [
    "Drop columns that will not be used"
   ]
  },
  {
   "cell_type": "code",
   "execution_count": 7,
   "metadata": {},
   "outputs": [
    {
     "name": "stdout",
     "output_type": "stream",
     "text": [
      "<class 'pandas.core.frame.DataFrame'>\n",
      "RangeIndex: 1107267 entries, 0 to 1107266\n",
      "Data columns (total 19 columns):\n",
      " #   Column               Non-Null Count    Dtype  \n",
      "---  ------               --------------    -----  \n",
      " 0   CRASH_UNIT_ID        1107267 non-null  int64  \n",
      " 1   CRASH_RECORD_ID      1107267 non-null  object \n",
      " 2   RD_NO                1097786 non-null  object \n",
      " 3   CRASH_DATE           1107267 non-null  object \n",
      " 4   UNIT_NO              1107267 non-null  int64  \n",
      " 5   UNIT_TYPE            1105670 non-null  object \n",
      " 6   VEHICLE_ID           1081934 non-null  float64\n",
      " 7   MAKE                 1081929 non-null  object \n",
      " 8   MODEL                1081786 non-null  object \n",
      " 9   LIC_PLATE_STATE      987487 non-null   object \n",
      " 10  VEHICLE_YEAR         905696 non-null   float64\n",
      " 11  VEHICLE_DEFECT       1081934 non-null  object \n",
      " 12  VEHICLE_TYPE         1081934 non-null  object \n",
      " 13  VEHICLE_USE          1081934 non-null  object \n",
      " 14  TRAVEL_DIRECTION     1081934 non-null  object \n",
      " 15  MANEUVER             1081934 non-null  object \n",
      " 16  OCCUPANT_CNT         1081934 non-null  float64\n",
      " 17  AREA_01_I            288768 non-null   object \n",
      " 18  FIRST_CONTACT_POINT  1073691 non-null  object \n",
      "dtypes: float64(3), int64(2), object(14)\n",
      "memory usage: 160.5+ MB\n"
     ]
    }
   ],
   "source": [
    "vehicles.info()"
   ]
  },
  {
   "cell_type": "code",
   "execution_count": 8,
   "metadata": {},
   "outputs": [
    {
     "name": "stdout",
     "output_type": "stream",
     "text": [
      "<class 'pandas.core.frame.DataFrame'>\n",
      "RangeIndex: 541142 entries, 0 to 541141\n",
      "Data columns (total 41 columns):\n",
      " #   Column                         Non-Null Count   Dtype  \n",
      "---  ------                         --------------   -----  \n",
      " 0   CRASH_RECORD_ID                541142 non-null  object \n",
      " 1   RD_NO                          536550 non-null  object \n",
      " 2   CRASH_DATE                     541142 non-null  object \n",
      " 3   POSTED_SPEED_LIMIT             541142 non-null  int64  \n",
      " 4   TRAFFIC_CONTROL_DEVICE         541142 non-null  object \n",
      " 5   DEVICE_CONDITION               541142 non-null  object \n",
      " 6   WEATHER_CONDITION              541142 non-null  object \n",
      " 7   LIGHTING_CONDITION             541142 non-null  object \n",
      " 8   FIRST_CRASH_TYPE               541142 non-null  object \n",
      " 9   TRAFFICWAY_TYPE                541142 non-null  object \n",
      " 10  LANE_CNT                       198968 non-null  float64\n",
      " 11  ALIGNMENT                      541142 non-null  object \n",
      " 12  ROADWAY_SURFACE_COND           541142 non-null  object \n",
      " 13  ROAD_DEFECT                    541142 non-null  object \n",
      " 14  REPORT_TYPE                    527615 non-null  object \n",
      " 15  CRASH_TYPE                     541142 non-null  object \n",
      " 16  INTERSECTION_RELATED_I         122702 non-null  object \n",
      " 17  HIT_AND_RUN_I                  162942 non-null  object \n",
      " 18  DAMAGE                         541142 non-null  object \n",
      " 19  DATE_POLICE_NOTIFIED           541142 non-null  object \n",
      " 20  PRIM_CONTRIBUTORY_CAUSE        541142 non-null  object \n",
      " 21  SEC_CONTRIBUTORY_CAUSE         541142 non-null  object \n",
      " 22  STREET_NO                      541142 non-null  int64  \n",
      " 23  STREET_DIRECTION               541139 non-null  object \n",
      " 24  STREET_NAME                    541141 non-null  object \n",
      " 25  BEAT_OF_OCCURRENCE             541137 non-null  float64\n",
      " 26  NUM_UNITS                      541133 non-null  float64\n",
      " 27  MOST_SEVERE_INJURY             540019 non-null  object \n",
      " 28  INJURIES_TOTAL                 540030 non-null  float64\n",
      " 29  INJURIES_FATAL                 540030 non-null  float64\n",
      " 30  INJURIES_INCAPACITATING        540030 non-null  float64\n",
      " 31  INJURIES_NON_INCAPACITATING    540030 non-null  float64\n",
      " 32  INJURIES_REPORTED_NOT_EVIDENT  540030 non-null  float64\n",
      " 33  INJURIES_NO_INDICATION         540030 non-null  float64\n",
      " 34  INJURIES_UNKNOWN               540030 non-null  float64\n",
      " 35  CRASH_HOUR                     541142 non-null  int64  \n",
      " 36  CRASH_DAY_OF_WEEK              541142 non-null  int64  \n",
      " 37  CRASH_MONTH                    541142 non-null  int64  \n",
      " 38  LATITUDE                       538026 non-null  float64\n",
      " 39  LONGITUDE                      538026 non-null  float64\n",
      " 40  LOCATION                       538026 non-null  object \n",
      "dtypes: float64(12), int64(5), object(24)\n",
      "memory usage: 169.3+ MB\n"
     ]
    }
   ],
   "source": [
    "crashes.info()"
   ]
  },
  {
   "cell_type": "code",
   "execution_count": 9,
   "metadata": {},
   "outputs": [],
   "source": [
    "crashes_mod = crashes.drop(['CRASH_DATE','RD_NO','REPORT_TYPE', 'DATE_POLICE_NOTIFIED', 'STREET_NO', \n",
    "              'STREET_DIRECTION', 'STREET_NAME', 'MOST_SEVERE_INJURY', 'INJURIES_TOTAL', 'INJURIES_FATAL',\n",
    "             'INJURIES_INCAPACITATING', 'INJURIES_NON_INCAPACITATING', 'INJURIES_REPORTED_NOT_EVIDENT', \n",
    "             'INJURIES_NO_INDICATION', 'INJURIES_UNKNOWN'], axis =1)"
   ]
  },
  {
   "cell_type": "code",
   "execution_count": 10,
   "metadata": {},
   "outputs": [],
   "source": [
    "people_mod = people.drop(['CITY', 'ZIPCODE','RD_NO'], axis =1)"
   ]
  },
  {
   "cell_type": "code",
   "execution_count": 13,
   "metadata": {},
   "outputs": [],
   "source": [
    "vehicles_mod = vehicles.drop(['RD_NO', 'CRASH_DATE', 'UNIT_NO', 'AREA_01_I'], axis =1)"
   ]
  },
  {
   "cell_type": "code",
   "execution_count": 14,
   "metadata": {},
   "outputs": [
    {
     "data": {
      "text/plain": [
       "(1195747, 19)"
      ]
     },
     "execution_count": 14,
     "metadata": {},
     "output_type": "execute_result"
    }
   ],
   "source": [
    "people_mod.shape"
   ]
  },
  {
   "cell_type": "code",
   "execution_count": 15,
   "metadata": {},
   "outputs": [
    {
     "data": {
      "text/plain": [
       "(1107267, 15)"
      ]
     },
     "execution_count": 15,
     "metadata": {},
     "output_type": "execute_result"
    }
   ],
   "source": [
    "vehicles_mod.shape"
   ]
  },
  {
   "cell_type": "code",
   "execution_count": 16,
   "metadata": {},
   "outputs": [
    {
     "data": {
      "text/plain": [
       "(541142, 26)"
      ]
     },
     "execution_count": 16,
     "metadata": {},
     "output_type": "execute_result"
    }
   ],
   "source": [
    "crashes_mod.shape"
   ]
  },
  {
   "cell_type": "markdown",
   "metadata": {},
   "source": [
    "## First Simple Model"
   ]
  },
  {
   "cell_type": "code",
   "execution_count": 13,
   "metadata": {},
   "outputs": [
    {
     "name": "stdout",
     "output_type": "stream",
     "text": [
      "<class 'pandas.core.frame.DataFrame'>\n",
      "RangeIndex: 541142 entries, 0 to 541141\n",
      "Data columns (total 35 columns):\n",
      " #   Column                         Non-Null Count   Dtype  \n",
      "---  ------                         --------------   -----  \n",
      " 0   CRASH_RECORD_ID                541142 non-null  object \n",
      " 1   CRASH_DATE                     541142 non-null  object \n",
      " 2   POSTED_SPEED_LIMIT             541142 non-null  int64  \n",
      " 3   TRAFFIC_CONTROL_DEVICE         541142 non-null  object \n",
      " 4   DEVICE_CONDITION               541142 non-null  object \n",
      " 5   WEATHER_CONDITION              541142 non-null  object \n",
      " 6   LIGHTING_CONDITION             541142 non-null  object \n",
      " 7   FIRST_CRASH_TYPE               541142 non-null  object \n",
      " 8   TRAFFICWAY_TYPE                541142 non-null  object \n",
      " 9   LANE_CNT                       198968 non-null  float64\n",
      " 10  ALIGNMENT                      541142 non-null  object \n",
      " 11  ROADWAY_SURFACE_COND           541142 non-null  object \n",
      " 12  ROAD_DEFECT                    541142 non-null  object \n",
      " 13  CRASH_TYPE                     541142 non-null  object \n",
      " 14  INTERSECTION_RELATED_I         122702 non-null  object \n",
      " 15  HIT_AND_RUN_I                  162942 non-null  object \n",
      " 16  DAMAGE                         541142 non-null  object \n",
      " 17  PRIM_CONTRIBUTORY_CAUSE        541142 non-null  object \n",
      " 18  SEC_CONTRIBUTORY_CAUSE         541142 non-null  object \n",
      " 19  BEAT_OF_OCCURRENCE             541137 non-null  float64\n",
      " 20  NUM_UNITS                      541133 non-null  float64\n",
      " 21  MOST_SEVERE_INJURY             540019 non-null  object \n",
      " 22  INJURIES_TOTAL                 540030 non-null  float64\n",
      " 23  INJURIES_FATAL                 540030 non-null  float64\n",
      " 24  INJURIES_INCAPACITATING        540030 non-null  float64\n",
      " 25  INJURIES_NON_INCAPACITATING    540030 non-null  float64\n",
      " 26  INJURIES_REPORTED_NOT_EVIDENT  540030 non-null  float64\n",
      " 27  INJURIES_NO_INDICATION         540030 non-null  float64\n",
      " 28  INJURIES_UNKNOWN               540030 non-null  float64\n",
      " 29  CRASH_HOUR                     541142 non-null  int64  \n",
      " 30  CRASH_DAY_OF_WEEK              541142 non-null  int64  \n",
      " 31  CRASH_MONTH                    541142 non-null  int64  \n",
      " 32  LATITUDE                       538026 non-null  float64\n",
      " 33  LONGITUDE                      538026 non-null  float64\n",
      " 34  LOCATION                       538026 non-null  object \n",
      "dtypes: float64(12), int64(4), object(19)\n",
      "memory usage: 144.5+ MB\n"
     ]
    }
   ],
   "source": [
    "crashes.info()"
   ]
  },
  {
   "cell_type": "code",
   "execution_count": 14,
   "metadata": {},
   "outputs": [
    {
     "data": {
      "text/plain": [
       "NO INDICATION OF INJURY     468994\n",
       "NONINCAPACITATING INJURY     39675\n",
       "REPORTED, NOT EVIDENT        21763\n",
       "INCAPACITATING INJURY         9040\n",
       "FATAL                          547\n",
       "Name: MOST_SEVERE_INJURY, dtype: int64"
      ]
     },
     "execution_count": 14,
     "metadata": {},
     "output_type": "execute_result"
    }
   ],
   "source": [
    "crashes.MOST_SEVERE_INJURY.value_counts()"
   ]
  },
  {
   "cell_type": "markdown",
   "metadata": {},
   "source": [
    "Set up target variable:\n",
    " - 0: NO INDICATION OF INJURY, NONINCAPACITATING INJURY, REPORTED, NOT EVIDENT\n",
    " - 1: INCAPACITATING INJURY, FATAL\n",
    " "
   ]
  },
  {
   "cell_type": "code",
   "execution_count": 15,
   "metadata": {},
   "outputs": [],
   "source": [
    "crashes['TARGET']= crashes['MOST_SEVERE_INJURY'].map({'NO INDICATION OF INJURY': 0,\n",
    "                                                      'NONINCAPACITATING INJURY': 0,\n",
    "                                                      'REPORTED, NOT EVIDENT': 0,\n",
    "                                                      'INCAPACITATING INJURY': 1,\n",
    "                                                      'FATAL': 1})"
   ]
  },
  {
   "cell_type": "code",
   "execution_count": 16,
   "metadata": {},
   "outputs": [],
   "source": [
    "crashes.TARGET.fillna(0, inplace=True)"
   ]
  },
  {
   "cell_type": "code",
   "execution_count": 17,
   "metadata": {},
   "outputs": [
    {
     "data": {
      "text/plain": [
       "0.0    531555\n",
       "1.0      9587\n",
       "Name: TARGET, dtype: int64"
      ]
     },
     "execution_count": 17,
     "metadata": {},
     "output_type": "execute_result"
    }
   ],
   "source": [
    "crashes.TARGET.value_counts()"
   ]
  },
  {
   "cell_type": "code",
   "execution_count": 18,
   "metadata": {},
   "outputs": [],
   "source": [
    "from sklearn.model_selection import train_test_split\n",
    "X = crashes.drop(['MOST_SEVERE_INJURY','INJURIES_TOTAL', 'INJURIES_FATAL','INJURIES_INCAPACITATING',\n",
    "                      'INJURIES_NON_INCAPACITATING', 'INJURIES_REPORTED_NOT_EVIDENT',\n",
    "                      'INJURIES_NO_INDICATION', 'TARGET', 'CRASH_RECORD_ID', 'CRASH_DATE', 'LATITUDE', \n",
    "                      'LONGITUDE','LOCATION'], axis=1)\n",
    "y = crashes['TARGET']\n",
    "X_train, X_test, y_train, y_test = train_test_split(X, y, random_state=42)"
   ]
  },
  {
   "cell_type": "code",
   "execution_count": 19,
   "metadata": {},
   "outputs": [],
   "source": [
    "X_train_nums = X_train.select_dtypes(include=['float64', 'int64'])\n",
    "X_train_cat = X_train.select_dtypes('object')"
   ]
  },
  {
   "cell_type": "code",
   "execution_count": 20,
   "metadata": {},
   "outputs": [],
   "source": [
    "numerical_pipeline = Pipeline(steps=[\n",
    "    ('imputer', SimpleImputer(strategy=\"median\")),\n",
    "    ('ss', StandardScaler())\n",
    "])\n",
    "                \n",
    "categorical_pipeline = Pipeline(steps=[\n",
    "    ('ohe', OneHotEncoder(drop='first',\n",
    "                         sparse=False))\n",
    "])\n",
    "\n",
    "trans = ColumnTransformer(transformers=[\n",
    "    ('numerical', numerical_pipeline, X_train_nums.columns),\n",
    "    ('categorical', categorical_pipeline, X_train_cat.columns)\n",
    "])"
   ]
  },
  {
   "cell_type": "code",
   "execution_count": 21,
   "metadata": {},
   "outputs": [],
   "source": [
    "model_pipe = Pipeline(steps=[\n",
    "    ('trans', trans),\n",
    "    ('dc', DummyClassifier(strategy='most_frequent'))\n",
    "])"
   ]
  },
  {
   "cell_type": "code",
   "execution_count": 22,
   "metadata": {},
   "outputs": [
    {
     "data": {
      "text/plain": [
       "Pipeline(steps=[('trans',\n",
       "                 ColumnTransformer(transformers=[('numerical',\n",
       "                                                  Pipeline(steps=[('imputer',\n",
       "                                                                   SimpleImputer(strategy='median')),\n",
       "                                                                  ('ss',\n",
       "                                                                   StandardScaler())]),\n",
       "                                                  Index(['POSTED_SPEED_LIMIT', 'LANE_CNT', 'BEAT_OF_OCCURRENCE', 'NUM_UNITS',\n",
       "       'INJURIES_UNKNOWN', 'CRASH_HOUR', 'CRASH_DAY_OF_WEEK', 'CRASH_MONTH'],\n",
       "      dtype='object')),\n",
       "                                                 ('categorical',\n",
       "                                                  Pipeline(steps=[('ohe'...\n",
       "                                                  Index(['TRAFFIC_CONTROL_DEVICE', 'DEVICE_CONDITION', 'WEATHER_CONDITION',\n",
       "       'LIGHTING_CONDITION', 'FIRST_CRASH_TYPE', 'TRAFFICWAY_TYPE',\n",
       "       'ALIGNMENT', 'ROADWAY_SURFACE_COND', 'ROAD_DEFECT', 'CRASH_TYPE',\n",
       "       'INTERSECTION_RELATED_I', 'HIT_AND_RUN_I', 'DAMAGE',\n",
       "       'PRIM_CONTRIBUTORY_CAUSE', 'SEC_CONTRIBUTORY_CAUSE'],\n",
       "      dtype='object'))])),\n",
       "                ('dc', DummyClassifier(strategy='most_frequent'))])"
      ]
     },
     "execution_count": 22,
     "metadata": {},
     "output_type": "execute_result"
    }
   ],
   "source": [
    "model_pipe.fit(X_train, y_train)"
   ]
  },
  {
   "cell_type": "code",
   "execution_count": 23,
   "metadata": {},
   "outputs": [
    {
     "data": {
      "text/plain": [
       "0.9824026255617756"
      ]
     },
     "execution_count": 23,
     "metadata": {},
     "output_type": "execute_result"
    }
   ],
   "source": [
    "model_pipe.score(X_train, y_train)"
   ]
  },
  {
   "cell_type": "code",
   "execution_count": 24,
   "metadata": {},
   "outputs": [
    {
     "data": {
      "text/plain": [
       "0.9819271765001553"
      ]
     },
     "execution_count": 24,
     "metadata": {},
     "output_type": "execute_result"
    }
   ],
   "source": [
    "model_pipe.score(X_test, y_test)"
   ]
  },
  {
   "cell_type": "markdown",
   "metadata": {},
   "source": [
    "### Merging Dataframes"
   ]
  },
  {
   "cell_type": "markdown",
   "metadata": {},
   "source": [
    "From the people data, the target will be the injury classification so that the model will predict the severity of injuries."
   ]
  },
  {
   "cell_type": "code",
   "execution_count": 25,
   "metadata": {},
   "outputs": [
    {
     "data": {
      "text/plain": [
       "NO INDICATION OF INJURY     1096283\n",
       "NONINCAPACITATING INJURY      55296\n",
       "REPORTED, NOT EVIDENT         32092\n",
       "INCAPACITATING INJURY         10827\n",
       "FATAL                           656\n",
       "Name: INJURY_CLASSIFICATION, dtype: int64"
      ]
     },
     "execution_count": 25,
     "metadata": {},
     "output_type": "execute_result"
    }
   ],
   "source": [
    "people_mod.INJURY_CLASSIFICATION.value_counts()"
   ]
  },
  {
   "cell_type": "markdown",
   "metadata": {},
   "source": [
    "To avoid too many repeated rows from crashes_dropped_df, we'll use the `CRASH_RECORD_ID` to only merge in rows from people_dropped_df where `DRIVER_TYPE == DRIVER`, then use the `VEHICLE_ID` to only merge in that driver's vehicle from vehicles_dropped_df.\n",
    "\n",
    "This will allow us to still retain over 75% of the rows from people."
   ]
  },
  {
   "cell_type": "code",
   "execution_count": 26,
   "metadata": {},
   "outputs": [
    {
     "data": {
      "text/plain": [
       "DRIVER                 0.776163\n",
       "PASSENGER              0.204485\n",
       "PEDESTRIAN             0.011393\n",
       "BICYCLE                0.006911\n",
       "NON-MOTOR VEHICLE      0.000866\n",
       "NON-CONTACT VEHICLE    0.000181\n",
       "Name: PERSON_TYPE, dtype: float64"
      ]
     },
     "execution_count": 26,
     "metadata": {},
     "output_type": "execute_result"
    }
   ],
   "source": [
    "people_mod.PERSON_TYPE.value_counts(normalize=True)"
   ]
  },
  {
   "cell_type": "code",
   "execution_count": 18,
   "metadata": {},
   "outputs": [],
   "source": [
    "people_crashes_df = people_mod.merge(crashes_mod, on='CRASH_RECORD_ID', how='left')"
   ]
  },
  {
   "cell_type": "code",
   "execution_count": 20,
   "metadata": {},
   "outputs": [
    {
     "name": "stdout",
     "output_type": "stream",
     "text": [
      "<class 'pandas.core.frame.DataFrame'>\n",
      "Int64Index: 1195747 entries, 0 to 1195746\n",
      "Data columns (total 44 columns):\n",
      " #   Column                   Non-Null Count    Dtype  \n",
      "---  ------                   --------------    -----  \n",
      " 0   PERSON_ID                1195747 non-null  object \n",
      " 1   PERSON_TYPE              1195747 non-null  object \n",
      " 2   CRASH_RECORD_ID          1195747 non-null  object \n",
      " 3   VEHICLE_ID               1172146 non-null  float64\n",
      " 4   CRASH_DATE               1195747 non-null  object \n",
      " 5   SEAT_NO                  244512 non-null   float64\n",
      " 6   STATE                    890189 non-null   object \n",
      " 7   SEX                      1177665 non-null  object \n",
      " 8   AGE                      852450 non-null   float64\n",
      " 9   DRIVERS_LICENSE_STATE    705542 non-null   object \n",
      " 10  DRIVERS_LICENSE_CLASS    608027 non-null   object \n",
      " 11  SAFETY_EQUIPMENT         1192258 non-null  object \n",
      " 12  AIRBAG_DEPLOYED          1173141 non-null  object \n",
      " 13  EJECTION                 1181206 non-null  object \n",
      " 14  INJURY_CLASSIFICATION    1195154 non-null  object \n",
      " 15  DRIVER_ACTION            948962 non-null   object \n",
      " 16  DRIVER_VISION            948631 non-null   object \n",
      " 17  PHYSICAL_CONDITION       949646 non-null   object \n",
      " 18  BAC_RESULT               950056 non-null   object \n",
      " 19  POSTED_SPEED_LIMIT       1195747 non-null  int64  \n",
      " 20  TRAFFIC_CONTROL_DEVICE   1195747 non-null  object \n",
      " 21  DEVICE_CONDITION         1195747 non-null  object \n",
      " 22  WEATHER_CONDITION        1195747 non-null  object \n",
      " 23  LIGHTING_CONDITION       1195747 non-null  object \n",
      " 24  FIRST_CRASH_TYPE         1195747 non-null  object \n",
      " 25  TRAFFICWAY_TYPE          1195747 non-null  object \n",
      " 26  LANE_CNT                 446346 non-null   float64\n",
      " 27  ALIGNMENT                1195747 non-null  object \n",
      " 28  ROADWAY_SURFACE_COND     1195747 non-null  object \n",
      " 29  ROAD_DEFECT              1195747 non-null  object \n",
      " 30  CRASH_TYPE               1195747 non-null  object \n",
      " 31  INTERSECTION_RELATED_I   326381 non-null   object \n",
      " 32  HIT_AND_RUN_I            310957 non-null   object \n",
      " 33  DAMAGE                   1195747 non-null  object \n",
      " 34  PRIM_CONTRIBUTORY_CAUSE  1195747 non-null  object \n",
      " 35  SEC_CONTRIBUTORY_CAUSE   1195747 non-null  object \n",
      " 36  BEAT_OF_OCCURRENCE       1195735 non-null  float64\n",
      " 37  NUM_UNITS                1195747 non-null  float64\n",
      " 38  CRASH_HOUR               1195747 non-null  int64  \n",
      " 39  CRASH_DAY_OF_WEEK        1195747 non-null  int64  \n",
      " 40  CRASH_MONTH              1195747 non-null  int64  \n",
      " 41  LATITUDE                 1188743 non-null  float64\n",
      " 42  LONGITUDE                1188743 non-null  float64\n",
      " 43  LOCATION                 1188743 non-null  object \n",
      "dtypes: float64(8), int64(4), object(32)\n",
      "memory usage: 410.5+ MB\n"
     ]
    }
   ],
   "source": [
    "people_crashes_df.info()"
   ]
  },
  {
   "cell_type": "code",
   "execution_count": 23,
   "metadata": {},
   "outputs": [
    {
     "data": {
      "text/plain": [
       "NO INDICATION OF INJURY     1096283\n",
       "NONINCAPACITATING INJURY      55296\n",
       "REPORTED, NOT EVIDENT         32092\n",
       "INCAPACITATING INJURY         10827\n",
       "FATAL                           656\n",
       "Name: INJURY_CLASSIFICATION, dtype: int64"
      ]
     },
     "execution_count": 23,
     "metadata": {},
     "output_type": "execute_result"
    }
   ],
   "source": [
    "people_crashes_df.INJURY_CLASSIFICATION.value_counts()"
   ]
  },
  {
   "cell_type": "code",
   "execution_count": 27,
   "metadata": {},
   "outputs": [],
   "source": [
    "people_crashes_df['TARGET'] = people_crashes_df['INJURY_CLASSIFICATION'].map({np.nan: 0,\n",
    "                                                      'NO INDICATION OF INJURY': 0,\n",
    "                                                      'NONINCAPACITATING INJURY': 1,\n",
    "                                                      'REPORTED, NOT EVIDENT': 1,\n",
    "                                                      'INCAPACITATING INJURY': 2,\n",
    "                                                      'FATAL': 3})"
   ]
  },
  {
   "cell_type": "code",
   "execution_count": 28,
   "metadata": {},
   "outputs": [
    {
     "data": {
      "text/plain": [
       "0"
      ]
     },
     "execution_count": 28,
     "metadata": {},
     "output_type": "execute_result"
    }
   ],
   "source": [
    "people_crashes_df.TARGET.isna().sum()"
   ]
  },
  {
   "cell_type": "code",
   "execution_count": 31,
   "metadata": {},
   "outputs": [],
   "source": [
    "people_crashes_df['CRASH_YEAR']=pd.to_datetime(people_crashes_df['CRASH_DATE']).dt.year"
   ]
  },
  {
   "cell_type": "code",
   "execution_count": 32,
   "metadata": {},
   "outputs": [
    {
     "data": {
      "text/plain": [
       "2018    265694\n",
       "2019    263972\n",
       "2020    202084\n",
       "2017    185328\n",
       "2021    161704\n",
       "2016     96020\n",
       "2015     20931\n",
       "2014        11\n",
       "2013         3\n",
       "Name: CRASH_YEAR, dtype: int64"
      ]
     },
     "execution_count": 32,
     "metadata": {},
     "output_type": "execute_result"
    }
   ],
   "source": [
    "people_crashes_df['CRASH_YEAR'].value_counts()"
   ]
  },
  {
   "cell_type": "code",
   "execution_count": 29,
   "metadata": {},
   "outputs": [
    {
     "name": "stdout",
     "output_type": "stream",
     "text": [
      "<class 'pandas.core.frame.DataFrame'>\n",
      "Int64Index: 1195747 entries, 0 to 1195746\n",
      "Data columns (total 45 columns):\n",
      " #   Column                   Non-Null Count    Dtype  \n",
      "---  ------                   --------------    -----  \n",
      " 0   PERSON_ID                1195747 non-null  object \n",
      " 1   PERSON_TYPE              1195747 non-null  object \n",
      " 2   CRASH_RECORD_ID          1195747 non-null  object \n",
      " 3   VEHICLE_ID               1172146 non-null  float64\n",
      " 4   CRASH_DATE               1195747 non-null  object \n",
      " 5   SEAT_NO                  1172607 non-null  float64\n",
      " 6   STATE                    890189 non-null   object \n",
      " 7   SEX                      1177665 non-null  object \n",
      " 8   AGE                      852450 non-null   float64\n",
      " 9   DRIVERS_LICENSE_STATE    705542 non-null   object \n",
      " 10  DRIVERS_LICENSE_CLASS    608027 non-null   object \n",
      " 11  SAFETY_EQUIPMENT         1192258 non-null  object \n",
      " 12  AIRBAG_DEPLOYED          1173141 non-null  object \n",
      " 13  EJECTION                 1181206 non-null  object \n",
      " 14  INJURY_CLASSIFICATION    1195154 non-null  object \n",
      " 15  DRIVER_ACTION            948962 non-null   object \n",
      " 16  DRIVER_VISION            948631 non-null   object \n",
      " 17  PHYSICAL_CONDITION       949646 non-null   object \n",
      " 18  BAC_RESULT               950056 non-null   object \n",
      " 19  POSTED_SPEED_LIMIT       1195747 non-null  int64  \n",
      " 20  TRAFFIC_CONTROL_DEVICE   1195747 non-null  object \n",
      " 21  DEVICE_CONDITION         1195747 non-null  object \n",
      " 22  WEATHER_CONDITION        1195747 non-null  object \n",
      " 23  LIGHTING_CONDITION       1195747 non-null  object \n",
      " 24  FIRST_CRASH_TYPE         1195747 non-null  object \n",
      " 25  TRAFFICWAY_TYPE          1195747 non-null  object \n",
      " 26  LANE_CNT                 446346 non-null   float64\n",
      " 27  ALIGNMENT                1195747 non-null  object \n",
      " 28  ROADWAY_SURFACE_COND     1195747 non-null  object \n",
      " 29  ROAD_DEFECT              1195747 non-null  object \n",
      " 30  CRASH_TYPE               1195747 non-null  object \n",
      " 31  INTERSECTION_RELATED_I   326381 non-null   object \n",
      " 32  HIT_AND_RUN_I            310957 non-null   object \n",
      " 33  DAMAGE                   1195747 non-null  object \n",
      " 34  PRIM_CONTRIBUTORY_CAUSE  1195747 non-null  object \n",
      " 35  SEC_CONTRIBUTORY_CAUSE   1195747 non-null  object \n",
      " 36  BEAT_OF_OCCURRENCE       1195735 non-null  float64\n",
      " 37  NUM_UNITS                1195747 non-null  float64\n",
      " 38  CRASH_HOUR               1195747 non-null  int64  \n",
      " 39  CRASH_DAY_OF_WEEK        1195747 non-null  int64  \n",
      " 40  CRASH_MONTH              1195747 non-null  int64  \n",
      " 41  LATITUDE                 1188743 non-null  float64\n",
      " 42  LONGITUDE                1188743 non-null  float64\n",
      " 43  LOCATION                 1188743 non-null  object \n",
      " 44  TARGET                   1195747 non-null  int64  \n",
      "dtypes: float64(8), int64(5), object(32)\n",
      "memory usage: 419.6+ MB\n"
     ]
    }
   ],
   "source": [
    "people_crashes_df.info()"
   ]
  },
  {
   "cell_type": "code",
   "execution_count": 34,
   "metadata": {},
   "outputs": [],
   "source": [
    "from sklearn.model_selection import train_test_split\n",
    "X = people_crashes_df.drop(['PERSON_ID', 'CRASH_RECORD_ID','VEHICLE_ID','CRASH_DATE', 'LATITUDE', \n",
    "                      'LONGITUDE','LOCATION', 'TARGET'], axis=1)\n",
    "y = people_crashes_df['TARGET']\n",
    "X_train, X_test, y_train, y_test = train_test_split(X, y, random_state=42, stratify=y)"
   ]
  },
  {
   "cell_type": "code",
   "execution_count": 37,
   "metadata": {},
   "outputs": [
    {
     "data": {
      "text/html": [
       "<div>\n",
       "<style scoped>\n",
       "    .dataframe tbody tr th:only-of-type {\n",
       "        vertical-align: middle;\n",
       "    }\n",
       "\n",
       "    .dataframe tbody tr th {\n",
       "        vertical-align: top;\n",
       "    }\n",
       "\n",
       "    .dataframe thead th {\n",
       "        text-align: right;\n",
       "    }\n",
       "</style>\n",
       "<table border=\"1\" class=\"dataframe\">\n",
       "  <thead>\n",
       "    <tr style=\"text-align: right;\">\n",
       "      <th></th>\n",
       "      <th>PERSON_TYPE</th>\n",
       "      <th>SEAT_NO</th>\n",
       "      <th>STATE</th>\n",
       "      <th>SEX</th>\n",
       "      <th>AGE</th>\n",
       "      <th>DRIVERS_LICENSE_STATE</th>\n",
       "      <th>DRIVERS_LICENSE_CLASS</th>\n",
       "      <th>SAFETY_EQUIPMENT</th>\n",
       "      <th>AIRBAG_DEPLOYED</th>\n",
       "      <th>EJECTION</th>\n",
       "      <th>...</th>\n",
       "      <th>HIT_AND_RUN_I</th>\n",
       "      <th>DAMAGE</th>\n",
       "      <th>PRIM_CONTRIBUTORY_CAUSE</th>\n",
       "      <th>SEC_CONTRIBUTORY_CAUSE</th>\n",
       "      <th>BEAT_OF_OCCURRENCE</th>\n",
       "      <th>NUM_UNITS</th>\n",
       "      <th>CRASH_HOUR</th>\n",
       "      <th>CRASH_DAY_OF_WEEK</th>\n",
       "      <th>CRASH_MONTH</th>\n",
       "      <th>CRASH_YEAR</th>\n",
       "    </tr>\n",
       "  </thead>\n",
       "  <tbody>\n",
       "    <tr>\n",
       "      <th>635474</th>\n",
       "      <td>DRIVER</td>\n",
       "      <td>1.0</td>\n",
       "      <td>IL</td>\n",
       "      <td>F</td>\n",
       "      <td>34.0</td>\n",
       "      <td>IL</td>\n",
       "      <td>D</td>\n",
       "      <td>SAFETY BELT USED</td>\n",
       "      <td>DID NOT DEPLOY</td>\n",
       "      <td>NONE</td>\n",
       "      <td>...</td>\n",
       "      <td>NaN</td>\n",
       "      <td>OVER $1,500</td>\n",
       "      <td>IMPROPER TURNING/NO SIGNAL</td>\n",
       "      <td>FAILING TO YIELD RIGHT-OF-WAY</td>\n",
       "      <td>1922.0</td>\n",
       "      <td>2.0</td>\n",
       "      <td>11</td>\n",
       "      <td>7</td>\n",
       "      <td>2</td>\n",
       "      <td>2019</td>\n",
       "    </tr>\n",
       "    <tr>\n",
       "      <th>425369</th>\n",
       "      <td>DRIVER</td>\n",
       "      <td>1.0</td>\n",
       "      <td>IL</td>\n",
       "      <td>M</td>\n",
       "      <td>29.0</td>\n",
       "      <td>IL</td>\n",
       "      <td>D</td>\n",
       "      <td>SAFETY BELT USED</td>\n",
       "      <td>DID NOT DEPLOY</td>\n",
       "      <td>NONE</td>\n",
       "      <td>...</td>\n",
       "      <td>NaN</td>\n",
       "      <td>$501 - $1,500</td>\n",
       "      <td>DISREGARDING TRAFFIC SIGNALS</td>\n",
       "      <td>NOT APPLICABLE</td>\n",
       "      <td>1232.0</td>\n",
       "      <td>2.0</td>\n",
       "      <td>2</td>\n",
       "      <td>2</td>\n",
       "      <td>3</td>\n",
       "      <td>2018</td>\n",
       "    </tr>\n",
       "    <tr>\n",
       "      <th>1152397</th>\n",
       "      <td>DRIVER</td>\n",
       "      <td>1.0</td>\n",
       "      <td>NaN</td>\n",
       "      <td>M</td>\n",
       "      <td>39.0</td>\n",
       "      <td>IL</td>\n",
       "      <td>NaN</td>\n",
       "      <td>SAFETY BELT USED</td>\n",
       "      <td>NOT APPLICABLE</td>\n",
       "      <td>NONE</td>\n",
       "      <td>...</td>\n",
       "      <td>NaN</td>\n",
       "      <td>$501 - $1,500</td>\n",
       "      <td>NOT APPLICABLE</td>\n",
       "      <td>NOT APPLICABLE</td>\n",
       "      <td>823.0</td>\n",
       "      <td>2.0</td>\n",
       "      <td>17</td>\n",
       "      <td>3</td>\n",
       "      <td>5</td>\n",
       "      <td>2021</td>\n",
       "    </tr>\n",
       "    <tr>\n",
       "      <th>75101</th>\n",
       "      <td>DRIVER</td>\n",
       "      <td>1.0</td>\n",
       "      <td>IL</td>\n",
       "      <td>M</td>\n",
       "      <td>26.0</td>\n",
       "      <td>WA</td>\n",
       "      <td>9</td>\n",
       "      <td>SAFETY BELT USED</td>\n",
       "      <td>DID NOT DEPLOY</td>\n",
       "      <td>NONE</td>\n",
       "      <td>...</td>\n",
       "      <td>NaN</td>\n",
       "      <td>OVER $1,500</td>\n",
       "      <td>DISREGARDING ROAD MARKINGS</td>\n",
       "      <td>NOT APPLICABLE</td>\n",
       "      <td>1732.0</td>\n",
       "      <td>2.0</td>\n",
       "      <td>23</td>\n",
       "      <td>1</td>\n",
       "      <td>4</td>\n",
       "      <td>2018</td>\n",
       "    </tr>\n",
       "    <tr>\n",
       "      <th>265075</th>\n",
       "      <td>DRIVER</td>\n",
       "      <td>1.0</td>\n",
       "      <td>IL</td>\n",
       "      <td>M</td>\n",
       "      <td>24.0</td>\n",
       "      <td>IL</td>\n",
       "      <td>D</td>\n",
       "      <td>USAGE UNKNOWN</td>\n",
       "      <td>DID NOT DEPLOY</td>\n",
       "      <td>NONE</td>\n",
       "      <td>...</td>\n",
       "      <td>NaN</td>\n",
       "      <td>$501 - $1,500</td>\n",
       "      <td>FAILING TO REDUCE SPEED TO AVOID CRASH</td>\n",
       "      <td>FOLLOWING TOO CLOSELY</td>\n",
       "      <td>831.0</td>\n",
       "      <td>2.0</td>\n",
       "      <td>6</td>\n",
       "      <td>1</td>\n",
       "      <td>6</td>\n",
       "      <td>2017</td>\n",
       "    </tr>\n",
       "  </tbody>\n",
       "</table>\n",
       "<p>5 rows × 38 columns</p>\n",
       "</div>"
      ],
      "text/plain": [
       "        PERSON_TYPE  SEAT_NO STATE SEX   AGE DRIVERS_LICENSE_STATE  \\\n",
       "635474       DRIVER      1.0    IL   F  34.0                    IL   \n",
       "425369       DRIVER      1.0    IL   M  29.0                    IL   \n",
       "1152397      DRIVER      1.0   NaN   M  39.0                    IL   \n",
       "75101        DRIVER      1.0    IL   M  26.0                    WA   \n",
       "265075       DRIVER      1.0    IL   M  24.0                    IL   \n",
       "\n",
       "        DRIVERS_LICENSE_CLASS  SAFETY_EQUIPMENT AIRBAG_DEPLOYED EJECTION  ...  \\\n",
       "635474                      D  SAFETY BELT USED  DID NOT DEPLOY     NONE  ...   \n",
       "425369                      D  SAFETY BELT USED  DID NOT DEPLOY     NONE  ...   \n",
       "1152397                   NaN  SAFETY BELT USED  NOT APPLICABLE     NONE  ...   \n",
       "75101                       9  SAFETY BELT USED  DID NOT DEPLOY     NONE  ...   \n",
       "265075                      D     USAGE UNKNOWN  DID NOT DEPLOY     NONE  ...   \n",
       "\n",
       "        HIT_AND_RUN_I         DAMAGE                 PRIM_CONTRIBUTORY_CAUSE  \\\n",
       "635474            NaN    OVER $1,500              IMPROPER TURNING/NO SIGNAL   \n",
       "425369            NaN  $501 - $1,500            DISREGARDING TRAFFIC SIGNALS   \n",
       "1152397           NaN  $501 - $1,500                          NOT APPLICABLE   \n",
       "75101             NaN    OVER $1,500              DISREGARDING ROAD MARKINGS   \n",
       "265075            NaN  $501 - $1,500  FAILING TO REDUCE SPEED TO AVOID CRASH   \n",
       "\n",
       "                SEC_CONTRIBUTORY_CAUSE BEAT_OF_OCCURRENCE  NUM_UNITS  \\\n",
       "635474   FAILING TO YIELD RIGHT-OF-WAY             1922.0        2.0   \n",
       "425369                  NOT APPLICABLE             1232.0        2.0   \n",
       "1152397                 NOT APPLICABLE              823.0        2.0   \n",
       "75101                   NOT APPLICABLE             1732.0        2.0   \n",
       "265075           FOLLOWING TOO CLOSELY              831.0        2.0   \n",
       "\n",
       "        CRASH_HOUR CRASH_DAY_OF_WEEK CRASH_MONTH CRASH_YEAR  \n",
       "635474          11                 7           2       2019  \n",
       "425369           2                 2           3       2018  \n",
       "1152397         17                 3           5       2021  \n",
       "75101           23                 1           4       2018  \n",
       "265075           6                 1           6       2017  \n",
       "\n",
       "[5 rows x 38 columns]"
      ]
     },
     "execution_count": 37,
     "metadata": {},
     "output_type": "execute_result"
    }
   ],
   "source": [
    "X_train.head()"
   ]
  },
  {
   "cell_type": "code",
   "execution_count": 21,
   "metadata": {},
   "outputs": [
    {
     "name": "stderr",
     "output_type": "stream",
     "text": [
      "<ipython-input-21-7d06bbfe2fec>:1: SettingWithCopyWarning: \n",
      "A value is trying to be set on a copy of a slice from a DataFrame\n",
      "\n",
      "See the caveats in the documentation: https://pandas.pydata.org/pandas-docs/stable/user_guide/indexing.html#returning-a-view-versus-a-copy\n",
      "  people_crashes_df['SEAT_NO'][people_crashes_df.PERSON_TYPE == 'DRIVER'] = 1\n"
     ]
    }
   ],
   "source": [
    "people_crashes_df['SEAT_NO'][people_crashes_df.PERSON_TYPE == 'DRIVER'] = 1"
   ]
  },
  {
   "cell_type": "code",
   "execution_count": 22,
   "metadata": {},
   "outputs": [
    {
     "data": {
      "text/html": [
       "<div>\n",
       "<style scoped>\n",
       "    .dataframe tbody tr th:only-of-type {\n",
       "        vertical-align: middle;\n",
       "    }\n",
       "\n",
       "    .dataframe tbody tr th {\n",
       "        vertical-align: top;\n",
       "    }\n",
       "\n",
       "    .dataframe thead th {\n",
       "        text-align: right;\n",
       "    }\n",
       "</style>\n",
       "<table border=\"1\" class=\"dataframe\">\n",
       "  <thead>\n",
       "    <tr style=\"text-align: right;\">\n",
       "      <th></th>\n",
       "      <th>PERSON_ID</th>\n",
       "      <th>PERSON_TYPE</th>\n",
       "      <th>CRASH_RECORD_ID</th>\n",
       "      <th>VEHICLE_ID</th>\n",
       "      <th>CRASH_DATE</th>\n",
       "      <th>SEAT_NO</th>\n",
       "      <th>STATE</th>\n",
       "      <th>SEX</th>\n",
       "      <th>AGE</th>\n",
       "      <th>DRIVERS_LICENSE_STATE</th>\n",
       "      <th>...</th>\n",
       "      <th>PRIM_CONTRIBUTORY_CAUSE</th>\n",
       "      <th>SEC_CONTRIBUTORY_CAUSE</th>\n",
       "      <th>BEAT_OF_OCCURRENCE</th>\n",
       "      <th>NUM_UNITS</th>\n",
       "      <th>CRASH_HOUR</th>\n",
       "      <th>CRASH_DAY_OF_WEEK</th>\n",
       "      <th>CRASH_MONTH</th>\n",
       "      <th>LATITUDE</th>\n",
       "      <th>LONGITUDE</th>\n",
       "      <th>LOCATION</th>\n",
       "    </tr>\n",
       "  </thead>\n",
       "  <tbody>\n",
       "    <tr>\n",
       "      <th>0</th>\n",
       "      <td>O749947</td>\n",
       "      <td>DRIVER</td>\n",
       "      <td>81dc0de2ed92aa62baccab641fa377be7feb1cc47e6554...</td>\n",
       "      <td>834816.0</td>\n",
       "      <td>09/28/2019 03:30:00 AM</td>\n",
       "      <td>1.0</td>\n",
       "      <td>IL</td>\n",
       "      <td>M</td>\n",
       "      <td>25.0</td>\n",
       "      <td>IL</td>\n",
       "      <td>...</td>\n",
       "      <td>UNABLE TO DETERMINE</td>\n",
       "      <td>NOT APPLICABLE</td>\n",
       "      <td>1531.0</td>\n",
       "      <td>3.0</td>\n",
       "      <td>3</td>\n",
       "      <td>7</td>\n",
       "      <td>9</td>\n",
       "      <td>41.900043</td>\n",
       "      <td>-87.755577</td>\n",
       "      <td>POINT (-87.755576950444 41.900042872883)</td>\n",
       "    </tr>\n",
       "    <tr>\n",
       "      <th>1</th>\n",
       "      <td>O871921</td>\n",
       "      <td>DRIVER</td>\n",
       "      <td>af84fb5c8d996fcd3aefd36593c3a02e6e7509eeb27568...</td>\n",
       "      <td>827212.0</td>\n",
       "      <td>04/13/2020 10:50:00 PM</td>\n",
       "      <td>1.0</td>\n",
       "      <td>IL</td>\n",
       "      <td>M</td>\n",
       "      <td>37.0</td>\n",
       "      <td>IL</td>\n",
       "      <td>...</td>\n",
       "      <td>IMPROPER OVERTAKING/PASSING</td>\n",
       "      <td>FAILING TO REDUCE SPEED TO AVOID CRASH</td>\n",
       "      <td>613.0</td>\n",
       "      <td>2.0</td>\n",
       "      <td>22</td>\n",
       "      <td>2</td>\n",
       "      <td>4</td>\n",
       "      <td>41.736044</td>\n",
       "      <td>-87.653404</td>\n",
       "      <td>POINT (-87.653404241798 41.736044089544)</td>\n",
       "    </tr>\n",
       "    <tr>\n",
       "      <th>2</th>\n",
       "      <td>O10018</td>\n",
       "      <td>DRIVER</td>\n",
       "      <td>71162af7bf22799b776547132ebf134b5b438dcf3dac6b...</td>\n",
       "      <td>9579.0</td>\n",
       "      <td>11/01/2015 05:00:00 AM</td>\n",
       "      <td>1.0</td>\n",
       "      <td>NaN</td>\n",
       "      <td>X</td>\n",
       "      <td>NaN</td>\n",
       "      <td>NaN</td>\n",
       "      <td>...</td>\n",
       "      <td>DRIVING SKILLS/KNOWLEDGE/EXPERIENCE</td>\n",
       "      <td>NOT APPLICABLE</td>\n",
       "      <td>821.0</td>\n",
       "      <td>2.0</td>\n",
       "      <td>5</td>\n",
       "      <td>1</td>\n",
       "      <td>11</td>\n",
       "      <td>41.808173</td>\n",
       "      <td>-87.708484</td>\n",
       "      <td>POINT (-87.708483889951 41.808172614433)</td>\n",
       "    </tr>\n",
       "    <tr>\n",
       "      <th>3</th>\n",
       "      <td>O10038</td>\n",
       "      <td>DRIVER</td>\n",
       "      <td>c21c476e2ccc41af550b5d858d22aaac4ffc88745a1700...</td>\n",
       "      <td>9598.0</td>\n",
       "      <td>11/01/2015 08:00:00 AM</td>\n",
       "      <td>1.0</td>\n",
       "      <td>NaN</td>\n",
       "      <td>X</td>\n",
       "      <td>NaN</td>\n",
       "      <td>NaN</td>\n",
       "      <td>...</td>\n",
       "      <td>UNABLE TO DETERMINE</td>\n",
       "      <td>UNABLE TO DETERMINE</td>\n",
       "      <td>2023.0</td>\n",
       "      <td>2.0</td>\n",
       "      <td>8</td>\n",
       "      <td>1</td>\n",
       "      <td>11</td>\n",
       "      <td>41.981425</td>\n",
       "      <td>-87.659861</td>\n",
       "      <td>POINT (-87.65986141844 41.981425369089)</td>\n",
       "    </tr>\n",
       "    <tr>\n",
       "      <th>4</th>\n",
       "      <td>O10039</td>\n",
       "      <td>DRIVER</td>\n",
       "      <td>eb390a4c8e114c69488f5fb8a097fe629f5a92fd528cf4...</td>\n",
       "      <td>9600.0</td>\n",
       "      <td>11/01/2015 10:15:00 AM</td>\n",
       "      <td>1.0</td>\n",
       "      <td>NaN</td>\n",
       "      <td>X</td>\n",
       "      <td>NaN</td>\n",
       "      <td>NaN</td>\n",
       "      <td>...</td>\n",
       "      <td>UNABLE TO DETERMINE</td>\n",
       "      <td>NOT APPLICABLE</td>\n",
       "      <td>223.0</td>\n",
       "      <td>2.0</td>\n",
       "      <td>10</td>\n",
       "      <td>1</td>\n",
       "      <td>11</td>\n",
       "      <td>41.809489</td>\n",
       "      <td>-87.606417</td>\n",
       "      <td>POINT (-87.606417429394 41.809489246531)</td>\n",
       "    </tr>\n",
       "  </tbody>\n",
       "</table>\n",
       "<p>5 rows × 44 columns</p>\n",
       "</div>"
      ],
      "text/plain": [
       "  PERSON_ID PERSON_TYPE                                    CRASH_RECORD_ID  \\\n",
       "0   O749947      DRIVER  81dc0de2ed92aa62baccab641fa377be7feb1cc47e6554...   \n",
       "1   O871921      DRIVER  af84fb5c8d996fcd3aefd36593c3a02e6e7509eeb27568...   \n",
       "2    O10018      DRIVER  71162af7bf22799b776547132ebf134b5b438dcf3dac6b...   \n",
       "3    O10038      DRIVER  c21c476e2ccc41af550b5d858d22aaac4ffc88745a1700...   \n",
       "4    O10039      DRIVER  eb390a4c8e114c69488f5fb8a097fe629f5a92fd528cf4...   \n",
       "\n",
       "   VEHICLE_ID              CRASH_DATE  SEAT_NO STATE SEX   AGE  \\\n",
       "0    834816.0  09/28/2019 03:30:00 AM      1.0    IL   M  25.0   \n",
       "1    827212.0  04/13/2020 10:50:00 PM      1.0    IL   M  37.0   \n",
       "2      9579.0  11/01/2015 05:00:00 AM      1.0   NaN   X   NaN   \n",
       "3      9598.0  11/01/2015 08:00:00 AM      1.0   NaN   X   NaN   \n",
       "4      9600.0  11/01/2015 10:15:00 AM      1.0   NaN   X   NaN   \n",
       "\n",
       "  DRIVERS_LICENSE_STATE  ...              PRIM_CONTRIBUTORY_CAUSE  \\\n",
       "0                    IL  ...                  UNABLE TO DETERMINE   \n",
       "1                    IL  ...          IMPROPER OVERTAKING/PASSING   \n",
       "2                   NaN  ...  DRIVING SKILLS/KNOWLEDGE/EXPERIENCE   \n",
       "3                   NaN  ...                  UNABLE TO DETERMINE   \n",
       "4                   NaN  ...                  UNABLE TO DETERMINE   \n",
       "\n",
       "                   SEC_CONTRIBUTORY_CAUSE BEAT_OF_OCCURRENCE NUM_UNITS  \\\n",
       "0                          NOT APPLICABLE             1531.0       3.0   \n",
       "1  FAILING TO REDUCE SPEED TO AVOID CRASH              613.0       2.0   \n",
       "2                          NOT APPLICABLE              821.0       2.0   \n",
       "3                     UNABLE TO DETERMINE             2023.0       2.0   \n",
       "4                          NOT APPLICABLE              223.0       2.0   \n",
       "\n",
       "  CRASH_HOUR CRASH_DAY_OF_WEEK CRASH_MONTH   LATITUDE  LONGITUDE  \\\n",
       "0          3                 7           9  41.900043 -87.755577   \n",
       "1         22                 2           4  41.736044 -87.653404   \n",
       "2          5                 1          11  41.808173 -87.708484   \n",
       "3          8                 1          11  41.981425 -87.659861   \n",
       "4         10                 1          11  41.809489 -87.606417   \n",
       "\n",
       "                                   LOCATION  \n",
       "0  POINT (-87.755576950444 41.900042872883)  \n",
       "1  POINT (-87.653404241798 41.736044089544)  \n",
       "2  POINT (-87.708483889951 41.808172614433)  \n",
       "3   POINT (-87.65986141844 41.981425369089)  \n",
       "4  POINT (-87.606417429394 41.809489246531)  \n",
       "\n",
       "[5 rows x 44 columns]"
      ]
     },
     "execution_count": 22,
     "metadata": {},
     "output_type": "execute_result"
    }
   ],
   "source": [
    "people_crashes_df.head()"
   ]
  },
  {
   "cell_type": "code",
   "execution_count": null,
   "metadata": {},
   "outputs": [],
   "source": []
  }
 ],
 "metadata": {
  "kernelspec": {
   "display_name": "Python (learn-env)",
   "language": "python",
   "name": "learn-env"
  },
  "language_info": {
   "codemirror_mode": {
    "name": "ipython",
    "version": 3
   },
   "file_extension": ".py",
   "mimetype": "text/x-python",
   "name": "python",
   "nbconvert_exporter": "python",
   "pygments_lexer": "ipython3",
   "version": "3.8.5"
  }
 },
 "nbformat": 4,
 "nbformat_minor": 4
}
