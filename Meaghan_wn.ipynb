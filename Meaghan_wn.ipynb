{
 "cells": [
  {
   "cell_type": "markdown",
   "metadata": {},
   "source": [
    "# Working Notebook"
   ]
  },
  {
   "cell_type": "markdown",
   "metadata": {},
   "source": [
    "__Phase 3 Project - Chicago Traffic Crash Classification__"
   ]
  },
  {
   "cell_type": "markdown",
   "metadata": {},
   "source": [
    "__Business Understanding__"
   ]
  },
  {
   "cell_type": "markdown",
   "metadata": {},
   "source": []
  },
  {
   "cell_type": "markdown",
   "metadata": {},
   "source": [
    "__Data Understanding and Preparation__"
   ]
  },
  {
   "cell_type": "markdown",
   "metadata": {},
   "source": [
    "Load dependencies"
   ]
  },
  {
   "cell_type": "code",
   "execution_count": 1,
   "metadata": {},
   "outputs": [],
   "source": [
    "import pandas as pd\n",
    "import numpy as np\n",
    "import seaborn as sns\n",
    "from scipy import stats as stats\n",
    "import matplotlib.pyplot as plt\n",
    "%matplotlib inline\n",
    "\n",
    "from sklearn.dummy import DummyClassifier\n",
    "from sklearn.linear_model import LogisticRegression\n",
    "from sklearn.neighbors import KNeighborsClassifier\n",
    "from sklearn.tree import DecisionTreeClassifier\n",
    "\n",
    "from sklearn.metrics import precision_score, recall_score\n",
    "from sklearn.model_selection import train_test_split, GridSearchCV,\\\n",
    "cross_val_score, RandomizedSearchCV\n",
    "\n",
    "from sklearn.preprocessing import OneHotEncoder, StandardScaler\n",
    "from sklearn.impute import SimpleImputer\n",
    "from sklearn.pipeline import Pipeline\n",
    "from sklearn.compose import ColumnTransformer"
   ]
  },
  {
   "cell_type": "markdown",
   "metadata": {},
   "source": [
    "Import data files"
   ]
  },
  {
   "cell_type": "code",
   "execution_count": 2,
   "metadata": {},
   "outputs": [
    {
     "name": "stderr",
     "output_type": "stream",
     "text": [
      "/Users/meaghanross/opt/anaconda3/envs/learn-env/lib/python3.8/site-packages/IPython/core/interactiveshell.py:3145: DtypeWarning: Columns (33) have mixed types.Specify dtype option on import or set low_memory=False.\n",
      "  has_raised = await self.run_ast_nodes(code_ast.body, cell_name,\n",
      "/Users/meaghanross/opt/anaconda3/envs/learn-env/lib/python3.8/site-packages/IPython/core/interactiveshell.py:3145: DtypeWarning: Columns (12,13,20,21,22,23,24,25,26,27,29) have mixed types.Specify dtype option on import or set low_memory=False.\n",
      "  has_raised = await self.run_ast_nodes(code_ast.body, cell_name,\n",
      "/Users/meaghanross/opt/anaconda3/envs/learn-env/lib/python3.8/site-packages/IPython/core/interactiveshell.py:3145: DtypeWarning: Columns (19,21,40,41,42,44,48,49,50,53,55,58,59,61,71) have mixed types.Specify dtype option on import or set low_memory=False.\n",
      "  has_raised = await self.run_ast_nodes(code_ast.body, cell_name,\n"
     ]
    }
   ],
   "source": [
    "crashes = pd.read_csv('Chicago-Crashes/data/Traffic_Crashes_-_Crashes.csv')\n",
    "people = pd.read_csv('Chicago-Crashes/data/Traffic_Crashes_-_People.csv')\n",
    "vehicles = pd.read_csv('Chicago-Crashes/data/Traffic_Crashes_-_Vehicles.csv')"
   ]
  },
  {
   "cell_type": "code",
   "execution_count": 3,
   "metadata": {},
   "outputs": [
    {
     "name": "stdout",
     "output_type": "stream",
     "text": [
      "<class 'pandas.core.frame.DataFrame'>\n",
      "RangeIndex: 541142 entries, 0 to 541141\n",
      "Data columns (total 49 columns):\n",
      " #   Column                         Non-Null Count   Dtype  \n",
      "---  ------                         --------------   -----  \n",
      " 0   CRASH_RECORD_ID                541142 non-null  object \n",
      " 1   RD_NO                          536550 non-null  object \n",
      " 2   CRASH_DATE_EST_I               41029 non-null   object \n",
      " 3   CRASH_DATE                     541142 non-null  object \n",
      " 4   POSTED_SPEED_LIMIT             541142 non-null  int64  \n",
      " 5   TRAFFIC_CONTROL_DEVICE         541142 non-null  object \n",
      " 6   DEVICE_CONDITION               541142 non-null  object \n",
      " 7   WEATHER_CONDITION              541142 non-null  object \n",
      " 8   LIGHTING_CONDITION             541142 non-null  object \n",
      " 9   FIRST_CRASH_TYPE               541142 non-null  object \n",
      " 10  TRAFFICWAY_TYPE                541142 non-null  object \n",
      " 11  LANE_CNT                       198968 non-null  float64\n",
      " 12  ALIGNMENT                      541142 non-null  object \n",
      " 13  ROADWAY_SURFACE_COND           541142 non-null  object \n",
      " 14  ROAD_DEFECT                    541142 non-null  object \n",
      " 15  REPORT_TYPE                    527615 non-null  object \n",
      " 16  CRASH_TYPE                     541142 non-null  object \n",
      " 17  INTERSECTION_RELATED_I         122702 non-null  object \n",
      " 18  NOT_RIGHT_OF_WAY_I             25602 non-null   object \n",
      " 19  HIT_AND_RUN_I                  162942 non-null  object \n",
      " 20  DAMAGE                         541142 non-null  object \n",
      " 21  DATE_POLICE_NOTIFIED           541142 non-null  object \n",
      " 22  PRIM_CONTRIBUTORY_CAUSE        541142 non-null  object \n",
      " 23  SEC_CONTRIBUTORY_CAUSE         541142 non-null  object \n",
      " 24  STREET_NO                      541142 non-null  int64  \n",
      " 25  STREET_DIRECTION               541139 non-null  object \n",
      " 26  STREET_NAME                    541141 non-null  object \n",
      " 27  BEAT_OF_OCCURRENCE             541137 non-null  float64\n",
      " 28  PHOTOS_TAKEN_I                 6746 non-null    object \n",
      " 29  STATEMENTS_TAKEN_I             11007 non-null   object \n",
      " 30  DOORING_I                      1746 non-null    object \n",
      " 31  WORK_ZONE_I                    3412 non-null    object \n",
      " 32  WORK_ZONE_TYPE                 2696 non-null    object \n",
      " 33  WORKERS_PRESENT_I              843 non-null     object \n",
      " 34  NUM_UNITS                      541133 non-null  float64\n",
      " 35  MOST_SEVERE_INJURY             540019 non-null  object \n",
      " 36  INJURIES_TOTAL                 540030 non-null  float64\n",
      " 37  INJURIES_FATAL                 540030 non-null  float64\n",
      " 38  INJURIES_INCAPACITATING        540030 non-null  float64\n",
      " 39  INJURIES_NON_INCAPACITATING    540030 non-null  float64\n",
      " 40  INJURIES_REPORTED_NOT_EVIDENT  540030 non-null  float64\n",
      " 41  INJURIES_NO_INDICATION         540030 non-null  float64\n",
      " 42  INJURIES_UNKNOWN               540030 non-null  float64\n",
      " 43  CRASH_HOUR                     541142 non-null  int64  \n",
      " 44  CRASH_DAY_OF_WEEK              541142 non-null  int64  \n",
      " 45  CRASH_MONTH                    541142 non-null  int64  \n",
      " 46  LATITUDE                       538026 non-null  float64\n",
      " 47  LONGITUDE                      538026 non-null  float64\n",
      " 48  LOCATION                       538026 non-null  object \n",
      "dtypes: float64(12), int64(5), object(32)\n",
      "memory usage: 202.3+ MB\n"
     ]
    }
   ],
   "source": [
    "crashes.info()"
   ]
  },
  {
   "cell_type": "code",
   "execution_count": 4,
   "metadata": {},
   "outputs": [
    {
     "name": "stdout",
     "output_type": "stream",
     "text": [
      "<class 'pandas.core.frame.DataFrame'>\n",
      "RangeIndex: 1195747 entries, 0 to 1195746\n",
      "Data columns (total 30 columns):\n",
      " #   Column                 Non-Null Count    Dtype  \n",
      "---  ------                 --------------    -----  \n",
      " 0   PERSON_ID              1195747 non-null  object \n",
      " 1   PERSON_TYPE            1195747 non-null  object \n",
      " 2   CRASH_RECORD_ID        1195747 non-null  object \n",
      " 3   RD_NO                  1185613 non-null  object \n",
      " 4   VEHICLE_ID             1172146 non-null  float64\n",
      " 5   CRASH_DATE             1195747 non-null  object \n",
      " 6   SEAT_NO                244512 non-null   float64\n",
      " 7   CITY                   879728 non-null   object \n",
      " 8   STATE                  890189 non-null   object \n",
      " 9   ZIPCODE                803192 non-null   object \n",
      " 10  SEX                    1177665 non-null  object \n",
      " 11  AGE                    852450 non-null   float64\n",
      " 12  DRIVERS_LICENSE_STATE  705542 non-null   object \n",
      " 13  DRIVERS_LICENSE_CLASS  608027 non-null   object \n",
      " 14  SAFETY_EQUIPMENT       1192258 non-null  object \n",
      " 15  AIRBAG_DEPLOYED        1173141 non-null  object \n",
      " 16  EJECTION               1181206 non-null  object \n",
      " 17  INJURY_CLASSIFICATION  1195154 non-null  object \n",
      " 18  HOSPITAL               215168 non-null   object \n",
      " 19  EMS_AGENCY             136061 non-null   object \n",
      " 20  EMS_RUN_NO             22281 non-null    object \n",
      " 21  DRIVER_ACTION          948962 non-null   object \n",
      " 22  DRIVER_VISION          948631 non-null   object \n",
      " 23  PHYSICAL_CONDITION     949646 non-null   object \n",
      " 24  PEDPEDAL_ACTION        22222 non-null    object \n",
      " 25  PEDPEDAL_VISIBILITY    22174 non-null    object \n",
      " 26  PEDPEDAL_LOCATION      22221 non-null    object \n",
      " 27  BAC_RESULT             950056 non-null   object \n",
      " 28  BAC_RESULT VALUE       1513 non-null     float64\n",
      " 29  CELL_PHONE_USE         1157 non-null     object \n",
      "dtypes: float64(4), object(26)\n",
      "memory usage: 273.7+ MB\n"
     ]
    }
   ],
   "source": [
    "people.info()"
   ]
  },
  {
   "cell_type": "code",
   "execution_count": 5,
   "metadata": {},
   "outputs": [],
   "source": [
    "perc = 80.0 # Like N %\n",
    "min_count =  int(((100-perc)/100)*crashes.shape[0] + 1)\n",
    "crashes_mod = crashes.dropna(axis=1, \n",
    "                            thresh=min_count)"
   ]
  },
  {
   "cell_type": "code",
   "execution_count": 6,
   "metadata": {},
   "outputs": [],
   "source": [
    "perc = 80.0 # Like N %\n",
    "min_count =  int(((100-perc)/100)*people.shape[0] + 1)\n",
    "people_mod = people.dropna(axis=1, \n",
    "                            thresh=min_count)"
   ]
  },
  {
   "cell_type": "code",
   "execution_count": 7,
   "metadata": {},
   "outputs": [],
   "source": [
    "perc = 80.0 # Like N %\n",
    "min_count =  int(((100-perc)/100)*vehicles.shape[0] + 1)\n",
    "vehicles_mod = vehicles.dropna(axis=1, \n",
    "                            thresh=min_count)"
   ]
  },
  {
   "cell_type": "code",
   "execution_count": 8,
   "metadata": {},
   "outputs": [
    {
     "name": "stdout",
     "output_type": "stream",
     "text": [
      "<class 'pandas.core.frame.DataFrame'>\n",
      "RangeIndex: 1107267 entries, 0 to 1107266\n",
      "Data columns (total 19 columns):\n",
      " #   Column               Non-Null Count    Dtype  \n",
      "---  ------               --------------    -----  \n",
      " 0   CRASH_UNIT_ID        1107267 non-null  int64  \n",
      " 1   CRASH_RECORD_ID      1107267 non-null  object \n",
      " 2   RD_NO                1097786 non-null  object \n",
      " 3   CRASH_DATE           1107267 non-null  object \n",
      " 4   UNIT_NO              1107267 non-null  int64  \n",
      " 5   UNIT_TYPE            1105670 non-null  object \n",
      " 6   VEHICLE_ID           1081934 non-null  float64\n",
      " 7   MAKE                 1081929 non-null  object \n",
      " 8   MODEL                1081786 non-null  object \n",
      " 9   LIC_PLATE_STATE      987487 non-null   object \n",
      " 10  VEHICLE_YEAR         905696 non-null   float64\n",
      " 11  VEHICLE_DEFECT       1081934 non-null  object \n",
      " 12  VEHICLE_TYPE         1081934 non-null  object \n",
      " 13  VEHICLE_USE          1081934 non-null  object \n",
      " 14  TRAVEL_DIRECTION     1081934 non-null  object \n",
      " 15  MANEUVER             1081934 non-null  object \n",
      " 16  OCCUPANT_CNT         1081934 non-null  float64\n",
      " 17  AREA_01_I            288768 non-null   object \n",
      " 18  FIRST_CONTACT_POINT  1073691 non-null  object \n",
      "dtypes: float64(3), int64(2), object(14)\n",
      "memory usage: 160.5+ MB\n"
     ]
    }
   ],
   "source": [
    "vehicles_mod.info()"
   ]
  },
  {
   "cell_type": "code",
   "execution_count": 9,
   "metadata": {},
   "outputs": [
    {
     "name": "stderr",
     "output_type": "stream",
     "text": [
      "/Users/meaghanross/opt/anaconda3/envs/learn-env/lib/python3.8/site-packages/pandas/core/frame.py:4163: SettingWithCopyWarning: \n",
      "A value is trying to be set on a copy of a slice from a DataFrame\n",
      "\n",
      "See the caveats in the documentation: https://pandas.pydata.org/pandas-docs/stable/user_guide/indexing.html#returning-a-view-versus-a-copy\n",
      "  return super().drop(\n"
     ]
    }
   ],
   "source": [
    "vehicles_mod.drop(['RD_NO', 'CRASH_DATE', 'UNIT_NO', 'AREA_01_I'], axis =1, inplace=True)"
   ]
  },
  {
   "cell_type": "code",
   "execution_count": 10,
   "metadata": {},
   "outputs": [
    {
     "name": "stdout",
     "output_type": "stream",
     "text": [
      "<class 'pandas.core.frame.DataFrame'>\n",
      "RangeIndex: 1107267 entries, 0 to 1107266\n",
      "Data columns (total 15 columns):\n",
      " #   Column               Non-Null Count    Dtype  \n",
      "---  ------               --------------    -----  \n",
      " 0   CRASH_UNIT_ID        1107267 non-null  int64  \n",
      " 1   CRASH_RECORD_ID      1107267 non-null  object \n",
      " 2   UNIT_TYPE            1105670 non-null  object \n",
      " 3   VEHICLE_ID           1081934 non-null  float64\n",
      " 4   MAKE                 1081929 non-null  object \n",
      " 5   MODEL                1081786 non-null  object \n",
      " 6   LIC_PLATE_STATE      987487 non-null   object \n",
      " 7   VEHICLE_YEAR         905696 non-null   float64\n",
      " 8   VEHICLE_DEFECT       1081934 non-null  object \n",
      " 9   VEHICLE_TYPE         1081934 non-null  object \n",
      " 10  VEHICLE_USE          1081934 non-null  object \n",
      " 11  TRAVEL_DIRECTION     1081934 non-null  object \n",
      " 12  MANEUVER             1081934 non-null  object \n",
      " 13  OCCUPANT_CNT         1081934 non-null  float64\n",
      " 14  FIRST_CONTACT_POINT  1073691 non-null  object \n",
      "dtypes: float64(3), int64(1), object(11)\n",
      "memory usage: 126.7+ MB\n"
     ]
    }
   ],
   "source": [
    "vehicles_mod.info()"
   ]
  },
  {
   "cell_type": "code",
   "execution_count": 11,
   "metadata": {},
   "outputs": [
    {
     "name": "stdout",
     "output_type": "stream",
     "text": [
      "<class 'pandas.core.frame.DataFrame'>\n",
      "RangeIndex: 541142 entries, 0 to 541141\n",
      "Data columns (total 41 columns):\n",
      " #   Column                         Non-Null Count   Dtype  \n",
      "---  ------                         --------------   -----  \n",
      " 0   CRASH_RECORD_ID                541142 non-null  object \n",
      " 1   RD_NO                          536550 non-null  object \n",
      " 2   CRASH_DATE                     541142 non-null  object \n",
      " 3   POSTED_SPEED_LIMIT             541142 non-null  int64  \n",
      " 4   TRAFFIC_CONTROL_DEVICE         541142 non-null  object \n",
      " 5   DEVICE_CONDITION               541142 non-null  object \n",
      " 6   WEATHER_CONDITION              541142 non-null  object \n",
      " 7   LIGHTING_CONDITION             541142 non-null  object \n",
      " 8   FIRST_CRASH_TYPE               541142 non-null  object \n",
      " 9   TRAFFICWAY_TYPE                541142 non-null  object \n",
      " 10  LANE_CNT                       198968 non-null  float64\n",
      " 11  ALIGNMENT                      541142 non-null  object \n",
      " 12  ROADWAY_SURFACE_COND           541142 non-null  object \n",
      " 13  ROAD_DEFECT                    541142 non-null  object \n",
      " 14  REPORT_TYPE                    527615 non-null  object \n",
      " 15  CRASH_TYPE                     541142 non-null  object \n",
      " 16  INTERSECTION_RELATED_I         122702 non-null  object \n",
      " 17  HIT_AND_RUN_I                  162942 non-null  object \n",
      " 18  DAMAGE                         541142 non-null  object \n",
      " 19  DATE_POLICE_NOTIFIED           541142 non-null  object \n",
      " 20  PRIM_CONTRIBUTORY_CAUSE        541142 non-null  object \n",
      " 21  SEC_CONTRIBUTORY_CAUSE         541142 non-null  object \n",
      " 22  STREET_NO                      541142 non-null  int64  \n",
      " 23  STREET_DIRECTION               541139 non-null  object \n",
      " 24  STREET_NAME                    541141 non-null  object \n",
      " 25  BEAT_OF_OCCURRENCE             541137 non-null  float64\n",
      " 26  NUM_UNITS                      541133 non-null  float64\n",
      " 27  MOST_SEVERE_INJURY             540019 non-null  object \n",
      " 28  INJURIES_TOTAL                 540030 non-null  float64\n",
      " 29  INJURIES_FATAL                 540030 non-null  float64\n",
      " 30  INJURIES_INCAPACITATING        540030 non-null  float64\n",
      " 31  INJURIES_NON_INCAPACITATING    540030 non-null  float64\n",
      " 32  INJURIES_REPORTED_NOT_EVIDENT  540030 non-null  float64\n",
      " 33  INJURIES_NO_INDICATION         540030 non-null  float64\n",
      " 34  INJURIES_UNKNOWN               540030 non-null  float64\n",
      " 35  CRASH_HOUR                     541142 non-null  int64  \n",
      " 36  CRASH_DAY_OF_WEEK              541142 non-null  int64  \n",
      " 37  CRASH_MONTH                    541142 non-null  int64  \n",
      " 38  LATITUDE                       538026 non-null  float64\n",
      " 39  LONGITUDE                      538026 non-null  float64\n",
      " 40  LOCATION                       538026 non-null  object \n",
      "dtypes: float64(12), int64(5), object(24)\n",
      "memory usage: 169.3+ MB\n"
     ]
    }
   ],
   "source": [
    "crashes_mod.info()"
   ]
  },
  {
   "cell_type": "code",
   "execution_count": 12,
   "metadata": {},
   "outputs": [],
   "source": [
    "crashes_mod.drop(['RD_NO','REPORT_TYPE', 'DATE_POLICE_NOTIFIED', 'STREET_NO', 'STREET_DIRECTION', 'STREET_NAME'], axis =1, inplace=True)"
   ]
  },
  {
   "cell_type": "code",
   "execution_count": 13,
   "metadata": {},
   "outputs": [
    {
     "name": "stdout",
     "output_type": "stream",
     "text": [
      "<class 'pandas.core.frame.DataFrame'>\n",
      "RangeIndex: 1195747 entries, 0 to 1195746\n",
      "Data columns (total 22 columns):\n",
      " #   Column                 Non-Null Count    Dtype  \n",
      "---  ------                 --------------    -----  \n",
      " 0   PERSON_ID              1195747 non-null  object \n",
      " 1   PERSON_TYPE            1195747 non-null  object \n",
      " 2   CRASH_RECORD_ID        1195747 non-null  object \n",
      " 3   RD_NO                  1185613 non-null  object \n",
      " 4   VEHICLE_ID             1172146 non-null  float64\n",
      " 5   CRASH_DATE             1195747 non-null  object \n",
      " 6   SEAT_NO                244512 non-null   float64\n",
      " 7   CITY                   879728 non-null   object \n",
      " 8   STATE                  890189 non-null   object \n",
      " 9   ZIPCODE                803192 non-null   object \n",
      " 10  SEX                    1177665 non-null  object \n",
      " 11  AGE                    852450 non-null   float64\n",
      " 12  DRIVERS_LICENSE_STATE  705542 non-null   object \n",
      " 13  DRIVERS_LICENSE_CLASS  608027 non-null   object \n",
      " 14  SAFETY_EQUIPMENT       1192258 non-null  object \n",
      " 15  AIRBAG_DEPLOYED        1173141 non-null  object \n",
      " 16  EJECTION               1181206 non-null  object \n",
      " 17  INJURY_CLASSIFICATION  1195154 non-null  object \n",
      " 18  DRIVER_ACTION          948962 non-null   object \n",
      " 19  DRIVER_VISION          948631 non-null   object \n",
      " 20  PHYSICAL_CONDITION     949646 non-null   object \n",
      " 21  BAC_RESULT             950056 non-null   object \n",
      "dtypes: float64(3), object(19)\n",
      "memory usage: 200.7+ MB\n"
     ]
    }
   ],
   "source": [
    "people_mod.info()"
   ]
  },
  {
   "cell_type": "code",
   "execution_count": 14,
   "metadata": {},
   "outputs": [],
   "source": [
    "people_mod.drop(['CRASH_DATE', 'CITY', 'ZIPCODE','RD_NO'], axis =1, inplace=True)"
   ]
  },
  {
   "cell_type": "code",
   "execution_count": 15,
   "metadata": {},
   "outputs": [
    {
     "name": "stdout",
     "output_type": "stream",
     "text": [
      "<class 'pandas.core.frame.DataFrame'>\n",
      "RangeIndex: 1195747 entries, 0 to 1195746\n",
      "Data columns (total 18 columns):\n",
      " #   Column                 Non-Null Count    Dtype  \n",
      "---  ------                 --------------    -----  \n",
      " 0   PERSON_ID              1195747 non-null  object \n",
      " 1   PERSON_TYPE            1195747 non-null  object \n",
      " 2   CRASH_RECORD_ID        1195747 non-null  object \n",
      " 3   VEHICLE_ID             1172146 non-null  float64\n",
      " 4   SEAT_NO                244512 non-null   float64\n",
      " 5   STATE                  890189 non-null   object \n",
      " 6   SEX                    1177665 non-null  object \n",
      " 7   AGE                    852450 non-null   float64\n",
      " 8   DRIVERS_LICENSE_STATE  705542 non-null   object \n",
      " 9   DRIVERS_LICENSE_CLASS  608027 non-null   object \n",
      " 10  SAFETY_EQUIPMENT       1192258 non-null  object \n",
      " 11  AIRBAG_DEPLOYED        1173141 non-null  object \n",
      " 12  EJECTION               1181206 non-null  object \n",
      " 13  INJURY_CLASSIFICATION  1195154 non-null  object \n",
      " 14  DRIVER_ACTION          948962 non-null   object \n",
      " 15  DRIVER_VISION          948631 non-null   object \n",
      " 16  PHYSICAL_CONDITION     949646 non-null   object \n",
      " 17  BAC_RESULT             950056 non-null   object \n",
      "dtypes: float64(3), object(15)\n",
      "memory usage: 164.2+ MB\n"
     ]
    }
   ],
   "source": [
    "people_mod.info()"
   ]
  },
  {
   "cell_type": "code",
   "execution_count": 16,
   "metadata": {},
   "outputs": [
    {
     "data": {
      "text/html": [
       "<div>\n",
       "<style scoped>\n",
       "    .dataframe tbody tr th:only-of-type {\n",
       "        vertical-align: middle;\n",
       "    }\n",
       "\n",
       "    .dataframe tbody tr th {\n",
       "        vertical-align: top;\n",
       "    }\n",
       "\n",
       "    .dataframe thead th {\n",
       "        text-align: right;\n",
       "    }\n",
       "</style>\n",
       "<table border=\"1\" class=\"dataframe\">\n",
       "  <thead>\n",
       "    <tr style=\"text-align: right;\">\n",
       "      <th></th>\n",
       "      <th>PERSON_ID</th>\n",
       "      <th>PERSON_TYPE</th>\n",
       "      <th>CRASH_RECORD_ID</th>\n",
       "      <th>VEHICLE_ID</th>\n",
       "      <th>SEAT_NO</th>\n",
       "      <th>STATE</th>\n",
       "      <th>SEX</th>\n",
       "      <th>AGE</th>\n",
       "      <th>DRIVERS_LICENSE_STATE</th>\n",
       "      <th>DRIVERS_LICENSE_CLASS</th>\n",
       "      <th>SAFETY_EQUIPMENT</th>\n",
       "      <th>AIRBAG_DEPLOYED</th>\n",
       "      <th>EJECTION</th>\n",
       "      <th>INJURY_CLASSIFICATION</th>\n",
       "      <th>DRIVER_ACTION</th>\n",
       "      <th>DRIVER_VISION</th>\n",
       "      <th>PHYSICAL_CONDITION</th>\n",
       "      <th>BAC_RESULT</th>\n",
       "    </tr>\n",
       "  </thead>\n",
       "  <tbody>\n",
       "    <tr>\n",
       "      <th>0</th>\n",
       "      <td>O749947</td>\n",
       "      <td>DRIVER</td>\n",
       "      <td>81dc0de2ed92aa62baccab641fa377be7feb1cc47e6554...</td>\n",
       "      <td>834816.0</td>\n",
       "      <td>NaN</td>\n",
       "      <td>IL</td>\n",
       "      <td>M</td>\n",
       "      <td>25.0</td>\n",
       "      <td>IL</td>\n",
       "      <td>D</td>\n",
       "      <td>NONE PRESENT</td>\n",
       "      <td>DEPLOYMENT UNKNOWN</td>\n",
       "      <td>NONE</td>\n",
       "      <td>NO INDICATION OF INJURY</td>\n",
       "      <td>UNKNOWN</td>\n",
       "      <td>UNKNOWN</td>\n",
       "      <td>UNKNOWN</td>\n",
       "      <td>TEST NOT OFFERED</td>\n",
       "    </tr>\n",
       "    <tr>\n",
       "      <th>1</th>\n",
       "      <td>O871921</td>\n",
       "      <td>DRIVER</td>\n",
       "      <td>af84fb5c8d996fcd3aefd36593c3a02e6e7509eeb27568...</td>\n",
       "      <td>827212.0</td>\n",
       "      <td>NaN</td>\n",
       "      <td>IL</td>\n",
       "      <td>M</td>\n",
       "      <td>37.0</td>\n",
       "      <td>IL</td>\n",
       "      <td>NaN</td>\n",
       "      <td>SAFETY BELT USED</td>\n",
       "      <td>DID NOT DEPLOY</td>\n",
       "      <td>NONE</td>\n",
       "      <td>NO INDICATION OF INJURY</td>\n",
       "      <td>NONE</td>\n",
       "      <td>NOT OBSCURED</td>\n",
       "      <td>NORMAL</td>\n",
       "      <td>TEST NOT OFFERED</td>\n",
       "    </tr>\n",
       "    <tr>\n",
       "      <th>2</th>\n",
       "      <td>O10018</td>\n",
       "      <td>DRIVER</td>\n",
       "      <td>71162af7bf22799b776547132ebf134b5b438dcf3dac6b...</td>\n",
       "      <td>9579.0</td>\n",
       "      <td>NaN</td>\n",
       "      <td>NaN</td>\n",
       "      <td>X</td>\n",
       "      <td>NaN</td>\n",
       "      <td>NaN</td>\n",
       "      <td>NaN</td>\n",
       "      <td>USAGE UNKNOWN</td>\n",
       "      <td>DEPLOYMENT UNKNOWN</td>\n",
       "      <td>NONE</td>\n",
       "      <td>NO INDICATION OF INJURY</td>\n",
       "      <td>IMPROPER BACKING</td>\n",
       "      <td>UNKNOWN</td>\n",
       "      <td>UNKNOWN</td>\n",
       "      <td>TEST NOT OFFERED</td>\n",
       "    </tr>\n",
       "    <tr>\n",
       "      <th>3</th>\n",
       "      <td>O10038</td>\n",
       "      <td>DRIVER</td>\n",
       "      <td>c21c476e2ccc41af550b5d858d22aaac4ffc88745a1700...</td>\n",
       "      <td>9598.0</td>\n",
       "      <td>NaN</td>\n",
       "      <td>NaN</td>\n",
       "      <td>X</td>\n",
       "      <td>NaN</td>\n",
       "      <td>NaN</td>\n",
       "      <td>NaN</td>\n",
       "      <td>USAGE UNKNOWN</td>\n",
       "      <td>DEPLOYMENT UNKNOWN</td>\n",
       "      <td>UNKNOWN</td>\n",
       "      <td>NO INDICATION OF INJURY</td>\n",
       "      <td>UNKNOWN</td>\n",
       "      <td>UNKNOWN</td>\n",
       "      <td>UNKNOWN</td>\n",
       "      <td>TEST NOT OFFERED</td>\n",
       "    </tr>\n",
       "    <tr>\n",
       "      <th>4</th>\n",
       "      <td>O10039</td>\n",
       "      <td>DRIVER</td>\n",
       "      <td>eb390a4c8e114c69488f5fb8a097fe629f5a92fd528cf4...</td>\n",
       "      <td>9600.0</td>\n",
       "      <td>NaN</td>\n",
       "      <td>NaN</td>\n",
       "      <td>X</td>\n",
       "      <td>NaN</td>\n",
       "      <td>NaN</td>\n",
       "      <td>NaN</td>\n",
       "      <td>USAGE UNKNOWN</td>\n",
       "      <td>DEPLOYMENT UNKNOWN</td>\n",
       "      <td>UNKNOWN</td>\n",
       "      <td>NO INDICATION OF INJURY</td>\n",
       "      <td>UNKNOWN</td>\n",
       "      <td>UNKNOWN</td>\n",
       "      <td>UNKNOWN</td>\n",
       "      <td>TEST NOT OFFERED</td>\n",
       "    </tr>\n",
       "  </tbody>\n",
       "</table>\n",
       "</div>"
      ],
      "text/plain": [
       "  PERSON_ID PERSON_TYPE                                    CRASH_RECORD_ID  \\\n",
       "0   O749947      DRIVER  81dc0de2ed92aa62baccab641fa377be7feb1cc47e6554...   \n",
       "1   O871921      DRIVER  af84fb5c8d996fcd3aefd36593c3a02e6e7509eeb27568...   \n",
       "2    O10018      DRIVER  71162af7bf22799b776547132ebf134b5b438dcf3dac6b...   \n",
       "3    O10038      DRIVER  c21c476e2ccc41af550b5d858d22aaac4ffc88745a1700...   \n",
       "4    O10039      DRIVER  eb390a4c8e114c69488f5fb8a097fe629f5a92fd528cf4...   \n",
       "\n",
       "   VEHICLE_ID  SEAT_NO STATE SEX   AGE DRIVERS_LICENSE_STATE  \\\n",
       "0    834816.0      NaN    IL   M  25.0                    IL   \n",
       "1    827212.0      NaN    IL   M  37.0                    IL   \n",
       "2      9579.0      NaN   NaN   X   NaN                   NaN   \n",
       "3      9598.0      NaN   NaN   X   NaN                   NaN   \n",
       "4      9600.0      NaN   NaN   X   NaN                   NaN   \n",
       "\n",
       "  DRIVERS_LICENSE_CLASS  SAFETY_EQUIPMENT     AIRBAG_DEPLOYED EJECTION  \\\n",
       "0                     D      NONE PRESENT  DEPLOYMENT UNKNOWN     NONE   \n",
       "1                   NaN  SAFETY BELT USED      DID NOT DEPLOY     NONE   \n",
       "2                   NaN     USAGE UNKNOWN  DEPLOYMENT UNKNOWN     NONE   \n",
       "3                   NaN     USAGE UNKNOWN  DEPLOYMENT UNKNOWN  UNKNOWN   \n",
       "4                   NaN     USAGE UNKNOWN  DEPLOYMENT UNKNOWN  UNKNOWN   \n",
       "\n",
       "     INJURY_CLASSIFICATION     DRIVER_ACTION DRIVER_VISION PHYSICAL_CONDITION  \\\n",
       "0  NO INDICATION OF INJURY           UNKNOWN       UNKNOWN            UNKNOWN   \n",
       "1  NO INDICATION OF INJURY              NONE  NOT OBSCURED             NORMAL   \n",
       "2  NO INDICATION OF INJURY  IMPROPER BACKING       UNKNOWN            UNKNOWN   \n",
       "3  NO INDICATION OF INJURY           UNKNOWN       UNKNOWN            UNKNOWN   \n",
       "4  NO INDICATION OF INJURY           UNKNOWN       UNKNOWN            UNKNOWN   \n",
       "\n",
       "         BAC_RESULT  \n",
       "0  TEST NOT OFFERED  \n",
       "1  TEST NOT OFFERED  \n",
       "2  TEST NOT OFFERED  \n",
       "3  TEST NOT OFFERED  \n",
       "4  TEST NOT OFFERED  "
      ]
     },
     "execution_count": 16,
     "metadata": {},
     "output_type": "execute_result"
    }
   ],
   "source": [
    "people_mod.head()"
   ]
  },
  {
   "cell_type": "code",
   "execution_count": 17,
   "metadata": {},
   "outputs": [
    {
     "data": {
      "text/html": [
       "<div>\n",
       "<style scoped>\n",
       "    .dataframe tbody tr th:only-of-type {\n",
       "        vertical-align: middle;\n",
       "    }\n",
       "\n",
       "    .dataframe tbody tr th {\n",
       "        vertical-align: top;\n",
       "    }\n",
       "\n",
       "    .dataframe thead th {\n",
       "        text-align: right;\n",
       "    }\n",
       "</style>\n",
       "<table border=\"1\" class=\"dataframe\">\n",
       "  <thead>\n",
       "    <tr style=\"text-align: right;\">\n",
       "      <th></th>\n",
       "      <th>CRASH_UNIT_ID</th>\n",
       "      <th>CRASH_RECORD_ID</th>\n",
       "      <th>UNIT_TYPE</th>\n",
       "      <th>VEHICLE_ID</th>\n",
       "      <th>MAKE</th>\n",
       "      <th>MODEL</th>\n",
       "      <th>LIC_PLATE_STATE</th>\n",
       "      <th>VEHICLE_YEAR</th>\n",
       "      <th>VEHICLE_DEFECT</th>\n",
       "      <th>VEHICLE_TYPE</th>\n",
       "      <th>VEHICLE_USE</th>\n",
       "      <th>TRAVEL_DIRECTION</th>\n",
       "      <th>MANEUVER</th>\n",
       "      <th>OCCUPANT_CNT</th>\n",
       "      <th>FIRST_CONTACT_POINT</th>\n",
       "    </tr>\n",
       "  </thead>\n",
       "  <tbody>\n",
       "    <tr>\n",
       "      <th>0</th>\n",
       "      <td>829999</td>\n",
       "      <td>24ddf9fd8542199d832e1c223cc474e5601b356f1d77a6...</td>\n",
       "      <td>DRIVER</td>\n",
       "      <td>796949.0</td>\n",
       "      <td>INFINITI</td>\n",
       "      <td>UNKNOWN</td>\n",
       "      <td>IL</td>\n",
       "      <td>2017.0</td>\n",
       "      <td>NONE</td>\n",
       "      <td>PASSENGER</td>\n",
       "      <td>PERSONAL</td>\n",
       "      <td>N</td>\n",
       "      <td>STRAIGHT AHEAD</td>\n",
       "      <td>1.0</td>\n",
       "      <td>FRONT</td>\n",
       "    </tr>\n",
       "    <tr>\n",
       "      <th>1</th>\n",
       "      <td>749947</td>\n",
       "      <td>81dc0de2ed92aa62baccab641fa377be7feb1cc47e6554...</td>\n",
       "      <td>DRIVER</td>\n",
       "      <td>834816.0</td>\n",
       "      <td>HONDA</td>\n",
       "      <td>CIVIC</td>\n",
       "      <td>IL</td>\n",
       "      <td>2016.0</td>\n",
       "      <td>UNKNOWN</td>\n",
       "      <td>PASSENGER</td>\n",
       "      <td>PERSONAL</td>\n",
       "      <td>N</td>\n",
       "      <td>STRAIGHT AHEAD</td>\n",
       "      <td>1.0</td>\n",
       "      <td>FRONT</td>\n",
       "    </tr>\n",
       "    <tr>\n",
       "      <th>2</th>\n",
       "      <td>749949</td>\n",
       "      <td>81dc0de2ed92aa62baccab641fa377be7feb1cc47e6554...</td>\n",
       "      <td>PARKED</td>\n",
       "      <td>834819.0</td>\n",
       "      <td>TOYOTA</td>\n",
       "      <td>YARIS</td>\n",
       "      <td>IL</td>\n",
       "      <td>2010.0</td>\n",
       "      <td>NONE</td>\n",
       "      <td>UNKNOWN/NA</td>\n",
       "      <td>PERSONAL</td>\n",
       "      <td>N</td>\n",
       "      <td>PARKED</td>\n",
       "      <td>0.0</td>\n",
       "      <td>ROOF</td>\n",
       "    </tr>\n",
       "    <tr>\n",
       "      <th>3</th>\n",
       "      <td>749950</td>\n",
       "      <td>81dc0de2ed92aa62baccab641fa377be7feb1cc47e6554...</td>\n",
       "      <td>PARKED</td>\n",
       "      <td>834817.0</td>\n",
       "      <td>GENERAL MOTORS CORPORATION (GMC)</td>\n",
       "      <td>SIERRA</td>\n",
       "      <td>IL</td>\n",
       "      <td>2008.0</td>\n",
       "      <td>UNKNOWN</td>\n",
       "      <td>UNKNOWN/NA</td>\n",
       "      <td>UNKNOWN/NA</td>\n",
       "      <td>N</td>\n",
       "      <td>PARKED</td>\n",
       "      <td>0.0</td>\n",
       "      <td>ROOF</td>\n",
       "    </tr>\n",
       "    <tr>\n",
       "      <th>4</th>\n",
       "      <td>871921</td>\n",
       "      <td>af84fb5c8d996fcd3aefd36593c3a02e6e7509eeb27568...</td>\n",
       "      <td>DRIVER</td>\n",
       "      <td>827212.0</td>\n",
       "      <td>BUICK</td>\n",
       "      <td>ENCORE</td>\n",
       "      <td>IL</td>\n",
       "      <td>NaN</td>\n",
       "      <td>NONE</td>\n",
       "      <td>PASSENGER</td>\n",
       "      <td>PERSONAL</td>\n",
       "      <td>W</td>\n",
       "      <td>STRAIGHT AHEAD</td>\n",
       "      <td>1.0</td>\n",
       "      <td>FRONT-RIGHT</td>\n",
       "    </tr>\n",
       "  </tbody>\n",
       "</table>\n",
       "</div>"
      ],
      "text/plain": [
       "   CRASH_UNIT_ID                                    CRASH_RECORD_ID UNIT_TYPE  \\\n",
       "0         829999  24ddf9fd8542199d832e1c223cc474e5601b356f1d77a6...    DRIVER   \n",
       "1         749947  81dc0de2ed92aa62baccab641fa377be7feb1cc47e6554...    DRIVER   \n",
       "2         749949  81dc0de2ed92aa62baccab641fa377be7feb1cc47e6554...    PARKED   \n",
       "3         749950  81dc0de2ed92aa62baccab641fa377be7feb1cc47e6554...    PARKED   \n",
       "4         871921  af84fb5c8d996fcd3aefd36593c3a02e6e7509eeb27568...    DRIVER   \n",
       "\n",
       "   VEHICLE_ID                              MAKE    MODEL LIC_PLATE_STATE  \\\n",
       "0    796949.0                          INFINITI  UNKNOWN              IL   \n",
       "1    834816.0                             HONDA    CIVIC              IL   \n",
       "2    834819.0                            TOYOTA    YARIS              IL   \n",
       "3    834817.0  GENERAL MOTORS CORPORATION (GMC)   SIERRA              IL   \n",
       "4    827212.0                             BUICK   ENCORE              IL   \n",
       "\n",
       "   VEHICLE_YEAR VEHICLE_DEFECT VEHICLE_TYPE VEHICLE_USE TRAVEL_DIRECTION  \\\n",
       "0        2017.0           NONE    PASSENGER    PERSONAL                N   \n",
       "1        2016.0        UNKNOWN    PASSENGER    PERSONAL                N   \n",
       "2        2010.0           NONE   UNKNOWN/NA    PERSONAL                N   \n",
       "3        2008.0        UNKNOWN   UNKNOWN/NA  UNKNOWN/NA                N   \n",
       "4           NaN           NONE    PASSENGER    PERSONAL                W   \n",
       "\n",
       "         MANEUVER  OCCUPANT_CNT FIRST_CONTACT_POINT  \n",
       "0  STRAIGHT AHEAD           1.0               FRONT  \n",
       "1  STRAIGHT AHEAD           1.0               FRONT  \n",
       "2          PARKED           0.0                ROOF  \n",
       "3          PARKED           0.0                ROOF  \n",
       "4  STRAIGHT AHEAD           1.0         FRONT-RIGHT  "
      ]
     },
     "execution_count": 17,
     "metadata": {},
     "output_type": "execute_result"
    }
   ],
   "source": [
    "vehicles_mod.head()"
   ]
  },
  {
   "cell_type": "code",
   "execution_count": 18,
   "metadata": {},
   "outputs": [
    {
     "data": {
      "text/html": [
       "<div>\n",
       "<style scoped>\n",
       "    .dataframe tbody tr th:only-of-type {\n",
       "        vertical-align: middle;\n",
       "    }\n",
       "\n",
       "    .dataframe tbody tr th {\n",
       "        vertical-align: top;\n",
       "    }\n",
       "\n",
       "    .dataframe thead th {\n",
       "        text-align: right;\n",
       "    }\n",
       "</style>\n",
       "<table border=\"1\" class=\"dataframe\">\n",
       "  <thead>\n",
       "    <tr style=\"text-align: right;\">\n",
       "      <th></th>\n",
       "      <th>CRASH_RECORD_ID</th>\n",
       "      <th>CRASH_DATE</th>\n",
       "      <th>POSTED_SPEED_LIMIT</th>\n",
       "      <th>TRAFFIC_CONTROL_DEVICE</th>\n",
       "      <th>DEVICE_CONDITION</th>\n",
       "      <th>WEATHER_CONDITION</th>\n",
       "      <th>LIGHTING_CONDITION</th>\n",
       "      <th>FIRST_CRASH_TYPE</th>\n",
       "      <th>TRAFFICWAY_TYPE</th>\n",
       "      <th>LANE_CNT</th>\n",
       "      <th>...</th>\n",
       "      <th>INJURIES_NON_INCAPACITATING</th>\n",
       "      <th>INJURIES_REPORTED_NOT_EVIDENT</th>\n",
       "      <th>INJURIES_NO_INDICATION</th>\n",
       "      <th>INJURIES_UNKNOWN</th>\n",
       "      <th>CRASH_HOUR</th>\n",
       "      <th>CRASH_DAY_OF_WEEK</th>\n",
       "      <th>CRASH_MONTH</th>\n",
       "      <th>LATITUDE</th>\n",
       "      <th>LONGITUDE</th>\n",
       "      <th>LOCATION</th>\n",
       "    </tr>\n",
       "  </thead>\n",
       "  <tbody>\n",
       "    <tr>\n",
       "      <th>0</th>\n",
       "      <td>4fd0a3e0897b3335b94cd8d5b2d2b350eb691add56c62d...</td>\n",
       "      <td>07/10/2019 05:56:00 PM</td>\n",
       "      <td>35</td>\n",
       "      <td>NO CONTROLS</td>\n",
       "      <td>NO CONTROLS</td>\n",
       "      <td>CLEAR</td>\n",
       "      <td>DAYLIGHT</td>\n",
       "      <td>TURNING</td>\n",
       "      <td>ONE-WAY</td>\n",
       "      <td>NaN</td>\n",
       "      <td>...</td>\n",
       "      <td>0.0</td>\n",
       "      <td>0.0</td>\n",
       "      <td>3.0</td>\n",
       "      <td>0.0</td>\n",
       "      <td>17</td>\n",
       "      <td>4</td>\n",
       "      <td>7</td>\n",
       "      <td>41.919664</td>\n",
       "      <td>-87.773288</td>\n",
       "      <td>POINT (-87.773287883007 41.919663832993)</td>\n",
       "    </tr>\n",
       "    <tr>\n",
       "      <th>1</th>\n",
       "      <td>009e9e67203442370272e1a13d6ee51a4155dac65e583d...</td>\n",
       "      <td>06/30/2017 04:00:00 PM</td>\n",
       "      <td>35</td>\n",
       "      <td>STOP SIGN/FLASHER</td>\n",
       "      <td>FUNCTIONING PROPERLY</td>\n",
       "      <td>CLEAR</td>\n",
       "      <td>DAYLIGHT</td>\n",
       "      <td>TURNING</td>\n",
       "      <td>NOT DIVIDED</td>\n",
       "      <td>4.0</td>\n",
       "      <td>...</td>\n",
       "      <td>0.0</td>\n",
       "      <td>0.0</td>\n",
       "      <td>3.0</td>\n",
       "      <td>0.0</td>\n",
       "      <td>16</td>\n",
       "      <td>6</td>\n",
       "      <td>6</td>\n",
       "      <td>41.741804</td>\n",
       "      <td>-87.740954</td>\n",
       "      <td>POINT (-87.740953581987 41.741803598989)</td>\n",
       "    </tr>\n",
       "    <tr>\n",
       "      <th>2</th>\n",
       "      <td>ee9283eff3a55ac50ee58f3d9528ce1d689b1c4180b4c4...</td>\n",
       "      <td>07/10/2020 10:25:00 AM</td>\n",
       "      <td>30</td>\n",
       "      <td>TRAFFIC SIGNAL</td>\n",
       "      <td>FUNCTIONING PROPERLY</td>\n",
       "      <td>CLEAR</td>\n",
       "      <td>DAYLIGHT</td>\n",
       "      <td>REAR END</td>\n",
       "      <td>FOUR WAY</td>\n",
       "      <td>NaN</td>\n",
       "      <td>...</td>\n",
       "      <td>0.0</td>\n",
       "      <td>0.0</td>\n",
       "      <td>3.0</td>\n",
       "      <td>0.0</td>\n",
       "      <td>10</td>\n",
       "      <td>6</td>\n",
       "      <td>7</td>\n",
       "      <td>41.773456</td>\n",
       "      <td>-87.585022</td>\n",
       "      <td>POINT (-87.585022352022 41.773455972008)</td>\n",
       "    </tr>\n",
       "    <tr>\n",
       "      <th>3</th>\n",
       "      <td>f8960f698e870ebdc60b521b2a141a5395556bc3704191...</td>\n",
       "      <td>07/11/2020 01:00:00 AM</td>\n",
       "      <td>30</td>\n",
       "      <td>NO CONTROLS</td>\n",
       "      <td>NO CONTROLS</td>\n",
       "      <td>CLEAR</td>\n",
       "      <td>DARKNESS</td>\n",
       "      <td>PARKED MOTOR VEHICLE</td>\n",
       "      <td>DIVIDED - W/MEDIAN (NOT RAISED)</td>\n",
       "      <td>NaN</td>\n",
       "      <td>...</td>\n",
       "      <td>0.0</td>\n",
       "      <td>0.0</td>\n",
       "      <td>3.0</td>\n",
       "      <td>0.0</td>\n",
       "      <td>1</td>\n",
       "      <td>7</td>\n",
       "      <td>7</td>\n",
       "      <td>41.802119</td>\n",
       "      <td>-87.622115</td>\n",
       "      <td>POINT (-87.622114914961 41.802118543011)</td>\n",
       "    </tr>\n",
       "    <tr>\n",
       "      <th>4</th>\n",
       "      <td>8eaa2678d1a127804ee9b8c35ddf7d63d913c14eda61d6...</td>\n",
       "      <td>07/08/2020 02:00:00 PM</td>\n",
       "      <td>20</td>\n",
       "      <td>NO CONTROLS</td>\n",
       "      <td>NO CONTROLS</td>\n",
       "      <td>CLEAR</td>\n",
       "      <td>DAYLIGHT</td>\n",
       "      <td>PARKED MOTOR VEHICLE</td>\n",
       "      <td>DRIVEWAY</td>\n",
       "      <td>NaN</td>\n",
       "      <td>...</td>\n",
       "      <td>0.0</td>\n",
       "      <td>0.0</td>\n",
       "      <td>1.0</td>\n",
       "      <td>0.0</td>\n",
       "      <td>14</td>\n",
       "      <td>4</td>\n",
       "      <td>7</td>\n",
       "      <td>NaN</td>\n",
       "      <td>NaN</td>\n",
       "      <td>NaN</td>\n",
       "    </tr>\n",
       "  </tbody>\n",
       "</table>\n",
       "<p>5 rows × 35 columns</p>\n",
       "</div>"
      ],
      "text/plain": [
       "                                     CRASH_RECORD_ID              CRASH_DATE  \\\n",
       "0  4fd0a3e0897b3335b94cd8d5b2d2b350eb691add56c62d...  07/10/2019 05:56:00 PM   \n",
       "1  009e9e67203442370272e1a13d6ee51a4155dac65e583d...  06/30/2017 04:00:00 PM   \n",
       "2  ee9283eff3a55ac50ee58f3d9528ce1d689b1c4180b4c4...  07/10/2020 10:25:00 AM   \n",
       "3  f8960f698e870ebdc60b521b2a141a5395556bc3704191...  07/11/2020 01:00:00 AM   \n",
       "4  8eaa2678d1a127804ee9b8c35ddf7d63d913c14eda61d6...  07/08/2020 02:00:00 PM   \n",
       "\n",
       "   POSTED_SPEED_LIMIT TRAFFIC_CONTROL_DEVICE      DEVICE_CONDITION  \\\n",
       "0                  35            NO CONTROLS           NO CONTROLS   \n",
       "1                  35      STOP SIGN/FLASHER  FUNCTIONING PROPERLY   \n",
       "2                  30         TRAFFIC SIGNAL  FUNCTIONING PROPERLY   \n",
       "3                  30            NO CONTROLS           NO CONTROLS   \n",
       "4                  20            NO CONTROLS           NO CONTROLS   \n",
       "\n",
       "  WEATHER_CONDITION LIGHTING_CONDITION      FIRST_CRASH_TYPE  \\\n",
       "0             CLEAR           DAYLIGHT               TURNING   \n",
       "1             CLEAR           DAYLIGHT               TURNING   \n",
       "2             CLEAR           DAYLIGHT              REAR END   \n",
       "3             CLEAR           DARKNESS  PARKED MOTOR VEHICLE   \n",
       "4             CLEAR           DAYLIGHT  PARKED MOTOR VEHICLE   \n",
       "\n",
       "                   TRAFFICWAY_TYPE  LANE_CNT  ... INJURIES_NON_INCAPACITATING  \\\n",
       "0                          ONE-WAY       NaN  ...                         0.0   \n",
       "1                      NOT DIVIDED       4.0  ...                         0.0   \n",
       "2                         FOUR WAY       NaN  ...                         0.0   \n",
       "3  DIVIDED - W/MEDIAN (NOT RAISED)       NaN  ...                         0.0   \n",
       "4                         DRIVEWAY       NaN  ...                         0.0   \n",
       "\n",
       "  INJURIES_REPORTED_NOT_EVIDENT INJURIES_NO_INDICATION INJURIES_UNKNOWN  \\\n",
       "0                           0.0                    3.0              0.0   \n",
       "1                           0.0                    3.0              0.0   \n",
       "2                           0.0                    3.0              0.0   \n",
       "3                           0.0                    3.0              0.0   \n",
       "4                           0.0                    1.0              0.0   \n",
       "\n",
       "  CRASH_HOUR CRASH_DAY_OF_WEEK CRASH_MONTH   LATITUDE  LONGITUDE  \\\n",
       "0         17                 4           7  41.919664 -87.773288   \n",
       "1         16                 6           6  41.741804 -87.740954   \n",
       "2         10                 6           7  41.773456 -87.585022   \n",
       "3          1                 7           7  41.802119 -87.622115   \n",
       "4         14                 4           7        NaN        NaN   \n",
       "\n",
       "                                   LOCATION  \n",
       "0  POINT (-87.773287883007 41.919663832993)  \n",
       "1  POINT (-87.740953581987 41.741803598989)  \n",
       "2  POINT (-87.585022352022 41.773455972008)  \n",
       "3  POINT (-87.622114914961 41.802118543011)  \n",
       "4                                       NaN  \n",
       "\n",
       "[5 rows x 35 columns]"
      ]
     },
     "execution_count": 18,
     "metadata": {},
     "output_type": "execute_result"
    }
   ],
   "source": [
    "crashes_mod.head()"
   ]
  },
  {
   "cell_type": "markdown",
   "metadata": {},
   "source": [
    "__First Simple Model__"
   ]
  },
  {
   "cell_type": "code",
   "execution_count": 19,
   "metadata": {},
   "outputs": [
    {
     "name": "stdout",
     "output_type": "stream",
     "text": [
      "<class 'pandas.core.frame.DataFrame'>\n",
      "RangeIndex: 541142 entries, 0 to 541141\n",
      "Data columns (total 35 columns):\n",
      " #   Column                         Non-Null Count   Dtype  \n",
      "---  ------                         --------------   -----  \n",
      " 0   CRASH_RECORD_ID                541142 non-null  object \n",
      " 1   CRASH_DATE                     541142 non-null  object \n",
      " 2   POSTED_SPEED_LIMIT             541142 non-null  int64  \n",
      " 3   TRAFFIC_CONTROL_DEVICE         541142 non-null  object \n",
      " 4   DEVICE_CONDITION               541142 non-null  object \n",
      " 5   WEATHER_CONDITION              541142 non-null  object \n",
      " 6   LIGHTING_CONDITION             541142 non-null  object \n",
      " 7   FIRST_CRASH_TYPE               541142 non-null  object \n",
      " 8   TRAFFICWAY_TYPE                541142 non-null  object \n",
      " 9   LANE_CNT                       198968 non-null  float64\n",
      " 10  ALIGNMENT                      541142 non-null  object \n",
      " 11  ROADWAY_SURFACE_COND           541142 non-null  object \n",
      " 12  ROAD_DEFECT                    541142 non-null  object \n",
      " 13  CRASH_TYPE                     541142 non-null  object \n",
      " 14  INTERSECTION_RELATED_I         122702 non-null  object \n",
      " 15  HIT_AND_RUN_I                  162942 non-null  object \n",
      " 16  DAMAGE                         541142 non-null  object \n",
      " 17  PRIM_CONTRIBUTORY_CAUSE        541142 non-null  object \n",
      " 18  SEC_CONTRIBUTORY_CAUSE         541142 non-null  object \n",
      " 19  BEAT_OF_OCCURRENCE             541137 non-null  float64\n",
      " 20  NUM_UNITS                      541133 non-null  float64\n",
      " 21  MOST_SEVERE_INJURY             540019 non-null  object \n",
      " 22  INJURIES_TOTAL                 540030 non-null  float64\n",
      " 23  INJURIES_FATAL                 540030 non-null  float64\n",
      " 24  INJURIES_INCAPACITATING        540030 non-null  float64\n",
      " 25  INJURIES_NON_INCAPACITATING    540030 non-null  float64\n",
      " 26  INJURIES_REPORTED_NOT_EVIDENT  540030 non-null  float64\n",
      " 27  INJURIES_NO_INDICATION         540030 non-null  float64\n",
      " 28  INJURIES_UNKNOWN               540030 non-null  float64\n",
      " 29  CRASH_HOUR                     541142 non-null  int64  \n",
      " 30  CRASH_DAY_OF_WEEK              541142 non-null  int64  \n",
      " 31  CRASH_MONTH                    541142 non-null  int64  \n",
      " 32  LATITUDE                       538026 non-null  float64\n",
      " 33  LONGITUDE                      538026 non-null  float64\n",
      " 34  LOCATION                       538026 non-null  object \n",
      "dtypes: float64(12), int64(4), object(19)\n",
      "memory usage: 144.5+ MB\n"
     ]
    }
   ],
   "source": [
    "crashes_mod.info()"
   ]
  },
  {
   "cell_type": "code",
   "execution_count": 20,
   "metadata": {},
   "outputs": [
    {
     "data": {
      "text/plain": [
       "NO INDICATION OF INJURY     468994\n",
       "NONINCAPACITATING INJURY     39675\n",
       "REPORTED, NOT EVIDENT        21763\n",
       "INCAPACITATING INJURY         9040\n",
       "FATAL                          547\n",
       "Name: MOST_SEVERE_INJURY, dtype: int64"
      ]
     },
     "execution_count": 20,
     "metadata": {},
     "output_type": "execute_result"
    }
   ],
   "source": [
    "crashes_mod.MOST_SEVERE_INJURY.value_counts()"
   ]
  },
  {
   "cell_type": "markdown",
   "metadata": {},
   "source": [
    "Set up target variable:\n",
    " - 0: NO INDICATION OF INJURY, NONINCAPACITATING INJURY, REPORTED, NOT EVIDENT\n",
    " - 1: INCAPACITATING INJURY, FATAL\n",
    " "
   ]
  },
  {
   "cell_type": "code",
   "execution_count": 21,
   "metadata": {},
   "outputs": [
    {
     "name": "stderr",
     "output_type": "stream",
     "text": [
      "<ipython-input-21-c9d91aeaf547>:1: SettingWithCopyWarning: \n",
      "A value is trying to be set on a copy of a slice from a DataFrame.\n",
      "Try using .loc[row_indexer,col_indexer] = value instead\n",
      "\n",
      "See the caveats in the documentation: https://pandas.pydata.org/pandas-docs/stable/user_guide/indexing.html#returning-a-view-versus-a-copy\n",
      "  crashes_mod['TARGET']= crashes_mod['MOST_SEVERE_INJURY'].map({'NO INDICATION OF INJURY': 0,\n"
     ]
    }
   ],
   "source": [
    "crashes_mod['TARGET']= crashes_mod['MOST_SEVERE_INJURY'].map({'NO INDICATION OF INJURY': 0,\n",
    "                                                              'NONINCAPACITATING INJURY': 0,\n",
    "                                                              'REPORTED, NOT EVIDENT': 0,\n",
    "                                                              'INCAPACITATING INJURY': 1,\n",
    "                                                              'FATAL': 1})"
   ]
  },
  {
   "cell_type": "code",
   "execution_count": 22,
   "metadata": {},
   "outputs": [
    {
     "name": "stderr",
     "output_type": "stream",
     "text": [
      "/Users/meaghanross/opt/anaconda3/envs/learn-env/lib/python3.8/site-packages/pandas/core/series.py:4517: SettingWithCopyWarning: \n",
      "A value is trying to be set on a copy of a slice from a DataFrame\n",
      "\n",
      "See the caveats in the documentation: https://pandas.pydata.org/pandas-docs/stable/user_guide/indexing.html#returning-a-view-versus-a-copy\n",
      "  return super().fillna(\n"
     ]
    }
   ],
   "source": [
    "\n",
    "crashes_mod.TARGET.fillna(0, inplace=True)"
   ]
  },
  {
   "cell_type": "code",
   "execution_count": 23,
   "metadata": {},
   "outputs": [
    {
     "data": {
      "text/plain": [
       "0"
      ]
     },
     "execution_count": 23,
     "metadata": {},
     "output_type": "execute_result"
    }
   ],
   "source": [
    "crashes_mod.TARGET.isna().sum()"
   ]
  },
  {
   "cell_type": "code",
   "execution_count": 24,
   "metadata": {},
   "outputs": [],
   "source": [
    "from sklearn.model_selection import train_test_split\n",
    "X = crashes_mod.drop(['MOST_SEVERE_INJURY','INJURIES_TOTAL', 'INJURIES_FATAL','INJURIES_INCAPACITATING',\n",
    "                      'INJURIES_NON_INCAPACITATING', 'INJURIES_REPORTED_NOT_EVIDENT',\n",
    "                      'INJURIES_NO_INDICATION', 'TARGET', 'CRASH_RECORD_ID', 'CRASH_DATE', 'LATITUDE', \n",
    "                      'LONGITUDE','LOCATION'], axis=1)\n",
    "y = crashes_mod['TARGET']\n",
    "X_train, X_test, y_train, y_test = train_test_split(X, y, random_state=42)"
   ]
  },
  {
   "cell_type": "code",
   "execution_count": 25,
   "metadata": {},
   "outputs": [],
   "source": [
    "X_train_nums = X_train.select_dtypes(include=['float64', 'int64'])\n",
    "X_train_cat = X_train.select_dtypes('object')"
   ]
  },
  {
   "cell_type": "code",
   "execution_count": 49,
   "metadata": {},
   "outputs": [],
   "source": [
    "imputer = SimpleImputer(missing_values=np.nan, strategy='median')\n",
    "#ss = StandardScaler()\n",
    "\n",
    "X_train_impute = imputer.fit(X_train_nums)\n",
    "nums_df = pd.DataFrame(imputer.transform(X_train_nums),\n",
    "                      index=X_train_nums.index)"
   ]
  },
  {
   "cell_type": "code",
   "execution_count": 50,
   "metadata": {},
   "outputs": [],
   "source": [
    "ss =StandardScaler()\n",
    "nums_df_scaled = pd.DataFrame(ss.fit_transform(nums_df), index =X_train_nums.index)"
   ]
  },
  {
   "cell_type": "code",
   "execution_count": 51,
   "metadata": {},
   "outputs": [
    {
     "data": {
      "text/html": [
       "<div>\n",
       "<style scoped>\n",
       "    .dataframe tbody tr th:only-of-type {\n",
       "        vertical-align: middle;\n",
       "    }\n",
       "\n",
       "    .dataframe tbody tr th {\n",
       "        vertical-align: top;\n",
       "    }\n",
       "\n",
       "    .dataframe thead th {\n",
       "        text-align: right;\n",
       "    }\n",
       "</style>\n",
       "<table border=\"1\" class=\"dataframe\">\n",
       "  <thead>\n",
       "    <tr style=\"text-align: right;\">\n",
       "      <th></th>\n",
       "      <th>0</th>\n",
       "      <th>1</th>\n",
       "      <th>2</th>\n",
       "      <th>3</th>\n",
       "      <th>4</th>\n",
       "      <th>5</th>\n",
       "      <th>6</th>\n",
       "      <th>7</th>\n",
       "    </tr>\n",
       "  </thead>\n",
       "  <tbody>\n",
       "    <tr>\n",
       "      <th>84547</th>\n",
       "      <td>0.263826</td>\n",
       "      <td>-0.002435</td>\n",
       "      <td>-0.289998</td>\n",
       "      <td>-0.076151</td>\n",
       "      <td>0.0</td>\n",
       "      <td>-0.587558</td>\n",
       "      <td>-0.065049</td>\n",
       "      <td>-1.072218</td>\n",
       "    </tr>\n",
       "    <tr>\n",
       "      <th>21885</th>\n",
       "      <td>1.042026</td>\n",
       "      <td>-0.002435</td>\n",
       "      <td>1.404821</td>\n",
       "      <td>-0.076151</td>\n",
       "      <td>0.0</td>\n",
       "      <td>0.860698</td>\n",
       "      <td>0.945271</td>\n",
       "      <td>0.409510</td>\n",
       "    </tr>\n",
       "    <tr>\n",
       "      <th>456760</th>\n",
       "      <td>0.263826</td>\n",
       "      <td>-0.002435</td>\n",
       "      <td>-0.164194</td>\n",
       "      <td>-0.076151</td>\n",
       "      <td>0.0</td>\n",
       "      <td>-2.035813</td>\n",
       "      <td>0.440111</td>\n",
       "      <td>0.705856</td>\n",
       "    </tr>\n",
       "    <tr>\n",
       "      <th>440266</th>\n",
       "      <td>0.263826</td>\n",
       "      <td>-0.002435</td>\n",
       "      <td>-0.586838</td>\n",
       "      <td>2.149580</td>\n",
       "      <td>0.0</td>\n",
       "      <td>0.317602</td>\n",
       "      <td>0.945271</td>\n",
       "      <td>1.594894</td>\n",
       "    </tr>\n",
       "    <tr>\n",
       "      <th>377470</th>\n",
       "      <td>-4.405368</td>\n",
       "      <td>-0.003643</td>\n",
       "      <td>-0.571289</td>\n",
       "      <td>-0.076151</td>\n",
       "      <td>0.0</td>\n",
       "      <td>-1.130654</td>\n",
       "      <td>-0.065049</td>\n",
       "      <td>1.298548</td>\n",
       "    </tr>\n",
       "  </tbody>\n",
       "</table>\n",
       "</div>"
      ],
      "text/plain": [
       "               0         1         2         3    4         5         6  \\\n",
       "84547   0.263826 -0.002435 -0.289998 -0.076151  0.0 -0.587558 -0.065049   \n",
       "21885   1.042026 -0.002435  1.404821 -0.076151  0.0  0.860698  0.945271   \n",
       "456760  0.263826 -0.002435 -0.164194 -0.076151  0.0 -2.035813  0.440111   \n",
       "440266  0.263826 -0.002435 -0.586838  2.149580  0.0  0.317602  0.945271   \n",
       "377470 -4.405368 -0.003643 -0.571289 -0.076151  0.0 -1.130654 -0.065049   \n",
       "\n",
       "               7  \n",
       "84547  -1.072218  \n",
       "21885   0.409510  \n",
       "456760  0.705856  \n",
       "440266  1.594894  \n",
       "377470  1.298548  "
      ]
     },
     "execution_count": 51,
     "metadata": {},
     "output_type": "execute_result"
    }
   ],
   "source": [
    "nums_df_scaled.head()"
   ]
  },
  {
   "cell_type": "code",
   "execution_count": 52,
   "metadata": {},
   "outputs": [],
   "source": [
    "ohe = OneHotEncoder(\n",
    "    drop='first',\n",
    "    sparse=False)\n",
    "\n",
    "dums = ohe.fit_transform(X_train_cat)\n",
    "dums_df = pd.DataFrame(dums,\n",
    "                       columns=ohe.get_feature_names(),\n",
    "                       index=X_train_cat.index)"
   ]
  },
  {
   "cell_type": "code",
   "execution_count": 53,
   "metadata": {},
   "outputs": [],
   "source": [
    "X_train_all = pd.concat([nums_df_scaled, dums_df], axis=1)"
   ]
  },
  {
   "cell_type": "code",
   "execution_count": 27,
   "metadata": {},
   "outputs": [],
   "source": [
    "numerical_pipeline = Pipeline(steps=[\n",
    "    ('imputer', SimpleImputer(strategy=\"median\")),\n",
    "    ('ss', StandardScaler())\n",
    "])\n",
    "                \n",
    "categorical_pipeline = Pipeline(steps=[\n",
    "    ('ohe', OneHotEncoder(drop='first',\n",
    "                         sparse=False))\n",
    "])\n",
    "\n",
    "trans = ColumnTransformer(transformers=[\n",
    "    ('numerical', numerical_pipeline, X_train_nums.columns),\n",
    "    ('categorical', categorical_pipeline, X_train_cat.columns)\n",
    "])"
   ]
  },
  {
   "cell_type": "code",
   "execution_count": 28,
   "metadata": {},
   "outputs": [],
   "source": [
    "model_pipe = Pipeline(steps=[\n",
    "    ('trans', trans),\n",
    "    ('dc', DummyClassifier(strategy='most_frequent'))\n",
    "])"
   ]
  },
  {
   "cell_type": "code",
   "execution_count": 30,
   "metadata": {},
   "outputs": [
    {
     "data": {
      "text/plain": [
       "Pipeline(steps=[('trans',\n",
       "                 ColumnTransformer(transformers=[('numerical',\n",
       "                                                  Pipeline(steps=[('imputer',\n",
       "                                                                   SimpleImputer(strategy='median')),\n",
       "                                                                  ('ss',\n",
       "                                                                   StandardScaler())]),\n",
       "                                                  Index(['POSTED_SPEED_LIMIT', 'LANE_CNT', 'BEAT_OF_OCCURRENCE', 'NUM_UNITS',\n",
       "       'INJURIES_UNKNOWN', 'CRASH_HOUR', 'CRASH_DAY_OF_WEEK', 'CRASH_MONTH'],\n",
       "      dtype='object')),\n",
       "                                                 ('categorical',\n",
       "                                                  Pipeline(steps=[('ohe'...\n",
       "                                                  Index(['TRAFFIC_CONTROL_DEVICE', 'DEVICE_CONDITION', 'WEATHER_CONDITION',\n",
       "       'LIGHTING_CONDITION', 'FIRST_CRASH_TYPE', 'TRAFFICWAY_TYPE',\n",
       "       'ALIGNMENT', 'ROADWAY_SURFACE_COND', 'ROAD_DEFECT', 'CRASH_TYPE',\n",
       "       'INTERSECTION_RELATED_I', 'HIT_AND_RUN_I', 'DAMAGE',\n",
       "       'PRIM_CONTRIBUTORY_CAUSE', 'SEC_CONTRIBUTORY_CAUSE'],\n",
       "      dtype='object'))])),\n",
       "                ('dc', DummyClassifier(strategy='most_frequent'))])"
      ]
     },
     "execution_count": 30,
     "metadata": {},
     "output_type": "execute_result"
    }
   ],
   "source": [
    "model_pipe.fit(X_train, y_train)"
   ]
  },
  {
   "cell_type": "code",
   "execution_count": 31,
   "metadata": {},
   "outputs": [
    {
     "data": {
      "text/plain": [
       "0.9824026255617756"
      ]
     },
     "execution_count": 31,
     "metadata": {},
     "output_type": "execute_result"
    }
   ],
   "source": [
    "model_pipe.score(X_train, y_train)"
   ]
  },
  {
   "cell_type": "code",
   "execution_count": 32,
   "metadata": {},
   "outputs": [
    {
     "data": {
      "text/plain": [
       "0.9819271765001553"
      ]
     },
     "execution_count": 32,
     "metadata": {},
     "output_type": "execute_result"
    }
   ],
   "source": [
    "model_pipe.score(X_test, y_test)"
   ]
  },
  {
   "cell_type": "code",
   "execution_count": null,
   "metadata": {},
   "outputs": [],
   "source": []
  },
  {
   "cell_type": "code",
   "execution_count": null,
   "metadata": {},
   "outputs": [],
   "source": []
  },
  {
   "cell_type": "code",
   "execution_count": null,
   "metadata": {},
   "outputs": [],
   "source": []
  }
 ],
 "metadata": {
  "kernelspec": {
   "display_name": "Python (learn-env)",
   "language": "python",
   "name": "learn-env"
  },
  "language_info": {
   "codemirror_mode": {
    "name": "ipython",
    "version": 3
   },
   "file_extension": ".py",
   "mimetype": "text/x-python",
   "name": "python",
   "nbconvert_exporter": "python",
   "pygments_lexer": "ipython3",
   "version": "3.8.5"
  }
 },
 "nbformat": 4,
 "nbformat_minor": 4
}
