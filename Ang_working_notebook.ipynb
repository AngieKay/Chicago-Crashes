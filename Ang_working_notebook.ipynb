{
 "cells": [
  {
   "cell_type": "code",
   "execution_count": 28,
   "metadata": {},
   "outputs": [],
   "source": [
    "import pandas as pd\n",
    "import numpy as np\n",
    "import seaborn as sns\n",
    "from scipy import stats as stats\n",
    "import matplotlib.pyplot as plt\n",
    "%matplotlib inline\n",
    "\n",
    "from sklearn.preprocessing import OneHotEncoder, StandardScaler\n",
    "from sklearn.impute import SimpleImputer\n",
    "from sklearn.pipeline import Pipeline\n",
    "from sklearn.compose import ColumnTransformer\n",
    "\n",
    "from sklearn.dummy import DummyClassifier\n",
    "from sklearn.linear_model import LogisticRegression\n",
    "from sklearn.neighbors import KNeighborsClassifier\n",
    "from sklearn.tree import DecisionTreeClassifier\n",
    "\n",
    "from sklearn.ensemble import RandomForestClassifier\n",
    "\n",
    "from sklearn.metrics import accuracy_score, precision_score, recall_score, confusion_matrix\n",
    "from sklearn.model_selection import train_test_split, GridSearchCV,\\\n",
    "cross_val_score, RandomizedSearchCV\n",
    "\n",
    "from sklearn.preprocessing import FunctionTransformer\n",
    "\n"
   ]
  },
  {
   "cell_type": "code",
   "execution_count": 29,
   "metadata": {},
   "outputs": [],
   "source": [
    "crashes = pd.read_csv('C:/Users/angie/Desktop/group_project/Chicago-Crashes/data/Traffic_Crashes_-_Crashes.csv', low_memory=False)\n",
    "people = pd.read_csv('C:/Users/angie/Desktop/group_project/Chicago-Crashes/data/Traffic_Crashes_-_People.csv', low_memory = False)\n",
    "#vehicles = pd.reimport pandas as pd"
   ]
  },
  {
   "cell_type": "code",
   "execution_count": 30,
   "metadata": {},
   "outputs": [
    {
     "data": {
      "text/plain": [
       "Index(['CRASH_RECORD_ID', 'RD_NO', 'CRASH_DATE_EST_I', 'CRASH_DATE',\n",
       "       'POSTED_SPEED_LIMIT', 'TRAFFIC_CONTROL_DEVICE', 'DEVICE_CONDITION',\n",
       "       'WEATHER_CONDITION', 'LIGHTING_CONDITION', 'FIRST_CRASH_TYPE',\n",
       "       'TRAFFICWAY_TYPE', 'LANE_CNT', 'ALIGNMENT', 'ROADWAY_SURFACE_COND',\n",
       "       'ROAD_DEFECT', 'REPORT_TYPE', 'CRASH_TYPE', 'INTERSECTION_RELATED_I',\n",
       "       'NOT_RIGHT_OF_WAY_I', 'HIT_AND_RUN_I', 'DAMAGE', 'DATE_POLICE_NOTIFIED',\n",
       "       'PRIM_CONTRIBUTORY_CAUSE', 'SEC_CONTRIBUTORY_CAUSE', 'STREET_NO',\n",
       "       'STREET_DIRECTION', 'STREET_NAME', 'BEAT_OF_OCCURRENCE',\n",
       "       'PHOTOS_TAKEN_I', 'STATEMENTS_TAKEN_I', 'DOORING_I', 'WORK_ZONE_I',\n",
       "       'WORK_ZONE_TYPE', 'WORKERS_PRESENT_I', 'NUM_UNITS',\n",
       "       'MOST_SEVERE_INJURY', 'INJURIES_TOTAL', 'INJURIES_FATAL',\n",
       "       'INJURIES_INCAPACITATING', 'INJURIES_NON_INCAPACITATING',\n",
       "       'INJURIES_REPORTED_NOT_EVIDENT', 'INJURIES_NO_INDICATION',\n",
       "       'INJURIES_UNKNOWN', 'CRASH_HOUR', 'CRASH_DAY_OF_WEEK', 'CRASH_MONTH',\n",
       "       'LATITUDE', 'LONGITUDE', 'LOCATION'],\n",
       "      dtype='object')"
      ]
     },
     "execution_count": 30,
     "metadata": {},
     "output_type": "execute_result"
    }
   ],
   "source": [
    "crashes.columns"
   ]
  },
  {
   "cell_type": "code",
   "execution_count": 20,
   "metadata": {},
   "outputs": [],
   "source": [
    "crashes.drop(['MOST_SEVERE_INJURY','INJURIES_TOTAL', 'INJURIES_FATAL','INJURIES_INCAPACITATING',\n",
    "                      'INJURIES_NON_INCAPACITATING', 'INJURIES_REPORTED_NOT_EVIDENT',\n",
    "                      'INJURIES_NO_INDICATION', 'CRASH_DATE', 'LATITUDE', \n",
    "                      'LONGITUDE','LOCATION'], axis=1, inplace = True)"
   ]
  },
  {
   "cell_type": "code",
   "execution_count": 21,
   "metadata": {},
   "outputs": [],
   "source": [
    "df_list=[crashes, people]\n",
    "for df in df_list:\n",
    "    min_count =  int((20/100)*df.shape[0] + 1)\n",
    "    df = df.dropna(axis=1, thresh=min_count, inplace=True)"
   ]
  },
  {
   "cell_type": "code",
   "execution_count": 22,
   "metadata": {},
   "outputs": [],
   "source": [
    "people_mod = people.drop(['CITY', 'ZIPCODE','RD_NO'], axis =1)\n",
    "crashes_mod = crashes.drop(['RD_NO','REPORT_TYPE', 'DATE_POLICE_NOTIFIED', 'STREET_NO', \n",
    "              'STREET_DIRECTION', 'STREET_NAME'], axis =1)"
   ]
  },
  {
   "cell_type": "code",
   "execution_count": 23,
   "metadata": {},
   "outputs": [],
   "source": [
    "people_crashes_df = people_mod.merge(crashes_mod, on='CRASH_RECORD_ID', how='left')"
   ]
  },
  {
   "cell_type": "code",
   "execution_count": 31,
   "metadata": {},
   "outputs": [
    {
     "data": {
      "text/html": [
       "<div>\n",
       "<style scoped>\n",
       "    .dataframe tbody tr th:only-of-type {\n",
       "        vertical-align: middle;\n",
       "    }\n",
       "\n",
       "    .dataframe tbody tr th {\n",
       "        vertical-align: top;\n",
       "    }\n",
       "\n",
       "    .dataframe thead th {\n",
       "        text-align: right;\n",
       "    }\n",
       "</style>\n",
       "<table border=\"1\" class=\"dataframe\">\n",
       "  <thead>\n",
       "    <tr style=\"text-align: right;\">\n",
       "      <th></th>\n",
       "      <th>PERSON_ID</th>\n",
       "      <th>PERSON_TYPE</th>\n",
       "      <th>CRASH_RECORD_ID</th>\n",
       "      <th>VEHICLE_ID</th>\n",
       "      <th>CRASH_DATE</th>\n",
       "      <th>SEAT_NO</th>\n",
       "      <th>STATE</th>\n",
       "      <th>SEX</th>\n",
       "      <th>AGE</th>\n",
       "      <th>DRIVERS_LICENSE_STATE</th>\n",
       "      <th>...</th>\n",
       "      <th>DAMAGE</th>\n",
       "      <th>PRIM_CONTRIBUTORY_CAUSE</th>\n",
       "      <th>SEC_CONTRIBUTORY_CAUSE</th>\n",
       "      <th>BEAT_OF_OCCURRENCE</th>\n",
       "      <th>NUM_UNITS</th>\n",
       "      <th>INJURIES_UNKNOWN</th>\n",
       "      <th>CRASH_HOUR</th>\n",
       "      <th>CRASH_DAY_OF_WEEK</th>\n",
       "      <th>CRASH_MONTH</th>\n",
       "      <th>TARGET</th>\n",
       "    </tr>\n",
       "  </thead>\n",
       "  <tbody>\n",
       "    <tr>\n",
       "      <th>0</th>\n",
       "      <td>O749947</td>\n",
       "      <td>DRIVER</td>\n",
       "      <td>81dc0de2ed92aa62baccab641fa377be7feb1cc47e6554...</td>\n",
       "      <td>834816.0</td>\n",
       "      <td>09/28/2019 03:30:00 AM</td>\n",
       "      <td>NaN</td>\n",
       "      <td>IL</td>\n",
       "      <td>M</td>\n",
       "      <td>25.0</td>\n",
       "      <td>IL</td>\n",
       "      <td>...</td>\n",
       "      <td>OVER $1,500</td>\n",
       "      <td>UNABLE TO DETERMINE</td>\n",
       "      <td>NOT APPLICABLE</td>\n",
       "      <td>1531.0</td>\n",
       "      <td>3.0</td>\n",
       "      <td>0.0</td>\n",
       "      <td>3</td>\n",
       "      <td>7</td>\n",
       "      <td>9</td>\n",
       "      <td>0</td>\n",
       "    </tr>\n",
       "    <tr>\n",
       "      <th>1</th>\n",
       "      <td>O871921</td>\n",
       "      <td>DRIVER</td>\n",
       "      <td>af84fb5c8d996fcd3aefd36593c3a02e6e7509eeb27568...</td>\n",
       "      <td>827212.0</td>\n",
       "      <td>04/13/2020 10:50:00 PM</td>\n",
       "      <td>NaN</td>\n",
       "      <td>IL</td>\n",
       "      <td>M</td>\n",
       "      <td>37.0</td>\n",
       "      <td>IL</td>\n",
       "      <td>...</td>\n",
       "      <td>$500 OR LESS</td>\n",
       "      <td>IMPROPER OVERTAKING/PASSING</td>\n",
       "      <td>FAILING TO REDUCE SPEED TO AVOID CRASH</td>\n",
       "      <td>613.0</td>\n",
       "      <td>2.0</td>\n",
       "      <td>0.0</td>\n",
       "      <td>22</td>\n",
       "      <td>2</td>\n",
       "      <td>4</td>\n",
       "      <td>0</td>\n",
       "    </tr>\n",
       "    <tr>\n",
       "      <th>2</th>\n",
       "      <td>O10018</td>\n",
       "      <td>DRIVER</td>\n",
       "      <td>71162af7bf22799b776547132ebf134b5b438dcf3dac6b...</td>\n",
       "      <td>9579.0</td>\n",
       "      <td>11/01/2015 05:00:00 AM</td>\n",
       "      <td>NaN</td>\n",
       "      <td>NaN</td>\n",
       "      <td>X</td>\n",
       "      <td>NaN</td>\n",
       "      <td>NaN</td>\n",
       "      <td>...</td>\n",
       "      <td>OVER $1,500</td>\n",
       "      <td>DRIVING SKILLS/KNOWLEDGE/EXPERIENCE</td>\n",
       "      <td>NOT APPLICABLE</td>\n",
       "      <td>821.0</td>\n",
       "      <td>2.0</td>\n",
       "      <td>0.0</td>\n",
       "      <td>5</td>\n",
       "      <td>1</td>\n",
       "      <td>11</td>\n",
       "      <td>0</td>\n",
       "    </tr>\n",
       "    <tr>\n",
       "      <th>3</th>\n",
       "      <td>O10038</td>\n",
       "      <td>DRIVER</td>\n",
       "      <td>c21c476e2ccc41af550b5d858d22aaac4ffc88745a1700...</td>\n",
       "      <td>9598.0</td>\n",
       "      <td>11/01/2015 08:00:00 AM</td>\n",
       "      <td>NaN</td>\n",
       "      <td>NaN</td>\n",
       "      <td>X</td>\n",
       "      <td>NaN</td>\n",
       "      <td>NaN</td>\n",
       "      <td>...</td>\n",
       "      <td>$501 - $1,500</td>\n",
       "      <td>UNABLE TO DETERMINE</td>\n",
       "      <td>UNABLE TO DETERMINE</td>\n",
       "      <td>2023.0</td>\n",
       "      <td>2.0</td>\n",
       "      <td>0.0</td>\n",
       "      <td>8</td>\n",
       "      <td>1</td>\n",
       "      <td>11</td>\n",
       "      <td>0</td>\n",
       "    </tr>\n",
       "    <tr>\n",
       "      <th>4</th>\n",
       "      <td>O10039</td>\n",
       "      <td>DRIVER</td>\n",
       "      <td>eb390a4c8e114c69488f5fb8a097fe629f5a92fd528cf4...</td>\n",
       "      <td>9600.0</td>\n",
       "      <td>11/01/2015 10:15:00 AM</td>\n",
       "      <td>NaN</td>\n",
       "      <td>NaN</td>\n",
       "      <td>X</td>\n",
       "      <td>NaN</td>\n",
       "      <td>NaN</td>\n",
       "      <td>...</td>\n",
       "      <td>OVER $1,500</td>\n",
       "      <td>UNABLE TO DETERMINE</td>\n",
       "      <td>NOT APPLICABLE</td>\n",
       "      <td>223.0</td>\n",
       "      <td>2.0</td>\n",
       "      <td>0.0</td>\n",
       "      <td>10</td>\n",
       "      <td>1</td>\n",
       "      <td>11</td>\n",
       "      <td>0</td>\n",
       "    </tr>\n",
       "  </tbody>\n",
       "</table>\n",
       "<p>5 rows × 43 columns</p>\n",
       "</div>"
      ],
      "text/plain": [
       "  PERSON_ID PERSON_TYPE                                    CRASH_RECORD_ID  \\\n",
       "0   O749947      DRIVER  81dc0de2ed92aa62baccab641fa377be7feb1cc47e6554...   \n",
       "1   O871921      DRIVER  af84fb5c8d996fcd3aefd36593c3a02e6e7509eeb27568...   \n",
       "2    O10018      DRIVER  71162af7bf22799b776547132ebf134b5b438dcf3dac6b...   \n",
       "3    O10038      DRIVER  c21c476e2ccc41af550b5d858d22aaac4ffc88745a1700...   \n",
       "4    O10039      DRIVER  eb390a4c8e114c69488f5fb8a097fe629f5a92fd528cf4...   \n",
       "\n",
       "   VEHICLE_ID              CRASH_DATE  SEAT_NO STATE SEX   AGE  \\\n",
       "0    834816.0  09/28/2019 03:30:00 AM      NaN    IL   M  25.0   \n",
       "1    827212.0  04/13/2020 10:50:00 PM      NaN    IL   M  37.0   \n",
       "2      9579.0  11/01/2015 05:00:00 AM      NaN   NaN   X   NaN   \n",
       "3      9598.0  11/01/2015 08:00:00 AM      NaN   NaN   X   NaN   \n",
       "4      9600.0  11/01/2015 10:15:00 AM      NaN   NaN   X   NaN   \n",
       "\n",
       "  DRIVERS_LICENSE_STATE  ...         DAMAGE  \\\n",
       "0                    IL  ...    OVER $1,500   \n",
       "1                    IL  ...   $500 OR LESS   \n",
       "2                   NaN  ...    OVER $1,500   \n",
       "3                   NaN  ...  $501 - $1,500   \n",
       "4                   NaN  ...    OVER $1,500   \n",
       "\n",
       "               PRIM_CONTRIBUTORY_CAUSE  \\\n",
       "0                  UNABLE TO DETERMINE   \n",
       "1          IMPROPER OVERTAKING/PASSING   \n",
       "2  DRIVING SKILLS/KNOWLEDGE/EXPERIENCE   \n",
       "3                  UNABLE TO DETERMINE   \n",
       "4                  UNABLE TO DETERMINE   \n",
       "\n",
       "                   SEC_CONTRIBUTORY_CAUSE BEAT_OF_OCCURRENCE NUM_UNITS  \\\n",
       "0                          NOT APPLICABLE             1531.0       3.0   \n",
       "1  FAILING TO REDUCE SPEED TO AVOID CRASH              613.0       2.0   \n",
       "2                          NOT APPLICABLE              821.0       2.0   \n",
       "3                     UNABLE TO DETERMINE             2023.0       2.0   \n",
       "4                          NOT APPLICABLE              223.0       2.0   \n",
       "\n",
       "  INJURIES_UNKNOWN CRASH_HOUR CRASH_DAY_OF_WEEK CRASH_MONTH  TARGET  \n",
       "0              0.0          3                 7           9       0  \n",
       "1              0.0         22                 2           4       0  \n",
       "2              0.0          5                 1          11       0  \n",
       "3              0.0          8                 1          11       0  \n",
       "4              0.0         10                 1          11       0  \n",
       "\n",
       "[5 rows x 43 columns]"
      ]
     },
     "execution_count": 31,
     "metadata": {},
     "output_type": "execute_result"
    }
   ],
   "source": [
    "people_crashes_df.head()"
   ]
  },
  {
   "cell_type": "code",
   "execution_count": 24,
   "metadata": {},
   "outputs": [],
   "source": [
    "people_crashes_df['TARGET'] = people_crashes_df['INJURY_CLASSIFICATION'].map({np.nan: 0,\n",
    "                                                      'NO INDICATION OF INJURY': 0,\n",
    "                                                      'NONINCAPACITATING INJURY': 1,\n",
    "                                                      'REPORTED, NOT EVIDENT': 1,\n",
    "                                                      'INCAPACITATING INJURY': 2,\n",
    "                                                      'FATAL': 3})"
   ]
  },
  {
   "cell_type": "code",
   "execution_count": 44,
   "metadata": {},
   "outputs": [
    {
     "data": {
      "text/plain": [
       "0    91.731445\n",
       "1     7.308235\n",
       "2     0.905459\n",
       "3     0.054861\n",
       "Name: TARGET, dtype: float64"
      ]
     },
     "execution_count": 44,
     "metadata": {},
     "output_type": "execute_result"
    }
   ],
   "source": [
    "(people_crashes_df.TARGET.value_counts(normalize = 'true'))*100"
   ]
  },
  {
   "cell_type": "code",
   "execution_count": 60,
   "metadata": {},
   "outputs": [
    {
     "name": "stdout",
     "output_type": "stream",
     "text": [
      "Collecting tabulate\n",
      "  Downloading tabulate-0.8.9-py3-none-any.whl (25 kB)\n",
      "Installing collected packages: tabulate\n",
      "Successfully installed tabulate-0.8.9\n",
      "Note: you may need to restart the kernel to use updated packages.\n"
     ]
    }
   ],
   "source": [
    "pip install tabulate\n"
   ]
  },
  {
   "cell_type": "code",
   "execution_count": 2,
   "metadata": {},
   "outputs": [],
   "source": [
    "\n",
    "from tabulate import tabulate"
   ]
  },
  {
   "cell_type": "code",
   "execution_count": 13,
   "metadata": {},
   "outputs": [
    {
     "name": "stdout",
     "output_type": "stream",
     "text": [
      "-------------------------  ---------------\n",
      "SEVERITY OF INJURY         PERCENT OF DATA\n",
      "\n",
      "No Injury                  91.73%\n",
      "Non Incapacitating Injury  7.31%\n",
      "Incapacitating Injury      .91%\n",
      "Fatal                      .05%\n",
      "-------------------------  ---------------\n"
     ]
    }
   ],
   "source": [
    "table = [['SEVERITY OF INJURY', 'PERCENT OF DATA'], [], ['No Injury', '  91.73%'], ['Non Incapacitating Injury', '  7.31%'], ['Incapacitating Injury', '  .91%'], ['Fatal', '  .05%']]\n",
    "print(tabulate(table))"
   ]
  },
  {
   "cell_type": "code",
   "execution_count": 57,
   "metadata": {},
   "outputs": [
    {
     "data": {
      "text/plain": [
       "<AxesSubplot:ylabel='TARGET'>"
      ]
     },
     "execution_count": 57,
     "metadata": {},
     "output_type": "execute_result"
    },
    {
     "data": {
      "image/png": "[encoded data removed]",
      "text/plain": [
       "<Figure size 432x288 with 1 Axes>"
      ]
     },
     "metadata": {},
     "output_type": "display_data"
    }
   ],
   "source": [
    "people_crashes_df.TARGET.value_counts(normalize = 'true').sort_values().plot(kind = 'pie')\n",
    "#df.letters.value_counts().sort_values().plot(kind = 'barh')"
   ]
  },
  {
   "cell_type": "code",
   "execution_count": 42,
   "metadata": {},
   "outputs": [],
   "source": [
    "\n"
   ]
  },
  {
   "cell_type": "code",
   "execution_count": 56,
   "metadata": {},
   "outputs": [
    {
     "data": {
      "image/png": "[encoded data removed]",
      "text/plain": [
       "<Waffle size 864x576 with 1 Axes>"
      ]
     },
     "metadata": {
      "needs_background": "light"
     },
     "output_type": "display_data"
    }
   ],
   "source": []
  },
  {
   "cell_type": "code",
   "execution_count": null,
   "metadata": {},
   "outputs": [],
   "source": [
    "people_crashes_df['CRASH_YEAR']=pd.to_datetime(people_crashes_df['CRASH_DATE']).dt.year"
   ]
  },
  {
   "cell_type": "code",
   "execution_count": null,
   "metadata": {},
   "outputs": [],
   "source": [
    "# Drop nulls from BEAT_OF_OCCURRENCE\n",
    "people_crashes_df.dropna(subset = ['BEAT_OF_OCCURRENCE'], inplace=True)"
   ]
  },
  {
   "cell_type": "code",
   "execution_count": null,
   "metadata": {},
   "outputs": [],
   "source": [
    "# Drop ages < 0 and ages = 0 for DRIVER\n",
    "people_crashes_df.loc[people_crashes_df.AGE < 0, 'AGE'] = np.nan\n",
    "people_crashes_df.loc[(people_crashes_df.AGE == 0) & (people_crashes_df.PERSON_TYPE == 'DRIVER'), 'AGE'] = np.nan\n",
    "people_crashes_df.dropna(subset = ['AGE'], inplace=True)"
   ]
  },
  {
   "cell_type": "code",
   "execution_count": null,
   "metadata": {},
   "outputs": [],
   "source": [
    "# Drop POSTED_SPEED_LIMIT = 0 or not divisible by 5\n",
    "people_crashes_df.loc[people_crashes_df.POSTED_SPEED_LIMIT == 0, 'POSTED_SPEED_LIMIT'] = np.nan\n",
    "people_crashes_df.loc[(people_crashes_df.POSTED_SPEED_LIMIT % 5) != 0, 'POSTED_SPEED_LIMIT'] = np.nan\n",
    "people_crashes_df.dropna(subset = ['POSTED_SPEED_LIMIT'], inplace=True)"
   ]
  },
  {
   "cell_type": "code",
   "execution_count": null,
   "metadata": {},
   "outputs": [],
   "source": [
    "X = people_crashes_df[['PERSON_TYPE', 'SEX', 'SAFETY_EQUIPMENT', 'AGE', 'AIRBAG_DEPLOYED', \n",
    "                           'EJECTION', 'DRIVER_ACTION', 'SEAT_NO', 'LIGHTING_CONDITION', 'WEATHER_CONDITION', \n",
    "                           'FIRST_CRASH_TYPE', 'TRAFFICWAY_TYPE', 'DAMAGE', 'PRIM_CONTRIBUTORY_CAUSE', \n",
    "                           'BEAT_OF_OCCURRENCE', 'NUM_UNITS']]\n",
    "y = people_crashes_df['TARGET']"
   ]
  },
  {
   "cell_type": "code",
   "execution_count": null,
   "metadata": {},
   "outputs": [],
   "source": [
    "len(X), len(y)"
   ]
  },
  {
   "cell_type": "code",
   "execution_count": null,
   "metadata": {},
   "outputs": [],
   "source": [
    "X_train, X_test, y_train, y_test = train_test_split(X, y, random_state=42, stratify=y)"
   ]
  },
  {
   "cell_type": "code",
   "execution_count": null,
   "metadata": {},
   "outputs": [],
   "source": [
    "def seat_no_transformer(df):\n",
    "    df['SEAT_NO'][df.PERSON_TYPE == 'DRIVER'] = 1\n",
    "    df['SEAT_NO'].fillna(0, inplace=True)\n",
    "    return df"
   ]
  },
  {
   "cell_type": "code",
   "execution_count": null,
   "metadata": {},
   "outputs": [],
   "source": [
    "def to_float_transformer(df):\n",
    "    '''\n",
    "    Ensure all columns are float, not int.\n",
    "    '''\n",
    "    for col in [df.select_dtypes('int64').columns]:\n",
    "        df[col] = df[col].astype('float64')\n",
    "    return df"
   ]
  },
  {
   "cell_type": "code",
   "execution_count": null,
   "metadata": {},
   "outputs": [],
   "source": [
    "def fill_categories(df):\n",
    "    '''\n",
    "    Fill null values with given value for \n",
    "    unknown values in that column.\n",
    "    Drop all remaining nulls.\n",
    "    '''\n",
    "    df.fillna({'STATE':'XX', \n",
    "               'EJECTION': 'UNKNOWN',\n",
    "               'DRIVER_ACTION': 'UNKNOWN',\n",
    "               'DRIVER_VISION': 'UNKNOWN',\n",
    "               'PHYSICAL_CONDITION': 'UNKNOWN',\n",
    "               'SAFETY_EQUIPMENT': 'USAGE_UNKNOWN',\n",
    "               'AIRBAG_DEPLOYED': 'DEPLOYMENT_UNKNOWN',\n",
    "               'SEX': 'UNKNOWN',\n",
    "               'INTERSECTION_RELATED_I': 'N',\n",
    "               'HIT_AND_RUN_I': 'N',\n",
    "               'BAC_RESULT': 'TEST NOT OFFERED'\n",
    "              }, inplace=True)\n",
    "    return df"
   ]
  },
  {
   "cell_type": "code",
   "execution_count": null,
   "metadata": {},
   "outputs": [],
   "source": [
    "ohe_cols = list(X_train.select_dtypes('object').columns)\n",
    "#ohe_cols.append('BEAT_OF_OCCURRENCE')"
   ]
  },
  {
   "cell_type": "code",
   "execution_count": null,
   "metadata": {},
   "outputs": [],
   "source": [
    "# OneHotEncode the columns as part of cleaning\n",
    "# to avoid needing to separate numerical and categorical\n",
    "# columns later\n",
    "ohe_col_trans = ColumnTransformer(transformers=\n",
    "                                     [('ohe', OneHotEncoder(drop='first', sparse=False), \n",
    "                                       ohe_cols)],\n",
    "                                 remainder='passthrough')"
   ]
  },
  {
   "cell_type": "code",
   "execution_count": null,
   "metadata": {},
   "outputs": [],
   "source": [
    "# Apply all our cleaning functions, then finish with ohe\n",
    "cleaning_pipeline = Pipeline(steps=[\n",
    "    ('seat_no', FunctionTransformer(seat_no_transformer)),\n",
    "#     ('age', FunctionTransformer(age_transformer)),\n",
    "#    ('beat', FunctionTransformer(beat_transformer)),\n",
    "#     ('speed', FunctionTransformer(speed_limit_transformer)),\n",
    "#    ('license', FunctionTransformer(dl_class_transformer)),\n",
    "    ('fill_cat', FunctionTransformer(fill_categories)),\n",
    "    ('float', FunctionTransformer(to_float_transformer)),\n",
    "    ('col_trains', ohe_col_trans)\n",
    "])"
   ]
  },
  {
   "cell_type": "markdown",
   "metadata": {},
   "source": [
    "\n",
    "\n",
    "**--------------SMOTE, LogisticRegression, Default params------------------------**"
   ]
  },
  {
   "cell_type": "code",
   "execution_count": null,
   "metadata": {},
   "outputs": [],
   "source": [
    "X_train_cleaned = cleaning_pipeline.fit_transform(X_train)"
   ]
  },
  {
   "cell_type": "code",
   "execution_count": null,
   "metadata": {},
   "outputs": [],
   "source": [
    "len(X_train_cleaned), len(y_train)"
   ]
  },
  {
   "cell_type": "code",
   "execution_count": null,
   "metadata": {},
   "outputs": [],
   "source": [
    "from imblearn.over_sampling import SMOTE\n",
    "sm = SMOTE(random_state=42)\n",
    "X_train, y_train = sm.fit_resample(X_train_cleaned, y_train)"
   ]
  },
  {
   "cell_type": "code",
   "execution_count": null,
   "metadata": {},
   "outputs": [],
   "source": [
    "model_pipe = Pipeline(steps=[\n",
    "    ('ss', StandardScaler()),\n",
    "    ('lr', LogisticRegression(random_state=42, max_iter = 100))\n",
    "])"
   ]
  },
  {
   "cell_type": "code",
   "execution_count": null,
   "metadata": {},
   "outputs": [],
   "source": [
    "model_pipe.fit(X_train, y_train)"
   ]
  },
  {
   "cell_type": "code",
   "execution_count": null,
   "metadata": {},
   "outputs": [],
   "source": [
    "model_pipe.score(X_train, y_train)"
   ]
  },
  {
   "cell_type": "code",
   "execution_count": null,
   "metadata": {},
   "outputs": [],
   "source": [
    "from sklearn.model_selection import cross_val_predict\n",
    "y_pred = cross_val_predict(model_pipe.steps[1][1], X_train, y_train)"
   ]
  },
  {
   "cell_type": "code",
   "execution_count": null,
   "metadata": {},
   "outputs": [],
   "source": [
    "from sklearn.metrics import plot_confusion_matrix\n",
    "cm = confusion_matrix(y_train, y_pred, normalize = 'true')\n",
    "print(cm)\n",
    "plot_confusion_matrix(model_pipe, X_train, y_train)"
   ]
  },
  {
   "cell_type": "code",
   "execution_count": null,
   "metadata": {},
   "outputs": [],
   "source": [
    "from sklearn.model_selection import cross_validate\n",
    "\n",
    "def print_cv_scores(pipe):\n",
    "    \n",
    "    # we pass in pipe to cross validate along with a feature list.\n",
    "    results = cross_validate(pipe, X_train, \n",
    "                                   y_train, \n",
    "                                   return_train_score=True)\n",
    "    \n",
    "    print(results['train_score'])\n",
    "    print(results['train_score'].mean())\n",
    "    print('##############')\n",
    "    print(results['test_score'])\n",
    "    print(results['test_score'].mean())\n",
    "    \n",
    "print_cv_scores(model_pipe)"
   ]
  },
  {
   "cell_type": "code",
   "execution_count": null,
   "metadata": {},
   "outputs": [],
   "source": [
    "from sklearn.metrics import precision_recall_fscore_support"
   ]
  },
  {
   "cell_type": "code",
   "execution_count": null,
   "metadata": {},
   "outputs": [],
   "source": [
    "precision_recall_fscore_support(y_train, y_pred, average='macro')"
   ]
  },
  {
   "cell_type": "markdown",
   "metadata": {},
   "source": [
    "\n",
    "\n",
    "-----SMOTE, LogisticRegression, Solver: 'lbfgs', # of Iterations: 100, Weights: 'balanced'------"
   ]
  },
  {
   "cell_type": "code",
   "execution_count": null,
   "metadata": {},
   "outputs": [],
   "source": [
    "X_train_cleaned = cleaning_pipeline.fit_transform(X_train)"
   ]
  },
  {
   "cell_type": "code",
   "execution_count": null,
   "metadata": {},
   "outputs": [],
   "source": [
    "len(X_train_cleaned), len(y_train)"
   ]
  },
  {
   "cell_type": "code",
   "execution_count": null,
   "metadata": {},
   "outputs": [],
   "source": [
    "from imblearn.over_sampling import SMOTE\n",
    "sm = SMOTE(random_state=42)\n",
    "X_train, y_train = sm.fit_resample(X_train_cleaned, y_train)"
   ]
  },
  {
   "cell_type": "code",
   "execution_count": null,
   "metadata": {},
   "outputs": [],
   "source": [
    "model_pipe = Pipeline(steps=[\n",
    "    ('ss', StandardScaler()),\n",
    "    ('lr', LogisticRegression(random_state=42, solver = 'lbfgs', max_iter = 100, class_weight = 'balanced'))\n",
    "])"
   ]
  },
  {
   "cell_type": "code",
   "execution_count": null,
   "metadata": {},
   "outputs": [],
   "source": [
    "model_pipe.fit(X_train, y_train)"
   ]
  },
  {
   "cell_type": "code",
   "execution_count": null,
   "metadata": {},
   "outputs": [],
   "source": [
    "model_pipe.score(X_train, y_train)"
   ]
  },
  {
   "cell_type": "code",
   "execution_count": null,
   "metadata": {},
   "outputs": [],
   "source": [
    "precision_recall_fscore_support(y_train, y_pred, average='macro')"
   ]
  },
  {
   "cell_type": "code",
   "execution_count": null,
   "metadata": {},
   "outputs": [],
   "source": [
    "# from sklearn.model_selection import cross_validate\n",
    "\n",
    "# def print_cv_scores(pipe):\n",
    "    \n",
    "#     # we pass in pipe to cross validate along with a feature list.\n",
    "#     results = cross_validate(pipe, X_train, \n",
    "#                                    y_train, \n",
    "#                                    return_train_score=True)\n",
    "    \n",
    "#     print(results['train_score'])\n",
    "#     print(results['train_score'].mean())\n",
    "#     print('##############')\n",
    "#     print(results['test_score'])\n",
    "#     print(results['test_score'].mean())\n",
    "    \n",
    "# print_cv_scores(model_pipe)"
   ]
  },
  {
   "cell_type": "markdown",
   "metadata": {},
   "source": [
    "\n",
    "\n",
    "-----SMOTE, LogisticRegression, Solver: 'liblinear', # of Iterations: 100, Weights: 'balanced'------"
   ]
  },
  {
   "cell_type": "code",
   "execution_count": null,
   "metadata": {},
   "outputs": [],
   "source": [
    "X_train_cleaned = cleaning_pipeline.fit_transform(X_train)"
   ]
  },
  {
   "cell_type": "code",
   "execution_count": null,
   "metadata": {},
   "outputs": [],
   "source": [
    "len(X_train_cleaned), len(y_train)"
   ]
  },
  {
   "cell_type": "code",
   "execution_count": null,
   "metadata": {},
   "outputs": [],
   "source": [
    "from imblearn.over_sampling import SMOTE\n",
    "sm = SMOTE(random_state=42)\n",
    "X_res, y_res = sm.fit_resample(X_train_cleaned, y_train)"
   ]
  },
  {
   "cell_type": "code",
   "execution_count": null,
   "metadata": {},
   "outputs": [],
   "source": [
    "model_pipe = Pipeline(steps=[\n",
    "    ('ss', StandardScaler()),\n",
    "    ('lr', LogisticRegression(random_state=42, solver = 'liblinear', max_iter = 100, class_weight = 'balanced'))\n",
    "])"
   ]
  },
  {
   "cell_type": "code",
   "execution_count": null,
   "metadata": {},
   "outputs": [],
   "source": [
    "model_pipe.fit(X_res, y_res)"
   ]
  },
  {
   "cell_type": "code",
   "execution_count": null,
   "metadata": {},
   "outputs": [],
   "source": [
    "model_pipe.score(X_res, y_res)"
   ]
  },
  {
   "cell_type": "code",
   "execution_count": null,
   "metadata": {},
   "outputs": [],
   "source": [
    "precision_recall_fscore_support(y_res, y_pred, average='macro')"
   ]
  },
  {
   "cell_type": "markdown",
   "metadata": {},
   "source": [
    "**----- XGBOOST, default params------**"
   ]
  },
  {
   "cell_type": "code",
   "execution_count": 47,
   "metadata": {},
   "outputs": [],
   "source": [
    "from xgboost import XGBClassifier"
   ]
  },
  {
   "cell_type": "code",
   "execution_count": 48,
   "metadata": {},
   "outputs": [
    {
     "name": "stderr",
     "output_type": "stream",
     "text": [
      "<ipython-input-41-fb83f2cf173c>:2: SettingWithCopyWarning: \n",
      "A value is trying to be set on a copy of a slice from a DataFrame\n",
      "\n",
      "See the caveats in the documentation: https://pandas.pydata.org/pandas-docs/stable/user_guide/indexing.html#returning-a-view-versus-a-copy\n",
      "  df['SEAT_NO'][df.PERSON_TYPE == 'DRIVER'] = 1\n",
      "C:\\Users\\angie\\anaconda3\\envs\\learn-env\\lib\\site-packages\\pandas\\core\\series.py:1020: SettingWithCopyWarning: \n",
      "A value is trying to be set on a copy of a slice from a DataFrame\n",
      "\n",
      "See the caveats in the documentation: https://pandas.pydata.org/pandas-docs/stable/user_guide/indexing.html#returning-a-view-versus-a-copy\n",
      "  self._where(~key, value, inplace=True)\n",
      "C:\\Users\\angie\\anaconda3\\envs\\learn-env\\lib\\site-packages\\pandas\\core\\series.py:4517: SettingWithCopyWarning: \n",
      "A value is trying to be set on a copy of a slice from a DataFrame\n",
      "\n",
      "See the caveats in the documentation: https://pandas.pydata.org/pandas-docs/stable/user_guide/indexing.html#returning-a-view-versus-a-copy\n",
      "  return super().fillna(\n"
     ]
    }
   ],
   "source": [
    "X_train_cleaned = cleaning_pipeline.fit_transform(X_train)"
   ]
  },
  {
   "cell_type": "code",
   "execution_count": 49,
   "metadata": {},
   "outputs": [
    {
     "data": {
      "text/plain": [
       "(627054, 627054)"
      ]
     },
     "execution_count": 49,
     "metadata": {},
     "output_type": "execute_result"
    }
   ],
   "source": [
    "len(X_train_cleaned), len(y_train)"
   ]
  },
  {
   "cell_type": "code",
   "execution_count": 50,
   "metadata": {},
   "outputs": [
    {
     "data": {
      "text/plain": [
       "PERSON_TYPE                0\n",
       "SEX                        0\n",
       "SAFETY_EQUIPMENT           0\n",
       "AGE                        0\n",
       "AIRBAG_DEPLOYED            0\n",
       "EJECTION                   0\n",
       "DRIVER_ACTION              0\n",
       "SEAT_NO                    0\n",
       "LIGHTING_CONDITION         0\n",
       "WEATHER_CONDITION          0\n",
       "FIRST_CRASH_TYPE           0\n",
       "TRAFFICWAY_TYPE            0\n",
       "DAMAGE                     0\n",
       "PRIM_CONTRIBUTORY_CAUSE    0\n",
       "BEAT_OF_OCCURRENCE         0\n",
       "NUM_UNITS                  0\n",
       "dtype: int64"
      ]
     },
     "execution_count": 50,
     "metadata": {},
     "output_type": "execute_result"
    }
   ],
   "source": [
    "X_train.isna().sum()"
   ]
  },
  {
   "cell_type": "code",
   "execution_count": 51,
   "metadata": {},
   "outputs": [],
   "source": [
    "from imblearn.over_sampling import SMOTE\n",
    "sm = SMOTE(random_state=42)\n",
    "X_res, y_res = sm.fit_resample(X_train_cleaned, y_train)"
   ]
  },
  {
   "cell_type": "code",
   "execution_count": 52,
   "metadata": {},
   "outputs": [],
   "source": [
    "model_pipe = Pipeline(steps=[\n",
    "    ('ss', StandardScaler()),\n",
    "    ('xgb', XGBClassifier(random_state=42, n_jobs = -1))\n",
    "])"
   ]
  },
  {
   "cell_type": "code",
   "execution_count": null,
   "metadata": {},
   "outputs": [],
   "source": [
    "model_pipe.fit(X_res, y_res)"
   ]
  },
  {
   "cell_type": "code",
   "execution_count": null,
   "metadata": {},
   "outputs": [],
   "source": [
    "model_pipe.score(X_res, y_res)"
   ]
  },
  {
   "cell_type": "code",
   "execution_count": null,
   "metadata": {},
   "outputs": [],
   "source": [
    "from sklearn.metrics import precision_recall_fscore_support"
   ]
  },
  {
   "cell_type": "code",
   "execution_count": null,
   "metadata": {},
   "outputs": [],
   "source": [
    "from sklearn.model_selection import cross_val_predict\n",
    "y_pred = cross_val_predict(model_pipe.steps[1][1], X_res, y_res)"
   ]
  },
  {
   "cell_type": "code",
   "execution_count": null,
   "metadata": {},
   "outputs": [],
   "source": [
    "precision_recall_fscore_support(y_res, y_pred, average='macro')"
   ]
  },
  {
   "cell_type": "code",
   "execution_count": null,
   "metadata": {},
   "outputs": [],
   "source": [
    "print(model_pipe.steps[1][1].feature_importances_)"
   ]
  },
  {
   "cell_type": "code",
   "execution_count": null,
   "metadata": {},
   "outputs": [],
   "source": [
    "feature_name = cleaning_pipeline.steps[-1][1].get_feature_names()\n",
    "importance = [0.00254953, 0., 0.00233605, 0.00184723, 0.00097822, 0.00190925, 0.00063667, 0., 0.00207959, 0.00255143, 0., 0.00347863, 0.00226279, 0.019971, 0.00513911, 0., 0.00307888, 0.00187971, 0.00106023, 0.00102159, 0., 0.001242, 0.00136372, 0.00363245, 0.00165718, 0.0008518, 0., 0.0026852, 0., 0.00122229, 0.00111545, 0.00087373, 0.00911209, 0.0021856, 0.00044858, 0.00141463, 0.00124821, 0.00159017, 0., 0., 0., 0.00283378, 0.00171399, 0., 0.00199945, 0., 0.00118223, 0.00668535, 0., 0.00109466, 0.00401093, 0.00388916, 0.00272809, 0.01884322, 0.0045156, 0.00133088, 0., 0.00217315, 0.00772509, 0.0006892, 0.00263684, 0.01616743, 0.00812377, 0.00607146, 0., 0.00184517, 0.01411981, 0.00183418, 0.01307631, 0.00462931, 0.00542847, 0.01481777, 0.00219632, 0.00650142, 0.00336755, 0.06709845, 0.01570165, 0.0232122, 0.018059, 0.00679315, 0.00429122, 0.00489835, 0.00014759, 0.00165096, 0.00513983, 0.0291157, 0., 0.00671592, 0.00109376, 0.00371024, 0.00182787, 0.0051496, 0.01043787, 0.00372879, 0., 0.00559065, 0.01502675, 0.00993086, 0.00306601, 0.00369758, 0.02638649, 0., 0.00930436, 0.00256558, 0.00698451, 0.00583299, 0.0006391, 0.00265303,\n",
    " 0.00595531, 0.00678822, 0.00479762, 0.00296563, 0.00327525, 0.00279237,\n",
    " 0.00119998, 0.00966071, 0.00869574, 0.01835277, 0.01679247, 0.00308825,\n",
    " 0.00769471, 0.00518557, 0.01508538, 0.0037915,  0.0202597,  0.02124231,\n",
    " 0.00208727, 0.00147029, 0.00210141, 0.0062456,  0.00509456, 0.00592563,\n",
    " 0.00197763, 0.00795799, 0.00341921, 0.00718072, 0.01116631, 0.00868733,\n",
    " 0.01067301, 0.00586468, 0.00808448, 0.00534105, 0.01213205, 0.00776362,\n",
    " 0.01058323, 0.00266318, 0.00400647, 0.00865966, 0.00993486, 0.00619971,\n",
    " 0.00205991, 0.02401683, 0.00155812, 0.00779086, 0.00091193, 0.00621508,\n",
    " 0.00085267, 0.00121016, 0.00165691, 0.00142914, 0.00274774, 0.02355196,\n",
    " 0.00613796, 0.00533831, 0.00463595, 0.00795607, 0.00843228, 0.01086943,\n",
    " 0.00825049, 0.01543103]\n",
    "# summarize feature importance\n",
    "for i,v in enumerate(importance):\n",
    "    if v > 0.0001:\n",
    "        print('Feature: %s, Score: %.5f' % (feature_name[i],v))\n",
    "        \n",
    "len(importance)"
   ]
  },
  {
   "cell_type": "code",
   "execution_count": null,
   "metadata": {},
   "outputs": [],
   "source": [
    "from sklearn.metrics import plot_confusion_matrix\n",
    "cm = confusion_matrix(y_res, y_pred, normalize = 'true')\n",
    "print(cm)\n",
    "plot_confusion_matrix(model_pipe, X_res, y_res)"
   ]
  },
  {
   "cell_type": "markdown",
   "metadata": {},
   "source": [
    "**----- ADASYN, DecisionTree, sampling_strategy = 'minority', n_neighbors = 5------(didn't actually use)**"
   ]
  },
  {
   "cell_type": "code",
   "execution_count": null,
   "metadata": {},
   "outputs": [],
   "source": [
    "X_train_cleaned = cleaning_pipeline.fit_transform(X_train)"
   ]
  },
  {
   "cell_type": "code",
   "execution_count": null,
   "metadata": {},
   "outputs": [],
   "source": [
    "len(X_train_cleaned), len(y_train)"
   ]
  },
  {
   "cell_type": "code",
   "execution_count": null,
   "metadata": {},
   "outputs": [],
   "source": [
    "ada = ADASYN(sampling_strategy = 'minority', random_state = 42, n_neighbors = 5)"
   ]
  },
  {
   "cell_type": "code",
   "execution_count": null,
   "metadata": {},
   "outputs": [],
   "source": [
    "X_res, y_res = ada.fit_resample(X_train_cleaned, y_train)"
   ]
  },
  {
   "cell_type": "code",
   "execution_count": null,
   "metadata": {},
   "outputs": [],
   "source": [
    "model_pipe = Pipeline(steps=[\n",
    "    ('ss', StandardScaler()),\n",
    "    ('dtc', DecisionTreeClassifier(random_state=42, max_depth= 6, class_weight = 'balanced'))\n",
    "])"
   ]
  },
  {
   "cell_type": "code",
   "execution_count": null,
   "metadata": {},
   "outputs": [],
   "source": [
    "model_pipe.fit(X_res, y_res)"
   ]
  },
  {
   "cell_type": "code",
   "execution_count": null,
   "metadata": {},
   "outputs": [],
   "source": [
    "model_pipe.score(X_res, y_res)"
   ]
  },
  {
   "cell_type": "code",
   "execution_count": null,
   "metadata": {},
   "outputs": [],
   "source": [
    "from sklearn.metrics import precision_recall_fscore_support\n",
    "from sklearn.model_selection import cross_val_predict\n",
    "y_pred = cross_val_predict(model_pipe.steps[1][1], X_res, y_res)"
   ]
  },
  {
   "cell_type": "code",
   "execution_count": null,
   "metadata": {},
   "outputs": [],
   "source": [
    "precision_recall_fscore_support(y_res, y_pred, average='macro')"
   ]
  },
  {
   "cell_type": "markdown",
   "metadata": {},
   "source": [
    "**----- SMOTE, XGRegressor, default params------**"
   ]
  },
  {
   "cell_type": "code",
   "execution_count": null,
   "metadata": {},
   "outputs": [],
   "source": [
    "from xgboost import XGBRegressor"
   ]
  },
  {
   "cell_type": "code",
   "execution_count": null,
   "metadata": {},
   "outputs": [],
   "source": [
    "X_train_cleaned = cleaning_pipeline.fit_transform(X_train)"
   ]
  },
  {
   "cell_type": "code",
   "execution_count": null,
   "metadata": {},
   "outputs": [],
   "source": [
    "len(X_train_cleaned), len(y_train)"
   ]
  },
  {
   "cell_type": "code",
   "execution_count": null,
   "metadata": {},
   "outputs": [],
   "source": [
    "from imblearn.over_sampling import SMOTE\n",
    "sm = SMOTE(random_state=42)\n",
    "X_res, y_res = sm.fit_resample(X_train_cleaned, y_train)"
   ]
  },
  {
   "cell_type": "code",
   "execution_count": null,
   "metadata": {},
   "outputs": [],
   "source": [
    "model_pipe = Pipeline(steps=[\n",
    "    ('ss', StandardScaler()),\n",
    "    ('xgb', XGBRegressor())\n",
    "])"
   ]
  },
  {
   "cell_type": "code",
   "execution_count": null,
   "metadata": {},
   "outputs": [],
   "source": [
    "model_pipe.fit(X_res, y_res)"
   ]
  },
  {
   "cell_type": "code",
   "execution_count": null,
   "metadata": {},
   "outputs": [],
   "source": [
    "model_pipe.score(X_res, y_res)"
   ]
  },
  {
   "cell_type": "code",
   "execution_count": null,
   "metadata": {},
   "outputs": [],
   "source": [
    "from sklearn.metrics import precision_recall_fscore_support"
   ]
  },
  {
   "cell_type": "code",
   "execution_count": null,
   "metadata": {},
   "outputs": [],
   "source": [
    "from sklearn.model_selection import cross_val_predict\n",
    "y_pred = cross_val_predict(model_pipe.steps[1][1], X_res, y_res)"
   ]
  },
  {
   "cell_type": "code",
   "execution_count": null,
   "metadata": {},
   "outputs": [],
   "source": [
    "precision_recall_fscore_support(y_res, y_pred, average='macro')"
   ]
  },
  {
   "cell_type": "code",
   "execution_count": 1,
   "metadata": {},
   "outputs": [
    {
     "ename": "NameError",
     "evalue": "name 'X' is not defined",
     "output_type": "error",
     "traceback": [
      "\u001b[1;31m---------------------------------------------------------------------------\u001b[0m",
      "\u001b[1;31mNameError\u001b[0m                                 Traceback (most recent call last)",
      "\u001b[1;32m<ipython-input-1-ae5cd47bda90>\u001b[0m in \u001b[0;36m<module>\u001b[1;34m\u001b[0m\n\u001b[1;32m----> 1\u001b[1;33m \u001b[0mX\u001b[0m\u001b[1;33m.\u001b[0m\u001b[0mhead\u001b[0m\u001b[1;33m(\u001b[0m\u001b[1;33m)\u001b[0m\u001b[1;33m\u001b[0m\u001b[1;33m\u001b[0m\u001b[0m\n\u001b[0m",
      "\u001b[1;31mNameError\u001b[0m: name 'X' is not defined"
     ]
    }
   ],
   "source": [
    "X.head()"
   ]
  },
  {
   "cell_type": "code",
   "execution_count": null,
   "metadata": {},
   "outputs": [],
   "source": []
  },
  {
   "cell_type": "code",
   "execution_count": null,
   "metadata": {},
   "outputs": [],
   "source": []
  }
 ],
 "metadata": {
  "kernelspec": {
   "display_name": "Python (learn-env)",
   "language": "python",
   "name": "learn-env"
  },
  "language_info": {
   "codemirror_mode": {
    "name": "ipython",
    "version": 3
   },
   "file_extension": ".py",
   "mimetype": "text/x-python",
   "name": "python",
   "nbconvert_exporter": "python",
   "pygments_lexer": "ipython3",
   "version": "3.8.5"
  }
 },
 "nbformat": 4,
 "nbformat_minor": 4
}
