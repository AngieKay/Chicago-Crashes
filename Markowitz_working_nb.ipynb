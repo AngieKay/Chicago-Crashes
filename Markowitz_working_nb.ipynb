{
 "cells": [
  {
   "cell_type": "markdown",
   "metadata": {},
   "source": [
    "# Chicago Crashes: Phase 3 Project\n",
    "\n",
    "### Jesse Markowitz working notebook"
   ]
  },
  {
   "cell_type": "markdown",
   "metadata": {},
   "source": [
    "## Stakeholders & Main Problem"
   ]
  },
  {
   "cell_type": "markdown",
   "metadata": {},
   "source": [
    "Our stakeholder will be the City of Chicago. We'll focus on identifying the factors that most contribute to an increasing severity of crashes (fatalities, serious injury). \n",
    "\n",
    "We'll look closely at the columns associated with fatalities and injuries to create targets for this multi-class problem."
   ]
  },
  {
   "cell_type": "markdown",
   "metadata": {},
   "source": [
    "## Import datasets & poke around"
   ]
  },
  {
   "cell_type": "markdown",
   "metadata": {},
   "source": [
    "Datasets located at:\n",
    " - https://data.cityofchicago.org/Transportation/Traffic-Crashes-Crashes/85ca-t3if\n",
    " - https://data.cityofchicago.org/Transportation/Traffic-Crashes-Vehicles/68nd-jvt3\n",
    " - https://data.cityofchicago.org/Transportation/Traffic-Crashes-People/u6pd-qa9d"
   ]
  },
  {
   "cell_type": "code",
   "execution_count": 1,
   "metadata": {},
   "outputs": [],
   "source": [
    "import pandas as pd\n",
    "import numpy as np\n",
    "import matplotlib.pyplot as plt\n",
    "import seaborn as sns"
   ]
  },
  {
   "cell_type": "code",
   "execution_count": 2,
   "metadata": {},
   "outputs": [
    {
     "name": "stderr",
     "output_type": "stream",
     "text": [
      "/Users/jessemarkowitz/opt/anaconda3/envs/learn-env/lib/python3.8/site-packages/IPython/core/interactiveshell.py:3145: DtypeWarning: Columns (33) have mixed types.Specify dtype option on import or set low_memory=False.\n",
      "  has_raised = await self.run_ast_nodes(code_ast.body, cell_name,\n",
      "/Users/jessemarkowitz/opt/anaconda3/envs/learn-env/lib/python3.8/site-packages/IPython/core/interactiveshell.py:3145: DtypeWarning: Columns (12,13,20,21,22,23,24,25,26,27,29) have mixed types.Specify dtype option on import or set low_memory=False.\n",
      "  has_raised = await self.run_ast_nodes(code_ast.body, cell_name,\n"
     ]
    }
   ],
   "source": [
    "crashes_df = pd.read_csv('./data/Traffic_Crashes_-_Crashes.csv')\n",
    "people_df = pd.read_csv('./data/Traffic_Crashes_-_People.csv')\n",
    "# vehicles_df = pd.read_csv('./data/Traffic_Crashes_-_Vehicles.csv')"
   ]
  },
  {
   "cell_type": "code",
   "execution_count": 3,
   "metadata": {
    "scrolled": true
   },
   "outputs": [
    {
     "data": {
      "text/html": [
       "<div>\n",
       "<style scoped>\n",
       "    .dataframe tbody tr th:only-of-type {\n",
       "        vertical-align: middle;\n",
       "    }\n",
       "\n",
       "    .dataframe tbody tr th {\n",
       "        vertical-align: top;\n",
       "    }\n",
       "\n",
       "    .dataframe thead th {\n",
       "        text-align: right;\n",
       "    }\n",
       "</style>\n",
       "<table border=\"1\" class=\"dataframe\">\n",
       "  <thead>\n",
       "    <tr style=\"text-align: right;\">\n",
       "      <th></th>\n",
       "      <th>CRASH_RECORD_ID</th>\n",
       "      <th>RD_NO</th>\n",
       "      <th>CRASH_DATE_EST_I</th>\n",
       "      <th>CRASH_DATE</th>\n",
       "      <th>POSTED_SPEED_LIMIT</th>\n",
       "      <th>TRAFFIC_CONTROL_DEVICE</th>\n",
       "      <th>DEVICE_CONDITION</th>\n",
       "      <th>WEATHER_CONDITION</th>\n",
       "      <th>LIGHTING_CONDITION</th>\n",
       "      <th>FIRST_CRASH_TYPE</th>\n",
       "      <th>...</th>\n",
       "      <th>INJURIES_NON_INCAPACITATING</th>\n",
       "      <th>INJURIES_REPORTED_NOT_EVIDENT</th>\n",
       "      <th>INJURIES_NO_INDICATION</th>\n",
       "      <th>INJURIES_UNKNOWN</th>\n",
       "      <th>CRASH_HOUR</th>\n",
       "      <th>CRASH_DAY_OF_WEEK</th>\n",
       "      <th>CRASH_MONTH</th>\n",
       "      <th>LATITUDE</th>\n",
       "      <th>LONGITUDE</th>\n",
       "      <th>LOCATION</th>\n",
       "    </tr>\n",
       "  </thead>\n",
       "  <tbody>\n",
       "    <tr>\n",
       "      <th>0</th>\n",
       "      <td>4fd0a3e0897b3335b94cd8d5b2d2b350eb691add56c62d...</td>\n",
       "      <td>JC343143</td>\n",
       "      <td>NaN</td>\n",
       "      <td>07/10/2019 05:56:00 PM</td>\n",
       "      <td>35</td>\n",
       "      <td>NO CONTROLS</td>\n",
       "      <td>NO CONTROLS</td>\n",
       "      <td>CLEAR</td>\n",
       "      <td>DAYLIGHT</td>\n",
       "      <td>TURNING</td>\n",
       "      <td>...</td>\n",
       "      <td>0.0</td>\n",
       "      <td>0.0</td>\n",
       "      <td>3.0</td>\n",
       "      <td>0.0</td>\n",
       "      <td>17</td>\n",
       "      <td>4</td>\n",
       "      <td>7</td>\n",
       "      <td>41.919664</td>\n",
       "      <td>-87.773288</td>\n",
       "      <td>POINT (-87.773287883007 41.919663832993)</td>\n",
       "    </tr>\n",
       "    <tr>\n",
       "      <th>1</th>\n",
       "      <td>009e9e67203442370272e1a13d6ee51a4155dac65e583d...</td>\n",
       "      <td>JA329216</td>\n",
       "      <td>NaN</td>\n",
       "      <td>06/30/2017 04:00:00 PM</td>\n",
       "      <td>35</td>\n",
       "      <td>STOP SIGN/FLASHER</td>\n",
       "      <td>FUNCTIONING PROPERLY</td>\n",
       "      <td>CLEAR</td>\n",
       "      <td>DAYLIGHT</td>\n",
       "      <td>TURNING</td>\n",
       "      <td>...</td>\n",
       "      <td>0.0</td>\n",
       "      <td>0.0</td>\n",
       "      <td>3.0</td>\n",
       "      <td>0.0</td>\n",
       "      <td>16</td>\n",
       "      <td>6</td>\n",
       "      <td>6</td>\n",
       "      <td>41.741804</td>\n",
       "      <td>-87.740954</td>\n",
       "      <td>POINT (-87.740953581987 41.741803598989)</td>\n",
       "    </tr>\n",
       "    <tr>\n",
       "      <th>2</th>\n",
       "      <td>ee9283eff3a55ac50ee58f3d9528ce1d689b1c4180b4c4...</td>\n",
       "      <td>JD292400</td>\n",
       "      <td>NaN</td>\n",
       "      <td>07/10/2020 10:25:00 AM</td>\n",
       "      <td>30</td>\n",
       "      <td>TRAFFIC SIGNAL</td>\n",
       "      <td>FUNCTIONING PROPERLY</td>\n",
       "      <td>CLEAR</td>\n",
       "      <td>DAYLIGHT</td>\n",
       "      <td>REAR END</td>\n",
       "      <td>...</td>\n",
       "      <td>0.0</td>\n",
       "      <td>0.0</td>\n",
       "      <td>3.0</td>\n",
       "      <td>0.0</td>\n",
       "      <td>10</td>\n",
       "      <td>6</td>\n",
       "      <td>7</td>\n",
       "      <td>41.773456</td>\n",
       "      <td>-87.585022</td>\n",
       "      <td>POINT (-87.585022352022 41.773455972008)</td>\n",
       "    </tr>\n",
       "    <tr>\n",
       "      <th>3</th>\n",
       "      <td>f8960f698e870ebdc60b521b2a141a5395556bc3704191...</td>\n",
       "      <td>JD293602</td>\n",
       "      <td>NaN</td>\n",
       "      <td>07/11/2020 01:00:00 AM</td>\n",
       "      <td>30</td>\n",
       "      <td>NO CONTROLS</td>\n",
       "      <td>NO CONTROLS</td>\n",
       "      <td>CLEAR</td>\n",
       "      <td>DARKNESS</td>\n",
       "      <td>PARKED MOTOR VEHICLE</td>\n",
       "      <td>...</td>\n",
       "      <td>0.0</td>\n",
       "      <td>0.0</td>\n",
       "      <td>3.0</td>\n",
       "      <td>0.0</td>\n",
       "      <td>1</td>\n",
       "      <td>7</td>\n",
       "      <td>7</td>\n",
       "      <td>41.802119</td>\n",
       "      <td>-87.622115</td>\n",
       "      <td>POINT (-87.622114914961 41.802118543011)</td>\n",
       "    </tr>\n",
       "    <tr>\n",
       "      <th>4</th>\n",
       "      <td>8eaa2678d1a127804ee9b8c35ddf7d63d913c14eda61d6...</td>\n",
       "      <td>JD290451</td>\n",
       "      <td>NaN</td>\n",
       "      <td>07/08/2020 02:00:00 PM</td>\n",
       "      <td>20</td>\n",
       "      <td>NO CONTROLS</td>\n",
       "      <td>NO CONTROLS</td>\n",
       "      <td>CLEAR</td>\n",
       "      <td>DAYLIGHT</td>\n",
       "      <td>PARKED MOTOR VEHICLE</td>\n",
       "      <td>...</td>\n",
       "      <td>0.0</td>\n",
       "      <td>0.0</td>\n",
       "      <td>1.0</td>\n",
       "      <td>0.0</td>\n",
       "      <td>14</td>\n",
       "      <td>4</td>\n",
       "      <td>7</td>\n",
       "      <td>NaN</td>\n",
       "      <td>NaN</td>\n",
       "      <td>NaN</td>\n",
       "    </tr>\n",
       "  </tbody>\n",
       "</table>\n",
       "<p>5 rows × 49 columns</p>\n",
       "</div>"
      ],
      "text/plain": [
       "                                     CRASH_RECORD_ID     RD_NO  \\\n",
       "0  4fd0a3e0897b3335b94cd8d5b2d2b350eb691add56c62d...  JC343143   \n",
       "1  009e9e67203442370272e1a13d6ee51a4155dac65e583d...  JA329216   \n",
       "2  ee9283eff3a55ac50ee58f3d9528ce1d689b1c4180b4c4...  JD292400   \n",
       "3  f8960f698e870ebdc60b521b2a141a5395556bc3704191...  JD293602   \n",
       "4  8eaa2678d1a127804ee9b8c35ddf7d63d913c14eda61d6...  JD290451   \n",
       "\n",
       "  CRASH_DATE_EST_I              CRASH_DATE  POSTED_SPEED_LIMIT  \\\n",
       "0              NaN  07/10/2019 05:56:00 PM                  35   \n",
       "1              NaN  06/30/2017 04:00:00 PM                  35   \n",
       "2              NaN  07/10/2020 10:25:00 AM                  30   \n",
       "3              NaN  07/11/2020 01:00:00 AM                  30   \n",
       "4              NaN  07/08/2020 02:00:00 PM                  20   \n",
       "\n",
       "  TRAFFIC_CONTROL_DEVICE      DEVICE_CONDITION WEATHER_CONDITION  \\\n",
       "0            NO CONTROLS           NO CONTROLS             CLEAR   \n",
       "1      STOP SIGN/FLASHER  FUNCTIONING PROPERLY             CLEAR   \n",
       "2         TRAFFIC SIGNAL  FUNCTIONING PROPERLY             CLEAR   \n",
       "3            NO CONTROLS           NO CONTROLS             CLEAR   \n",
       "4            NO CONTROLS           NO CONTROLS             CLEAR   \n",
       "\n",
       "  LIGHTING_CONDITION      FIRST_CRASH_TYPE  ... INJURIES_NON_INCAPACITATING  \\\n",
       "0           DAYLIGHT               TURNING  ...                         0.0   \n",
       "1           DAYLIGHT               TURNING  ...                         0.0   \n",
       "2           DAYLIGHT              REAR END  ...                         0.0   \n",
       "3           DARKNESS  PARKED MOTOR VEHICLE  ...                         0.0   \n",
       "4           DAYLIGHT  PARKED MOTOR VEHICLE  ...                         0.0   \n",
       "\n",
       "   INJURIES_REPORTED_NOT_EVIDENT INJURIES_NO_INDICATION INJURIES_UNKNOWN  \\\n",
       "0                            0.0                    3.0              0.0   \n",
       "1                            0.0                    3.0              0.0   \n",
       "2                            0.0                    3.0              0.0   \n",
       "3                            0.0                    3.0              0.0   \n",
       "4                            0.0                    1.0              0.0   \n",
       "\n",
       "  CRASH_HOUR CRASH_DAY_OF_WEEK CRASH_MONTH   LATITUDE  LONGITUDE  \\\n",
       "0         17                 4           7  41.919664 -87.773288   \n",
       "1         16                 6           6  41.741804 -87.740954   \n",
       "2         10                 6           7  41.773456 -87.585022   \n",
       "3          1                 7           7  41.802119 -87.622115   \n",
       "4         14                 4           7        NaN        NaN   \n",
       "\n",
       "                                   LOCATION  \n",
       "0  POINT (-87.773287883007 41.919663832993)  \n",
       "1  POINT (-87.740953581987 41.741803598989)  \n",
       "2  POINT (-87.585022352022 41.773455972008)  \n",
       "3  POINT (-87.622114914961 41.802118543011)  \n",
       "4                                       NaN  \n",
       "\n",
       "[5 rows x 49 columns]"
      ]
     },
     "execution_count": 3,
     "metadata": {},
     "output_type": "execute_result"
    }
   ],
   "source": [
    "crashes_df.head()"
   ]
  },
  {
   "cell_type": "code",
   "execution_count": 4,
   "metadata": {
    "scrolled": true
   },
   "outputs": [],
   "source": [
    "# From Angie: create a df to show % of missing values from another df:\n",
    "\n",
    "# percent_missing = df.isnull().sum() * 100 / len(df)\n",
    "# missing_value_df = pd.DataFrame({'column_name': df.columns,\n",
    "#                                  'percent_missing': percent_missing})\n",
    "\n",
    "# pd.set_option('display.max_rows', None)\n",
    "# missing_value_df"
   ]
  },
  {
   "cell_type": "code",
   "execution_count": 5,
   "metadata": {
    "scrolled": true
   },
   "outputs": [
    {
     "data": {
      "text/plain": [
       "CRASH_RECORD_ID                  0.000000\n",
       "RD_NO                            0.008486\n",
       "CRASH_DATE_EST_I                 0.924181\n",
       "CRASH_DATE                       0.000000\n",
       "POSTED_SPEED_LIMIT               0.000000\n",
       "TRAFFIC_CONTROL_DEVICE           0.000000\n",
       "DEVICE_CONDITION                 0.000000\n",
       "WEATHER_CONDITION                0.000000\n",
       "LIGHTING_CONDITION               0.000000\n",
       "FIRST_CRASH_TYPE                 0.000000\n",
       "TRAFFICWAY_TYPE                  0.000000\n",
       "LANE_CNT                         0.632318\n",
       "ALIGNMENT                        0.000000\n",
       "ROADWAY_SURFACE_COND             0.000000\n",
       "ROAD_DEFECT                      0.000000\n",
       "REPORT_TYPE                      0.024997\n",
       "CRASH_TYPE                       0.000000\n",
       "INTERSECTION_RELATED_I           0.773254\n",
       "NOT_RIGHT_OF_WAY_I               0.952689\n",
       "HIT_AND_RUN_I                    0.698892\n",
       "DAMAGE                           0.000000\n",
       "DATE_POLICE_NOTIFIED             0.000000\n",
       "PRIM_CONTRIBUTORY_CAUSE          0.000000\n",
       "SEC_CONTRIBUTORY_CAUSE           0.000000\n",
       "STREET_NO                        0.000000\n",
       "STREET_DIRECTION                 0.000006\n",
       "STREET_NAME                      0.000002\n",
       "BEAT_OF_OCCURRENCE               0.000009\n",
       "PHOTOS_TAKEN_I                   0.987534\n",
       "STATEMENTS_TAKEN_I               0.979660\n",
       "DOORING_I                        0.996773\n",
       "WORK_ZONE_I                      0.993695\n",
       "WORK_ZONE_TYPE                   0.995018\n",
       "WORKERS_PRESENT_I                0.998442\n",
       "NUM_UNITS                        0.000017\n",
       "MOST_SEVERE_INJURY               0.002075\n",
       "INJURIES_TOTAL                   0.002055\n",
       "INJURIES_FATAL                   0.002055\n",
       "INJURIES_INCAPACITATING          0.002055\n",
       "INJURIES_NON_INCAPACITATING      0.002055\n",
       "INJURIES_REPORTED_NOT_EVIDENT    0.002055\n",
       "INJURIES_NO_INDICATION           0.002055\n",
       "INJURIES_UNKNOWN                 0.002055\n",
       "CRASH_HOUR                       0.000000\n",
       "CRASH_DAY_OF_WEEK                0.000000\n",
       "CRASH_MONTH                      0.000000\n",
       "LATITUDE                         0.005758\n",
       "LONGITUDE                        0.005758\n",
       "LOCATION                         0.005758\n",
       "dtype: float64"
      ]
     },
     "execution_count": 5,
     "metadata": {},
     "output_type": "execute_result"
    }
   ],
   "source": [
    "crashes_df.isna().mean()"
   ]
  },
  {
   "cell_type": "code",
   "execution_count": 6,
   "metadata": {
    "scrolled": true
   },
   "outputs": [
    {
     "data": {
      "text/plain": [
       "2.0     178933\n",
       "1.0      11661\n",
       "3.0       9474\n",
       "4.0       1856\n",
       "5.0        446\n",
       "6.0        102\n",
       "7.0         40\n",
       "8.0         10\n",
       "9.0          9\n",
       "14.0         2\n",
       "11.0         1\n",
       "12.0         1\n",
       "Name: NUM_UNITS, dtype: int64"
      ]
     },
     "execution_count": 6,
     "metadata": {},
     "output_type": "execute_result"
    }
   ],
   "source": [
    "crashes_df.loc[crashes_df.PRIM_CONTRIBUTORY_CAUSE == 'UNABLE TO DETERMINE'].NUM_UNITS.value_counts()"
   ]
  },
  {
   "cell_type": "code",
   "execution_count": 7,
   "metadata": {
    "scrolled": true
   },
   "outputs": [
    {
     "data": {
      "text/html": [
       "<div>\n",
       "<style scoped>\n",
       "    .dataframe tbody tr th:only-of-type {\n",
       "        vertical-align: middle;\n",
       "    }\n",
       "\n",
       "    .dataframe tbody tr th {\n",
       "        vertical-align: top;\n",
       "    }\n",
       "\n",
       "    .dataframe thead th {\n",
       "        text-align: right;\n",
       "    }\n",
       "</style>\n",
       "<table border=\"1\" class=\"dataframe\">\n",
       "  <thead>\n",
       "    <tr style=\"text-align: right;\">\n",
       "      <th></th>\n",
       "      <th>PERSON_ID</th>\n",
       "      <th>PERSON_TYPE</th>\n",
       "      <th>CRASH_RECORD_ID</th>\n",
       "      <th>RD_NO</th>\n",
       "      <th>VEHICLE_ID</th>\n",
       "      <th>CRASH_DATE</th>\n",
       "      <th>SEAT_NO</th>\n",
       "      <th>CITY</th>\n",
       "      <th>STATE</th>\n",
       "      <th>ZIPCODE</th>\n",
       "      <th>...</th>\n",
       "      <th>EMS_RUN_NO</th>\n",
       "      <th>DRIVER_ACTION</th>\n",
       "      <th>DRIVER_VISION</th>\n",
       "      <th>PHYSICAL_CONDITION</th>\n",
       "      <th>PEDPEDAL_ACTION</th>\n",
       "      <th>PEDPEDAL_VISIBILITY</th>\n",
       "      <th>PEDPEDAL_LOCATION</th>\n",
       "      <th>BAC_RESULT</th>\n",
       "      <th>BAC_RESULT VALUE</th>\n",
       "      <th>CELL_PHONE_USE</th>\n",
       "    </tr>\n",
       "  </thead>\n",
       "  <tbody>\n",
       "    <tr>\n",
       "      <th>0</th>\n",
       "      <td>O749947</td>\n",
       "      <td>DRIVER</td>\n",
       "      <td>81dc0de2ed92aa62baccab641fa377be7feb1cc47e6554...</td>\n",
       "      <td>JC451435</td>\n",
       "      <td>834816.0</td>\n",
       "      <td>09/28/2019 03:30:00 AM</td>\n",
       "      <td>NaN</td>\n",
       "      <td>CHICAGO</td>\n",
       "      <td>IL</td>\n",
       "      <td>60651</td>\n",
       "      <td>...</td>\n",
       "      <td>NaN</td>\n",
       "      <td>UNKNOWN</td>\n",
       "      <td>UNKNOWN</td>\n",
       "      <td>UNKNOWN</td>\n",
       "      <td>NaN</td>\n",
       "      <td>NaN</td>\n",
       "      <td>NaN</td>\n",
       "      <td>TEST NOT OFFERED</td>\n",
       "      <td>NaN</td>\n",
       "      <td>NaN</td>\n",
       "    </tr>\n",
       "    <tr>\n",
       "      <th>1</th>\n",
       "      <td>O871921</td>\n",
       "      <td>DRIVER</td>\n",
       "      <td>af84fb5c8d996fcd3aefd36593c3a02e6e7509eeb27568...</td>\n",
       "      <td>JD208731</td>\n",
       "      <td>827212.0</td>\n",
       "      <td>04/13/2020 10:50:00 PM</td>\n",
       "      <td>NaN</td>\n",
       "      <td>CHICAGO</td>\n",
       "      <td>IL</td>\n",
       "      <td>60620</td>\n",
       "      <td>...</td>\n",
       "      <td>NaN</td>\n",
       "      <td>NONE</td>\n",
       "      <td>NOT OBSCURED</td>\n",
       "      <td>NORMAL</td>\n",
       "      <td>NaN</td>\n",
       "      <td>NaN</td>\n",
       "      <td>NaN</td>\n",
       "      <td>TEST NOT OFFERED</td>\n",
       "      <td>NaN</td>\n",
       "      <td>NaN</td>\n",
       "    </tr>\n",
       "    <tr>\n",
       "      <th>2</th>\n",
       "      <td>O10018</td>\n",
       "      <td>DRIVER</td>\n",
       "      <td>71162af7bf22799b776547132ebf134b5b438dcf3dac6b...</td>\n",
       "      <td>HY484534</td>\n",
       "      <td>9579.0</td>\n",
       "      <td>11/01/2015 05:00:00 AM</td>\n",
       "      <td>NaN</td>\n",
       "      <td>NaN</td>\n",
       "      <td>NaN</td>\n",
       "      <td>NaN</td>\n",
       "      <td>...</td>\n",
       "      <td>NaN</td>\n",
       "      <td>IMPROPER BACKING</td>\n",
       "      <td>UNKNOWN</td>\n",
       "      <td>UNKNOWN</td>\n",
       "      <td>NaN</td>\n",
       "      <td>NaN</td>\n",
       "      <td>NaN</td>\n",
       "      <td>TEST NOT OFFERED</td>\n",
       "      <td>NaN</td>\n",
       "      <td>NaN</td>\n",
       "    </tr>\n",
       "    <tr>\n",
       "      <th>3</th>\n",
       "      <td>O10038</td>\n",
       "      <td>DRIVER</td>\n",
       "      <td>c21c476e2ccc41af550b5d858d22aaac4ffc88745a1700...</td>\n",
       "      <td>HY484750</td>\n",
       "      <td>9598.0</td>\n",
       "      <td>11/01/2015 08:00:00 AM</td>\n",
       "      <td>NaN</td>\n",
       "      <td>NaN</td>\n",
       "      <td>NaN</td>\n",
       "      <td>NaN</td>\n",
       "      <td>...</td>\n",
       "      <td>NaN</td>\n",
       "      <td>UNKNOWN</td>\n",
       "      <td>UNKNOWN</td>\n",
       "      <td>UNKNOWN</td>\n",
       "      <td>NaN</td>\n",
       "      <td>NaN</td>\n",
       "      <td>NaN</td>\n",
       "      <td>TEST NOT OFFERED</td>\n",
       "      <td>NaN</td>\n",
       "      <td>NaN</td>\n",
       "    </tr>\n",
       "    <tr>\n",
       "      <th>4</th>\n",
       "      <td>O10039</td>\n",
       "      <td>DRIVER</td>\n",
       "      <td>eb390a4c8e114c69488f5fb8a097fe629f5a92fd528cf4...</td>\n",
       "      <td>HY484778</td>\n",
       "      <td>9600.0</td>\n",
       "      <td>11/01/2015 10:15:00 AM</td>\n",
       "      <td>NaN</td>\n",
       "      <td>NaN</td>\n",
       "      <td>NaN</td>\n",
       "      <td>NaN</td>\n",
       "      <td>...</td>\n",
       "      <td>NaN</td>\n",
       "      <td>UNKNOWN</td>\n",
       "      <td>UNKNOWN</td>\n",
       "      <td>UNKNOWN</td>\n",
       "      <td>NaN</td>\n",
       "      <td>NaN</td>\n",
       "      <td>NaN</td>\n",
       "      <td>TEST NOT OFFERED</td>\n",
       "      <td>NaN</td>\n",
       "      <td>NaN</td>\n",
       "    </tr>\n",
       "  </tbody>\n",
       "</table>\n",
       "<p>5 rows × 30 columns</p>\n",
       "</div>"
      ],
      "text/plain": [
       "  PERSON_ID PERSON_TYPE                                    CRASH_RECORD_ID  \\\n",
       "0   O749947      DRIVER  81dc0de2ed92aa62baccab641fa377be7feb1cc47e6554...   \n",
       "1   O871921      DRIVER  af84fb5c8d996fcd3aefd36593c3a02e6e7509eeb27568...   \n",
       "2    O10018      DRIVER  71162af7bf22799b776547132ebf134b5b438dcf3dac6b...   \n",
       "3    O10038      DRIVER  c21c476e2ccc41af550b5d858d22aaac4ffc88745a1700...   \n",
       "4    O10039      DRIVER  eb390a4c8e114c69488f5fb8a097fe629f5a92fd528cf4...   \n",
       "\n",
       "      RD_NO  VEHICLE_ID              CRASH_DATE  SEAT_NO     CITY STATE  \\\n",
       "0  JC451435    834816.0  09/28/2019 03:30:00 AM      NaN  CHICAGO    IL   \n",
       "1  JD208731    827212.0  04/13/2020 10:50:00 PM      NaN  CHICAGO    IL   \n",
       "2  HY484534      9579.0  11/01/2015 05:00:00 AM      NaN      NaN   NaN   \n",
       "3  HY484750      9598.0  11/01/2015 08:00:00 AM      NaN      NaN   NaN   \n",
       "4  HY484778      9600.0  11/01/2015 10:15:00 AM      NaN      NaN   NaN   \n",
       "\n",
       "  ZIPCODE  ... EMS_RUN_NO     DRIVER_ACTION DRIVER_VISION PHYSICAL_CONDITION  \\\n",
       "0   60651  ...        NaN           UNKNOWN       UNKNOWN            UNKNOWN   \n",
       "1   60620  ...        NaN              NONE  NOT OBSCURED             NORMAL   \n",
       "2     NaN  ...        NaN  IMPROPER BACKING       UNKNOWN            UNKNOWN   \n",
       "3     NaN  ...        NaN           UNKNOWN       UNKNOWN            UNKNOWN   \n",
       "4     NaN  ...        NaN           UNKNOWN       UNKNOWN            UNKNOWN   \n",
       "\n",
       "  PEDPEDAL_ACTION PEDPEDAL_VISIBILITY PEDPEDAL_LOCATION        BAC_RESULT  \\\n",
       "0             NaN                 NaN               NaN  TEST NOT OFFERED   \n",
       "1             NaN                 NaN               NaN  TEST NOT OFFERED   \n",
       "2             NaN                 NaN               NaN  TEST NOT OFFERED   \n",
       "3             NaN                 NaN               NaN  TEST NOT OFFERED   \n",
       "4             NaN                 NaN               NaN  TEST NOT OFFERED   \n",
       "\n",
       "  BAC_RESULT VALUE CELL_PHONE_USE  \n",
       "0              NaN            NaN  \n",
       "1              NaN            NaN  \n",
       "2              NaN            NaN  \n",
       "3              NaN            NaN  \n",
       "4              NaN            NaN  \n",
       "\n",
       "[5 rows x 30 columns]"
      ]
     },
     "execution_count": 7,
     "metadata": {},
     "output_type": "execute_result"
    }
   ],
   "source": [
    "people_df.head()"
   ]
  },
  {
   "cell_type": "code",
   "execution_count": 8,
   "metadata": {
    "scrolled": true
   },
   "outputs": [
    {
     "data": {
      "text/plain": [
       "PERSON_ID                0.000000\n",
       "PERSON_TYPE              0.000000\n",
       "CRASH_RECORD_ID          0.000000\n",
       "RD_NO                    0.008475\n",
       "VEHICLE_ID               0.019737\n",
       "CRASH_DATE               0.000000\n",
       "SEAT_NO                  0.795515\n",
       "CITY                     0.264286\n",
       "STATE                    0.255537\n",
       "ZIPCODE                  0.328293\n",
       "SEX                      0.015122\n",
       "AGE                      0.287098\n",
       "DRIVERS_LICENSE_STATE    0.409957\n",
       "DRIVERS_LICENSE_CLASS    0.491509\n",
       "SAFETY_EQUIPMENT         0.002918\n",
       "AIRBAG_DEPLOYED          0.018905\n",
       "EJECTION                 0.012161\n",
       "INJURY_CLASSIFICATION    0.000496\n",
       "HOSPITAL                 0.820056\n",
       "EMS_AGENCY               0.886213\n",
       "EMS_RUN_NO               0.981366\n",
       "DRIVER_ACTION            0.206386\n",
       "DRIVER_VISION            0.206662\n",
       "PHYSICAL_CONDITION       0.205814\n",
       "PEDPEDAL_ACTION          0.981416\n",
       "PEDPEDAL_VISIBILITY      0.981456\n",
       "PEDPEDAL_LOCATION        0.981417\n",
       "BAC_RESULT               0.205471\n",
       "BAC_RESULT VALUE         0.998735\n",
       "CELL_PHONE_USE           0.999032\n",
       "dtype: float64"
      ]
     },
     "execution_count": 8,
     "metadata": {},
     "output_type": "execute_result"
    }
   ],
   "source": [
    "people_df.isna().mean()"
   ]
  },
  {
   "cell_type": "code",
   "execution_count": 9,
   "metadata": {},
   "outputs": [
    {
     "data": {
      "text/plain": [
       "NO INDICATION OF INJURY     1096283\n",
       "NONINCAPACITATING INJURY      55296\n",
       "REPORTED, NOT EVIDENT         32092\n",
       "INCAPACITATING INJURY         10827\n",
       "FATAL                           656\n",
       "Name: INJURY_CLASSIFICATION, dtype: int64"
      ]
     },
     "execution_count": 9,
     "metadata": {},
     "output_type": "execute_result"
    }
   ],
   "source": [
    "people_df.INJURY_CLASSIFICATION.value_counts()"
   ]
  },
  {
   "cell_type": "code",
   "execution_count": 10,
   "metadata": {
    "scrolled": false
   },
   "outputs": [],
   "source": [
    "# vehicles_df.head()"
   ]
  },
  {
   "cell_type": "code",
   "execution_count": 11,
   "metadata": {
    "scrolled": false
   },
   "outputs": [],
   "source": [
    "# vehicles_df.isna().mean()"
   ]
  },
  {
   "cell_type": "markdown",
   "metadata": {},
   "source": [
    "## EDA"
   ]
  },
  {
   "cell_type": "markdown",
   "metadata": {},
   "source": [
    "**Crashes:**\n",
    "\n",
    "For purposes of EDA, we drop columns for which the distribution isn't relevant/informative."
   ]
  },
  {
   "cell_type": "code",
   "execution_count": 12,
   "metadata": {
    "scrolled": false
   },
   "outputs": [
    {
     "data": {
      "text/plain": [
       "Index(['CRASH_RECORD_ID', 'RD_NO', 'CRASH_DATE_EST_I', 'CRASH_DATE',\n",
       "       'POSTED_SPEED_LIMIT', 'TRAFFIC_CONTROL_DEVICE', 'DEVICE_CONDITION',\n",
       "       'WEATHER_CONDITION', 'LIGHTING_CONDITION', 'FIRST_CRASH_TYPE',\n",
       "       'TRAFFICWAY_TYPE', 'LANE_CNT', 'ALIGNMENT', 'ROADWAY_SURFACE_COND',\n",
       "       'ROAD_DEFECT', 'REPORT_TYPE', 'CRASH_TYPE', 'INTERSECTION_RELATED_I',\n",
       "       'NOT_RIGHT_OF_WAY_I', 'HIT_AND_RUN_I', 'DAMAGE', 'DATE_POLICE_NOTIFIED',\n",
       "       'PRIM_CONTRIBUTORY_CAUSE', 'SEC_CONTRIBUTORY_CAUSE', 'STREET_NO',\n",
       "       'STREET_DIRECTION', 'STREET_NAME', 'BEAT_OF_OCCURRENCE',\n",
       "       'PHOTOS_TAKEN_I', 'STATEMENTS_TAKEN_I', 'DOORING_I', 'WORK_ZONE_I',\n",
       "       'WORK_ZONE_TYPE', 'WORKERS_PRESENT_I', 'NUM_UNITS',\n",
       "       'MOST_SEVERE_INJURY', 'INJURIES_TOTAL', 'INJURIES_FATAL',\n",
       "       'INJURIES_INCAPACITATING', 'INJURIES_NON_INCAPACITATING',\n",
       "       'INJURIES_REPORTED_NOT_EVIDENT', 'INJURIES_NO_INDICATION',\n",
       "       'INJURIES_UNKNOWN', 'CRASH_HOUR', 'CRASH_DAY_OF_WEEK', 'CRASH_MONTH',\n",
       "       'LATITUDE', 'LONGITUDE', 'LOCATION'],\n",
       "      dtype='object')"
      ]
     },
     "execution_count": 12,
     "metadata": {},
     "output_type": "execute_result"
    }
   ],
   "source": [
    "crashes_df.columns"
   ]
  },
  {
   "cell_type": "code",
   "execution_count": 13,
   "metadata": {},
   "outputs": [
    {
     "data": {
      "text/html": [
       "<div>\n",
       "<style scoped>\n",
       "    .dataframe tbody tr th:only-of-type {\n",
       "        vertical-align: middle;\n",
       "    }\n",
       "\n",
       "    .dataframe tbody tr th {\n",
       "        vertical-align: top;\n",
       "    }\n",
       "\n",
       "    .dataframe thead th {\n",
       "        text-align: right;\n",
       "    }\n",
       "</style>\n",
       "<table border=\"1\" class=\"dataframe\">\n",
       "  <thead>\n",
       "    <tr style=\"text-align: right;\">\n",
       "      <th></th>\n",
       "      <th>POSTED_SPEED_LIMIT</th>\n",
       "      <th>LANE_CNT</th>\n",
       "      <th>STREET_NO</th>\n",
       "      <th>BEAT_OF_OCCURRENCE</th>\n",
       "      <th>NUM_UNITS</th>\n",
       "      <th>INJURIES_TOTAL</th>\n",
       "      <th>INJURIES_FATAL</th>\n",
       "      <th>INJURIES_INCAPACITATING</th>\n",
       "      <th>INJURIES_NON_INCAPACITATING</th>\n",
       "      <th>INJURIES_REPORTED_NOT_EVIDENT</th>\n",
       "      <th>INJURIES_NO_INDICATION</th>\n",
       "      <th>INJURIES_UNKNOWN</th>\n",
       "      <th>CRASH_HOUR</th>\n",
       "      <th>CRASH_DAY_OF_WEEK</th>\n",
       "      <th>CRASH_MONTH</th>\n",
       "      <th>LATITUDE</th>\n",
       "      <th>LONGITUDE</th>\n",
       "    </tr>\n",
       "  </thead>\n",
       "  <tbody>\n",
       "    <tr>\n",
       "      <th>count</th>\n",
       "      <td>541142.000000</td>\n",
       "      <td>1.989680e+05</td>\n",
       "      <td>541142.000000</td>\n",
       "      <td>541137.000000</td>\n",
       "      <td>541133.000000</td>\n",
       "      <td>540030.000000</td>\n",
       "      <td>540030.000000</td>\n",
       "      <td>540030.000000</td>\n",
       "      <td>540030.000000</td>\n",
       "      <td>540030.000000</td>\n",
       "      <td>540030.000000</td>\n",
       "      <td>540030.0</td>\n",
       "      <td>541142.000000</td>\n",
       "      <td>541142.000000</td>\n",
       "      <td>541142.000000</td>\n",
       "      <td>538026.000000</td>\n",
       "      <td>538026.000000</td>\n",
       "    </tr>\n",
       "    <tr>\n",
       "      <th>mean</th>\n",
       "      <td>28.311768</td>\n",
       "      <td>1.333232e+01</td>\n",
       "      <td>3664.599116</td>\n",
       "      <td>1238.230646</td>\n",
       "      <td>2.033955</td>\n",
       "      <td>0.180671</td>\n",
       "      <td>0.001094</td>\n",
       "      <td>0.019730</td>\n",
       "      <td>0.101009</td>\n",
       "      <td>0.058837</td>\n",
       "      <td>2.019149</td>\n",
       "      <td>0.0</td>\n",
       "      <td>13.249556</td>\n",
       "      <td>4.127115</td>\n",
       "      <td>6.621290</td>\n",
       "      <td>41.854746</td>\n",
       "      <td>-87.672871</td>\n",
       "    </tr>\n",
       "    <tr>\n",
       "      <th>std</th>\n",
       "      <td>6.414913</td>\n",
       "      <td>2.961906e+03</td>\n",
       "      <td>2909.611349</td>\n",
       "      <td>706.865005</td>\n",
       "      <td>0.447292</td>\n",
       "      <td>0.552669</td>\n",
       "      <td>0.035858</td>\n",
       "      <td>0.164441</td>\n",
       "      <td>0.410387</td>\n",
       "      <td>0.311525</td>\n",
       "      <td>1.168443</td>\n",
       "      <td>0.0</td>\n",
       "      <td>5.518619</td>\n",
       "      <td>1.978387</td>\n",
       "      <td>3.373203</td>\n",
       "      <td>0.338869</td>\n",
       "      <td>0.689157</td>\n",
       "    </tr>\n",
       "    <tr>\n",
       "      <th>min</th>\n",
       "      <td>0.000000</td>\n",
       "      <td>0.000000e+00</td>\n",
       "      <td>0.000000</td>\n",
       "      <td>111.000000</td>\n",
       "      <td>1.000000</td>\n",
       "      <td>0.000000</td>\n",
       "      <td>0.000000</td>\n",
       "      <td>0.000000</td>\n",
       "      <td>0.000000</td>\n",
       "      <td>0.000000</td>\n",
       "      <td>0.000000</td>\n",
       "      <td>0.0</td>\n",
       "      <td>0.000000</td>\n",
       "      <td>1.000000</td>\n",
       "      <td>1.000000</td>\n",
       "      <td>0.000000</td>\n",
       "      <td>-87.935877</td>\n",
       "    </tr>\n",
       "    <tr>\n",
       "      <th>25%</th>\n",
       "      <td>30.000000</td>\n",
       "      <td>2.000000e+00</td>\n",
       "      <td>1217.000000</td>\n",
       "      <td>712.000000</td>\n",
       "      <td>2.000000</td>\n",
       "      <td>0.000000</td>\n",
       "      <td>0.000000</td>\n",
       "      <td>0.000000</td>\n",
       "      <td>0.000000</td>\n",
       "      <td>0.000000</td>\n",
       "      <td>1.000000</td>\n",
       "      <td>0.0</td>\n",
       "      <td>9.000000</td>\n",
       "      <td>2.000000</td>\n",
       "      <td>4.000000</td>\n",
       "      <td>41.781544</td>\n",
       "      <td>-87.721205</td>\n",
       "    </tr>\n",
       "    <tr>\n",
       "      <th>50%</th>\n",
       "      <td>30.000000</td>\n",
       "      <td>2.000000e+00</td>\n",
       "      <td>3199.000000</td>\n",
       "      <td>1135.000000</td>\n",
       "      <td>2.000000</td>\n",
       "      <td>0.000000</td>\n",
       "      <td>0.000000</td>\n",
       "      <td>0.000000</td>\n",
       "      <td>0.000000</td>\n",
       "      <td>0.000000</td>\n",
       "      <td>2.000000</td>\n",
       "      <td>0.0</td>\n",
       "      <td>14.000000</td>\n",
       "      <td>4.000000</td>\n",
       "      <td>7.000000</td>\n",
       "      <td>41.875126</td>\n",
       "      <td>-87.673362</td>\n",
       "    </tr>\n",
       "    <tr>\n",
       "      <th>75%</th>\n",
       "      <td>30.000000</td>\n",
       "      <td>4.000000e+00</td>\n",
       "      <td>5599.000000</td>\n",
       "      <td>1822.000000</td>\n",
       "      <td>2.000000</td>\n",
       "      <td>0.000000</td>\n",
       "      <td>0.000000</td>\n",
       "      <td>0.000000</td>\n",
       "      <td>0.000000</td>\n",
       "      <td>0.000000</td>\n",
       "      <td>2.000000</td>\n",
       "      <td>0.0</td>\n",
       "      <td>17.000000</td>\n",
       "      <td>6.000000</td>\n",
       "      <td>9.000000</td>\n",
       "      <td>41.923972</td>\n",
       "      <td>-87.632793</td>\n",
       "    </tr>\n",
       "    <tr>\n",
       "      <th>max</th>\n",
       "      <td>99.000000</td>\n",
       "      <td>1.191625e+06</td>\n",
       "      <td>451100.000000</td>\n",
       "      <td>6100.000000</td>\n",
       "      <td>18.000000</td>\n",
       "      <td>21.000000</td>\n",
       "      <td>4.000000</td>\n",
       "      <td>7.000000</td>\n",
       "      <td>21.000000</td>\n",
       "      <td>15.000000</td>\n",
       "      <td>61.000000</td>\n",
       "      <td>0.0</td>\n",
       "      <td>23.000000</td>\n",
       "      <td>7.000000</td>\n",
       "      <td>12.000000</td>\n",
       "      <td>42.022780</td>\n",
       "      <td>0.000000</td>\n",
       "    </tr>\n",
       "  </tbody>\n",
       "</table>\n",
       "</div>"
      ],
      "text/plain": [
       "       POSTED_SPEED_LIMIT      LANE_CNT      STREET_NO  BEAT_OF_OCCURRENCE  \\\n",
       "count       541142.000000  1.989680e+05  541142.000000       541137.000000   \n",
       "mean            28.311768  1.333232e+01    3664.599116         1238.230646   \n",
       "std              6.414913  2.961906e+03    2909.611349          706.865005   \n",
       "min              0.000000  0.000000e+00       0.000000          111.000000   \n",
       "25%             30.000000  2.000000e+00    1217.000000          712.000000   \n",
       "50%             30.000000  2.000000e+00    3199.000000         1135.000000   \n",
       "75%             30.000000  4.000000e+00    5599.000000         1822.000000   \n",
       "max             99.000000  1.191625e+06  451100.000000         6100.000000   \n",
       "\n",
       "           NUM_UNITS  INJURIES_TOTAL  INJURIES_FATAL  INJURIES_INCAPACITATING  \\\n",
       "count  541133.000000   540030.000000   540030.000000            540030.000000   \n",
       "mean        2.033955        0.180671        0.001094                 0.019730   \n",
       "std         0.447292        0.552669        0.035858                 0.164441   \n",
       "min         1.000000        0.000000        0.000000                 0.000000   \n",
       "25%         2.000000        0.000000        0.000000                 0.000000   \n",
       "50%         2.000000        0.000000        0.000000                 0.000000   \n",
       "75%         2.000000        0.000000        0.000000                 0.000000   \n",
       "max        18.000000       21.000000        4.000000                 7.000000   \n",
       "\n",
       "       INJURIES_NON_INCAPACITATING  INJURIES_REPORTED_NOT_EVIDENT  \\\n",
       "count                540030.000000                  540030.000000   \n",
       "mean                      0.101009                       0.058837   \n",
       "std                       0.410387                       0.311525   \n",
       "min                       0.000000                       0.000000   \n",
       "25%                       0.000000                       0.000000   \n",
       "50%                       0.000000                       0.000000   \n",
       "75%                       0.000000                       0.000000   \n",
       "max                      21.000000                      15.000000   \n",
       "\n",
       "       INJURIES_NO_INDICATION  INJURIES_UNKNOWN     CRASH_HOUR  \\\n",
       "count           540030.000000          540030.0  541142.000000   \n",
       "mean                 2.019149               0.0      13.249556   \n",
       "std                  1.168443               0.0       5.518619   \n",
       "min                  0.000000               0.0       0.000000   \n",
       "25%                  1.000000               0.0       9.000000   \n",
       "50%                  2.000000               0.0      14.000000   \n",
       "75%                  2.000000               0.0      17.000000   \n",
       "max                 61.000000               0.0      23.000000   \n",
       "\n",
       "       CRASH_DAY_OF_WEEK    CRASH_MONTH       LATITUDE      LONGITUDE  \n",
       "count      541142.000000  541142.000000  538026.000000  538026.000000  \n",
       "mean            4.127115       6.621290      41.854746     -87.672871  \n",
       "std             1.978387       3.373203       0.338869       0.689157  \n",
       "min             1.000000       1.000000       0.000000     -87.935877  \n",
       "25%             2.000000       4.000000      41.781544     -87.721205  \n",
       "50%             4.000000       7.000000      41.875126     -87.673362  \n",
       "75%             6.000000       9.000000      41.923972     -87.632793  \n",
       "max             7.000000      12.000000      42.022780       0.000000  "
      ]
     },
     "execution_count": 13,
     "metadata": {},
     "output_type": "execute_result"
    }
   ],
   "source": [
    "crashes_df.describe()"
   ]
  },
  {
   "cell_type": "code",
   "execution_count": 14,
   "metadata": {
    "scrolled": true
   },
   "outputs": [
    {
     "data": {
      "text/plain": [
       "0.0    540030\n",
       "Name: INJURIES_UNKNOWN, dtype: int64"
      ]
     },
     "execution_count": 14,
     "metadata": {},
     "output_type": "execute_result"
    }
   ],
   "source": [
    "crashes_df.INJURIES_UNKNOWN.value_counts()"
   ]
  },
  {
   "cell_type": "code",
   "execution_count": 15,
   "metadata": {},
   "outputs": [],
   "source": [
    "crashes_eda = crashes_df.drop(['CRASH_RECORD_ID', 'RD_NO', 'CRASH_DATE_EST_I', 'CRASH_DATE', \n",
    "                               'REPORT_TYPE', 'STREET_NO', 'STREET_DIRECTION', 'STREET_NAME',\n",
    "                               'PHOTOS_TAKEN_I', 'STATEMENTS_TAKEN_I', 'INJURIES_UNKNOWN', \n",
    "                               'LATITUDE', 'LONGITUDE', 'LOCATION'], axis=1)"
   ]
  },
  {
   "cell_type": "code",
   "execution_count": 16,
   "metadata": {
    "scrolled": false
   },
   "outputs": [
    {
     "data": {
      "image/png": "[encoded data removed]",
      "text/plain": [
       "<Figure size 432x288 with 2 Axes>"
      ]
     },
     "metadata": {
      "needs_background": "light"
     },
     "output_type": "display_data"
    }
   ],
   "source": [
    "# Are certain factors correlated with severity of injuries?\n",
    "sns.heatmap(crashes_eda.corr());"
   ]
  },
  {
   "cell_type": "markdown",
   "metadata": {},
   "source": [
    "Looks like there aren't any standout features that correlate strongly (or at all!) with any count of injuries (of any severity). Surprising..."
   ]
  },
  {
   "cell_type": "code",
   "execution_count": 17,
   "metadata": {
    "scrolled": true
   },
   "outputs": [
    {
     "name": "stdout",
     "output_type": "stream",
     "text": [
      "<class 'pandas.core.frame.DataFrame'>\n",
      "RangeIndex: 541142 entries, 0 to 541141\n",
      "Data columns (total 35 columns):\n",
      " #   Column                         Non-Null Count   Dtype  \n",
      "---  ------                         --------------   -----  \n",
      " 0   POSTED_SPEED_LIMIT             541142 non-null  int64  \n",
      " 1   TRAFFIC_CONTROL_DEVICE         541142 non-null  object \n",
      " 2   DEVICE_CONDITION               541142 non-null  object \n",
      " 3   WEATHER_CONDITION              541142 non-null  object \n",
      " 4   LIGHTING_CONDITION             541142 non-null  object \n",
      " 5   FIRST_CRASH_TYPE               541142 non-null  object \n",
      " 6   TRAFFICWAY_TYPE                541142 non-null  object \n",
      " 7   LANE_CNT                       198968 non-null  float64\n",
      " 8   ALIGNMENT                      541142 non-null  object \n",
      " 9   ROADWAY_SURFACE_COND           541142 non-null  object \n",
      " 10  ROAD_DEFECT                    541142 non-null  object \n",
      " 11  CRASH_TYPE                     541142 non-null  object \n",
      " 12  INTERSECTION_RELATED_I         122702 non-null  object \n",
      " 13  NOT_RIGHT_OF_WAY_I             25602 non-null   object \n",
      " 14  HIT_AND_RUN_I                  162942 non-null  object \n",
      " 15  DAMAGE                         541142 non-null  object \n",
      " 16  DATE_POLICE_NOTIFIED           541142 non-null  object \n",
      " 17  PRIM_CONTRIBUTORY_CAUSE        541142 non-null  object \n",
      " 18  SEC_CONTRIBUTORY_CAUSE         541142 non-null  object \n",
      " 19  BEAT_OF_OCCURRENCE             541137 non-null  float64\n",
      " 20  DOORING_I                      1746 non-null    object \n",
      " 21  WORK_ZONE_I                    3412 non-null    object \n",
      " 22  WORK_ZONE_TYPE                 2696 non-null    object \n",
      " 23  WORKERS_PRESENT_I              843 non-null     object \n",
      " 24  NUM_UNITS                      541133 non-null  float64\n",
      " 25  MOST_SEVERE_INJURY             540019 non-null  object \n",
      " 26  INJURIES_TOTAL                 540030 non-null  float64\n",
      " 27  INJURIES_FATAL                 540030 non-null  float64\n",
      " 28  INJURIES_INCAPACITATING        540030 non-null  float64\n",
      " 29  INJURIES_NON_INCAPACITATING    540030 non-null  float64\n",
      " 30  INJURIES_REPORTED_NOT_EVIDENT  540030 non-null  float64\n",
      " 31  INJURIES_NO_INDICATION         540030 non-null  float64\n",
      " 32  CRASH_HOUR                     541142 non-null  int64  \n",
      " 33  CRASH_DAY_OF_WEEK              541142 non-null  int64  \n",
      " 34  CRASH_MONTH                    541142 non-null  int64  \n",
      "dtypes: float64(9), int64(4), object(22)\n",
      "memory usage: 144.5+ MB\n"
     ]
    }
   ],
   "source": [
    "crashes_eda.info()"
   ]
  },
  {
   "cell_type": "code",
   "execution_count": 18,
   "metadata": {},
   "outputs": [
    {
     "data": {
      "image/png": "[encoded data removed]",
      "text/plain": [
       "<Figure size 1296x864 with 16 Axes>"
      ]
     },
     "metadata": {
      "needs_background": "light"
     },
     "output_type": "display_data"
    }
   ],
   "source": [
    "crashes_eda.hist(figsize=(18, 12));"
   ]
  },
  {
   "cell_type": "code",
   "execution_count": 19,
   "metadata": {
    "scrolled": true
   },
   "outputs": [
    {
     "data": {
      "image/png": "[encoded data removed]",
      "text/plain": [
       "<Figure size 432x288 with 1 Axes>"
      ]
     },
     "metadata": {
      "needs_background": "light"
     },
     "output_type": "display_data"
    }
   ],
   "source": [
    "sns.barplot(y=crashes_eda.MOST_SEVERE_INJURY.value_counts().index, x=crashes_eda.MOST_SEVERE_INJURY.value_counts(),\n",
    "           orient='h');"
   ]
  },
  {
   "cell_type": "code",
   "execution_count": 20,
   "metadata": {},
   "outputs": [
    {
     "data": {
      "image/png": "[encoded data removed]",
      "text/plain": [
       "<Figure size 432x288 with 1 Axes>"
      ]
     },
     "metadata": {
      "needs_background": "light"
     },
     "output_type": "display_data"
    }
   ],
   "source": [
    "sns.barplot(y=crashes_eda.DAMAGE.value_counts().index, x=crashes_eda.DAMAGE.value_counts(),\n",
    "           orient='h');"
   ]
  },
  {
   "cell_type": "code",
   "execution_count": 21,
   "metadata": {},
   "outputs": [
    {
     "data": {
      "image/png": "[encoded data removed]",
      "text/plain": [
       "<Figure size 720x576 with 1 Axes>"
      ]
     },
     "metadata": {
      "needs_background": "light"
     },
     "output_type": "display_data"
    }
   ],
   "source": [
    "pd.crosstab(crashes_eda.DAMAGE, crashes_eda.MOST_SEVERE_INJURY).plot.bar(figsize=(10, 8));"
   ]
  },
  {
   "cell_type": "code",
   "execution_count": 22,
   "metadata": {
    "scrolled": false
   },
   "outputs": [
    {
     "data": {
      "image/png": "[encoded data removed]",
      "text/plain": [
       "<Figure size 432x288 with 1 Axes>"
      ]
     },
     "metadata": {
      "needs_background": "light"
     },
     "output_type": "display_data"
    }
   ],
   "source": [
    "sns.barplot(x=crashes_eda.CRASH_TYPE.value_counts().index, y=crashes_eda.CRASH_TYPE.value_counts());"
   ]
  },
  {
   "cell_type": "code",
   "execution_count": 23,
   "metadata": {},
   "outputs": [
    {
     "data": {
      "image/png": "[encoded data removed]",
      "text/plain": [
       "<Figure size 432x288 with 2 Axes>"
      ]
     },
     "metadata": {
      "needs_background": "light"
     },
     "output_type": "display_data"
    }
   ],
   "source": [
    "sns.heatmap(pd.crosstab(crashes_eda.WEATHER_CONDITION, \n",
    "                        crashes_eda.MOST_SEVERE_INJURY), \n",
    "            annot=True, cmap=\"YlGnBu\");"
   ]
  },
  {
   "cell_type": "markdown",
   "metadata": {},
   "source": [
    "**People:**\n",
    "\n",
    "Once again, dropping irrelevant/uninformative columns."
   ]
  },
  {
   "cell_type": "code",
   "execution_count": 24,
   "metadata": {
    "scrolled": true
   },
   "outputs": [
    {
     "data": {
      "text/html": [
       "<div>\n",
       "<style scoped>\n",
       "    .dataframe tbody tr th:only-of-type {\n",
       "        vertical-align: middle;\n",
       "    }\n",
       "\n",
       "    .dataframe tbody tr th {\n",
       "        vertical-align: top;\n",
       "    }\n",
       "\n",
       "    .dataframe thead th {\n",
       "        text-align: right;\n",
       "    }\n",
       "</style>\n",
       "<table border=\"1\" class=\"dataframe\">\n",
       "  <thead>\n",
       "    <tr style=\"text-align: right;\">\n",
       "      <th></th>\n",
       "      <th>VEHICLE_ID</th>\n",
       "      <th>SEAT_NO</th>\n",
       "      <th>AGE</th>\n",
       "      <th>BAC_RESULT VALUE</th>\n",
       "    </tr>\n",
       "  </thead>\n",
       "  <tbody>\n",
       "    <tr>\n",
       "      <th>count</th>\n",
       "      <td>1.172146e+06</td>\n",
       "      <td>244512.000000</td>\n",
       "      <td>852450.000000</td>\n",
       "      <td>1513.000000</td>\n",
       "    </tr>\n",
       "    <tr>\n",
       "      <th>mean</th>\n",
       "      <td>5.585351e+05</td>\n",
       "      <td>4.161947</td>\n",
       "      <td>37.809891</td>\n",
       "      <td>0.168156</td>\n",
       "    </tr>\n",
       "    <tr>\n",
       "      <th>std</th>\n",
       "      <td>3.217621e+05</td>\n",
       "      <td>2.186146</td>\n",
       "      <td>17.108989</td>\n",
       "      <td>0.101872</td>\n",
       "    </tr>\n",
       "    <tr>\n",
       "      <th>min</th>\n",
       "      <td>2.000000e+00</td>\n",
       "      <td>1.000000</td>\n",
       "      <td>-177.000000</td>\n",
       "      <td>0.000000</td>\n",
       "    </tr>\n",
       "    <tr>\n",
       "      <th>25%</th>\n",
       "      <td>2.814092e+05</td>\n",
       "      <td>3.000000</td>\n",
       "      <td>25.000000</td>\n",
       "      <td>0.120000</td>\n",
       "    </tr>\n",
       "    <tr>\n",
       "      <th>50%</th>\n",
       "      <td>5.577685e+05</td>\n",
       "      <td>3.000000</td>\n",
       "      <td>35.000000</td>\n",
       "      <td>0.170000</td>\n",
       "    </tr>\n",
       "    <tr>\n",
       "      <th>75%</th>\n",
       "      <td>8.340698e+05</td>\n",
       "      <td>6.000000</td>\n",
       "      <td>50.000000</td>\n",
       "      <td>0.220000</td>\n",
       "    </tr>\n",
       "    <tr>\n",
       "      <th>max</th>\n",
       "      <td>1.121167e+06</td>\n",
       "      <td>12.000000</td>\n",
       "      <td>110.000000</td>\n",
       "      <td>1.000000</td>\n",
       "    </tr>\n",
       "  </tbody>\n",
       "</table>\n",
       "</div>"
      ],
      "text/plain": [
       "         VEHICLE_ID        SEAT_NO            AGE  BAC_RESULT VALUE\n",
       "count  1.172146e+06  244512.000000  852450.000000       1513.000000\n",
       "mean   5.585351e+05       4.161947      37.809891          0.168156\n",
       "std    3.217621e+05       2.186146      17.108989          0.101872\n",
       "min    2.000000e+00       1.000000    -177.000000          0.000000\n",
       "25%    2.814092e+05       3.000000      25.000000          0.120000\n",
       "50%    5.577685e+05       3.000000      35.000000          0.170000\n",
       "75%    8.340698e+05       6.000000      50.000000          0.220000\n",
       "max    1.121167e+06      12.000000     110.000000          1.000000"
      ]
     },
     "execution_count": 24,
     "metadata": {},
     "output_type": "execute_result"
    }
   ],
   "source": [
    "people_df.describe()"
   ]
  },
  {
   "cell_type": "code",
   "execution_count": 25,
   "metadata": {
    "scrolled": true
   },
   "outputs": [
    {
     "name": "stdout",
     "output_type": "stream",
     "text": [
      "<class 'pandas.core.frame.DataFrame'>\n",
      "RangeIndex: 1195747 entries, 0 to 1195746\n",
      "Data columns (total 30 columns):\n",
      " #   Column                 Non-Null Count    Dtype  \n",
      "---  ------                 --------------    -----  \n",
      " 0   PERSON_ID              1195747 non-null  object \n",
      " 1   PERSON_TYPE            1195747 non-null  object \n",
      " 2   CRASH_RECORD_ID        1195747 non-null  object \n",
      " 3   RD_NO                  1185613 non-null  object \n",
      " 4   VEHICLE_ID             1172146 non-null  float64\n",
      " 5   CRASH_DATE             1195747 non-null  object \n",
      " 6   SEAT_NO                244512 non-null   float64\n",
      " 7   CITY                   879728 non-null   object \n",
      " 8   STATE                  890189 non-null   object \n",
      " 9   ZIPCODE                803192 non-null   object \n",
      " 10  SEX                    1177665 non-null  object \n",
      " 11  AGE                    852450 non-null   float64\n",
      " 12  DRIVERS_LICENSE_STATE  705542 non-null   object \n",
      " 13  DRIVERS_LICENSE_CLASS  608027 non-null   object \n",
      " 14  SAFETY_EQUIPMENT       1192258 non-null  object \n",
      " 15  AIRBAG_DEPLOYED        1173141 non-null  object \n",
      " 16  EJECTION               1181206 non-null  object \n",
      " 17  INJURY_CLASSIFICATION  1195154 non-null  object \n",
      " 18  HOSPITAL               215168 non-null   object \n",
      " 19  EMS_AGENCY             136061 non-null   object \n",
      " 20  EMS_RUN_NO             22281 non-null    object \n",
      " 21  DRIVER_ACTION          948962 non-null   object \n",
      " 22  DRIVER_VISION          948631 non-null   object \n",
      " 23  PHYSICAL_CONDITION     949646 non-null   object \n",
      " 24  PEDPEDAL_ACTION        22222 non-null    object \n",
      " 25  PEDPEDAL_VISIBILITY    22174 non-null    object \n",
      " 26  PEDPEDAL_LOCATION      22221 non-null    object \n",
      " 27  BAC_RESULT             950056 non-null   object \n",
      " 28  BAC_RESULT VALUE       1513 non-null     float64\n",
      " 29  CELL_PHONE_USE         1157 non-null     object \n",
      "dtypes: float64(4), object(26)\n",
      "memory usage: 273.7+ MB\n"
     ]
    }
   ],
   "source": [
    "people_df.info()"
   ]
  },
  {
   "cell_type": "code",
   "execution_count": 26,
   "metadata": {},
   "outputs": [],
   "source": [
    "people_eda = people_df.drop(['PERSON_ID', 'RD_NO', 'CRASH_RECORD_ID', 'HOSPITAL',\n",
    "                             'EMS_AGENCY', 'EMS_RUN_NO'], axis=1)"
   ]
  },
  {
   "cell_type": "code",
   "execution_count": 27,
   "metadata": {
    "scrolled": true
   },
   "outputs": [
    {
     "data": {
      "text/plain": [
       "TEST NOT OFFERED                   935453\n",
       "TEST REFUSED                        10368\n",
       "TEST PERFORMED, RESULTS UNKNOWN      2422\n",
       "TEST TAKEN                           1813\n",
       "Name: BAC_RESULT, dtype: int64"
      ]
     },
     "execution_count": 27,
     "metadata": {},
     "output_type": "execute_result"
    }
   ],
   "source": [
    "people_eda.BAC_RESULT.value_counts()"
   ]
  },
  {
   "cell_type": "code",
   "execution_count": 28,
   "metadata": {},
   "outputs": [
    {
     "data": {
      "image/png": "[encoded data removed]",
      "text/plain": [
       "<Figure size 432x288 with 1 Axes>"
      ]
     },
     "metadata": {
      "needs_background": "light"
     },
     "output_type": "display_data"
    }
   ],
   "source": [
    "people_eda['BAC_RESULT VALUE'].hist(bins='auto');"
   ]
  },
  {
   "cell_type": "code",
   "execution_count": 29,
   "metadata": {
    "scrolled": true
   },
   "outputs": [
    {
     "data": {
      "image/png": "[encoded data removed]",
      "text/plain": [
       "<Figure size 432x288 with 1 Axes>"
      ]
     },
     "metadata": {
      "needs_background": "light"
     },
     "output_type": "display_data"
    }
   ],
   "source": [
    "sns.barplot(y=people_eda.SEX.value_counts().index, x=people_eda.SEX.value_counts(),\n",
    "           orient='h');"
   ]
  },
  {
   "cell_type": "markdown",
   "metadata": {},
   "source": [
    "What's with ages less than 0???"
   ]
  },
  {
   "cell_type": "code",
   "execution_count": 30,
   "metadata": {
    "scrolled": false
   },
   "outputs": [
    {
     "data": {
      "image/png": "[encoded data removed]",
      "text/plain": [
       "<Figure size 432x288 with 1 Axes>"
      ]
     },
     "metadata": {
      "needs_background": "light"
     },
     "output_type": "display_data"
    }
   ],
   "source": [
    "people_eda[people_eda['AGE'] > 0]['AGE'].hist();"
   ]
  },
  {
   "cell_type": "code",
   "execution_count": 31,
   "metadata": {},
   "outputs": [],
   "source": [
    "people_eda['AGE_BINS'] = pd.cut(x=people_eda['AGE'], bins=[16, 19, 29, 39, 49, 59, 69, 79, 89, 99])"
   ]
  },
  {
   "cell_type": "code",
   "execution_count": 32,
   "metadata": {
    "scrolled": true
   },
   "outputs": [
    {
     "data": {
      "image/png": "[encoded data removed]",
      "text/plain": [
       "<Figure size 432x288 with 1 Axes>"
      ]
     },
     "metadata": {
      "needs_background": "light"
     },
     "output_type": "display_data"
    }
   ],
   "source": [
    "sns.barplot(y=people_eda.AGE_BINS.value_counts().index, x=people_eda.AGE_BINS.value_counts(),\n",
    "           orient='h');"
   ]
  },
  {
   "cell_type": "code",
   "execution_count": 33,
   "metadata": {},
   "outputs": [
    {
     "data": {
      "image/png": "[encoded data removed]",
      "text/plain": [
       "<Figure size 432x288 with 1 Axes>"
      ]
     },
     "metadata": {
      "needs_background": "light"
     },
     "output_type": "display_data"
    }
   ],
   "source": [
    "sns.barplot(y=people_eda.INJURY_CLASSIFICATION.value_counts().index, x=people_eda.INJURY_CLASSIFICATION.value_counts(),\n",
    "           orient='h');"
   ]
  },
  {
   "cell_type": "code",
   "execution_count": 34,
   "metadata": {
    "scrolled": true
   },
   "outputs": [
    {
     "data": {
      "text/html": [
       "<div>\n",
       "<style scoped>\n",
       "    .dataframe tbody tr th:only-of-type {\n",
       "        vertical-align: middle;\n",
       "    }\n",
       "\n",
       "    .dataframe tbody tr th {\n",
       "        vertical-align: top;\n",
       "    }\n",
       "\n",
       "    .dataframe thead th {\n",
       "        text-align: right;\n",
       "    }\n",
       "</style>\n",
       "<table border=\"1\" class=\"dataframe\">\n",
       "  <thead>\n",
       "    <tr style=\"text-align: right;\">\n",
       "      <th>INJURY_CLASSIFICATION</th>\n",
       "      <th>FATAL</th>\n",
       "      <th>INCAPACITATING INJURY</th>\n",
       "      <th>NO INDICATION OF INJURY</th>\n",
       "      <th>NONINCAPACITATING INJURY</th>\n",
       "      <th>REPORTED, NOT EVIDENT</th>\n",
       "    </tr>\n",
       "    <tr>\n",
       "      <th>SEX</th>\n",
       "      <th></th>\n",
       "      <th></th>\n",
       "      <th></th>\n",
       "      <th></th>\n",
       "      <th></th>\n",
       "    </tr>\n",
       "  </thead>\n",
       "  <tbody>\n",
       "    <tr>\n",
       "      <th>F</th>\n",
       "      <td>166</td>\n",
       "      <td>4640</td>\n",
       "      <td>403662</td>\n",
       "      <td>26255</td>\n",
       "      <td>16890</td>\n",
       "    </tr>\n",
       "    <tr>\n",
       "      <th>M</th>\n",
       "      <td>477</td>\n",
       "      <td>6003</td>\n",
       "      <td>573458</td>\n",
       "      <td>28189</td>\n",
       "      <td>14724</td>\n",
       "    </tr>\n",
       "    <tr>\n",
       "      <th>X</th>\n",
       "      <td>4</td>\n",
       "      <td>57</td>\n",
       "      <td>102744</td>\n",
       "      <td>171</td>\n",
       "      <td>93</td>\n",
       "    </tr>\n",
       "  </tbody>\n",
       "</table>\n",
       "</div>"
      ],
      "text/plain": [
       "INJURY_CLASSIFICATION  FATAL  INCAPACITATING INJURY  NO INDICATION OF INJURY  \\\n",
       "SEX                                                                            \n",
       "F                        166                   4640                   403662   \n",
       "M                        477                   6003                   573458   \n",
       "X                          4                     57                   102744   \n",
       "\n",
       "INJURY_CLASSIFICATION  NONINCAPACITATING INJURY  REPORTED, NOT EVIDENT  \n",
       "SEX                                                                     \n",
       "F                                         26255                  16890  \n",
       "M                                         28189                  14724  \n",
       "X                                           171                     93  "
      ]
     },
     "execution_count": 34,
     "metadata": {},
     "output_type": "execute_result"
    }
   ],
   "source": [
    "pd.crosstab(people_eda.SEX, people_eda.INJURY_CLASSIFICATION)"
   ]
  },
  {
   "cell_type": "code",
   "execution_count": 35,
   "metadata": {
    "scrolled": false
   },
   "outputs": [
    {
     "data": {
      "image/png": "[encoded data removed]",
      "text/plain": [
       "<Figure size 720x576 with 1 Axes>"
      ]
     },
     "metadata": {
      "needs_background": "light"
     },
     "output_type": "display_data"
    }
   ],
   "source": [
    "ct = pd.crosstab(people_eda.SEX, people_eda.INJURY_CLASSIFICATION).drop('NO INDICATION OF INJURY', axis=1)\n",
    "ct.plot.bar(stacked=True, figsize=(10, 8));"
   ]
  },
  {
   "cell_type": "code",
   "execution_count": 36,
   "metadata": {
    "scrolled": false
   },
   "outputs": [
    {
     "data": {
      "image/png": "[encoded data removed]",
      "text/plain": [
       "<Figure size 432x288 with 2 Axes>"
      ]
     },
     "metadata": {
      "needs_background": "light"
     },
     "output_type": "display_data"
    }
   ],
   "source": [
    "sns.heatmap(pd.crosstab(people_eda.DRIVER_ACTION, people_eda.INJURY_CLASSIFICATION).drop('NO INDICATION OF INJURY', axis=1),\n",
    "            annot=True, cmap=\"YlGnBu\");"
   ]
  },
  {
   "cell_type": "code",
   "execution_count": 37,
   "metadata": {},
   "outputs": [
    {
     "data": {
      "image/png": "[encoded data removed]",
      "text/plain": [
       "<Figure size 432x288 with 1 Axes>"
      ]
     },
     "metadata": {
      "needs_background": "light"
     },
     "output_type": "display_data"
    }
   ],
   "source": [
    "pd.crosstab(people_eda.DRIVER_ACTION, people_eda.INJURY_CLASSIFICATION)['FATAL'].plot.barh();"
   ]
  },
  {
   "cell_type": "code",
   "execution_count": 38,
   "metadata": {},
   "outputs": [
    {
     "data": {
      "image/png": "[encoded data removed]",
      "text/plain": [
       "<Figure size 432x288 with 1 Axes>"
      ]
     },
     "metadata": {
      "needs_background": "light"
     },
     "output_type": "display_data"
    }
   ],
   "source": [
    "pd.crosstab(people_eda.DRIVER_ACTION, people_eda.INJURY_CLASSIFICATION)['INCAPACITATING INJURY'].plot.barh();"
   ]
  },
  {
   "cell_type": "markdown",
   "metadata": {},
   "source": [
    "## Dropping columns/basic cleaning"
   ]
  },
  {
   "cell_type": "markdown",
   "metadata": {},
   "source": [
    "####  First with `.isna().mean()`>80%"
   ]
  },
  {
   "cell_type": "code",
   "execution_count": 39,
   "metadata": {},
   "outputs": [],
   "source": [
    "def dropna_columns(df, threshold=.8):\n",
    "    '''\n",
    "    Drop columns from a Pandas DataFrame in which more than a certain\n",
    "    percentage (default=80%) of their rows are null/NaN.\n",
    "    '''\n",
    "    return df.dropna(thresh=(((1-threshold) * df.shape[0])) + 1, axis=1)"
   ]
  },
  {
   "cell_type": "code",
   "execution_count": 40,
   "metadata": {
    "scrolled": true
   },
   "outputs": [],
   "source": [
    "crashes_dropped_df = dropna_columns(crashes_df)\n",
    "# vehicles_dropped_df = dropna_columns(vehicles_df)\n",
    "people_dropped_df = dropna_columns(people_df)"
   ]
  },
  {
   "cell_type": "code",
   "execution_count": 41,
   "metadata": {},
   "outputs": [
    {
     "data": {
      "text/plain": [
       "(541142, 41)"
      ]
     },
     "execution_count": 41,
     "metadata": {},
     "output_type": "execute_result"
    }
   ],
   "source": [
    "crashes_dropped_df.shape"
   ]
  },
  {
   "cell_type": "code",
   "execution_count": 42,
   "metadata": {},
   "outputs": [],
   "source": [
    "# vehicles_dropped_df.shape"
   ]
  },
  {
   "cell_type": "code",
   "execution_count": 43,
   "metadata": {},
   "outputs": [
    {
     "data": {
      "text/plain": [
       "(1195747, 22)"
      ]
     },
     "execution_count": 43,
     "metadata": {},
     "output_type": "execute_result"
    }
   ],
   "source": [
    "people_dropped_df.shape"
   ]
  },
  {
   "cell_type": "code",
   "execution_count": 44,
   "metadata": {},
   "outputs": [
    {
     "data": {
      "text/plain": [
       "Index(['CRASH_RECORD_ID', 'RD_NO', 'CRASH_DATE', 'POSTED_SPEED_LIMIT',\n",
       "       'TRAFFIC_CONTROL_DEVICE', 'DEVICE_CONDITION', 'WEATHER_CONDITION',\n",
       "       'LIGHTING_CONDITION', 'FIRST_CRASH_TYPE', 'TRAFFICWAY_TYPE', 'LANE_CNT',\n",
       "       'ALIGNMENT', 'ROADWAY_SURFACE_COND', 'ROAD_DEFECT', 'REPORT_TYPE',\n",
       "       'CRASH_TYPE', 'INTERSECTION_RELATED_I', 'HIT_AND_RUN_I', 'DAMAGE',\n",
       "       'DATE_POLICE_NOTIFIED', 'PRIM_CONTRIBUTORY_CAUSE',\n",
       "       'SEC_CONTRIBUTORY_CAUSE', 'STREET_NO', 'STREET_DIRECTION',\n",
       "       'STREET_NAME', 'BEAT_OF_OCCURRENCE', 'NUM_UNITS', 'MOST_SEVERE_INJURY',\n",
       "       'INJURIES_TOTAL', 'INJURIES_FATAL', 'INJURIES_INCAPACITATING',\n",
       "       'INJURIES_NON_INCAPACITATING', 'INJURIES_REPORTED_NOT_EVIDENT',\n",
       "       'INJURIES_NO_INDICATION', 'INJURIES_UNKNOWN', 'CRASH_HOUR',\n",
       "       'CRASH_DAY_OF_WEEK', 'CRASH_MONTH', 'LATITUDE', 'LONGITUDE',\n",
       "       'LOCATION'],\n",
       "      dtype='object')"
      ]
     },
     "execution_count": 44,
     "metadata": {},
     "output_type": "execute_result"
    }
   ],
   "source": [
    "crashes_dropped_df.columns"
   ]
  },
  {
   "cell_type": "code",
   "execution_count": 45,
   "metadata": {
    "scrolled": true
   },
   "outputs": [],
   "source": [
    "# vehicles_dropped_df.columns"
   ]
  },
  {
   "cell_type": "code",
   "execution_count": 46,
   "metadata": {},
   "outputs": [
    {
     "data": {
      "text/plain": [
       "Index(['PERSON_ID', 'PERSON_TYPE', 'CRASH_RECORD_ID', 'RD_NO', 'VEHICLE_ID',\n",
       "       'CRASH_DATE', 'SEAT_NO', 'CITY', 'STATE', 'ZIPCODE', 'SEX', 'AGE',\n",
       "       'DRIVERS_LICENSE_STATE', 'DRIVERS_LICENSE_CLASS', 'SAFETY_EQUIPMENT',\n",
       "       'AIRBAG_DEPLOYED', 'EJECTION', 'INJURY_CLASSIFICATION', 'DRIVER_ACTION',\n",
       "       'DRIVER_VISION', 'PHYSICAL_CONDITION', 'BAC_RESULT'],\n",
       "      dtype='object')"
      ]
     },
     "execution_count": 46,
     "metadata": {},
     "output_type": "execute_result"
    }
   ],
   "source": [
    "people_dropped_df.columns"
   ]
  },
  {
   "cell_type": "code",
   "execution_count": 47,
   "metadata": {},
   "outputs": [
    {
     "data": {
      "text/plain": [
       "3.0     118468\n",
       "6.0      41772\n",
       "4.0      32990\n",
       "5.0      11585\n",
       "1.0      10461\n",
       "2.0       9784\n",
       "12.0      6193\n",
       "7.0       5581\n",
       "10.0      5323\n",
       "11.0      2081\n",
       "8.0        274\n",
       "Name: SEAT_NO, dtype: int64"
      ]
     },
     "execution_count": 47,
     "metadata": {},
     "output_type": "execute_result"
    }
   ],
   "source": [
    "people_dropped_df.SEAT_NO.value_counts()"
   ]
  },
  {
   "cell_type": "markdown",
   "metadata": {},
   "source": [
    "####  Next by content we don't want/need"
   ]
  },
  {
   "cell_type": "code",
   "execution_count": 48,
   "metadata": {
    "scrolled": false
   },
   "outputs": [
    {
     "name": "stdout",
     "output_type": "stream",
     "text": [
      "<class 'pandas.core.frame.DataFrame'>\n",
      "RangeIndex: 1195747 entries, 0 to 1195746\n",
      "Data columns (total 22 columns):\n",
      " #   Column                 Non-Null Count    Dtype  \n",
      "---  ------                 --------------    -----  \n",
      " 0   PERSON_ID              1195747 non-null  object \n",
      " 1   PERSON_TYPE            1195747 non-null  object \n",
      " 2   CRASH_RECORD_ID        1195747 non-null  object \n",
      " 3   RD_NO                  1185613 non-null  object \n",
      " 4   VEHICLE_ID             1172146 non-null  float64\n",
      " 5   CRASH_DATE             1195747 non-null  object \n",
      " 6   SEAT_NO                244512 non-null   float64\n",
      " 7   CITY                   879728 non-null   object \n",
      " 8   STATE                  890189 non-null   object \n",
      " 9   ZIPCODE                803192 non-null   object \n",
      " 10  SEX                    1177665 non-null  object \n",
      " 11  AGE                    852450 non-null   float64\n",
      " 12  DRIVERS_LICENSE_STATE  705542 non-null   object \n",
      " 13  DRIVERS_LICENSE_CLASS  608027 non-null   object \n",
      " 14  SAFETY_EQUIPMENT       1192258 non-null  object \n",
      " 15  AIRBAG_DEPLOYED        1173141 non-null  object \n",
      " 16  EJECTION               1181206 non-null  object \n",
      " 17  INJURY_CLASSIFICATION  1195154 non-null  object \n",
      " 18  DRIVER_ACTION          948962 non-null   object \n",
      " 19  DRIVER_VISION          948631 non-null   object \n",
      " 20  PHYSICAL_CONDITION     949646 non-null   object \n",
      " 21  BAC_RESULT             950056 non-null   object \n",
      "dtypes: float64(3), object(19)\n",
      "memory usage: 200.7+ MB\n"
     ]
    }
   ],
   "source": [
    "people_dropped_df.info()"
   ]
  },
  {
   "cell_type": "markdown",
   "metadata": {},
   "source": [
    "**Columns to drop:**\n",
    "\n",
    "Crashes:\n",
    " - `RD_NO` is a police ID number, withheld for recent crashes; reduntant w/`CRASH_RECORD_ID`\n",
    " - `REPORT_TYPE` not relevant to conditions in a crash\n",
    " - `CRASH_DATE` (redundant w/`people_df`)\n",
    " - `DATE_POLICE_NOTIFIED`\n",
    " - `STREET_NO`, `STREET_DIRECTION`, `STREET_NAME` are all location related; just use lat/long\n",
    " - All the `INJURIES_` columns--colinearity issues w/individual injury data\n",
    "\n",
    "Vehicles:\n",
    " - `RD_NO` is a police ID number, withheld for recent crashes; reduntant w/`CRASH_RECORD_ID`\n",
    " - `CRASH_DATE` (redundant w/`crashes_df`)\n",
    " - `UNIT_NO` is redundant (count of num vehicles in crash)\n",
    " - `AREA_01_I` is ??? Totally unclear what this is\n",
    " \n",
    "People:\n",
    " - `RD_NO` is a police ID number, withheld for recent crashes; reduntant w/`CRASH_RECORD_ID`\n",
    " - `CITY` and `ZIPCODE`; just use `STATE` to determine driver residence"
   ]
  },
  {
   "cell_type": "code",
   "execution_count": 49,
   "metadata": {},
   "outputs": [],
   "source": [
    "crashes_cols_to_drop = ['CRASH_DATE', 'RD_NO', 'REPORT_TYPE', 'DATE_POLICE_NOTIFIED', 'STREET_NO', 'STREET_DIRECTION', \n",
    "                        'STREET_NAME', 'INJURIES_TOTAL', 'INJURIES_FATAL', 'INJURIES_INCAPACITATING',\n",
    "                        'INJURIES_NON_INCAPACITATING', 'INJURIES_REPORTED_NOT_EVIDENT', 'INJURIES_NO_INDICATION',\n",
    "                        'INJURIES_UNKNOWN', 'MOST_SEVERE_INJURY']\n",
    "# vehicles_cols_to_drop = ['RD_NO', 'CRASH_DATE', 'UNIT_NO', 'AREA_01_I']\n",
    "people_cols_to_drop = ['RD_NO', 'CITY', 'ZIPCODE']"
   ]
  },
  {
   "cell_type": "code",
   "execution_count": 50,
   "metadata": {},
   "outputs": [],
   "source": [
    "crashes_dropped_df = crashes_dropped_df.drop(crashes_cols_to_drop, axis=1)\n",
    "# vehicles_dropped_df = vehicles_dropped_df.drop(vehicles_cols_to_drop, axis=1)\n",
    "people_dropped_df = people_dropped_df.drop(people_cols_to_drop, axis=1)"
   ]
  },
  {
   "cell_type": "code",
   "execution_count": 51,
   "metadata": {},
   "outputs": [
    {
     "data": {
      "text/plain": [
       "(541142, 26)"
      ]
     },
     "execution_count": 51,
     "metadata": {},
     "output_type": "execute_result"
    }
   ],
   "source": [
    "crashes_dropped_df.shape"
   ]
  },
  {
   "cell_type": "code",
   "execution_count": 52,
   "metadata": {},
   "outputs": [],
   "source": [
    "# vehicles_dropped_df.shape"
   ]
  },
  {
   "cell_type": "code",
   "execution_count": 53,
   "metadata": {},
   "outputs": [
    {
     "data": {
      "text/plain": [
       "(1195747, 19)"
      ]
     },
     "execution_count": 53,
     "metadata": {},
     "output_type": "execute_result"
    }
   ],
   "source": [
    "people_dropped_df.shape"
   ]
  },
  {
   "cell_type": "markdown",
   "metadata": {},
   "source": [
    "## First Simple Model--DO NOT RUN!\n",
    "\n",
    "Older version"
   ]
  },
  {
   "cell_type": "markdown",
   "metadata": {},
   "source": [
    "### Create a `TARGET` columns"
   ]
  },
  {
   "cell_type": "markdown",
   "metadata": {},
   "source": [
    "To create our FSM, we'll modify the `MOST_SEVERE_INJURY` column to create a `TARGET` column:\n",
    " - 0 = `NO INDICATION OF INJURY`, `NONINCAPACITATING INJURY`, `REPORTED, NOT EVIDENT`\n",
    " - 1 = `INCAPACITATING INJURY`, `FATAL`"
   ]
  },
  {
   "cell_type": "code",
   "execution_count": 54,
   "metadata": {},
   "outputs": [],
   "source": [
    "# crashes_dropped_df.MOST_SEVERE_INJURY.value_counts()"
   ]
  },
  {
   "cell_type": "code",
   "execution_count": 55,
   "metadata": {},
   "outputs": [],
   "source": [
    "# crashes_dropped_df['TARGET'] = crashes_dropped_df['MOST_SEVERE_INJURY'].map({'NO INDICATION OF INJURY': 0,\n",
    "#                                                                               'NONINCAPACITATING INJURY': 0,\n",
    "#                                                                               'REPORTED, NOT EVIDENT': 0,\n",
    "#                                                                               'INCAPACITATING INJURY': 1,\n",
    "#                                                                               'FATAL': 1})"
   ]
  },
  {
   "cell_type": "code",
   "execution_count": 56,
   "metadata": {
    "scrolled": true
   },
   "outputs": [],
   "source": [
    "# crashes_dropped_df.TARGET.value_counts()"
   ]
  },
  {
   "cell_type": "code",
   "execution_count": 57,
   "metadata": {
    "scrolled": true
   },
   "outputs": [],
   "source": [
    "# crashes_dropped_df.info()"
   ]
  },
  {
   "cell_type": "markdown",
   "metadata": {},
   "source": [
    "### Apply a dummy model "
   ]
  },
  {
   "cell_type": "code",
   "execution_count": 58,
   "metadata": {
    "run_control": {
     "marked": false
    }
   },
   "outputs": [],
   "source": [
    "# from sklearn.model_selection import train_test_split\n",
    "# from sklearn.dummy import DummyClassifier\n",
    "# from sklearn.metrics import classification_report"
   ]
  },
  {
   "cell_type": "code",
   "execution_count": 59,
   "metadata": {},
   "outputs": [],
   "source": [
    "# cols_to_drop = ['TARGET', 'MOST_SEVERE_INJURY', 'INJURIES_TOTAL', 'INJURIES_FATAL', \n",
    "#                 'INJURIES_INCAPACITATING', 'INJURIES_NON_INCAPACITATING', 'INJURIES_REPORTED_NOT_EVIDENT', \n",
    "#                 'INJURIES_UNKNOWN', 'CRASH_RECORD_ID', 'CRASH_DATE', 'LATITUDE', 'LONGITUDE', 'LOCATION']\n",
    "\n",
    "# X = crashes_dropped_df.drop(cols_to_drop, axis=1)\n",
    "# y = crashes_dropped_df['TARGET']\n",
    "\n",
    "# y.fillna(value=0)\n",
    "\n",
    "# X_train, X_test, y_train, y_test = train_test_split(X, y, random_state=42)"
   ]
  },
  {
   "cell_type": "code",
   "execution_count": 60,
   "metadata": {},
   "outputs": [],
   "source": [
    "# fsm = DummyClassifier(strategy='most_frequent', random_state=42)\n",
    "# fsm.fit(X_train, y_train)\n",
    "# y_train_preds = fsm.predict(X_train)\n",
    "# y_test_preds = fsm.predict(X_test)"
   ]
  },
  {
   "cell_type": "code",
   "execution_count": 61,
   "metadata": {
    "scrolled": true
   },
   "outputs": [],
   "source": [
    "# print(classification_report(y_train, y_train_preds))"
   ]
  },
  {
   "cell_type": "markdown",
   "metadata": {},
   "source": []
  },
  {
   "cell_type": "markdown",
   "metadata": {},
   "source": [
    "## Merging all the data into one dataframe"
   ]
  },
  {
   "cell_type": "markdown",
   "metadata": {},
   "source": [
    "Since we are focusing on predicting individual outcomes in crashes, we will merge on `people_dropped_df` in a left join with `crashes_dropped_df` and `vehicles_dropped_df`. This will allow us to create a `TARGET` column based on the injury that each individual person incurred during the crash."
   ]
  },
  {
   "cell_type": "code",
   "execution_count": 54,
   "metadata": {
    "scrolled": false
   },
   "outputs": [],
   "source": [
    "people_crashes_df = people_dropped_df.merge(crashes_dropped_df, on='CRASH_RECORD_ID', how='left')"
   ]
  },
  {
   "cell_type": "code",
   "execution_count": 55,
   "metadata": {},
   "outputs": [
    {
     "data": {
      "text/plain": [
       "(1195747, 44)"
      ]
     },
     "execution_count": 55,
     "metadata": {},
     "output_type": "execute_result"
    }
   ],
   "source": [
    "people_crashes_df.shape"
   ]
  },
  {
   "cell_type": "code",
   "execution_count": 56,
   "metadata": {},
   "outputs": [
    {
     "data": {
      "text/plain": [
       "Index(['PERSON_ID', 'PERSON_TYPE', 'CRASH_RECORD_ID', 'VEHICLE_ID',\n",
       "       'CRASH_DATE', 'SEAT_NO', 'STATE', 'SEX', 'AGE', 'DRIVERS_LICENSE_STATE',\n",
       "       'DRIVERS_LICENSE_CLASS', 'SAFETY_EQUIPMENT', 'AIRBAG_DEPLOYED',\n",
       "       'EJECTION', 'INJURY_CLASSIFICATION', 'DRIVER_ACTION', 'DRIVER_VISION',\n",
       "       'PHYSICAL_CONDITION', 'BAC_RESULT', 'POSTED_SPEED_LIMIT',\n",
       "       'TRAFFIC_CONTROL_DEVICE', 'DEVICE_CONDITION', 'WEATHER_CONDITION',\n",
       "       'LIGHTING_CONDITION', 'FIRST_CRASH_TYPE', 'TRAFFICWAY_TYPE', 'LANE_CNT',\n",
       "       'ALIGNMENT', 'ROADWAY_SURFACE_COND', 'ROAD_DEFECT', 'CRASH_TYPE',\n",
       "       'INTERSECTION_RELATED_I', 'HIT_AND_RUN_I', 'DAMAGE',\n",
       "       'PRIM_CONTRIBUTORY_CAUSE', 'SEC_CONTRIBUTORY_CAUSE',\n",
       "       'BEAT_OF_OCCURRENCE', 'NUM_UNITS', 'CRASH_HOUR', 'CRASH_DAY_OF_WEEK',\n",
       "       'CRASH_MONTH', 'LATITUDE', 'LONGITUDE', 'LOCATION'],\n",
       "      dtype='object')"
      ]
     },
     "execution_count": 56,
     "metadata": {},
     "output_type": "execute_result"
    }
   ],
   "source": [
    "people_crashes_df.columns"
   ]
  },
  {
   "cell_type": "code",
   "execution_count": 57,
   "metadata": {},
   "outputs": [
    {
     "data": {
      "text/plain": [
       "NO INDICATION OF INJURY     1096283\n",
       "NONINCAPACITATING INJURY      55296\n",
       "REPORTED, NOT EVIDENT         32092\n",
       "INCAPACITATING INJURY         10827\n",
       "FATAL                           656\n",
       "Name: INJURY_CLASSIFICATION, dtype: int64"
      ]
     },
     "execution_count": 57,
     "metadata": {},
     "output_type": "execute_result"
    }
   ],
   "source": [
    "people_crashes_df.INJURY_CLASSIFICATION.value_counts()"
   ]
  },
  {
   "cell_type": "code",
   "execution_count": 58,
   "metadata": {
    "scrolled": false
   },
   "outputs": [],
   "source": [
    "sex_incapac_fatal = pd.crosstab(people_crashes_df.SEX, people_crashes_df.INJURY_CLASSIFICATION)[:2][['FATAL', 'INCAPACITATING INJURY']]"
   ]
  },
  {
   "cell_type": "code",
   "execution_count": 59,
   "metadata": {},
   "outputs": [
    {
     "data": {
      "text/html": [
       "<div>\n",
       "<style scoped>\n",
       "    .dataframe tbody tr th:only-of-type {\n",
       "        vertical-align: middle;\n",
       "    }\n",
       "\n",
       "    .dataframe tbody tr th {\n",
       "        vertical-align: top;\n",
       "    }\n",
       "\n",
       "    .dataframe thead th {\n",
       "        text-align: right;\n",
       "    }\n",
       "</style>\n",
       "<table border=\"1\" class=\"dataframe\">\n",
       "  <thead>\n",
       "    <tr style=\"text-align: right;\">\n",
       "      <th>INJURY_CLASSIFICATION</th>\n",
       "      <th>FATAL</th>\n",
       "      <th>INCAPACITATING INJURY</th>\n",
       "    </tr>\n",
       "    <tr>\n",
       "      <th>SEX</th>\n",
       "      <th></th>\n",
       "      <th></th>\n",
       "    </tr>\n",
       "  </thead>\n",
       "  <tbody>\n",
       "    <tr>\n",
       "      <th>F</th>\n",
       "      <td>166</td>\n",
       "      <td>4640</td>\n",
       "    </tr>\n",
       "    <tr>\n",
       "      <th>M</th>\n",
       "      <td>477</td>\n",
       "      <td>6003</td>\n",
       "    </tr>\n",
       "  </tbody>\n",
       "</table>\n",
       "</div>"
      ],
      "text/plain": [
       "INJURY_CLASSIFICATION  FATAL  INCAPACITATING INJURY\n",
       "SEX                                                \n",
       "F                        166                   4640\n",
       "M                        477                   6003"
      ]
     },
     "execution_count": 59,
     "metadata": {},
     "output_type": "execute_result"
    }
   ],
   "source": [
    "sex_incapac_fatal"
   ]
  },
  {
   "cell_type": "code",
   "execution_count": 60,
   "metadata": {},
   "outputs": [],
   "source": [
    "sex_incapac_fatal_percent = sex_incapac_fatal.copy()"
   ]
  },
  {
   "cell_type": "code",
   "execution_count": 61,
   "metadata": {},
   "outputs": [
    {
     "data": {
      "text/plain": [
       "SEX\n",
       "F    166\n",
       "M    477\n",
       "Name: FATAL, dtype: int64"
      ]
     },
     "execution_count": 61,
     "metadata": {},
     "output_type": "execute_result"
    }
   ],
   "source": [
    "sex_incapac_fatal_percent['FATAL']"
   ]
  },
  {
   "cell_type": "code",
   "execution_count": 62,
   "metadata": {
    "scrolled": true
   },
   "outputs": [],
   "source": [
    "sex_incapac_fatal_percent['FATAL'] = sex_incapac_fatal['FATAL'].apply(lambda x: x/sex_incapac_fatal['FATAL'].sum())\n",
    "sex_incapac_fatal_percent['INCAPACITATING INJURY'] = sex_incapac_fatal['INCAPACITATING INJURY'].apply(lambda x: x/sex_incapac_fatal['INCAPACITATING INJURY'].sum())"
   ]
  },
  {
   "cell_type": "code",
   "execution_count": 63,
   "metadata": {},
   "outputs": [
    {
     "data": {
      "text/html": [
       "<div>\n",
       "<style scoped>\n",
       "    .dataframe tbody tr th:only-of-type {\n",
       "        vertical-align: middle;\n",
       "    }\n",
       "\n",
       "    .dataframe tbody tr th {\n",
       "        vertical-align: top;\n",
       "    }\n",
       "\n",
       "    .dataframe thead th {\n",
       "        text-align: right;\n",
       "    }\n",
       "</style>\n",
       "<table border=\"1\" class=\"dataframe\">\n",
       "  <thead>\n",
       "    <tr style=\"text-align: right;\">\n",
       "      <th>SEX</th>\n",
       "      <th>F</th>\n",
       "      <th>M</th>\n",
       "    </tr>\n",
       "    <tr>\n",
       "      <th>INJURY_CLASSIFICATION</th>\n",
       "      <th></th>\n",
       "      <th></th>\n",
       "    </tr>\n",
       "  </thead>\n",
       "  <tbody>\n",
       "    <tr>\n",
       "      <th>FATAL</th>\n",
       "      <td>0.258165</td>\n",
       "      <td>0.741835</td>\n",
       "    </tr>\n",
       "    <tr>\n",
       "      <th>INCAPACITATING INJURY</th>\n",
       "      <td>0.435967</td>\n",
       "      <td>0.564033</td>\n",
       "    </tr>\n",
       "  </tbody>\n",
       "</table>\n",
       "</div>"
      ],
      "text/plain": [
       "SEX                           F         M\n",
       "INJURY_CLASSIFICATION                    \n",
       "FATAL                  0.258165  0.741835\n",
       "INCAPACITATING INJURY  0.435967  0.564033"
      ]
     },
     "execution_count": 63,
     "metadata": {},
     "output_type": "execute_result"
    }
   ],
   "source": [
    "sex_incapac_fatal_percent.T"
   ]
  },
  {
   "cell_type": "code",
   "execution_count": 64,
   "metadata": {
    "scrolled": false
   },
   "outputs": [
    {
     "data": {
      "image/png": "[encoded data removed]",
      "text/plain": [
       "<Figure size 720x576 with 1 Axes>"
      ]
     },
     "metadata": {
      "needs_background": "light"
     },
     "output_type": "display_data"
    }
   ],
   "source": [
    "fig, ax = plt.subplots(figsize=(10, 8))\n",
    "sex_incapac_fatal_percent.T.plot.bar(ax=ax)\n",
    "plt.title('Serious Injuries and Fatalities by Sex', size=15)\n",
    "plt.ylabel('Proportion of occurrence', size=12)\n",
    "plt.xlabel('Injury Classification', size=12)\n",
    "plt.xticks(rotation = 45);"
   ]
  },
  {
   "cell_type": "code",
   "execution_count": 65,
   "metadata": {
    "scrolled": false
   },
   "outputs": [
    {
     "data": {
      "image/png": "[encoded data removed]",
      "text/plain": [
       "<Figure size 720x576 with 1 Axes>"
      ]
     },
     "metadata": {
      "needs_background": "light"
     },
     "output_type": "display_data"
    }
   ],
   "source": [
    "fig, ax = plt.subplots(figsize=(10, 8))\n",
    "ax = pd.crosstab(people_crashes_df.SEX, \n",
    "                 people_crashes_df.INJURY_CLASSIFICATION)[:2][['INCAPACITATING INJURY', 'FATAL']].plot.bar(ax=ax)\n",
    "plt.title('Serious Injuries and Fatalities by Sex')\n",
    "plt.ylabel('Number of individuals');"
   ]
  },
  {
   "cell_type": "markdown",
   "metadata": {},
   "source": [
    "### Create target column"
   ]
  },
  {
   "cell_type": "code",
   "execution_count": 66,
   "metadata": {},
   "outputs": [
    {
     "data": {
      "text/plain": [
       "0    1096876\n",
       "1      87388\n",
       "2      10827\n",
       "3        656\n",
       "Name: TARGET, dtype: int64"
      ]
     },
     "execution_count": 66,
     "metadata": {},
     "output_type": "execute_result"
    }
   ],
   "source": [
    "people_crashes_df['TARGET'] = people_crashes_df['INJURY_CLASSIFICATION'].map({np.NaN: 0, \n",
    "                                                                              'NO INDICATION OF INJURY': 0, \n",
    "                                                                              'NONINCAPACITATING INJURY': 1,\n",
    "                                                                              'REPORTED, NOT EVIDENT': 1,\n",
    "                                                                              'INCAPACITATING INJURY': 2,\n",
    "                                                                              'FATAL': 3})\n",
    "people_crashes_df['TARGET'].value_counts()"
   ]
  },
  {
   "cell_type": "markdown",
   "metadata": {},
   "source": [
    "**Make a `CRASH_YEAR` columns:**"
   ]
  },
  {
   "cell_type": "code",
   "execution_count": 67,
   "metadata": {},
   "outputs": [],
   "source": [
    "people_crashes_df['CRASH_YEAR'] = pd.to_datetime(people_crashes_df['CRASH_DATE']).dt.year"
   ]
  },
  {
   "cell_type": "code",
   "execution_count": 68,
   "metadata": {},
   "outputs": [
    {
     "data": {
      "text/plain": [
       "2018    265694\n",
       "2019    263972\n",
       "2020    202084\n",
       "2017    185328\n",
       "2021    161704\n",
       "2016     96020\n",
       "2015     20931\n",
       "2014        11\n",
       "2013         3\n",
       "Name: CRASH_YEAR, dtype: int64"
      ]
     },
     "execution_count": 68,
     "metadata": {},
     "output_type": "execute_result"
    }
   ],
   "source": [
    "people_crashes_df['CRASH_YEAR'].value_counts()"
   ]
  },
  {
   "cell_type": "code",
   "execution_count": 69,
   "metadata": {
    "scrolled": true
   },
   "outputs": [
    {
     "data": {
      "text/plain": [
       "Index(['PERSON_ID', 'PERSON_TYPE', 'CRASH_RECORD_ID', 'VEHICLE_ID',\n",
       "       'CRASH_DATE', 'SEAT_NO', 'STATE', 'SEX', 'AGE', 'DRIVERS_LICENSE_STATE',\n",
       "       'DRIVERS_LICENSE_CLASS', 'SAFETY_EQUIPMENT', 'AIRBAG_DEPLOYED',\n",
       "       'EJECTION', 'INJURY_CLASSIFICATION', 'DRIVER_ACTION', 'DRIVER_VISION',\n",
       "       'PHYSICAL_CONDITION', 'BAC_RESULT', 'POSTED_SPEED_LIMIT',\n",
       "       'TRAFFIC_CONTROL_DEVICE', 'DEVICE_CONDITION', 'WEATHER_CONDITION',\n",
       "       'LIGHTING_CONDITION', 'FIRST_CRASH_TYPE', 'TRAFFICWAY_TYPE', 'LANE_CNT',\n",
       "       'ALIGNMENT', 'ROADWAY_SURFACE_COND', 'ROAD_DEFECT', 'CRASH_TYPE',\n",
       "       'INTERSECTION_RELATED_I', 'HIT_AND_RUN_I', 'DAMAGE',\n",
       "       'PRIM_CONTRIBUTORY_CAUSE', 'SEC_CONTRIBUTORY_CAUSE',\n",
       "       'BEAT_OF_OCCURRENCE', 'NUM_UNITS', 'CRASH_HOUR', 'CRASH_DAY_OF_WEEK',\n",
       "       'CRASH_MONTH', 'LATITUDE', 'LONGITUDE', 'LOCATION', 'TARGET',\n",
       "       'CRASH_YEAR'],\n",
       "      dtype='object')"
      ]
     },
     "execution_count": 69,
     "metadata": {},
     "output_type": "execute_result"
    }
   ],
   "source": [
    "people_crashes_df.columns"
   ]
  },
  {
   "cell_type": "markdown",
   "metadata": {},
   "source": [
    "### Split the data"
   ]
  },
  {
   "cell_type": "code",
   "execution_count": 70,
   "metadata": {},
   "outputs": [],
   "source": [
    "from sklearn.model_selection import train_test_split"
   ]
  },
  {
   "cell_type": "markdown",
   "metadata": {},
   "source": [
    "Drop some specific rows:"
   ]
  },
  {
   "cell_type": "code",
   "execution_count": 71,
   "metadata": {},
   "outputs": [
    {
     "data": {
      "text/plain": [
       "(1195747, 46)"
      ]
     },
     "execution_count": 71,
     "metadata": {},
     "output_type": "execute_result"
    }
   ],
   "source": [
    "people_crashes_df.shape"
   ]
  },
  {
   "cell_type": "code",
   "execution_count": 72,
   "metadata": {},
   "outputs": [],
   "source": [
    "# Drop nulls from BEAT_OF_OCCURRENCE\n",
    "people_crashes_df.dropna(subset = ['BEAT_OF_OCCURRENCE'], inplace=True)\n",
    "\n",
    "# Drop ages < 0 and ages = 0 for DRIVER\n",
    "people_crashes_df.loc[people_crashes_df.AGE < 0, 'AGE'] = np.nan\n",
    "people_crashes_df.loc[(people_crashes_df.AGE == 0) & (people_crashes_df.PERSON_TYPE == 'DRIVER'), 'AGE'] = np.nan\n",
    "people_crashes_df.dropna(subset = ['AGE'], inplace=True)\n",
    "\n",
    "# Drop POSTED_SPEED_LIMIT = 0 or not divisible by 5\n",
    "people_crashes_df.loc[people_crashes_df.POSTED_SPEED_LIMIT == 0, 'POSTED_SPEED_LIMIT'] = np.nan\n",
    "people_crashes_df.loc[(people_crashes_df.POSTED_SPEED_LIMIT % 5) != 0, 'POSTED_SPEED_LIMIT'] = np.nan\n",
    "people_crashes_df.dropna(subset = ['POSTED_SPEED_LIMIT'], inplace=True)"
   ]
  },
  {
   "cell_type": "code",
   "execution_count": 73,
   "metadata": {},
   "outputs": [
    {
     "data": {
      "text/plain": [
       "(836073, 46)"
      ]
     },
     "execution_count": 73,
     "metadata": {},
     "output_type": "execute_result"
    }
   ],
   "source": [
    "people_crashes_df.shape"
   ]
  },
  {
   "cell_type": "code",
   "execution_count": 74,
   "metadata": {},
   "outputs": [],
   "source": [
    "X = people_crashes_df.drop(['PERSON_ID', 'CRASH_RECORD_ID', 'VEHICLE_ID', 'CRASH_DATE', 'LANE_CNT', \n",
    "                            'DRIVERS_LICENSE_STATE', 'LATITUDE', 'LONGITUDE', 'LOCATION', 'CRASH_TYPE',\n",
    "                            'INJURY_CLASSIFICATION', 'TARGET'], axis=1)\n",
    "y = people_crashes_df['TARGET']\n",
    "\n",
    "X_train, X_test, y_train, y_test = train_test_split(X, y, random_state=42, stratify=y)"
   ]
  },
  {
   "cell_type": "markdown",
   "metadata": {},
   "source": [
    "## Clean that data!\n",
    "\n",
    "We'll make use of Piplines to streamline the process and make it easier to apply techniques/transformations/functions to both `X_train` and `X_test`."
   ]
  },
  {
   "cell_type": "code",
   "execution_count": 75,
   "metadata": {
    "scrolled": false
   },
   "outputs": [
    {
     "data": {
      "text/html": [
       "<div>\n",
       "<style scoped>\n",
       "    .dataframe tbody tr th:only-of-type {\n",
       "        vertical-align: middle;\n",
       "    }\n",
       "\n",
       "    .dataframe tbody tr th {\n",
       "        vertical-align: top;\n",
       "    }\n",
       "\n",
       "    .dataframe thead th {\n",
       "        text-align: right;\n",
       "    }\n",
       "</style>\n",
       "<table border=\"1\" class=\"dataframe\">\n",
       "  <thead>\n",
       "    <tr style=\"text-align: right;\">\n",
       "      <th></th>\n",
       "      <th>PERSON_TYPE</th>\n",
       "      <th>SEAT_NO</th>\n",
       "      <th>STATE</th>\n",
       "      <th>SEX</th>\n",
       "      <th>AGE</th>\n",
       "      <th>DRIVERS_LICENSE_CLASS</th>\n",
       "      <th>SAFETY_EQUIPMENT</th>\n",
       "      <th>AIRBAG_DEPLOYED</th>\n",
       "      <th>EJECTION</th>\n",
       "      <th>DRIVER_ACTION</th>\n",
       "      <th>...</th>\n",
       "      <th>HIT_AND_RUN_I</th>\n",
       "      <th>DAMAGE</th>\n",
       "      <th>PRIM_CONTRIBUTORY_CAUSE</th>\n",
       "      <th>SEC_CONTRIBUTORY_CAUSE</th>\n",
       "      <th>BEAT_OF_OCCURRENCE</th>\n",
       "      <th>NUM_UNITS</th>\n",
       "      <th>CRASH_HOUR</th>\n",
       "      <th>CRASH_DAY_OF_WEEK</th>\n",
       "      <th>CRASH_MONTH</th>\n",
       "      <th>CRASH_YEAR</th>\n",
       "    </tr>\n",
       "  </thead>\n",
       "  <tbody>\n",
       "    <tr>\n",
       "      <th>630683</th>\n",
       "      <td>DRIVER</td>\n",
       "      <td>NaN</td>\n",
       "      <td>IL</td>\n",
       "      <td>M</td>\n",
       "      <td>24.0</td>\n",
       "      <td>D</td>\n",
       "      <td>USAGE UNKNOWN</td>\n",
       "      <td>DID NOT DEPLOY</td>\n",
       "      <td>NONE</td>\n",
       "      <td>NONE</td>\n",
       "      <td>...</td>\n",
       "      <td>NaN</td>\n",
       "      <td>$501 - $1,500</td>\n",
       "      <td>FOLLOWING TOO CLOSELY</td>\n",
       "      <td>EQUIPMENT - VEHICLE CONDITION</td>\n",
       "      <td>634.0</td>\n",
       "      <td>2.0</td>\n",
       "      <td>14</td>\n",
       "      <td>1</td>\n",
       "      <td>2</td>\n",
       "      <td>2019</td>\n",
       "    </tr>\n",
       "    <tr>\n",
       "      <th>526739</th>\n",
       "      <td>DRIVER</td>\n",
       "      <td>NaN</td>\n",
       "      <td>IL</td>\n",
       "      <td>M</td>\n",
       "      <td>19.0</td>\n",
       "      <td>D</td>\n",
       "      <td>SAFETY BELT USED</td>\n",
       "      <td>DID NOT DEPLOY</td>\n",
       "      <td>NONE</td>\n",
       "      <td>OTHER</td>\n",
       "      <td>...</td>\n",
       "      <td>NaN</td>\n",
       "      <td>OVER $1,500</td>\n",
       "      <td>FOLLOWING TOO CLOSELY</td>\n",
       "      <td>UNABLE TO DETERMINE</td>\n",
       "      <td>813.0</td>\n",
       "      <td>2.0</td>\n",
       "      <td>18</td>\n",
       "      <td>6</td>\n",
       "      <td>8</td>\n",
       "      <td>2018</td>\n",
       "    </tr>\n",
       "    <tr>\n",
       "      <th>396639</th>\n",
       "      <td>DRIVER</td>\n",
       "      <td>NaN</td>\n",
       "      <td>IL</td>\n",
       "      <td>F</td>\n",
       "      <td>32.0</td>\n",
       "      <td>D</td>\n",
       "      <td>NONE PRESENT</td>\n",
       "      <td>DID NOT DEPLOY</td>\n",
       "      <td>NONE</td>\n",
       "      <td>FOLLOWED TOO CLOSELY</td>\n",
       "      <td>...</td>\n",
       "      <td>NaN</td>\n",
       "      <td>OVER $1,500</td>\n",
       "      <td>FOLLOWING TOO CLOSELY</td>\n",
       "      <td>UNABLE TO DETERMINE</td>\n",
       "      <td>122.0</td>\n",
       "      <td>2.0</td>\n",
       "      <td>8</td>\n",
       "      <td>4</td>\n",
       "      <td>1</td>\n",
       "      <td>2018</td>\n",
       "    </tr>\n",
       "    <tr>\n",
       "      <th>601015</th>\n",
       "      <td>DRIVER</td>\n",
       "      <td>NaN</td>\n",
       "      <td>IL</td>\n",
       "      <td>F</td>\n",
       "      <td>31.0</td>\n",
       "      <td>D</td>\n",
       "      <td>USAGE UNKNOWN</td>\n",
       "      <td>DID NOT DEPLOY</td>\n",
       "      <td>NONE</td>\n",
       "      <td>NONE</td>\n",
       "      <td>...</td>\n",
       "      <td>NaN</td>\n",
       "      <td>OVER $1,500</td>\n",
       "      <td>ROAD ENGINEERING/SURFACE/MARKING DEFECTS</td>\n",
       "      <td>NOT APPLICABLE</td>\n",
       "      <td>1621.0</td>\n",
       "      <td>1.0</td>\n",
       "      <td>16</td>\n",
       "      <td>4</td>\n",
       "      <td>12</td>\n",
       "      <td>2018</td>\n",
       "    </tr>\n",
       "    <tr>\n",
       "      <th>243232</th>\n",
       "      <td>DRIVER</td>\n",
       "      <td>NaN</td>\n",
       "      <td>IL</td>\n",
       "      <td>F</td>\n",
       "      <td>27.0</td>\n",
       "      <td>D</td>\n",
       "      <td>USAGE UNKNOWN</td>\n",
       "      <td>DID NOT DEPLOY</td>\n",
       "      <td>NONE</td>\n",
       "      <td>UNKNOWN</td>\n",
       "      <td>...</td>\n",
       "      <td>NaN</td>\n",
       "      <td>OVER $1,500</td>\n",
       "      <td>UNABLE TO DETERMINE</td>\n",
       "      <td>UNABLE TO DETERMINE</td>\n",
       "      <td>2232.0</td>\n",
       "      <td>2.0</td>\n",
       "      <td>17</td>\n",
       "      <td>4</td>\n",
       "      <td>4</td>\n",
       "      <td>2017</td>\n",
       "    </tr>\n",
       "  </tbody>\n",
       "</table>\n",
       "<p>5 rows × 34 columns</p>\n",
       "</div>"
      ],
      "text/plain": [
       "       PERSON_TYPE  SEAT_NO STATE SEX   AGE DRIVERS_LICENSE_CLASS  \\\n",
       "630683      DRIVER      NaN    IL   M  24.0                     D   \n",
       "526739      DRIVER      NaN    IL   M  19.0                     D   \n",
       "396639      DRIVER      NaN    IL   F  32.0                     D   \n",
       "601015      DRIVER      NaN    IL   F  31.0                     D   \n",
       "243232      DRIVER      NaN    IL   F  27.0                     D   \n",
       "\n",
       "        SAFETY_EQUIPMENT AIRBAG_DEPLOYED EJECTION         DRIVER_ACTION  ...  \\\n",
       "630683     USAGE UNKNOWN  DID NOT DEPLOY     NONE                  NONE  ...   \n",
       "526739  SAFETY BELT USED  DID NOT DEPLOY     NONE                 OTHER  ...   \n",
       "396639      NONE PRESENT  DID NOT DEPLOY     NONE  FOLLOWED TOO CLOSELY  ...   \n",
       "601015     USAGE UNKNOWN  DID NOT DEPLOY     NONE                  NONE  ...   \n",
       "243232     USAGE UNKNOWN  DID NOT DEPLOY     NONE               UNKNOWN  ...   \n",
       "\n",
       "       HIT_AND_RUN_I         DAMAGE                   PRIM_CONTRIBUTORY_CAUSE  \\\n",
       "630683           NaN  $501 - $1,500                     FOLLOWING TOO CLOSELY   \n",
       "526739           NaN    OVER $1,500                     FOLLOWING TOO CLOSELY   \n",
       "396639           NaN    OVER $1,500                     FOLLOWING TOO CLOSELY   \n",
       "601015           NaN    OVER $1,500  ROAD ENGINEERING/SURFACE/MARKING DEFECTS   \n",
       "243232           NaN    OVER $1,500                       UNABLE TO DETERMINE   \n",
       "\n",
       "               SEC_CONTRIBUTORY_CAUSE BEAT_OF_OCCURRENCE NUM_UNITS CRASH_HOUR  \\\n",
       "630683  EQUIPMENT - VEHICLE CONDITION              634.0       2.0         14   \n",
       "526739            UNABLE TO DETERMINE              813.0       2.0         18   \n",
       "396639            UNABLE TO DETERMINE              122.0       2.0          8   \n",
       "601015                 NOT APPLICABLE             1621.0       1.0         16   \n",
       "243232            UNABLE TO DETERMINE             2232.0       2.0         17   \n",
       "\n",
       "       CRASH_DAY_OF_WEEK CRASH_MONTH CRASH_YEAR  \n",
       "630683                 1           2       2019  \n",
       "526739                 6           8       2018  \n",
       "396639                 4           1       2018  \n",
       "601015                 4          12       2018  \n",
       "243232                 4           4       2017  \n",
       "\n",
       "[5 rows x 34 columns]"
      ]
     },
     "execution_count": 75,
     "metadata": {},
     "output_type": "execute_result"
    }
   ],
   "source": [
    "X_train.head()"
   ]
  },
  {
   "cell_type": "code",
   "execution_count": 76,
   "metadata": {},
   "outputs": [
    {
     "data": {
      "text/plain": [
       "0"
      ]
     },
     "execution_count": 76,
     "metadata": {},
     "output_type": "execute_result"
    }
   ],
   "source": [
    "X_train.BEAT_OF_OCCURRENCE.isna().sum()"
   ]
  },
  {
   "cell_type": "markdown",
   "metadata": {},
   "source": [
    "**SEAT_NO**"
   ]
  },
  {
   "cell_type": "code",
   "execution_count": 77,
   "metadata": {},
   "outputs": [
    {
     "data": {
      "text/plain": [
       "0.6177905517819616"
      ]
     },
     "execution_count": 77,
     "metadata": {},
     "output_type": "execute_result"
    }
   ],
   "source": [
    "X_train.SEAT_NO.isna().sum() / len(people_crashes_df.SEAT_NO)"
   ]
  },
  {
   "cell_type": "markdown",
   "metadata": {},
   "source": [
    "Looks like almost 60% of this column is `NaN`..."
   ]
  },
  {
   "cell_type": "code",
   "execution_count": 78,
   "metadata": {},
   "outputs": [
    {
     "data": {
      "text/plain": [
       "3.0     55380\n",
       "6.0     18139\n",
       "4.0     14447\n",
       "1.0      5314\n",
       "5.0      5013\n",
       "2.0      4193\n",
       "12.0     2805\n",
       "10.0     2380\n",
       "7.0      1834\n",
       "11.0      920\n",
       "8.0       111\n",
       "Name: SEAT_NO, dtype: int64"
      ]
     },
     "execution_count": 78,
     "metadata": {},
     "output_type": "execute_result"
    }
   ],
   "source": [
    "X_train.SEAT_NO.value_counts()"
   ]
  },
  {
   "cell_type": "code",
   "execution_count": 79,
   "metadata": {
    "scrolled": true
   },
   "outputs": [
    {
     "data": {
      "text/plain": [
       "DRIVER                 501761\n",
       "PEDESTRIAN               9371\n",
       "BICYCLE                  5159\n",
       "NON-MOTOR VEHICLE         188\n",
       "NON-CONTACT VEHICLE        39\n",
       "Name: PERSON_TYPE, dtype: int64"
      ]
     },
     "execution_count": 79,
     "metadata": {},
     "output_type": "execute_result"
    }
   ],
   "source": [
    "X_train.loc[people_crashes_df['SEAT_NO'].isna()]['PERSON_TYPE'].value_counts()"
   ]
  },
  {
   "cell_type": "code",
   "execution_count": 80,
   "metadata": {
    "scrolled": true
   },
   "outputs": [
    {
     "data": {
      "text/plain": [
       "DRIVER                 501761\n",
       "PASSENGER              110536\n",
       "PEDESTRIAN               9371\n",
       "BICYCLE                  5159\n",
       "NON-MOTOR VEHICLE         188\n",
       "NON-CONTACT VEHICLE        39\n",
       "Name: PERSON_TYPE, dtype: int64"
      ]
     },
     "execution_count": 80,
     "metadata": {},
     "output_type": "execute_result"
    }
   ],
   "source": [
    "X_train.PERSON_TYPE.value_counts()"
   ]
  },
  {
   "cell_type": "markdown",
   "metadata": {},
   "source": [
    "...but only for drivers and non-car-occupants!"
   ]
  },
  {
   "cell_type": "code",
   "execution_count": 81,
   "metadata": {},
   "outputs": [
    {
     "name": "stdout",
     "output_type": "stream",
     "text": [
      "PERSON_TYPE\n",
      "DRIVER                 501761\n",
      "PASSENGER              110536\n",
      "PEDESTRIAN               9371\n",
      "BICYCLE                  5159\n",
      "NON-MOTOR VEHICLE         188\n",
      "NON-CONTACT VEHICLE        39\n",
      "Name: PERSON_TYPE, dtype: int64\n",
      "0\n",
      "--------------------\n",
      "SEAT_NO\n",
      "3.0     55380\n",
      "6.0     18139\n",
      "4.0     14447\n",
      "1.0      5314\n",
      "5.0      5013\n",
      "2.0      4193\n",
      "12.0     2805\n",
      "10.0     2380\n",
      "7.0      1834\n",
      "11.0      920\n",
      "8.0       111\n",
      "Name: SEAT_NO, dtype: int64\n",
      "516518\n",
      "--------------------\n",
      "STATE\n",
      "IL    560852\n",
      "IN      9306\n",
      "WI      2810\n",
      "MI      2257\n",
      "FL      1471\n",
      "TX      1193\n",
      "OH      1110\n",
      "CA      1092\n",
      "IA       882\n",
      "MN       765\n",
      "GA       722\n",
      "MO       714\n",
      "NY       562\n",
      "TN       493\n",
      "WA       460\n",
      "AZ       391\n",
      "NC       365\n",
      "PA       305\n",
      "CO       296\n",
      "KY       295\n",
      "MS       244\n",
      "MD       243\n",
      "VA       242\n",
      "NJ       237\n",
      "MA       222\n",
      "AL       199\n",
      "NV       187\n",
      "AR       185\n",
      "ID       166\n",
      "LA       158\n",
      "NB       150\n",
      "XX       148\n",
      "OK       148\n",
      "KS       130\n",
      "SC       127\n",
      "OR        82\n",
      "CT        81\n",
      "NM        54\n",
      "UT        54\n",
      "ND        48\n",
      "SD        44\n",
      "NH        39\n",
      "DC        36\n",
      "MT        36\n",
      "ME        28\n",
      "WV        26\n",
      "WY        26\n",
      "RI        22\n",
      "HI        20\n",
      "DE        20\n",
      "AK        17\n",
      "VT         9\n",
      "Name: STATE, dtype: int64\n",
      "37285\n",
      "--------------------\n",
      "SEX\n",
      "M    359097\n",
      "F    265510\n",
      "X       866\n",
      "Name: SEX, dtype: int64\n",
      "1581\n",
      "--------------------\n",
      "AGE\n",
      "25.0     18393\n",
      "26.0     18172\n",
      "27.0     18005\n",
      "28.0     17520\n",
      "24.0     17505\n",
      "         ...  \n",
      "107.0        3\n",
      "109.0        3\n",
      "103.0        2\n",
      "110.0        2\n",
      "106.0        1\n",
      "Name: AGE, Length: 110, dtype: int64\n",
      "0\n",
      "--------------------\n",
      "DRIVERS_LICENSE_CLASS\n",
      "D     375325\n",
      "A      14884\n",
      "C      11890\n",
      "B      11589\n",
      "DM      6996\n",
      "       ...  \n",
      "UP         1\n",
      "LD         1\n",
      "LL         1\n",
      "HH         1\n",
      "MB         1\n",
      "Name: DRIVERS_LICENSE_CLASS, Length: 200, dtype: int64\n",
      "196400\n",
      "--------------------\n",
      "SAFETY_EQUIPMENT\n",
      "SAFETY BELT USED                              386967\n",
      "USAGE UNKNOWN                                 198891\n",
      "NONE PRESENT                                   22120\n",
      "CHILD RESTRAINT USED                            4403\n",
      "SAFETY BELT NOT USED                            4050\n",
      "HELMET NOT USED                                 2977\n",
      "CHILD RESTRAINT - FORWARD FACING                1227\n",
      "BICYCLE HELMET (PEDACYCLIST INVOLVED ONLY)      1086\n",
      "HELMET USED                                      925\n",
      "CHILD RESTRAINT - TYPE UNKNOWN                   649\n",
      "CHILD RESTRAINT - REAR FACING                    620\n",
      "DOT COMPLIANT MOTORCYCLE HELMET                  426\n",
      "BOOSTER SEAT                                     354\n",
      "CHILD RESTRAINT NOT USED                         261\n",
      "NOT DOT COMPLIANT MOTORCYCLE HELMET               70\n",
      "SHOULD/LAP BELT USED IMPROPERLY                   65\n",
      "CHILD RESTRAINT USED IMPROPERLY                   62\n",
      "WHEELCHAIR                                        60\n",
      "STRETCHER                                          8\n",
      "Name: SAFETY_EQUIPMENT, dtype: int64\n",
      "1833\n",
      "--------------------\n",
      "AIRBAG_DEPLOYED\n",
      "DID NOT DEPLOY                            424264\n",
      "NOT APPLICABLE                            113795\n",
      "DEPLOYMENT UNKNOWN                         27302\n",
      "DEPLOYED, FRONT                            24488\n",
      "DEPLOYED, COMBINATION                      15840\n",
      "DEPLOYED, SIDE                              6473\n",
      "DEPLOYED OTHER (KNEE, AIR, BELT, ETC.)       329\n",
      "Name: AIRBAG_DEPLOYED, dtype: int64\n",
      "14563\n",
      "--------------------\n",
      "EJECTION\n",
      "NONE                  603972\n",
      "UNKNOWN                 9838\n",
      "TOTALLY EJECTED         2659\n",
      "PARTIALLY EJECTED        675\n",
      "TRAPPED/EXTRICATED       386\n",
      "Name: EJECTION, dtype: int64\n",
      "9524\n",
      "--------------------\n",
      "DRIVER_ACTION\n",
      "NONE                                 233465\n",
      "UNKNOWN                               85829\n",
      "OTHER                                 48482\n",
      "FAILED TO YIELD                       47542\n",
      "FOLLOWED TOO CLOSELY                  31445\n",
      "IMPROPER TURN                         13393\n",
      "IMPROPER BACKING                      13335\n",
      "IMPROPER LANE CHANGE                  12058\n",
      "IMPROPER PASSING                       8197\n",
      "TOO FAST FOR CONDITIONS                7832\n",
      "DISREGARDED CONTROL DEVICES            7539\n",
      "WRONG WAY/SIDE                         1612\n",
      "IMPROPER PARKING                       1570\n",
      "CELL PHONE USE OTHER THAN TEXTING       839\n",
      "EVADING POLICE VEHICLE                  713\n",
      "OVERCORRECTED                           689\n",
      "EMERGENCY VEHICLE ON CALL               573\n",
      "TEXTING                                 217\n",
      "STOPPED SCHOOL BUS                       61\n",
      "LICENSE RESTRICTIONS                     27\n",
      "Name: DRIVER_ACTION, dtype: int64\n",
      "111636\n",
      "--------------------\n",
      "DRIVER_VISION\n",
      "NOT OBSCURED              351930\n",
      "UNKNOWN                   146669\n",
      "OTHER                       6607\n",
      "MOVING VEHICLES             4049\n",
      "PARKED VEHICLES             2434\n",
      "WINDSHIELD (WATER/ICE)      1976\n",
      "BLINDED - SUNLIGHT           815\n",
      "TREES, PLANTS                303\n",
      "BUILDINGS                    239\n",
      "BLOWING MATERIALS             53\n",
      "BLINDED - HEADLIGHTS          52\n",
      "HILLCREST                     49\n",
      "EMBANKMENT                    45\n",
      "SIGNBOARD                     19\n",
      "Name: DRIVER_VISION, dtype: int64\n",
      "111814\n",
      "--------------------\n",
      "PHYSICAL_CONDITION\n",
      "NORMAL                          436537\n",
      "UNKNOWN                          67031\n",
      "IMPAIRED - ALCOHOL                3178\n",
      "REMOVED BY EMS                    2629\n",
      "FATIGUED/ASLEEP                   1714\n",
      "OTHER                             1620\n",
      "EMOTIONAL                         1428\n",
      "ILLNESS/FAINTED                    639\n",
      "HAD BEEN DRINKING                  477\n",
      "IMPAIRED - DRUGS                   388\n",
      "IMPAIRED - ALCOHOL AND DRUGS       169\n",
      "MEDICATED                           87\n",
      "Name: PHYSICAL_CONDITION, dtype: int64\n",
      "111157\n",
      "--------------------\n",
      "BAC_RESULT\n",
      "TEST NOT OFFERED                   506029\n",
      "TEST REFUSED                         6937\n",
      "TEST PERFORMED, RESULTS UNKNOWN      1652\n",
      "TEST TAKEN                           1284\n",
      "Name: BAC_RESULT, dtype: int64\n",
      "111152\n",
      "--------------------\n",
      "POSTED_SPEED_LIMIT\n",
      "30.0    485977\n",
      "35.0     49131\n",
      "25.0     33205\n",
      "20.0     18214\n",
      "15.0     15191\n",
      "10.0      9092\n",
      "40.0      7617\n",
      "45.0      4654\n",
      "5.0       3055\n",
      "55.0       689\n",
      "50.0       171\n",
      "60.0        37\n",
      "65.0        19\n",
      "70.0         2\n",
      "Name: POSTED_SPEED_LIMIT, dtype: int64\n",
      "0\n",
      "--------------------\n",
      "TRAFFIC_CONTROL_DEVICE\n",
      "NO CONTROLS                 304481\n",
      "TRAFFIC SIGNAL              219795\n",
      "STOP SIGN/FLASHER            76210\n",
      "UNKNOWN                      16555\n",
      "OTHER                         3828\n",
      "LANE USE MARKING              1742\n",
      "YIELD                         1124\n",
      "OTHER REG. SIGN                615\n",
      "OTHER WARNING SIGN             570\n",
      "RAILROAD CROSSING GATE         482\n",
      "PEDESTRIAN CROSSING SIGN       354\n",
      "POLICE/FLAGMAN                 279\n",
      "DELINEATORS                    247\n",
      "SCHOOL ZONE                    241\n",
      "FLASHING CONTROL SIGNAL        236\n",
      "OTHER RAILROAD CROSSING        157\n",
      "RR CROSSING SIGN                68\n",
      "NO PASSING                      42\n",
      "BICYCLE CROSSING SIGN           28\n",
      "Name: TRAFFIC_CONTROL_DEVICE, dtype: int64\n",
      "0\n",
      "--------------------\n",
      "DEVICE_CONDITION\n",
      "NO CONTROLS                 311167\n",
      "FUNCTIONING PROPERLY        272227\n",
      "UNKNOWN                      31811\n",
      "OTHER                         5185\n",
      "FUNCTIONING IMPROPERLY        4035\n",
      "NOT FUNCTIONING               2252\n",
      "WORN REFLECTIVE MATERIAL       279\n",
      "MISSING                         98\n",
      "Name: DEVICE_CONDITION, dtype: int64\n",
      "0\n",
      "--------------------\n",
      "WEATHER_CONDITION\n",
      "CLEAR                       505167\n",
      "RAIN                         59277\n",
      "SNOW                         22636\n",
      "CLOUDY/OVERCAST              20999\n",
      "UNKNOWN                      13947\n",
      "OTHER                         1972\n",
      "FOG/SMOKE/HAZE                1017\n",
      "SLEET/HAIL                     919\n",
      "FREEZING RAIN/DRIZZLE          815\n",
      "BLOWING SNOW                   190\n",
      "SEVERE CROSS WIND GATE         111\n",
      "BLOWING SAND, SOIL, DIRT         4\n",
      "Name: WEATHER_CONDITION, dtype: int64\n",
      "0\n",
      "--------------------\n",
      "LIGHTING_CONDITION\n",
      "DAYLIGHT                  427709\n",
      "DARKNESS, LIGHTED ROAD    133632\n",
      "DARKNESS                   26539\n",
      "DUSK                       20141\n",
      "DAWN                       10191\n",
      "UNKNOWN                     8842\n",
      "Name: LIGHTING_CONDITION, dtype: int64\n",
      "0\n",
      "--------------------\n",
      "FIRST_CRASH_TYPE\n",
      "REAR END                        186806\n",
      "TURNING                         117423\n",
      "SIDESWIPE SAME DIRECTION        111609\n",
      "ANGLE                            89901\n",
      "PARKED MOTOR VEHICLE             45857\n",
      "FIXED OBJECT                     17930\n",
      "PEDESTRIAN                       15354\n",
      "SIDESWIPE OPPOSITE DIRECTION     10590\n",
      "PEDALCYCLIST                      9747\n",
      "HEAD ON                           7289\n",
      "REAR TO FRONT                     4734\n",
      "OTHER OBJECT                      3602\n",
      "REAR TO SIDE                      3235\n",
      "OTHER NONCOLLISION                1359\n",
      "REAR TO REAR                      1044\n",
      "OVERTURNED                         278\n",
      "ANIMAL                             262\n",
      "TRAIN                               34\n",
      "Name: FIRST_CRASH_TYPE, dtype: int64\n",
      "0\n",
      "--------------------\n",
      "TRAFFICWAY_TYPE\n",
      "NOT DIVIDED                        285683\n",
      "DIVIDED - W/MEDIAN (NOT RAISED)    127235\n",
      "ONE-WAY                             58011\n",
      "DIVIDED - W/MEDIAN BARRIER          44582\n",
      "FOUR WAY                            33137\n",
      "PARKING LOT                         27737\n",
      "OTHER                               16271\n",
      "ALLEY                                7217\n",
      "CENTER TURN LANE                     7029\n",
      "T-INTERSECTION                       6789\n",
      "UNKNOWN                              5114\n",
      "RAMP                                 2112\n",
      "UNKNOWN INTERSECTION TYPE            1790\n",
      "DRIVEWAY                             1670\n",
      "FIVE POINT, OR MORE                   841\n",
      "Y-INTERSECTION                        738\n",
      "TRAFFIC ROUTE                         559\n",
      "NOT REPORTED                          291\n",
      "ROUNDABOUT                            150\n",
      "L-INTERSECTION                         98\n",
      "Name: TRAFFICWAY_TYPE, dtype: int64\n",
      "0\n",
      "--------------------\n",
      "ALIGNMENT\n",
      "STRAIGHT AND LEVEL       609601\n",
      "STRAIGHT ON GRADE          8777\n",
      "CURVE, LEVEL               5122\n",
      "STRAIGHT ON HILLCREST      2220\n",
      "CURVE ON GRADE             1044\n",
      "CURVE ON HILLCREST          290\n",
      "Name: ALIGNMENT, dtype: int64\n"
     ]
    },
    {
     "name": "stdout",
     "output_type": "stream",
     "text": [
      "0\n",
      "--------------------\n",
      "ROADWAY_SURFACE_COND\n",
      "DRY                478861\n",
      "WET                 91187\n",
      "UNKNOWN             29015\n",
      "SNOW OR SLUSH       21785\n",
      "ICE                  4632\n",
      "OTHER                1373\n",
      "SAND, MUD, DIRT       201\n",
      "Name: ROADWAY_SURFACE_COND, dtype: int64\n",
      "0\n",
      "--------------------\n",
      "ROAD_DEFECT\n",
      "NO DEFECTS           526857\n",
      "UNKNOWN               87714\n",
      "RUT, HOLES             4462\n",
      "OTHER                  3441\n",
      "WORN SURFACE           2706\n",
      "SHOULDER DEFECT        1311\n",
      "DEBRIS ON ROADWAY       563\n",
      "Name: ROAD_DEFECT, dtype: int64\n",
      "0\n",
      "--------------------\n",
      "INTERSECTION_RELATED_I\n",
      "Y    183458\n",
      "N      8174\n",
      "Name: INTERSECTION_RELATED_I, dtype: int64\n",
      "435422\n",
      "--------------------\n",
      "HIT_AND_RUN_I\n",
      "Y    84733\n",
      "N     7341\n",
      "Name: HIT_AND_RUN_I, dtype: int64\n",
      "534980\n",
      "--------------------\n",
      "DAMAGE\n",
      "OVER $1,500      388244\n",
      "$501 - $1,500    166479\n",
      "$500 OR LESS      72331\n",
      "Name: DAMAGE, dtype: int64\n",
      "0\n",
      "--------------------\n",
      "PRIM_CONTRIBUTORY_CAUSE\n",
      "UNABLE TO DETERMINE                                                                 181672\n",
      "FAILING TO YIELD RIGHT-OF-WAY                                                        90825\n",
      "FOLLOWING TOO CLOSELY                                                                81146\n",
      "FAILING TO REDUCE SPEED TO AVOID CRASH                                               34357\n",
      "IMPROPER OVERTAKING/PASSING                                                          32131\n",
      "IMPROPER TURNING/NO SIGNAL                                                           25769\n",
      "IMPROPER LANE USAGE                                                                  25758\n",
      "NOT APPLICABLE                                                                       25117\n",
      "IMPROPER BACKING                                                                     22709\n",
      "DRIVING SKILLS/KNOWLEDGE/EXPERIENCE                                                  18474\n",
      "DISREGARDING TRAFFIC SIGNALS                                                         17549\n",
      "WEATHER                                                                              11189\n",
      "DISREGARDING STOP SIGN                                                                9116\n",
      "OPERATING VEHICLE IN ERRATIC, RECKLESS, CARELESS, NEGLIGENT OR AGGRESSIVE MANNER      7169\n",
      "DISTRACTION - FROM INSIDE VEHICLE                                                     5933\n",
      "VISION OBSCURED (SIGNS, TREE LIMBS, BUILDINGS, ETC.)                                  4605\n",
      "EQUIPMENT - VEHICLE CONDITION                                                         4369\n",
      "UNDER THE INFLUENCE OF ALCOHOL/DRUGS (USE WHEN ARREST IS EFFECTED)                    3968\n",
      "PHYSICAL CONDITION OF DRIVER                                                          3829\n",
      "DRIVING ON WRONG SIDE/WRONG WAY                                                       3429\n",
      "DISTRACTION - FROM OUTSIDE VEHICLE                                                    3175\n",
      "EXCEEDING SAFE SPEED FOR CONDITIONS                                                   2071\n",
      "EXCEEDING AUTHORIZED SPEED LIMIT                                                      2054\n",
      "DISREGARDING OTHER TRAFFIC SIGNS                                                      1702\n",
      "ROAD CONSTRUCTION/MAINTENANCE                                                         1323\n",
      "ROAD ENGINEERING/SURFACE/MARKING DEFECTS                                              1310\n",
      "EVASIVE ACTION DUE TO ANIMAL, OBJECT, NONMOTORIST                                     1254\n",
      "CELL PHONE USE OTHER THAN TEXTING                                                     1086\n",
      "DISREGARDING ROAD MARKINGS                                                             957\n",
      "TURNING RIGHT ON RED                                                                   571\n",
      "HAD BEEN DRINKING (USE WHEN ARREST IS NOT MADE)                                        552\n",
      "ANIMAL                                                                                 428\n",
      "DISTRACTION - OTHER ELECTRONIC DEVICE (NAVIGATION DEVICE, DVD PLAYER, ETC.)            374\n",
      "TEXTING                                                                                320\n",
      "DISREGARDING YIELD SIGN                                                                286\n",
      "RELATED TO BUS STOP                                                                    260\n",
      "PASSING STOPPED SCHOOL BUS                                                              78\n",
      "BICYCLE ADVANCING LEGALLY ON RED LIGHT                                                  65\n",
      "OBSTRUCTED CROSSWALKS                                                                   58\n",
      "MOTORCYCLE ADVANCING LEGALLY ON RED LIGHT                                               16\n",
      "Name: PRIM_CONTRIBUTORY_CAUSE, dtype: int64\n",
      "0\n",
      "--------------------\n",
      "SEC_CONTRIBUTORY_CAUSE\n",
      "NOT APPLICABLE                                                                      246744\n",
      "UNABLE TO DETERMINE                                                                 203610\n",
      "FAILING TO REDUCE SPEED TO AVOID CRASH                                               31447\n",
      "FAILING TO YIELD RIGHT-OF-WAY                                                        24541\n",
      "DRIVING SKILLS/KNOWLEDGE/EXPERIENCE                                                  22220\n",
      "FOLLOWING TOO CLOSELY                                                                21700\n",
      "IMPROPER OVERTAKING/PASSING                                                          10294\n",
      "IMPROPER LANE USAGE                                                                  10209\n",
      "WEATHER                                                                               9264\n",
      "IMPROPER TURNING/NO SIGNAL                                                            7951\n",
      "IMPROPER BACKING                                                                      4659\n",
      "OPERATING VEHICLE IN ERRATIC, RECKLESS, CARELESS, NEGLIGENT OR AGGRESSIVE MANNER      4337\n",
      "DISREGARDING TRAFFIC SIGNALS                                                          3508\n",
      "VISION OBSCURED (SIGNS, TREE LIMBS, BUILDINGS, ETC.)                                  2874\n",
      "DISTRACTION - FROM INSIDE VEHICLE                                                     2709\n",
      "DISREGARDING STOP SIGN                                                                2472\n",
      "PHYSICAL CONDITION OF DRIVER                                                          2108\n",
      "EXCEEDING SAFE SPEED FOR CONDITIONS                                                   1975\n",
      "EXCEEDING AUTHORIZED SPEED LIMIT                                                      1849\n",
      "EQUIPMENT - VEHICLE CONDITION                                                         1627\n",
      "DISTRACTION - FROM OUTSIDE VEHICLE                                                    1451\n",
      "UNDER THE INFLUENCE OF ALCOHOL/DRUGS (USE WHEN ARREST IS EFFECTED)                    1389\n",
      "DRIVING ON WRONG SIDE/WRONG WAY                                                       1384\n",
      "ROAD CONSTRUCTION/MAINTENANCE                                                          844\n",
      "DISREGARDING OTHER TRAFFIC SIGNS                                                       842\n",
      "DISREGARDING ROAD MARKINGS                                                             800\n",
      "HAD BEEN DRINKING (USE WHEN ARREST IS NOT MADE)                                        701\n",
      "ROAD ENGINEERING/SURFACE/MARKING DEFECTS                                               627\n",
      "CELL PHONE USE OTHER THAN TEXTING                                                      605\n",
      "EVASIVE ACTION DUE TO ANIMAL, OBJECT, NONMOTORIST                                      403\n",
      "RELATED TO BUS STOP                                                                    286\n",
      "BICYCLE ADVANCING LEGALLY ON RED LIGHT                                                 278\n",
      "DISTRACTION - OTHER ELECTRONIC DEVICE (NAVIGATION DEVICE, DVD PLAYER, ETC.)            273\n",
      "TURNING RIGHT ON RED                                                                   271\n",
      "ANIMAL                                                                                 234\n",
      "DISREGARDING YIELD SIGN                                                                209\n",
      "TEXTING                                                                                135\n",
      "PASSING STOPPED SCHOOL BUS                                                              99\n",
      "OBSTRUCTED CROSSWALKS                                                                   65\n",
      "MOTORCYCLE ADVANCING LEGALLY ON RED LIGHT                                               60\n",
      "Name: SEC_CONTRIBUTORY_CAUSE, dtype: int64\n",
      "0\n",
      "--------------------\n",
      "BEAT_OF_OCCURRENCE\n",
      "1834.0    8292\n",
      "114.0     7362\n",
      "122.0     6509\n",
      "1831.0    6303\n",
      "813.0     6212\n",
      "          ... \n",
      "1125.0     553\n",
      "422.0      471\n",
      "1653.0     291\n",
      "1652.0     122\n",
      "1655.0     114\n",
      "Name: BEAT_OF_OCCURRENCE, Length: 274, dtype: int64\n",
      "0\n",
      "--------------------\n",
      "NUM_UNITS\n",
      "2.0     545495\n",
      "3.0      48458\n",
      "1.0      20430\n",
      "4.0       9351\n",
      "5.0       2177\n",
      "6.0        697\n",
      "7.0        240\n",
      "8.0        124\n",
      "9.0         46\n",
      "10.0        19\n",
      "14.0         9\n",
      "11.0         5\n",
      "16.0         1\n",
      "15.0         1\n",
      "12.0         1\n",
      "Name: NUM_UNITS, dtype: int64\n",
      "0\n",
      "--------------------\n",
      "CRASH_HOUR\n",
      "16    52585\n",
      "17    51667\n",
      "15    51034\n",
      "14    44081\n",
      "18    41702\n",
      "13    39856\n",
      "12    37158\n",
      "8     32556\n",
      "11    32481\n",
      "19    29724\n",
      "10    27671\n",
      "9     27484\n",
      "7     26628\n",
      "20    22736\n",
      "21    20381\n",
      "22    18362\n",
      "23    14883\n",
      "6     12016\n",
      "0     10921\n",
      "1      8894\n",
      "2      7360\n",
      "5      6407\n",
      "3      5573\n",
      "4      4894\n",
      "Name: CRASH_HOUR, dtype: int64\n",
      "0\n",
      "--------------------\n",
      "CRASH_DAY_OF_WEEK\n",
      "6    103473\n",
      "7     94034\n",
      "5     90844\n",
      "4     89996\n",
      "3     89604\n",
      "2     85028\n",
      "1     74075\n",
      "Name: CRASH_DAY_OF_WEEK, dtype: int64\n",
      "0\n",
      "--------------------\n",
      "CRASH_MONTH\n",
      "8     60139\n",
      "7     58518\n",
      "6     56192\n",
      "5     54968\n",
      "10    54680\n",
      "9     53999\n",
      "12    51404\n",
      "11    50064\n",
      "3     47607\n",
      "1     47583\n",
      "2     46559\n",
      "4     45341\n",
      "Name: CRASH_MONTH, dtype: int64\n",
      "0\n",
      "--------------------\n",
      "CRASH_YEAR\n",
      "2019    142309\n",
      "2018    141660\n",
      "2020    106126\n",
      "2017     96054\n",
      "2021     83205\n",
      "2016     47362\n",
      "2015     10332\n",
      "2014         4\n",
      "2013         2\n",
      "Name: CRASH_YEAR, dtype: int64\n",
      "0\n",
      "--------------------\n"
     ]
    }
   ],
   "source": [
    " for col in X_train.columns:\n",
    "    print(col)\n",
    "    print(X_train[col].value_counts())\n",
    "    print(X_train[col].isna().sum())\n",
    "    print('--------------------')"
   ]
  },
  {
   "cell_type": "code",
   "execution_count": 82,
   "metadata": {
    "scrolled": false
   },
   "outputs": [
    {
     "data": {
      "image/png": "[encoded data removed]",
      "text/plain": [
       "<Figure size 720x576 with 1 Axes>"
      ]
     },
     "metadata": {
      "needs_background": "light"
     },
     "output_type": "display_data"
    }
   ],
   "source": [
    "X_train[X_train.AGE >= 0].AGE.hist(figsize=(10, 8), bins='auto');"
   ]
  },
  {
   "cell_type": "code",
   "execution_count": 83,
   "metadata": {
    "scrolled": true
   },
   "outputs": [
    {
     "data": {
      "text/html": [
       "<div>\n",
       "<style scoped>\n",
       "    .dataframe tbody tr th:only-of-type {\n",
       "        vertical-align: middle;\n",
       "    }\n",
       "\n",
       "    .dataframe tbody tr th {\n",
       "        vertical-align: top;\n",
       "    }\n",
       "\n",
       "    .dataframe thead th {\n",
       "        text-align: right;\n",
       "    }\n",
       "</style>\n",
       "<table border=\"1\" class=\"dataframe\">\n",
       "  <thead>\n",
       "    <tr style=\"text-align: right;\">\n",
       "      <th></th>\n",
       "      <th>PERSON_TYPE</th>\n",
       "      <th>SEAT_NO</th>\n",
       "      <th>STATE</th>\n",
       "      <th>SEX</th>\n",
       "      <th>AGE</th>\n",
       "      <th>DRIVERS_LICENSE_CLASS</th>\n",
       "      <th>SAFETY_EQUIPMENT</th>\n",
       "      <th>AIRBAG_DEPLOYED</th>\n",
       "      <th>EJECTION</th>\n",
       "      <th>DRIVER_ACTION</th>\n",
       "      <th>...</th>\n",
       "      <th>HIT_AND_RUN_I</th>\n",
       "      <th>DAMAGE</th>\n",
       "      <th>PRIM_CONTRIBUTORY_CAUSE</th>\n",
       "      <th>SEC_CONTRIBUTORY_CAUSE</th>\n",
       "      <th>BEAT_OF_OCCURRENCE</th>\n",
       "      <th>NUM_UNITS</th>\n",
       "      <th>CRASH_HOUR</th>\n",
       "      <th>CRASH_DAY_OF_WEEK</th>\n",
       "      <th>CRASH_MONTH</th>\n",
       "      <th>CRASH_YEAR</th>\n",
       "    </tr>\n",
       "  </thead>\n",
       "  <tbody>\n",
       "    <tr>\n",
       "      <th>819325</th>\n",
       "      <td>PEDESTRIAN</td>\n",
       "      <td>NaN</td>\n",
       "      <td>IL</td>\n",
       "      <td>M</td>\n",
       "      <td>0.0</td>\n",
       "      <td>NaN</td>\n",
       "      <td>USAGE UNKNOWN</td>\n",
       "      <td>NaN</td>\n",
       "      <td>NaN</td>\n",
       "      <td>UNKNOWN</td>\n",
       "      <td>...</td>\n",
       "      <td>NaN</td>\n",
       "      <td>$501 - $1,500</td>\n",
       "      <td>FAILING TO YIELD RIGHT-OF-WAY</td>\n",
       "      <td>UNABLE TO DETERMINE</td>\n",
       "      <td>1711.0</td>\n",
       "      <td>2.0</td>\n",
       "      <td>11</td>\n",
       "      <td>2</td>\n",
       "      <td>12</td>\n",
       "      <td>2019</td>\n",
       "    </tr>\n",
       "    <tr>\n",
       "      <th>870260</th>\n",
       "      <td>PASSENGER</td>\n",
       "      <td>6.0</td>\n",
       "      <td>IL</td>\n",
       "      <td>M</td>\n",
       "      <td>0.0</td>\n",
       "      <td>NaN</td>\n",
       "      <td>CHILD RESTRAINT USED</td>\n",
       "      <td>DID NOT DEPLOY</td>\n",
       "      <td>NONE</td>\n",
       "      <td>NaN</td>\n",
       "      <td>...</td>\n",
       "      <td>Y</td>\n",
       "      <td>$500 OR LESS</td>\n",
       "      <td>UNABLE TO DETERMINE</td>\n",
       "      <td>UNABLE TO DETERMINE</td>\n",
       "      <td>731.0</td>\n",
       "      <td>2.0</td>\n",
       "      <td>19</td>\n",
       "      <td>1</td>\n",
       "      <td>10</td>\n",
       "      <td>2015</td>\n",
       "    </tr>\n",
       "    <tr>\n",
       "      <th>59101</th>\n",
       "      <td>PASSENGER</td>\n",
       "      <td>6.0</td>\n",
       "      <td>IL</td>\n",
       "      <td>M</td>\n",
       "      <td>0.0</td>\n",
       "      <td>NaN</td>\n",
       "      <td>CHILD RESTRAINT - REAR FACING</td>\n",
       "      <td>DID NOT DEPLOY</td>\n",
       "      <td>NONE</td>\n",
       "      <td>NaN</td>\n",
       "      <td>...</td>\n",
       "      <td>NaN</td>\n",
       "      <td>$501 - $1,500</td>\n",
       "      <td>FAILING TO YIELD RIGHT-OF-WAY</td>\n",
       "      <td>UNABLE TO DETERMINE</td>\n",
       "      <td>1124.0</td>\n",
       "      <td>2.0</td>\n",
       "      <td>9</td>\n",
       "      <td>4</td>\n",
       "      <td>6</td>\n",
       "      <td>2020</td>\n",
       "    </tr>\n",
       "    <tr>\n",
       "      <th>874412</th>\n",
       "      <td>PASSENGER</td>\n",
       "      <td>5.0</td>\n",
       "      <td>NaN</td>\n",
       "      <td>F</td>\n",
       "      <td>0.0</td>\n",
       "      <td>NaN</td>\n",
       "      <td>CHILD RESTRAINT USED</td>\n",
       "      <td>NOT APPLICABLE</td>\n",
       "      <td>NONE</td>\n",
       "      <td>NaN</td>\n",
       "      <td>...</td>\n",
       "      <td>NaN</td>\n",
       "      <td>OVER $1,500</td>\n",
       "      <td>UNABLE TO DETERMINE</td>\n",
       "      <td>UNABLE TO DETERMINE</td>\n",
       "      <td>1232.0</td>\n",
       "      <td>2.0</td>\n",
       "      <td>14</td>\n",
       "      <td>2</td>\n",
       "      <td>10</td>\n",
       "      <td>2018</td>\n",
       "    </tr>\n",
       "    <tr>\n",
       "      <th>117265</th>\n",
       "      <td>PASSENGER</td>\n",
       "      <td>6.0</td>\n",
       "      <td>WI</td>\n",
       "      <td>M</td>\n",
       "      <td>0.0</td>\n",
       "      <td>NaN</td>\n",
       "      <td>CHILD RESTRAINT USED</td>\n",
       "      <td>DID NOT DEPLOY</td>\n",
       "      <td>NONE</td>\n",
       "      <td>NaN</td>\n",
       "      <td>...</td>\n",
       "      <td>NaN</td>\n",
       "      <td>$501 - $1,500</td>\n",
       "      <td>FOLLOWING TOO CLOSELY</td>\n",
       "      <td>UNABLE TO DETERMINE</td>\n",
       "      <td>2412.0</td>\n",
       "      <td>2.0</td>\n",
       "      <td>15</td>\n",
       "      <td>4</td>\n",
       "      <td>6</td>\n",
       "      <td>2018</td>\n",
       "    </tr>\n",
       "    <tr>\n",
       "      <th>...</th>\n",
       "      <td>...</td>\n",
       "      <td>...</td>\n",
       "      <td>...</td>\n",
       "      <td>...</td>\n",
       "      <td>...</td>\n",
       "      <td>...</td>\n",
       "      <td>...</td>\n",
       "      <td>...</td>\n",
       "      <td>...</td>\n",
       "      <td>...</td>\n",
       "      <td>...</td>\n",
       "      <td>...</td>\n",
       "      <td>...</td>\n",
       "      <td>...</td>\n",
       "      <td>...</td>\n",
       "      <td>...</td>\n",
       "      <td>...</td>\n",
       "      <td>...</td>\n",
       "      <td>...</td>\n",
       "      <td>...</td>\n",
       "      <td>...</td>\n",
       "    </tr>\n",
       "    <tr>\n",
       "      <th>1138551</th>\n",
       "      <td>PASSENGER</td>\n",
       "      <td>10.0</td>\n",
       "      <td>IL</td>\n",
       "      <td>F</td>\n",
       "      <td>0.0</td>\n",
       "      <td>NaN</td>\n",
       "      <td>CHILD RESTRAINT - TYPE UNKNOWN</td>\n",
       "      <td>DID NOT DEPLOY</td>\n",
       "      <td>NONE</td>\n",
       "      <td>NaN</td>\n",
       "      <td>...</td>\n",
       "      <td>NaN</td>\n",
       "      <td>OVER $1,500</td>\n",
       "      <td>EQUIPMENT - VEHICLE CONDITION</td>\n",
       "      <td>NOT APPLICABLE</td>\n",
       "      <td>724.0</td>\n",
       "      <td>1.0</td>\n",
       "      <td>16</td>\n",
       "      <td>5</td>\n",
       "      <td>4</td>\n",
       "      <td>2021</td>\n",
       "    </tr>\n",
       "    <tr>\n",
       "      <th>544836</th>\n",
       "      <td>PEDESTRIAN</td>\n",
       "      <td>NaN</td>\n",
       "      <td>IL</td>\n",
       "      <td>M</td>\n",
       "      <td>0.0</td>\n",
       "      <td>NaN</td>\n",
       "      <td>USAGE UNKNOWN</td>\n",
       "      <td>NaN</td>\n",
       "      <td>NaN</td>\n",
       "      <td>UNKNOWN</td>\n",
       "      <td>...</td>\n",
       "      <td>NaN</td>\n",
       "      <td>$501 - $1,500</td>\n",
       "      <td>UNABLE TO DETERMINE</td>\n",
       "      <td>UNABLE TO DETERMINE</td>\n",
       "      <td>1922.0</td>\n",
       "      <td>2.0</td>\n",
       "      <td>17</td>\n",
       "      <td>6</td>\n",
       "      <td>9</td>\n",
       "      <td>2018</td>\n",
       "    </tr>\n",
       "    <tr>\n",
       "      <th>919272</th>\n",
       "      <td>PASSENGER</td>\n",
       "      <td>4.0</td>\n",
       "      <td>NaN</td>\n",
       "      <td>F</td>\n",
       "      <td>0.0</td>\n",
       "      <td>NaN</td>\n",
       "      <td>CHILD RESTRAINT - REAR FACING</td>\n",
       "      <td>DID NOT DEPLOY</td>\n",
       "      <td>NONE</td>\n",
       "      <td>NaN</td>\n",
       "      <td>...</td>\n",
       "      <td>NaN</td>\n",
       "      <td>$500 OR LESS</td>\n",
       "      <td>DRIVING SKILLS/KNOWLEDGE/EXPERIENCE</td>\n",
       "      <td>NOT APPLICABLE</td>\n",
       "      <td>2012.0</td>\n",
       "      <td>2.0</td>\n",
       "      <td>19</td>\n",
       "      <td>7</td>\n",
       "      <td>7</td>\n",
       "      <td>2019</td>\n",
       "    </tr>\n",
       "    <tr>\n",
       "      <th>146620</th>\n",
       "      <td>PASSENGER</td>\n",
       "      <td>3.0</td>\n",
       "      <td>IL</td>\n",
       "      <td>F</td>\n",
       "      <td>0.0</td>\n",
       "      <td>NaN</td>\n",
       "      <td>SAFETY BELT USED</td>\n",
       "      <td>DID NOT DEPLOY</td>\n",
       "      <td>NONE</td>\n",
       "      <td>NaN</td>\n",
       "      <td>...</td>\n",
       "      <td>NaN</td>\n",
       "      <td>OVER $1,500</td>\n",
       "      <td>UNABLE TO DETERMINE</td>\n",
       "      <td>NOT APPLICABLE</td>\n",
       "      <td>2515.0</td>\n",
       "      <td>2.0</td>\n",
       "      <td>19</td>\n",
       "      <td>3</td>\n",
       "      <td>7</td>\n",
       "      <td>2020</td>\n",
       "    </tr>\n",
       "    <tr>\n",
       "      <th>901098</th>\n",
       "      <td>PASSENGER</td>\n",
       "      <td>5.0</td>\n",
       "      <td>IL</td>\n",
       "      <td>M</td>\n",
       "      <td>0.0</td>\n",
       "      <td>NaN</td>\n",
       "      <td>CHILD RESTRAINT USED</td>\n",
       "      <td>DID NOT DEPLOY</td>\n",
       "      <td>NONE</td>\n",
       "      <td>NaN</td>\n",
       "      <td>...</td>\n",
       "      <td>NaN</td>\n",
       "      <td>OVER $1,500</td>\n",
       "      <td>FOLLOWING TOO CLOSELY</td>\n",
       "      <td>NOT APPLICABLE</td>\n",
       "      <td>1225.0</td>\n",
       "      <td>3.0</td>\n",
       "      <td>15</td>\n",
       "      <td>2</td>\n",
       "      <td>8</td>\n",
       "      <td>2016</td>\n",
       "    </tr>\n",
       "  </tbody>\n",
       "</table>\n",
       "<p>2638 rows × 34 columns</p>\n",
       "</div>"
      ],
      "text/plain": [
       "        PERSON_TYPE  SEAT_NO STATE SEX  AGE DRIVERS_LICENSE_CLASS  \\\n",
       "819325   PEDESTRIAN      NaN    IL   M  0.0                   NaN   \n",
       "870260    PASSENGER      6.0    IL   M  0.0                   NaN   \n",
       "59101     PASSENGER      6.0    IL   M  0.0                   NaN   \n",
       "874412    PASSENGER      5.0   NaN   F  0.0                   NaN   \n",
       "117265    PASSENGER      6.0    WI   M  0.0                   NaN   \n",
       "...             ...      ...   ...  ..  ...                   ...   \n",
       "1138551   PASSENGER     10.0    IL   F  0.0                   NaN   \n",
       "544836   PEDESTRIAN      NaN    IL   M  0.0                   NaN   \n",
       "919272    PASSENGER      4.0   NaN   F  0.0                   NaN   \n",
       "146620    PASSENGER      3.0    IL   F  0.0                   NaN   \n",
       "901098    PASSENGER      5.0    IL   M  0.0                   NaN   \n",
       "\n",
       "                       SAFETY_EQUIPMENT AIRBAG_DEPLOYED EJECTION  \\\n",
       "819325                    USAGE UNKNOWN             NaN      NaN   \n",
       "870260             CHILD RESTRAINT USED  DID NOT DEPLOY     NONE   \n",
       "59101     CHILD RESTRAINT - REAR FACING  DID NOT DEPLOY     NONE   \n",
       "874412             CHILD RESTRAINT USED  NOT APPLICABLE     NONE   \n",
       "117265             CHILD RESTRAINT USED  DID NOT DEPLOY     NONE   \n",
       "...                                 ...             ...      ...   \n",
       "1138551  CHILD RESTRAINT - TYPE UNKNOWN  DID NOT DEPLOY     NONE   \n",
       "544836                    USAGE UNKNOWN             NaN      NaN   \n",
       "919272    CHILD RESTRAINT - REAR FACING  DID NOT DEPLOY     NONE   \n",
       "146620                 SAFETY BELT USED  DID NOT DEPLOY     NONE   \n",
       "901098             CHILD RESTRAINT USED  DID NOT DEPLOY     NONE   \n",
       "\n",
       "        DRIVER_ACTION  ... HIT_AND_RUN_I         DAMAGE  \\\n",
       "819325        UNKNOWN  ...           NaN  $501 - $1,500   \n",
       "870260            NaN  ...             Y   $500 OR LESS   \n",
       "59101             NaN  ...           NaN  $501 - $1,500   \n",
       "874412            NaN  ...           NaN    OVER $1,500   \n",
       "117265            NaN  ...           NaN  $501 - $1,500   \n",
       "...               ...  ...           ...            ...   \n",
       "1138551           NaN  ...           NaN    OVER $1,500   \n",
       "544836        UNKNOWN  ...           NaN  $501 - $1,500   \n",
       "919272            NaN  ...           NaN   $500 OR LESS   \n",
       "146620            NaN  ...           NaN    OVER $1,500   \n",
       "901098            NaN  ...           NaN    OVER $1,500   \n",
       "\n",
       "                     PRIM_CONTRIBUTORY_CAUSE  SEC_CONTRIBUTORY_CAUSE  \\\n",
       "819325         FAILING TO YIELD RIGHT-OF-WAY     UNABLE TO DETERMINE   \n",
       "870260                   UNABLE TO DETERMINE     UNABLE TO DETERMINE   \n",
       "59101          FAILING TO YIELD RIGHT-OF-WAY     UNABLE TO DETERMINE   \n",
       "874412                   UNABLE TO DETERMINE     UNABLE TO DETERMINE   \n",
       "117265                 FOLLOWING TOO CLOSELY     UNABLE TO DETERMINE   \n",
       "...                                      ...                     ...   \n",
       "1138551        EQUIPMENT - VEHICLE CONDITION          NOT APPLICABLE   \n",
       "544836                   UNABLE TO DETERMINE     UNABLE TO DETERMINE   \n",
       "919272   DRIVING SKILLS/KNOWLEDGE/EXPERIENCE          NOT APPLICABLE   \n",
       "146620                   UNABLE TO DETERMINE          NOT APPLICABLE   \n",
       "901098                 FOLLOWING TOO CLOSELY          NOT APPLICABLE   \n",
       "\n",
       "        BEAT_OF_OCCURRENCE NUM_UNITS CRASH_HOUR CRASH_DAY_OF_WEEK CRASH_MONTH  \\\n",
       "819325              1711.0       2.0         11                 2          12   \n",
       "870260               731.0       2.0         19                 1          10   \n",
       "59101               1124.0       2.0          9                 4           6   \n",
       "874412              1232.0       2.0         14                 2          10   \n",
       "117265              2412.0       2.0         15                 4           6   \n",
       "...                    ...       ...        ...               ...         ...   \n",
       "1138551              724.0       1.0         16                 5           4   \n",
       "544836              1922.0       2.0         17                 6           9   \n",
       "919272              2012.0       2.0         19                 7           7   \n",
       "146620              2515.0       2.0         19                 3           7   \n",
       "901098              1225.0       3.0         15                 2           8   \n",
       "\n",
       "        CRASH_YEAR  \n",
       "819325        2019  \n",
       "870260        2015  \n",
       "59101         2020  \n",
       "874412        2018  \n",
       "117265        2018  \n",
       "...            ...  \n",
       "1138551       2021  \n",
       "544836        2018  \n",
       "919272        2019  \n",
       "146620        2020  \n",
       "901098        2016  \n",
       "\n",
       "[2638 rows x 34 columns]"
      ]
     },
     "execution_count": 83,
     "metadata": {},
     "output_type": "execute_result"
    }
   ],
   "source": [
    "X_train[X_train.AGE == 0]"
   ]
  },
  {
   "cell_type": "code",
   "execution_count": 84,
   "metadata": {
    "scrolled": false
   },
   "outputs": [],
   "source": [
    "# # Set all SEAT_NO = 1 if PERSON_TYPE = 'DRIVER'\n",
    "# X_train['SEAT_NO'][X_train.PERSON_TYPE == 'DRIVER'] = 1"
   ]
  },
  {
   "cell_type": "code",
   "execution_count": 85,
   "metadata": {},
   "outputs": [],
   "source": [
    "# X_train.loc[X_train['SEAT_NO'].isna()]['PERSON_TYPE'].value_counts()"
   ]
  },
  {
   "cell_type": "code",
   "execution_count": 86,
   "metadata": {},
   "outputs": [],
   "source": [
    "# # Fill rest of NaN values in SEAT_NO with 0\n",
    "# X_train['SEAT_NO'].fillna(value=0, inplace=True)"
   ]
  },
  {
   "cell_type": "code",
   "execution_count": 87,
   "metadata": {},
   "outputs": [],
   "source": [
    "# X_train['SEAT_NO'].isna().sum()"
   ]
  },
  {
   "cell_type": "code",
   "execution_count": 88,
   "metadata": {},
   "outputs": [
    {
     "data": {
      "text/html": [
       "<div>\n",
       "<style scoped>\n",
       "    .dataframe tbody tr th:only-of-type {\n",
       "        vertical-align: middle;\n",
       "    }\n",
       "\n",
       "    .dataframe tbody tr th {\n",
       "        vertical-align: top;\n",
       "    }\n",
       "\n",
       "    .dataframe thead th {\n",
       "        text-align: right;\n",
       "    }\n",
       "</style>\n",
       "<table border=\"1\" class=\"dataframe\">\n",
       "  <thead>\n",
       "    <tr style=\"text-align: right;\">\n",
       "      <th></th>\n",
       "      <th>PERSON_TYPE</th>\n",
       "      <th>SEAT_NO</th>\n",
       "      <th>STATE</th>\n",
       "      <th>SEX</th>\n",
       "      <th>AGE</th>\n",
       "      <th>DRIVERS_LICENSE_CLASS</th>\n",
       "      <th>SAFETY_EQUIPMENT</th>\n",
       "      <th>AIRBAG_DEPLOYED</th>\n",
       "      <th>EJECTION</th>\n",
       "      <th>DRIVER_ACTION</th>\n",
       "      <th>...</th>\n",
       "      <th>HIT_AND_RUN_I</th>\n",
       "      <th>DAMAGE</th>\n",
       "      <th>PRIM_CONTRIBUTORY_CAUSE</th>\n",
       "      <th>SEC_CONTRIBUTORY_CAUSE</th>\n",
       "      <th>BEAT_OF_OCCURRENCE</th>\n",
       "      <th>NUM_UNITS</th>\n",
       "      <th>CRASH_HOUR</th>\n",
       "      <th>CRASH_DAY_OF_WEEK</th>\n",
       "      <th>CRASH_MONTH</th>\n",
       "      <th>CRASH_YEAR</th>\n",
       "    </tr>\n",
       "  </thead>\n",
       "  <tbody>\n",
       "  </tbody>\n",
       "</table>\n",
       "<p>0 rows × 34 columns</p>\n",
       "</div>"
      ],
      "text/plain": [
       "Empty DataFrame\n",
       "Columns: [PERSON_TYPE, SEAT_NO, STATE, SEX, AGE, DRIVERS_LICENSE_CLASS, SAFETY_EQUIPMENT, AIRBAG_DEPLOYED, EJECTION, DRIVER_ACTION, DRIVER_VISION, PHYSICAL_CONDITION, BAC_RESULT, POSTED_SPEED_LIMIT, TRAFFIC_CONTROL_DEVICE, DEVICE_CONDITION, WEATHER_CONDITION, LIGHTING_CONDITION, FIRST_CRASH_TYPE, TRAFFICWAY_TYPE, ALIGNMENT, ROADWAY_SURFACE_COND, ROAD_DEFECT, INTERSECTION_RELATED_I, HIT_AND_RUN_I, DAMAGE, PRIM_CONTRIBUTORY_CAUSE, SEC_CONTRIBUTORY_CAUSE, BEAT_OF_OCCURRENCE, NUM_UNITS, CRASH_HOUR, CRASH_DAY_OF_WEEK, CRASH_MONTH, CRASH_YEAR]\n",
       "Index: []\n",
       "\n",
       "[0 rows x 34 columns]"
      ]
     },
     "execution_count": 88,
     "metadata": {},
     "output_type": "execute_result"
    }
   ],
   "source": [
    "X_train.loc[(X_train.AGE==0) & (X_train.PERSON_TYPE == 'DRIVER')]"
   ]
  },
  {
   "cell_type": "code",
   "execution_count": 89,
   "metadata": {},
   "outputs": [],
   "source": [
    "def seat_no_transformer(df):\n",
    "    '''\n",
    "    Set all SEAT_NO = 1 if PERSON_TYPE = 'DRIVER'\n",
    "    and fill the rest with 0.\n",
    "    '''\n",
    "    df.loc[(df.PERSON_TYPE == 'DRIVER'), 'SEAT_NO'] = 1\n",
    "    df['SEAT_NO'].fillna(value=0, inplace=True)\n",
    "    return df"
   ]
  },
  {
   "cell_type": "code",
   "execution_count": 90,
   "metadata": {},
   "outputs": [],
   "source": [
    "# def age_transformer(df):\n",
    "#     '''\n",
    "#     Replace negative ages with NaN.\n",
    "#     Replace drivers with age=0 with NaN.\n",
    "#     '''\n",
    "#     df.loc[df.AGE < 0, 'AGE'] = np.nan\n",
    "#     df.loc[(df.AGE == 0) & (df.PERSON_TYPE == 'DRIVER'), 'AGE'] = np.nan\n",
    "#     return df"
   ]
  },
  {
   "cell_type": "code",
   "execution_count": 91,
   "metadata": {},
   "outputs": [],
   "source": [
    "# def speed_limit_transformer(df):\n",
    "#     '''\n",
    "#     Replace all speed limits that are not multiples\n",
    "#     of 5 or that are 0 with null.\n",
    "#     '''\n",
    "#     df.loc[df.POSTED_SPEED_LIMIT == 0, 'POSTED_SPEED_LIMIT'] = np.nan\n",
    "#     df.loc[(df.POSTED_SPEED_LIMIT % 5) != 0, 'POSTED_SPEED_LIMIT'] = np.nan\n",
    "#     return df"
   ]
  },
  {
   "cell_type": "code",
   "execution_count": 92,
   "metadata": {},
   "outputs": [],
   "source": [
    "def beat_transformer(df):\n",
    "    '''\n",
    "    Extract and encode as a string the district\n",
    "    from BEAT_OF_OCCURRENCE.\n",
    "    '''\n",
    "    df['BEAT_OF_OCCURRENCE'] = df['BEAT_OF_OCCURRENCE'].apply(str)\n",
    "    df['BEAT_OF_OCCURRENCE'] = df['BEAT_OF_OCCURRENCE'].apply(lambda x: x[:-4])\n",
    "    # df.drop('BEAT_OF_OCCURRENCE', axis=1, inplace=True)\n",
    "    return df"
   ]
  },
  {
   "cell_type": "code",
   "execution_count": 93,
   "metadata": {},
   "outputs": [],
   "source": [
    "def license_class_transformer(df):\n",
    "    '''\n",
    "    Bin all license classes into A, B, C, D, and OTHER\n",
    "    '''\n",
    "    dl_classes = ['A', 'B', 'C', 'D', np.nan]\n",
    "    df.loc[df['DRIVERS_LICENSE_CLASS'].isin(dl_classes) == False, 'DRIVERS_LICENSE_CLASS'] = 'OTHER'\n",
    "    return df"
   ]
  },
  {
   "cell_type": "code",
   "execution_count": 94,
   "metadata": {},
   "outputs": [],
   "source": [
    "def to_float_transformer(df):\n",
    "    '''\n",
    "    Ensure all columns are float, not int.\n",
    "    '''\n",
    "    for col in [df.select_dtypes('int64').columns]:\n",
    "        df[col] = df[col].astype('float64')\n",
    "    return df"
   ]
  },
  {
   "cell_type": "code",
   "execution_count": 121,
   "metadata": {},
   "outputs": [],
   "source": [
    "def fill_categories(df):\n",
    "    '''\n",
    "    Fill null values with given value for \n",
    "    unknown values in that column.\n",
    "    Drop all remaining nulls.\n",
    "    '''\n",
    "    df.fillna({#'STATE':'XX', \n",
    "               # 'DRIVERS_LICENSE_STATE':'XX', # This col now dropped before train-test-split\n",
    "               #'DRIVERS_LICENSE_CLASS': 'D', # Most common; D = 'normal' drivers license for cars\n",
    "               'EJECTION': 'UNKNOWN',\n",
    "               'DRIVER_ACTION': 'UNKNOWN',\n",
    "               #'DRIVER_VISION': 'UNKNOWN',\n",
    "               #'PHYSICAL_CONDITION': 'UNKNOWN',\n",
    "               'SAFETY_EQUIPMENT': 'USAGE_UNKNOWN',\n",
    "               'AIRBAG_DEPLOYED': 'DEPLOYMENT_UNKNOWN',\n",
    "               'SEX': 'UNKNOWN',\n",
    "               #'INTERSECTION_RELATED_I': 'N',\n",
    "               #'HIT_AND_RUN_I': 'N',\n",
    "               #'BAC_RESULT': 'TEST NOT OFFERED'\n",
    "              }, inplace=True)\n",
    "    return df"
   ]
  },
  {
   "cell_type": "code",
   "execution_count": 123,
   "metadata": {},
   "outputs": [],
   "source": [
    "from sklearn.pipeline import Pipeline\n",
    "from sklearn.preprocessing import FunctionTransformer, OneHotEncoder\n",
    "from sklearn.compose import ColumnTransformer\n",
    "\n",
    "ohe_cols = list(X_train_smaller.select_dtypes('object').columns)\n",
    "ohe_cols.append('BEAT_OF_OCCURRENCE')\n",
    "\n",
    "# OneHotEncode the columns as part of cleaning\n",
    "# to avoid needing to separate numerical and categorical\n",
    "# columns later\n",
    "ohe_col_trans = ColumnTransformer(transformers=\n",
    "                                     [('ohe', OneHotEncoder(drop='first', sparse=False), \n",
    "                                       ohe_cols)],\n",
    "                                 remainder='passthrough')\n",
    "\n",
    "# Apply all our cleaning functions, then finish with ohe\n",
    "cleaning_pipeline = Pipeline(steps=[\n",
    "    ('seat_no', FunctionTransformer(seat_no_transformer)),\n",
    "#     ('age', FunctionTransformer(age_transformer)),\n",
    "    ('beat', FunctionTransformer(beat_transformer)),\n",
    "#     ('speed', FunctionTransformer(speed_limit_transformer)),\n",
    "#     ('license', FunctionTransformer(license_class_transformer)),\n",
    "    ('fill_cat', FunctionTransformer(fill_categories)),\n",
    "    ('float', FunctionTransformer(to_float_transformer)),\n",
    "    ('col_trains', ohe_col_trans)\n",
    "])"
   ]
  },
  {
   "cell_type": "code",
   "execution_count": 97,
   "metadata": {
    "scrolled": true
   },
   "outputs": [
    {
     "name": "stderr",
     "output_type": "stream",
     "text": [
      "/Users/jessemarkowitz/opt/anaconda3/envs/learn-env/lib/python3.8/site-packages/pandas/core/indexing.py:1765: SettingWithCopyWarning: \n",
      "A value is trying to be set on a copy of a slice from a DataFrame.\n",
      "Try using .loc[row_indexer,col_indexer] = value instead\n",
      "\n",
      "See the caveats in the documentation: https://pandas.pydata.org/pandas-docs/stable/user_guide/indexing.html#returning-a-view-versus-a-copy\n",
      "  isetter(loc, value)\n",
      "/Users/jessemarkowitz/opt/anaconda3/envs/learn-env/lib/python3.8/site-packages/pandas/core/series.py:4517: SettingWithCopyWarning: \n",
      "A value is trying to be set on a copy of a slice from a DataFrame\n",
      "\n",
      "See the caveats in the documentation: https://pandas.pydata.org/pandas-docs/stable/user_guide/indexing.html#returning-a-view-versus-a-copy\n",
      "  return super().fillna(\n",
      "<ipython-input-92-41f05342683b>:6: SettingWithCopyWarning: \n",
      "A value is trying to be set on a copy of a slice from a DataFrame.\n",
      "Try using .loc[row_indexer,col_indexer] = value instead\n",
      "\n",
      "See the caveats in the documentation: https://pandas.pydata.org/pandas-docs/stable/user_guide/indexing.html#returning-a-view-versus-a-copy\n",
      "  df['BEAT_OF_OCCURRENCE'] = df['BEAT_OF_OCCURRENCE'].apply(str)\n",
      "<ipython-input-92-41f05342683b>:7: SettingWithCopyWarning: \n",
      "A value is trying to be set on a copy of a slice from a DataFrame.\n",
      "Try using .loc[row_indexer,col_indexer] = value instead\n",
      "\n",
      "See the caveats in the documentation: https://pandas.pydata.org/pandas-docs/stable/user_guide/indexing.html#returning-a-view-versus-a-copy\n",
      "  df['BEAT_OF_OCCURRENCE'] = df['BEAT_OF_OCCURRENCE'].apply(lambda x: x[:-4])\n",
      "/Users/jessemarkowitz/opt/anaconda3/envs/learn-env/lib/python3.8/site-packages/pandas/core/indexing.py:1765: SettingWithCopyWarning: \n",
      "A value is trying to be set on a copy of a slice from a DataFrame.\n",
      "Try using .loc[row_indexer,col_indexer] = value instead\n",
      "\n",
      "See the caveats in the documentation: https://pandas.pydata.org/pandas-docs/stable/user_guide/indexing.html#returning-a-view-versus-a-copy\n",
      "  isetter(loc, value)\n",
      "/Users/jessemarkowitz/opt/anaconda3/envs/learn-env/lib/python3.8/site-packages/pandas/core/series.py:4517: SettingWithCopyWarning: \n",
      "A value is trying to be set on a copy of a slice from a DataFrame\n",
      "\n",
      "See the caveats in the documentation: https://pandas.pydata.org/pandas-docs/stable/user_guide/indexing.html#returning-a-view-versus-a-copy\n",
      "  return super().fillna(\n",
      "/Users/jessemarkowitz/opt/anaconda3/envs/learn-env/lib/python3.8/site-packages/pandas/core/frame.py:3065: SettingWithCopyWarning: \n",
      "A value is trying to be set on a copy of a slice from a DataFrame.\n",
      "Try using .loc[row_indexer,col_indexer] = value instead\n",
      "\n",
      "See the caveats in the documentation: https://pandas.pydata.org/pandas-docs/stable/user_guide/indexing.html#returning-a-view-versus-a-copy\n",
      "  self[k1] = value[k2]\n"
     ]
    }
   ],
   "source": [
    "X_train_clean = cleaning_pipeline.fit_transform(X_train)"
   ]
  },
  {
   "cell_type": "code",
   "execution_count": 98,
   "metadata": {
    "scrolled": true
   },
   "outputs": [
    {
     "data": {
      "text/plain": [
       "(627054, 344)"
      ]
     },
     "execution_count": 98,
     "metadata": {},
     "output_type": "execute_result"
    }
   ],
   "source": [
    "X_train_clean.shape"
   ]
  },
  {
   "cell_type": "code",
   "execution_count": 99,
   "metadata": {},
   "outputs": [
    {
     "data": {
      "text/plain": [
       "['ohe__x0_DRIVER',\n",
       " 'ohe__x0_NON-CONTACT VEHICLE',\n",
       " 'ohe__x0_NON-MOTOR VEHICLE',\n",
       " 'ohe__x0_PASSENGER',\n",
       " 'ohe__x0_PEDESTRIAN',\n",
       " 'ohe__x1_AL',\n",
       " 'ohe__x1_AR',\n",
       " 'ohe__x1_AZ',\n",
       " 'ohe__x1_CA',\n",
       " 'ohe__x1_CO',\n",
       " 'ohe__x1_CT',\n",
       " 'ohe__x1_DC',\n",
       " 'ohe__x1_DE',\n",
       " 'ohe__x1_FL',\n",
       " 'ohe__x1_GA',\n",
       " 'ohe__x1_HI',\n",
       " 'ohe__x1_IA',\n",
       " 'ohe__x1_ID',\n",
       " 'ohe__x1_IL',\n",
       " 'ohe__x1_IN',\n",
       " 'ohe__x1_KS',\n",
       " 'ohe__x1_KY',\n",
       " 'ohe__x1_LA',\n",
       " 'ohe__x1_MA',\n",
       " 'ohe__x1_MD',\n",
       " 'ohe__x1_ME',\n",
       " 'ohe__x1_MI',\n",
       " 'ohe__x1_MN',\n",
       " 'ohe__x1_MO',\n",
       " 'ohe__x1_MS',\n",
       " 'ohe__x1_MT',\n",
       " 'ohe__x1_NB',\n",
       " 'ohe__x1_NC',\n",
       " 'ohe__x1_ND',\n",
       " 'ohe__x1_NH',\n",
       " 'ohe__x1_NJ',\n",
       " 'ohe__x1_NM',\n",
       " 'ohe__x1_NV',\n",
       " 'ohe__x1_NY',\n",
       " 'ohe__x1_OH',\n",
       " 'ohe__x1_OK',\n",
       " 'ohe__x1_OR',\n",
       " 'ohe__x1_PA',\n",
       " 'ohe__x1_RI',\n",
       " 'ohe__x1_SC',\n",
       " 'ohe__x1_SD',\n",
       " 'ohe__x1_TN',\n",
       " 'ohe__x1_TX',\n",
       " 'ohe__x1_UT',\n",
       " 'ohe__x1_VA',\n",
       " 'ohe__x1_VT',\n",
       " 'ohe__x1_WA',\n",
       " 'ohe__x1_WI',\n",
       " 'ohe__x1_WV',\n",
       " 'ohe__x1_WY',\n",
       " 'ohe__x1_XX',\n",
       " 'ohe__x2_M',\n",
       " 'ohe__x2_UNKNOWN',\n",
       " 'ohe__x2_X',\n",
       " 'ohe__x3_B',\n",
       " 'ohe__x3_C',\n",
       " 'ohe__x3_D',\n",
       " 'ohe__x3_OTHER',\n",
       " 'ohe__x4_BOOSTER SEAT',\n",
       " 'ohe__x4_CHILD RESTRAINT - FORWARD FACING',\n",
       " 'ohe__x4_CHILD RESTRAINT - REAR FACING',\n",
       " 'ohe__x4_CHILD RESTRAINT - TYPE UNKNOWN',\n",
       " 'ohe__x4_CHILD RESTRAINT NOT USED',\n",
       " 'ohe__x4_CHILD RESTRAINT USED',\n",
       " 'ohe__x4_CHILD RESTRAINT USED IMPROPERLY',\n",
       " 'ohe__x4_DOT COMPLIANT MOTORCYCLE HELMET',\n",
       " 'ohe__x4_HELMET NOT USED',\n",
       " 'ohe__x4_HELMET USED',\n",
       " 'ohe__x4_NONE PRESENT',\n",
       " 'ohe__x4_NOT DOT COMPLIANT MOTORCYCLE HELMET',\n",
       " 'ohe__x4_SAFETY BELT NOT USED',\n",
       " 'ohe__x4_SAFETY BELT USED',\n",
       " 'ohe__x4_SHOULD/LAP BELT USED IMPROPERLY',\n",
       " 'ohe__x4_STRETCHER',\n",
       " 'ohe__x4_USAGE UNKNOWN',\n",
       " 'ohe__x4_USAGE_UNKNOWN',\n",
       " 'ohe__x4_WHEELCHAIR',\n",
       " 'ohe__x5_DEPLOYED, COMBINATION',\n",
       " 'ohe__x5_DEPLOYED, FRONT',\n",
       " 'ohe__x5_DEPLOYED, SIDE',\n",
       " 'ohe__x5_DEPLOYMENT UNKNOWN',\n",
       " 'ohe__x5_DEPLOYMENT_UNKNOWN',\n",
       " 'ohe__x5_DID NOT DEPLOY',\n",
       " 'ohe__x5_NOT APPLICABLE',\n",
       " 'ohe__x6_PARTIALLY EJECTED',\n",
       " 'ohe__x6_TOTALLY EJECTED',\n",
       " 'ohe__x6_TRAPPED/EXTRICATED',\n",
       " 'ohe__x6_UNKNOWN',\n",
       " 'ohe__x7_DISREGARDED CONTROL DEVICES',\n",
       " 'ohe__x7_EMERGENCY VEHICLE ON CALL',\n",
       " 'ohe__x7_EVADING POLICE VEHICLE',\n",
       " 'ohe__x7_FAILED TO YIELD',\n",
       " 'ohe__x7_FOLLOWED TOO CLOSELY',\n",
       " 'ohe__x7_IMPROPER BACKING',\n",
       " 'ohe__x7_IMPROPER LANE CHANGE',\n",
       " 'ohe__x7_IMPROPER PARKING',\n",
       " 'ohe__x7_IMPROPER PASSING',\n",
       " 'ohe__x7_IMPROPER TURN',\n",
       " 'ohe__x7_LICENSE RESTRICTIONS',\n",
       " 'ohe__x7_NONE',\n",
       " 'ohe__x7_OTHER',\n",
       " 'ohe__x7_OVERCORRECTED',\n",
       " 'ohe__x7_STOPPED SCHOOL BUS',\n",
       " 'ohe__x7_TEXTING',\n",
       " 'ohe__x7_TOO FAST FOR CONDITIONS',\n",
       " 'ohe__x7_UNKNOWN',\n",
       " 'ohe__x7_WRONG WAY/SIDE',\n",
       " 'ohe__x8_BLINDED - SUNLIGHT',\n",
       " 'ohe__x8_BLOWING MATERIALS',\n",
       " 'ohe__x8_BUILDINGS',\n",
       " 'ohe__x8_EMBANKMENT',\n",
       " 'ohe__x8_HILLCREST',\n",
       " 'ohe__x8_MOVING VEHICLES',\n",
       " 'ohe__x8_NOT OBSCURED',\n",
       " 'ohe__x8_OTHER',\n",
       " 'ohe__x8_PARKED VEHICLES',\n",
       " 'ohe__x8_SIGNBOARD',\n",
       " 'ohe__x8_TREES, PLANTS',\n",
       " 'ohe__x8_UNKNOWN',\n",
       " 'ohe__x8_WINDSHIELD (WATER/ICE)',\n",
       " 'ohe__x9_FATIGUED/ASLEEP',\n",
       " 'ohe__x9_HAD BEEN DRINKING',\n",
       " 'ohe__x9_ILLNESS/FAINTED',\n",
       " 'ohe__x9_IMPAIRED - ALCOHOL',\n",
       " 'ohe__x9_IMPAIRED - ALCOHOL AND DRUGS',\n",
       " 'ohe__x9_IMPAIRED - DRUGS',\n",
       " 'ohe__x9_MEDICATED',\n",
       " 'ohe__x9_NORMAL',\n",
       " 'ohe__x9_OTHER',\n",
       " 'ohe__x9_REMOVED BY EMS',\n",
       " 'ohe__x9_UNKNOWN',\n",
       " 'ohe__x10_TEST PERFORMED, RESULTS UNKNOWN',\n",
       " 'ohe__x10_TEST REFUSED',\n",
       " 'ohe__x10_TEST TAKEN',\n",
       " 'ohe__x11_DELINEATORS',\n",
       " 'ohe__x11_FLASHING CONTROL SIGNAL',\n",
       " 'ohe__x11_LANE USE MARKING',\n",
       " 'ohe__x11_NO CONTROLS',\n",
       " 'ohe__x11_NO PASSING',\n",
       " 'ohe__x11_OTHER',\n",
       " 'ohe__x11_OTHER RAILROAD CROSSING',\n",
       " 'ohe__x11_OTHER REG. SIGN',\n",
       " 'ohe__x11_OTHER WARNING SIGN',\n",
       " 'ohe__x11_PEDESTRIAN CROSSING SIGN',\n",
       " 'ohe__x11_POLICE/FLAGMAN',\n",
       " 'ohe__x11_RAILROAD CROSSING GATE',\n",
       " 'ohe__x11_RR CROSSING SIGN',\n",
       " 'ohe__x11_SCHOOL ZONE',\n",
       " 'ohe__x11_STOP SIGN/FLASHER',\n",
       " 'ohe__x11_TRAFFIC SIGNAL',\n",
       " 'ohe__x11_UNKNOWN',\n",
       " 'ohe__x11_YIELD',\n",
       " 'ohe__x12_FUNCTIONING PROPERLY',\n",
       " 'ohe__x12_MISSING',\n",
       " 'ohe__x12_NO CONTROLS',\n",
       " 'ohe__x12_NOT FUNCTIONING',\n",
       " 'ohe__x12_OTHER',\n",
       " 'ohe__x12_UNKNOWN',\n",
       " 'ohe__x12_WORN REFLECTIVE MATERIAL',\n",
       " 'ohe__x13_BLOWING SNOW',\n",
       " 'ohe__x13_CLEAR',\n",
       " 'ohe__x13_CLOUDY/OVERCAST',\n",
       " 'ohe__x13_FOG/SMOKE/HAZE',\n",
       " 'ohe__x13_FREEZING RAIN/DRIZZLE',\n",
       " 'ohe__x13_OTHER',\n",
       " 'ohe__x13_RAIN',\n",
       " 'ohe__x13_SEVERE CROSS WIND GATE',\n",
       " 'ohe__x13_SLEET/HAIL',\n",
       " 'ohe__x13_SNOW',\n",
       " 'ohe__x13_UNKNOWN',\n",
       " 'ohe__x14_DARKNESS, LIGHTED ROAD',\n",
       " 'ohe__x14_DAWN',\n",
       " 'ohe__x14_DAYLIGHT',\n",
       " 'ohe__x14_DUSK',\n",
       " 'ohe__x14_UNKNOWN',\n",
       " 'ohe__x15_ANIMAL',\n",
       " 'ohe__x15_FIXED OBJECT',\n",
       " 'ohe__x15_HEAD ON',\n",
       " 'ohe__x15_OTHER NONCOLLISION',\n",
       " 'ohe__x15_OTHER OBJECT',\n",
       " 'ohe__x15_OVERTURNED',\n",
       " 'ohe__x15_PARKED MOTOR VEHICLE',\n",
       " 'ohe__x15_PEDALCYCLIST',\n",
       " 'ohe__x15_PEDESTRIAN',\n",
       " 'ohe__x15_REAR END',\n",
       " 'ohe__x15_REAR TO FRONT',\n",
       " 'ohe__x15_REAR TO REAR',\n",
       " 'ohe__x15_REAR TO SIDE',\n",
       " 'ohe__x15_SIDESWIPE OPPOSITE DIRECTION',\n",
       " 'ohe__x15_SIDESWIPE SAME DIRECTION',\n",
       " 'ohe__x15_TRAIN',\n",
       " 'ohe__x15_TURNING',\n",
       " 'ohe__x16_CENTER TURN LANE',\n",
       " 'ohe__x16_DIVIDED - W/MEDIAN (NOT RAISED)',\n",
       " 'ohe__x16_DIVIDED - W/MEDIAN BARRIER',\n",
       " 'ohe__x16_DRIVEWAY',\n",
       " 'ohe__x16_FIVE POINT, OR MORE',\n",
       " 'ohe__x16_FOUR WAY',\n",
       " 'ohe__x16_L-INTERSECTION',\n",
       " 'ohe__x16_NOT DIVIDED',\n",
       " 'ohe__x16_NOT REPORTED',\n",
       " 'ohe__x16_ONE-WAY',\n",
       " 'ohe__x16_OTHER',\n",
       " 'ohe__x16_PARKING LOT',\n",
       " 'ohe__x16_RAMP',\n",
       " 'ohe__x16_ROUNDABOUT',\n",
       " 'ohe__x16_T-INTERSECTION',\n",
       " 'ohe__x16_TRAFFIC ROUTE',\n",
       " 'ohe__x16_UNKNOWN',\n",
       " 'ohe__x16_UNKNOWN INTERSECTION TYPE',\n",
       " 'ohe__x16_Y-INTERSECTION',\n",
       " 'ohe__x17_CURVE ON HILLCREST',\n",
       " 'ohe__x17_CURVE, LEVEL',\n",
       " 'ohe__x17_STRAIGHT AND LEVEL',\n",
       " 'ohe__x17_STRAIGHT ON GRADE',\n",
       " 'ohe__x17_STRAIGHT ON HILLCREST',\n",
       " 'ohe__x18_ICE',\n",
       " 'ohe__x18_OTHER',\n",
       " 'ohe__x18_SAND, MUD, DIRT',\n",
       " 'ohe__x18_SNOW OR SLUSH',\n",
       " 'ohe__x18_UNKNOWN',\n",
       " 'ohe__x18_WET',\n",
       " 'ohe__x19_NO DEFECTS',\n",
       " 'ohe__x19_OTHER',\n",
       " 'ohe__x19_RUT, HOLES',\n",
       " 'ohe__x19_SHOULDER DEFECT',\n",
       " 'ohe__x19_UNKNOWN',\n",
       " 'ohe__x19_WORN SURFACE',\n",
       " 'ohe__x20_Y',\n",
       " 'ohe__x21_Y',\n",
       " 'ohe__x22_$501 - $1,500',\n",
       " 'ohe__x22_OVER $1,500',\n",
       " 'ohe__x23_BICYCLE ADVANCING LEGALLY ON RED LIGHT',\n",
       " 'ohe__x23_CELL PHONE USE OTHER THAN TEXTING',\n",
       " 'ohe__x23_DISREGARDING OTHER TRAFFIC SIGNS',\n",
       " 'ohe__x23_DISREGARDING ROAD MARKINGS',\n",
       " 'ohe__x23_DISREGARDING STOP SIGN',\n",
       " 'ohe__x23_DISREGARDING TRAFFIC SIGNALS',\n",
       " 'ohe__x23_DISREGARDING YIELD SIGN',\n",
       " 'ohe__x23_DISTRACTION - FROM INSIDE VEHICLE',\n",
       " 'ohe__x23_DISTRACTION - FROM OUTSIDE VEHICLE',\n",
       " 'ohe__x23_DISTRACTION - OTHER ELECTRONIC DEVICE (NAVIGATION DEVICE, DVD PLAYER, ETC.)',\n",
       " 'ohe__x23_DRIVING ON WRONG SIDE/WRONG WAY',\n",
       " 'ohe__x23_DRIVING SKILLS/KNOWLEDGE/EXPERIENCE',\n",
       " 'ohe__x23_EQUIPMENT - VEHICLE CONDITION',\n",
       " 'ohe__x23_EVASIVE ACTION DUE TO ANIMAL, OBJECT, NONMOTORIST',\n",
       " 'ohe__x23_EXCEEDING AUTHORIZED SPEED LIMIT',\n",
       " 'ohe__x23_EXCEEDING SAFE SPEED FOR CONDITIONS',\n",
       " 'ohe__x23_FAILING TO REDUCE SPEED TO AVOID CRASH',\n",
       " 'ohe__x23_FAILING TO YIELD RIGHT-OF-WAY',\n",
       " 'ohe__x23_FOLLOWING TOO CLOSELY',\n",
       " 'ohe__x23_HAD BEEN DRINKING (USE WHEN ARREST IS NOT MADE)',\n",
       " 'ohe__x23_IMPROPER BACKING',\n",
       " 'ohe__x23_IMPROPER LANE USAGE',\n",
       " 'ohe__x23_IMPROPER OVERTAKING/PASSING',\n",
       " 'ohe__x23_IMPROPER TURNING/NO SIGNAL',\n",
       " 'ohe__x23_MOTORCYCLE ADVANCING LEGALLY ON RED LIGHT',\n",
       " 'ohe__x23_NOT APPLICABLE',\n",
       " 'ohe__x23_OBSTRUCTED CROSSWALKS',\n",
       " 'ohe__x23_OPERATING VEHICLE IN ERRATIC, RECKLESS, CARELESS, NEGLIGENT OR AGGRESSIVE MANNER',\n",
       " 'ohe__x23_PASSING STOPPED SCHOOL BUS',\n",
       " 'ohe__x23_PHYSICAL CONDITION OF DRIVER',\n",
       " 'ohe__x23_RELATED TO BUS STOP',\n",
       " 'ohe__x23_ROAD CONSTRUCTION/MAINTENANCE',\n",
       " 'ohe__x23_ROAD ENGINEERING/SURFACE/MARKING DEFECTS',\n",
       " 'ohe__x23_TEXTING',\n",
       " 'ohe__x23_TURNING RIGHT ON RED',\n",
       " 'ohe__x23_UNABLE TO DETERMINE',\n",
       " 'ohe__x23_UNDER THE INFLUENCE OF ALCOHOL/DRUGS (USE WHEN ARREST IS EFFECTED)',\n",
       " 'ohe__x23_VISION OBSCURED (SIGNS, TREE LIMBS, BUILDINGS, ETC.)',\n",
       " 'ohe__x23_WEATHER',\n",
       " 'ohe__x24_BICYCLE ADVANCING LEGALLY ON RED LIGHT',\n",
       " 'ohe__x24_CELL PHONE USE OTHER THAN TEXTING',\n",
       " 'ohe__x24_DISREGARDING OTHER TRAFFIC SIGNS',\n",
       " 'ohe__x24_DISREGARDING ROAD MARKINGS',\n",
       " 'ohe__x24_DISREGARDING STOP SIGN',\n",
       " 'ohe__x24_DISREGARDING TRAFFIC SIGNALS',\n",
       " 'ohe__x24_DISREGARDING YIELD SIGN',\n",
       " 'ohe__x24_DISTRACTION - FROM INSIDE VEHICLE',\n",
       " 'ohe__x24_DISTRACTION - FROM OUTSIDE VEHICLE',\n",
       " 'ohe__x24_DISTRACTION - OTHER ELECTRONIC DEVICE (NAVIGATION DEVICE, DVD PLAYER, ETC.)',\n",
       " 'ohe__x24_DRIVING ON WRONG SIDE/WRONG WAY',\n",
       " 'ohe__x24_DRIVING SKILLS/KNOWLEDGE/EXPERIENCE',\n",
       " 'ohe__x24_EQUIPMENT - VEHICLE CONDITION',\n",
       " 'ohe__x24_EVASIVE ACTION DUE TO ANIMAL, OBJECT, NONMOTORIST',\n",
       " 'ohe__x24_EXCEEDING AUTHORIZED SPEED LIMIT',\n",
       " 'ohe__x24_EXCEEDING SAFE SPEED FOR CONDITIONS',\n",
       " 'ohe__x24_FAILING TO REDUCE SPEED TO AVOID CRASH',\n",
       " 'ohe__x24_FAILING TO YIELD RIGHT-OF-WAY',\n",
       " 'ohe__x24_FOLLOWING TOO CLOSELY',\n",
       " 'ohe__x24_HAD BEEN DRINKING (USE WHEN ARREST IS NOT MADE)',\n",
       " 'ohe__x24_IMPROPER BACKING',\n",
       " 'ohe__x24_IMPROPER LANE USAGE',\n",
       " 'ohe__x24_IMPROPER OVERTAKING/PASSING',\n",
       " 'ohe__x24_IMPROPER TURNING/NO SIGNAL',\n",
       " 'ohe__x24_MOTORCYCLE ADVANCING LEGALLY ON RED LIGHT',\n",
       " 'ohe__x24_NOT APPLICABLE',\n",
       " 'ohe__x24_OBSTRUCTED CROSSWALKS',\n",
       " 'ohe__x24_OPERATING VEHICLE IN ERRATIC, RECKLESS, CARELESS, NEGLIGENT OR AGGRESSIVE MANNER',\n",
       " 'ohe__x24_PASSING STOPPED SCHOOL BUS',\n",
       " 'ohe__x24_PHYSICAL CONDITION OF DRIVER',\n",
       " 'ohe__x24_RELATED TO BUS STOP',\n",
       " 'ohe__x24_ROAD CONSTRUCTION/MAINTENANCE',\n",
       " 'ohe__x24_ROAD ENGINEERING/SURFACE/MARKING DEFECTS',\n",
       " 'ohe__x24_TEXTING',\n",
       " 'ohe__x24_TURNING RIGHT ON RED',\n",
       " 'ohe__x24_UNABLE TO DETERMINE',\n",
       " 'ohe__x24_UNDER THE INFLUENCE OF ALCOHOL/DRUGS (USE WHEN ARREST IS EFFECTED)',\n",
       " 'ohe__x24_VISION OBSCURED (SIGNS, TREE LIMBS, BUILDINGS, ETC.)',\n",
       " 'ohe__x24_WEATHER',\n",
       " 'ohe__x25_10',\n",
       " 'ohe__x25_11',\n",
       " 'ohe__x25_12',\n",
       " 'ohe__x25_14',\n",
       " 'ohe__x25_15',\n",
       " 'ohe__x25_16',\n",
       " 'ohe__x25_17',\n",
       " 'ohe__x25_18',\n",
       " 'ohe__x25_19',\n",
       " 'ohe__x25_2',\n",
       " 'ohe__x25_20',\n",
       " 'ohe__x25_22',\n",
       " 'ohe__x25_24',\n",
       " 'ohe__x25_25',\n",
       " 'ohe__x25_3',\n",
       " 'ohe__x25_4',\n",
       " 'ohe__x25_5',\n",
       " 'ohe__x25_6',\n",
       " 'ohe__x25_7',\n",
       " 'ohe__x25_8',\n",
       " 'ohe__x25_9',\n",
       " 'SEAT_NO',\n",
       " 'AGE',\n",
       " 'POSTED_SPEED_LIMIT',\n",
       " 'NUM_UNITS',\n",
       " 'CRASH_HOUR',\n",
       " 'CRASH_DAY_OF_WEEK',\n",
       " 'CRASH_MONTH',\n",
       " 'CRASH_YEAR']"
      ]
     },
     "execution_count": 99,
     "metadata": {},
     "output_type": "execute_result"
    }
   ],
   "source": [
    "# Get column/feature names from OHE\n",
    "cleaning_pipeline.steps[-1][1].get_feature_names()"
   ]
  },
  {
   "cell_type": "code",
   "execution_count": 100,
   "metadata": {},
   "outputs": [],
   "source": [
    "ohe_feature_names = cleaning_pipeline.steps[-1][1].get_feature_names()"
   ]
  },
  {
   "cell_type": "markdown",
   "metadata": {},
   "source": [
    "## Model pipeline w/scaling\n",
    "\n",
    "After one-hot-encoding our categorical variables, we'll use SimpleImputer to fill in the missing values in `AGE` and `POSTED_SPEED_LIMIT`, then scale the data to ready for modeling."
   ]
  },
  {
   "cell_type": "code",
   "execution_count": 101,
   "metadata": {},
   "outputs": [],
   "source": [
    "# from sklearn.impute import KNNImputer\n",
    "from sklearn.preprocessing import StandardScaler\n",
    "# from sklearn.impute import SimpleImputer\n",
    "from sklearn.linear_model import LogisticRegression"
   ]
  },
  {
   "cell_type": "code",
   "execution_count": 104,
   "metadata": {},
   "outputs": [],
   "source": [
    "# X_train_transformed_nums = X_train_transformed.select_dtypes(include=['float64', 'int64'])\n",
    "# X_train_transformed_cat = X_train_transformed.select_dtypes('object')\n",
    "\n",
    "# num_cols = X_train_transformed_nums.columns\n",
    "# cat_cols = X_train_transformed_nums.columns"
   ]
  },
  {
   "cell_type": "code",
   "execution_count": 162,
   "metadata": {},
   "outputs": [],
   "source": [
    "# numerical_pipeline = Pipeline(steps=[\n",
    "#     ('simple', SimpleImputer(strategy='median', fill_value=0)),\n",
    "#     ('ss', StandardScaler())\n",
    "# ])\n",
    "#\n",
    "# categorical_pipeline = Pipeline(steps=[\n",
    "#     ('ohe', OneHotEncoder(drop='first',\n",
    "#                          sparse=False))\n",
    "# ])\n",
    "\n",
    "# transformer = ColumnTransformer(transformers=[\n",
    "#     ('numerical', numerical_pipeline, X_train.select_dtypes(include=['float64', 'int64']).columns),\n",
    "#     ('categorical', categorical_pipeline, X_train.select_dtypes('object').columns)\n",
    "# ], remainder='passthrough')"
   ]
  },
  {
   "cell_type": "markdown",
   "metadata": {},
   "source": [
    "Since now we have OHE as part of the cleaning pipeline, we can just put SimpleImputer and StandardScaler in our model pipline"
   ]
  },
  {
   "cell_type": "code",
   "execution_count": 91,
   "metadata": {},
   "outputs": [],
   "source": [
    "model_pipe = Pipeline(steps=[\n",
    "    ('ss', StandardScaler()),\n",
    "    ('lr', LogisticRegression())\n",
    "])"
   ]
  },
  {
   "cell_type": "code",
   "execution_count": 134,
   "metadata": {},
   "outputs": [],
   "source": [
    "from sklearn.model_selection import cross_validate\n",
    "\n",
    "def print_cv_scores(pipe):\n",
    "    \n",
    "    # we pass in pipe to cross validate along with a feature list.\n",
    "    results = cross_validate(pipe, X_train_smaller_clean, \n",
    "                                   y_train, \n",
    "                                   return_train_score=True)\n",
    "    \n",
    "    print(results['train_score'])\n",
    "    print(results['train_score'].mean())\n",
    "    print('##############')\n",
    "    print(results['test_score'])\n",
    "    print(results['test_score'].mean())\n",
    "    \n",
    "# print_cv_scores(model_pipe)"
   ]
  },
  {
   "cell_type": "code",
   "execution_count": 93,
   "metadata": {},
   "outputs": [
    {
     "name": "stderr",
     "output_type": "stream",
     "text": [
      "/opt/anaconda3/envs/learn-env/lib/python3.8/site-packages/sklearn/linear_model/_logistic.py:762: ConvergenceWarning: lbfgs failed to converge (status=1):\n",
      "STOP: TOTAL NO. of ITERATIONS REACHED LIMIT.\n",
      "\n",
      "Increase the number of iterations (max_iter) or scale the data as shown in:\n",
      "    https://scikit-learn.org/stable/modules/preprocessing.html\n",
      "Please also refer to the documentation for alternative solver options:\n",
      "    https://scikit-learn.org/stable/modules/linear_model.html#logistic-regression\n",
      "  n_iter_i = _check_optimize_result(\n"
     ]
    },
    {
     "data": {
      "text/plain": [
       "Pipeline(steps=[('ss', StandardScaler()), ('lr', LogisticRegression())])"
      ]
     },
     "execution_count": 93,
     "metadata": {},
     "output_type": "execute_result"
    }
   ],
   "source": [
    "model_pipe.fit(X_train_clean, y_train)"
   ]
  },
  {
   "cell_type": "code",
   "execution_count": 94,
   "metadata": {},
   "outputs": [
    {
     "name": "stdout",
     "output_type": "stream",
     "text": [
      "Training score:  0.9058837037958454\n"
     ]
    }
   ],
   "source": [
    "print('Training score: ', model_pipe.score(X_train_clean, y_train))"
   ]
  },
  {
   "cell_type": "code",
   "execution_count": 95,
   "metadata": {},
   "outputs": [
    {
     "data": {
      "text/plain": [
       "array([[ 0.22456159,  0.03082208,  0.01053495, ...,  0.00453853,\n",
       "        -0.01637645, -0.07232692],\n",
       "       [-0.30969755,  0.00960488, -0.01072455, ..., -0.00327322,\n",
       "         0.01762414,  0.03091023],\n",
       "       [-0.08551055, -0.04177428, -0.00253961, ...,  0.01144324,\n",
       "         0.01234129,  0.00291762],\n",
       "       [ 0.1706465 ,  0.00134731,  0.0027292 , ..., -0.01270856,\n",
       "        -0.01358898,  0.03849907]])"
      ]
     },
     "execution_count": 95,
     "metadata": {},
     "output_type": "execute_result"
    }
   ],
   "source": [
    "model_pipe.steps[1][1].coef_"
   ]
  },
  {
   "cell_type": "code",
   "execution_count": 96,
   "metadata": {},
   "outputs": [],
   "source": [
    "lr_coefs = model_pipe.steps[1][1].coef_"
   ]
  },
  {
   "cell_type": "code",
   "execution_count": 97,
   "metadata": {},
   "outputs": [
    {
     "data": {
      "text/plain": [
       "True"
      ]
     },
     "execution_count": 97,
     "metadata": {},
     "output_type": "execute_result"
    }
   ],
   "source": [
    "len(lr_coefs[0]) == len(ohe_feature_names)"
   ]
  },
  {
   "cell_type": "code",
   "execution_count": 98,
   "metadata": {},
   "outputs": [],
   "source": [
    "def print_logreg_coefs(cleaning_pipeline, model_pipeline, thresh=0.05):\n",
    "    ohe_feature_names = cleaning_pipeline.steps[-1][1].get_feature_names()\n",
    "    lr_coefs = model_pipeline.steps[1][1].coef_\n",
    "    \n",
    "    for i in range(len(lr_coefs)):\n",
    "        print('Coefs for features in class ', i)\n",
    "        for j in range(len(ohe_feature_names)):\n",
    "            if abs(lr_coefs[i][j] >= thresh):\n",
    "                print(ohe_feature_names[j], ': ', lr_coefs[i][j])\n",
    "        print('='*30, '\\n')"
   ]
  },
  {
   "cell_type": "code",
   "execution_count": 99,
   "metadata": {
    "scrolled": true
   },
   "outputs": [
    {
     "name": "stdout",
     "output_type": "stream",
     "text": [
      "Coefs for features in class  0\n",
      "ohe__x0_DRIVER :  0.2245615913216943\n",
      "ohe__x0_PASSENGER :  0.2522282634781743\n",
      "ohe__x2_M :  0.061515583583968476\n",
      "ohe__x4_CHILD RESTRAINT - FORWARD FACING :  0.07618749141086764\n",
      "ohe__x4_CHILD RESTRAINT - REAR FACING :  0.0570827566384372\n",
      "ohe__x4_CHILD RESTRAINT - TYPE UNKNOWN :  0.051887017086316656\n",
      "ohe__x4_CHILD RESTRAINT USED :  0.12088159714251152\n",
      "ohe__x4_NONE PRESENT :  0.10175222009975625\n",
      "ohe__x4_SAFETY BELT USED :  0.5783846616961548\n",
      "ohe__x4_USAGE UNKNOWN :  0.44668008597733605\n",
      "ohe__x5_DEPLOYMENT UNKNOWN :  0.19301295288587303\n",
      "ohe__x5_DID NOT DEPLOY :  0.633055473894856\n",
      "ohe__x5_NOT APPLICABLE :  0.4876384710742554\n",
      "ohe__x7_FOLLOWED TOO CLOSELY :  0.06617724088382344\n",
      "ohe__x7_IMPROPER PARKING :  0.10183201340207755\n",
      "ohe__x9_FATIGUED/ASLEEP :  0.09242613004056648\n",
      "ohe__x9_NORMAL :  0.26236385020370384\n",
      "ohe__x11_STOP SIGN/FLASHER :  0.05631241347246261\n",
      "ohe__x12_FUNCTIONING PROPERLY :  0.0684403333295484\n",
      "ohe__x12_NO CONTROLS :  0.10119168883255743\n",
      "ohe__x12_UNKNOWN :  0.07652856452135275\n",
      "ohe__x15_PARKED MOTOR VEHICLE :  0.06971617948916714\n",
      "ohe__x15_REAR END :  0.05409506045995384\n",
      "ohe__x15_REAR TO REAR :  0.07331687138651474\n",
      "ohe__x15_SIDESWIPE SAME DIRECTION :  0.17336284119633416\n",
      "ohe__x16_PARKING LOT :  0.07560641699666325\n",
      "ohe__x23_DRIVING SKILLS/KNOWLEDGE/EXPERIENCE :  0.06747963678806275\n",
      "ohe__x23_IMPROPER BACKING :  0.1341902872614029\n",
      "ohe__x23_IMPROPER TURNING/NO SIGNAL :  0.07461051055756358\n",
      "ohe__x23_ROAD ENGINEERING/SURFACE/MARKING DEFECTS :  0.050238482445928705\n",
      "ohe__x23_UNABLE TO DETERMINE :  0.050437812887090726\n",
      "ohe__x23_WEATHER :  0.07616371837777465\n",
      "============================== \n",
      "\n",
      "Coefs for features in class  1\n",
      "ohe__x1_MS :  0.05740082161825135\n",
      "ohe__x7_FAILED TO YIELD :  0.10632777432828275\n",
      "ohe__x7_IMPROPER LANE CHANGE :  0.052071916384604684\n",
      "ohe__x7_IMPROPER PARKING :  0.08852412622724545\n",
      "ohe__x7_NONE :  0.1660053292833839\n",
      "ohe__x7_OTHER :  0.059556103101903506\n",
      "ohe__x7_UNKNOWN :  0.1395698501366183\n",
      "ohe__x8_NOT OBSCURED :  0.058190993383444536\n",
      "ohe__x9_FATIGUED/ASLEEP :  0.06521173315438053\n",
      "ohe__x12_UNKNOWN :  0.05796420354194365\n",
      "ohe__x15_REAR END :  0.094496310628104\n",
      "ohe__x16_NOT DIVIDED :  0.08710325214639297\n",
      "ohe__x19_UNKNOWN :  0.07379440060809185\n",
      "ohe__x21_Y :  0.05496851539209402\n",
      "============================== \n",
      "\n",
      "Coefs for features in class  2\n",
      "ohe__x0_PEDESTRIAN :  0.0785873072286181\n",
      "ohe__x3_B :  0.06456766818590641\n",
      "ohe__x3_D :  0.10741073427224795\n",
      "ohe__x3_OTHER :  0.09199548106515401\n",
      "ohe__x7_IMPROPER LANE CHANGE :  0.06365284613461418\n",
      "ohe__x7_NONE :  0.05423050099502165\n",
      "ohe__x7_UNKNOWN :  0.06118066864206712\n",
      "ohe__x9_NORMAL :  0.0984763403228981\n",
      "ohe__x9_REMOVED BY EMS :  0.09086068206789237\n",
      "ohe__x16_RAMP :  0.05233481570090776\n",
      "ohe__x22_$501 - $1,500 :  0.11963723414923105\n",
      "ohe__x22_OVER $1,500 :  0.19447918407675766\n",
      "ohe__x24_WEATHER :  0.05578384239860738\n",
      "ohe__x25_16 :  0.08568506825335215\n",
      "ohe__x25_17 :  0.057298752765814406\n",
      "POSTED_SPEED_LIMIT :  0.06002653193468591\n",
      "============================== \n",
      "\n",
      "Coefs for features in class  3\n",
      "ohe__x0_DRIVER :  0.1706465011220711\n",
      "ohe__x0_PEDESTRIAN :  0.1269626894344547\n",
      "ohe__x2_M :  0.17663860100465695\n",
      "ohe__x4_HELMET NOT USED :  0.06324187784408637\n",
      "ohe__x4_NONE PRESENT :  0.10869673035385666\n",
      "ohe__x4_SAFETY BELT NOT USED :  0.09254191059796296\n",
      "ohe__x4_USAGE UNKNOWN :  0.05993863643400527\n",
      "ohe__x5_DEPLOYED, COMBINATION :  0.0691540669598509\n",
      "ohe__x5_DEPLOYED, FRONT :  0.05157247985510445\n",
      "ohe__x6_TOTALLY EJECTED :  0.13658263613319352\n",
      "ohe__x6_TRAPPED/EXTRICATED :  0.058510761367661174\n",
      "ohe__x6_UNKNOWN :  0.13363193699844558\n",
      "ohe__x7_IMPROPER BACKING :  0.10720755435388563\n",
      "ohe__x7_OTHER :  0.05394774259678413\n",
      "ohe__x8_UNKNOWN :  0.12318985754487481\n",
      "ohe__x9_OTHER :  0.06482612602000432\n",
      "ohe__x9_REMOVED BY EMS :  0.10683066692612044\n",
      "ohe__x9_UNKNOWN :  0.400877116230973\n",
      "ohe__x13_RAIN :  0.05989354203191224\n",
      "ohe__x13_UNKNOWN :  0.06747384176189074\n",
      "ohe__x14_DARKNESS, LIGHTED ROAD :  0.12304506666086164\n",
      "ohe__x15_ANIMAL :  0.07068034481629804\n",
      "ohe__x15_FIXED OBJECT :  0.16919288684544068\n",
      "ohe__x15_HEAD ON :  0.0663466466375071\n",
      "ohe__x15_OTHER OBJECT :  0.06228051066314673\n",
      "ohe__x15_REAR TO FRONT :  0.09772479594440295\n",
      "ohe__x16_DIVIDED - W/MEDIAN BARRIER :  0.07471773172249085\n",
      "ohe__x16_FOUR WAY :  0.05254203847653769\n",
      "ohe__x16_ONE-WAY :  0.06594379595835279\n",
      "ohe__x19_NO DEFECTS :  0.0727558713139059\n",
      "ohe__x19_SHOULDER DEFECT :  0.053870056979366324\n",
      "ohe__x22_OVER $1,500 :  0.3456325016502285\n",
      "ohe__x23_DISREGARDING TRAFFIC SIGNALS :  0.06186453968930481\n",
      "ohe__x23_DRIVING ON WRONG SIDE/WRONG WAY :  0.05393674262531143\n",
      "ohe__x23_EXCEEDING AUTHORIZED SPEED LIMIT :  0.05540957323822131\n",
      "ohe__x23_FAILING TO REDUCE SPEED TO AVOID CRASH :  0.05376471004665763\n",
      "ohe__x23_IMPROPER OVERTAKING/PASSING :  0.10140800955675075\n",
      "ohe__x23_NOT APPLICABLE :  0.08623649806950055\n",
      "ohe__x23_PHYSICAL CONDITION OF DRIVER :  0.11484077253081716\n",
      "ohe__x23_UNABLE TO DETERMINE :  0.08086096470594595\n",
      "ohe__x23_VISION OBSCURED (SIGNS, TREE LIMBS, BUILDINGS, ETC.) :  0.07276713317200847\n",
      "ohe__x24_UNABLE TO DETERMINE :  0.05032330217953316\n",
      "ohe__x25_11 :  0.052772071240161054\n",
      "ohe__x25_4 :  0.0992608830849174\n",
      "ohe__x25_7 :  0.07914186296561766\n",
      "ohe__x25_8 :  0.09710019825315185\n",
      "ohe__x25_9 :  0.08708513566093304\n",
      "SEAT_NO :  0.07505636360861984\n",
      "AGE :  0.21673703707157552\n",
      "NUM_UNITS :  0.07269510230934237\n",
      "============================== \n",
      "\n"
     ]
    }
   ],
   "source": [
    "print_logreg_coefs(cleaning_pipeline, model_pipe)"
   ]
  },
  {
   "cell_type": "code",
   "execution_count": 109,
   "metadata": {},
   "outputs": [
    {
     "data": {
      "text/plain": [
       "Index(['PERSON_TYPE', 'SEAT_NO', 'STATE', 'SEX', 'AGE',\n",
       "       'DRIVERS_LICENSE_CLASS', 'SAFETY_EQUIPMENT', 'AIRBAG_DEPLOYED',\n",
       "       'EJECTION', 'DRIVER_ACTION', 'DRIVER_VISION', 'PHYSICAL_CONDITION',\n",
       "       'BAC_RESULT', 'POSTED_SPEED_LIMIT', 'TRAFFIC_CONTROL_DEVICE',\n",
       "       'DEVICE_CONDITION', 'WEATHER_CONDITION', 'LIGHTING_CONDITION',\n",
       "       'FIRST_CRASH_TYPE', 'TRAFFICWAY_TYPE', 'ALIGNMENT',\n",
       "       'ROADWAY_SURFACE_COND', 'ROAD_DEFECT', 'INTERSECTION_RELATED_I',\n",
       "       'HIT_AND_RUN_I', 'DAMAGE', 'PRIM_CONTRIBUTORY_CAUSE',\n",
       "       'SEC_CONTRIBUTORY_CAUSE', 'BEAT_OF_OCCURRENCE', 'NUM_UNITS',\n",
       "       'CRASH_HOUR', 'CRASH_DAY_OF_WEEK', 'CRASH_MONTH', 'CRASH_YEAR'],\n",
       "      dtype='object')"
      ]
     },
     "execution_count": 109,
     "metadata": {},
     "output_type": "execute_result"
    }
   ],
   "source": [
    "X_train.columns"
   ]
  },
  {
   "cell_type": "markdown",
   "metadata": {},
   "source": [
    "## Using boosting estimators\n",
    "\n",
    "**AdaBoost:**"
   ]
  },
  {
   "cell_type": "code",
   "execution_count": 102,
   "metadata": {},
   "outputs": [],
   "source": [
    "from sklearn.model_selection import GridSearchCV\n",
    "from sklearn.ensemble import AdaBoostClassifier, GradientBoostingClassifier\n",
    "import xgboost as xgb"
   ]
  },
  {
   "cell_type": "code",
   "execution_count": 143,
   "metadata": {},
   "outputs": [],
   "source": [
    "abc = AdaBoostClassifier(random_state=42)\n",
    "boost_scaler = StandardScaler()\n",
    "\n",
    "adaboost_pipe = Pipeline(steps=[\n",
    "    ('ss', boost_scaler),\n",
    "    ('ada', abc)\n",
    "])"
   ]
  },
  {
   "cell_type": "code",
   "execution_count": 144,
   "metadata": {},
   "outputs": [
    {
     "data": {
      "text/plain": [
       "Pipeline(steps=[('ss', StandardScaler()),\n",
       "                ('ada', AdaBoostClassifier(random_state=42))])"
      ]
     },
     "execution_count": 144,
     "metadata": {},
     "output_type": "execute_result"
    }
   ],
   "source": [
    "adaboost_pipe.fit(X_train_clean, y_train)"
   ]
  },
  {
   "cell_type": "code",
   "execution_count": 230,
   "metadata": {},
   "outputs": [
    {
     "data": {
      "text/plain": [
       "0.9053574333311006"
      ]
     },
     "execution_count": 230,
     "metadata": {},
     "output_type": "execute_result"
    }
   ],
   "source": [
    "adaboost_pipe.score(X_train_clean, y_train)"
   ]
  },
  {
   "cell_type": "markdown",
   "metadata": {},
   "source": [
    "## Cutting down features\n",
    "\n",
    "The complexity/number of features we have is making it impossible to even run a model. We're going to cut down on features to reduce overall complexity, using the coefficient values from the earlier logistic regression model for predicting class 3 (aka 'FATAL') and by checking w/Angie's DecisionTreeClassifier model."
   ]
  },
  {
   "cell_type": "code",
   "execution_count": 124,
   "metadata": {},
   "outputs": [
    {
     "data": {
      "text/html": [
       "<div>\n",
       "<style scoped>\n",
       "    .dataframe tbody tr th:only-of-type {\n",
       "        vertical-align: middle;\n",
       "    }\n",
       "\n",
       "    .dataframe tbody tr th {\n",
       "        vertical-align: top;\n",
       "    }\n",
       "\n",
       "    .dataframe thead th {\n",
       "        text-align: right;\n",
       "    }\n",
       "</style>\n",
       "<table border=\"1\" class=\"dataframe\">\n",
       "  <thead>\n",
       "    <tr style=\"text-align: right;\">\n",
       "      <th></th>\n",
       "      <th>PERSON_TYPE</th>\n",
       "      <th>SEX</th>\n",
       "      <th>SAFETY_EQUIPMENT</th>\n",
       "      <th>AGE</th>\n",
       "      <th>AIRBAG_DEPLOYED</th>\n",
       "      <th>EJECTION</th>\n",
       "      <th>DRIVER_ACTION</th>\n",
       "      <th>SEAT_NO</th>\n",
       "      <th>LIGHTING_CONDITION</th>\n",
       "      <th>WEATHER_CONDITION</th>\n",
       "      <th>FIRST_CRASH_TYPE</th>\n",
       "      <th>TRAFFICWAY_TYPE</th>\n",
       "      <th>DAMAGE</th>\n",
       "      <th>PRIM_CONTRIBUTORY_CAUSE</th>\n",
       "      <th>BEAT_OF_OCCURRENCE</th>\n",
       "      <th>NUM_UNITS</th>\n",
       "    </tr>\n",
       "  </thead>\n",
       "  <tbody>\n",
       "    <tr>\n",
       "      <th>630683</th>\n",
       "      <td>DRIVER</td>\n",
       "      <td>M</td>\n",
       "      <td>USAGE UNKNOWN</td>\n",
       "      <td>24.0</td>\n",
       "      <td>DID NOT DEPLOY</td>\n",
       "      <td>NONE</td>\n",
       "      <td>NONE</td>\n",
       "      <td>1.0</td>\n",
       "      <td>DAYLIGHT</td>\n",
       "      <td>SNOW</td>\n",
       "      <td>REAR END</td>\n",
       "      <td>NOT DIVIDED</td>\n",
       "      <td>$501 - $1,500</td>\n",
       "      <td>FOLLOWING TOO CLOSELY</td>\n",
       "      <td>6</td>\n",
       "      <td>2.0</td>\n",
       "    </tr>\n",
       "    <tr>\n",
       "      <th>526739</th>\n",
       "      <td>DRIVER</td>\n",
       "      <td>M</td>\n",
       "      <td>SAFETY BELT USED</td>\n",
       "      <td>19.0</td>\n",
       "      <td>DID NOT DEPLOY</td>\n",
       "      <td>NONE</td>\n",
       "      <td>OTHER</td>\n",
       "      <td>1.0</td>\n",
       "      <td>DAYLIGHT</td>\n",
       "      <td>CLEAR</td>\n",
       "      <td>REAR END</td>\n",
       "      <td>NOT DIVIDED</td>\n",
       "      <td>OVER $1,500</td>\n",
       "      <td>FOLLOWING TOO CLOSELY</td>\n",
       "      <td>8</td>\n",
       "      <td>2.0</td>\n",
       "    </tr>\n",
       "    <tr>\n",
       "      <th>396639</th>\n",
       "      <td>DRIVER</td>\n",
       "      <td>F</td>\n",
       "      <td>NONE PRESENT</td>\n",
       "      <td>32.0</td>\n",
       "      <td>DID NOT DEPLOY</td>\n",
       "      <td>NONE</td>\n",
       "      <td>FOLLOWED TOO CLOSELY</td>\n",
       "      <td>1.0</td>\n",
       "      <td>DAYLIGHT</td>\n",
       "      <td>CLEAR</td>\n",
       "      <td>REAR END</td>\n",
       "      <td>NOT DIVIDED</td>\n",
       "      <td>OVER $1,500</td>\n",
       "      <td>FOLLOWING TOO CLOSELY</td>\n",
       "      <td>1</td>\n",
       "      <td>2.0</td>\n",
       "    </tr>\n",
       "    <tr>\n",
       "      <th>601015</th>\n",
       "      <td>DRIVER</td>\n",
       "      <td>F</td>\n",
       "      <td>USAGE UNKNOWN</td>\n",
       "      <td>31.0</td>\n",
       "      <td>DID NOT DEPLOY</td>\n",
       "      <td>NONE</td>\n",
       "      <td>NONE</td>\n",
       "      <td>1.0</td>\n",
       "      <td>DARKNESS, LIGHTED ROAD</td>\n",
       "      <td>CLEAR</td>\n",
       "      <td>FIXED OBJECT</td>\n",
       "      <td>DIVIDED - W/MEDIAN (NOT RAISED)</td>\n",
       "      <td>OVER $1,500</td>\n",
       "      <td>ROAD ENGINEERING/SURFACE/MARKING DEFECTS</td>\n",
       "      <td>16</td>\n",
       "      <td>1.0</td>\n",
       "    </tr>\n",
       "    <tr>\n",
       "      <th>243232</th>\n",
       "      <td>DRIVER</td>\n",
       "      <td>F</td>\n",
       "      <td>USAGE UNKNOWN</td>\n",
       "      <td>27.0</td>\n",
       "      <td>DID NOT DEPLOY</td>\n",
       "      <td>NONE</td>\n",
       "      <td>UNKNOWN</td>\n",
       "      <td>1.0</td>\n",
       "      <td>UNKNOWN</td>\n",
       "      <td>UNKNOWN</td>\n",
       "      <td>TURNING</td>\n",
       "      <td>CENTER TURN LANE</td>\n",
       "      <td>OVER $1,500</td>\n",
       "      <td>UNABLE TO DETERMINE</td>\n",
       "      <td>22</td>\n",
       "      <td>2.0</td>\n",
       "    </tr>\n",
       "  </tbody>\n",
       "</table>\n",
       "</div>"
      ],
      "text/plain": [
       "       PERSON_TYPE SEX  SAFETY_EQUIPMENT   AGE AIRBAG_DEPLOYED EJECTION  \\\n",
       "630683      DRIVER   M     USAGE UNKNOWN  24.0  DID NOT DEPLOY     NONE   \n",
       "526739      DRIVER   M  SAFETY BELT USED  19.0  DID NOT DEPLOY     NONE   \n",
       "396639      DRIVER   F      NONE PRESENT  32.0  DID NOT DEPLOY     NONE   \n",
       "601015      DRIVER   F     USAGE UNKNOWN  31.0  DID NOT DEPLOY     NONE   \n",
       "243232      DRIVER   F     USAGE UNKNOWN  27.0  DID NOT DEPLOY     NONE   \n",
       "\n",
       "               DRIVER_ACTION  SEAT_NO      LIGHTING_CONDITION  \\\n",
       "630683                  NONE      1.0                DAYLIGHT   \n",
       "526739                 OTHER      1.0                DAYLIGHT   \n",
       "396639  FOLLOWED TOO CLOSELY      1.0                DAYLIGHT   \n",
       "601015                  NONE      1.0  DARKNESS, LIGHTED ROAD   \n",
       "243232               UNKNOWN      1.0                 UNKNOWN   \n",
       "\n",
       "       WEATHER_CONDITION FIRST_CRASH_TYPE                  TRAFFICWAY_TYPE  \\\n",
       "630683              SNOW         REAR END                      NOT DIVIDED   \n",
       "526739             CLEAR         REAR END                      NOT DIVIDED   \n",
       "396639             CLEAR         REAR END                      NOT DIVIDED   \n",
       "601015             CLEAR     FIXED OBJECT  DIVIDED - W/MEDIAN (NOT RAISED)   \n",
       "243232           UNKNOWN          TURNING                 CENTER TURN LANE   \n",
       "\n",
       "               DAMAGE                   PRIM_CONTRIBUTORY_CAUSE  \\\n",
       "630683  $501 - $1,500                     FOLLOWING TOO CLOSELY   \n",
       "526739    OVER $1,500                     FOLLOWING TOO CLOSELY   \n",
       "396639    OVER $1,500                     FOLLOWING TOO CLOSELY   \n",
       "601015    OVER $1,500  ROAD ENGINEERING/SURFACE/MARKING DEFECTS   \n",
       "243232    OVER $1,500                       UNABLE TO DETERMINE   \n",
       "\n",
       "       BEAT_OF_OCCURRENCE  NUM_UNITS  \n",
       "630683                  6        2.0  \n",
       "526739                  8        2.0  \n",
       "396639                  1        2.0  \n",
       "601015                 16        1.0  \n",
       "243232                 22        2.0  "
      ]
     },
     "execution_count": 124,
     "metadata": {},
     "output_type": "execute_result"
    }
   ],
   "source": [
    "X_train_smaller = X_train[['PERSON_TYPE', 'SEX', 'SAFETY_EQUIPMENT', 'AGE', 'AIRBAG_DEPLOYED', \n",
    "                           'EJECTION', 'DRIVER_ACTION', 'SEAT_NO', 'LIGHTING_CONDITION', 'WEATHER_CONDITION', \n",
    "                           'FIRST_CRASH_TYPE', 'TRAFFICWAY_TYPE', 'DAMAGE', 'PRIM_CONTRIBUTORY_CAUSE', \n",
    "                           'BEAT_OF_OCCURRENCE', 'NUM_UNITS']]\n",
    "X_train_smaller.head()"
   ]
  },
  {
   "cell_type": "code",
   "execution_count": 125,
   "metadata": {},
   "outputs": [
    {
     "data": {
      "text/plain": [
       "16"
      ]
     },
     "execution_count": 125,
     "metadata": {},
     "output_type": "execute_result"
    }
   ],
   "source": [
    "len(X_train_smaller.columns)"
   ]
  },
  {
   "cell_type": "code",
   "execution_count": 126,
   "metadata": {},
   "outputs": [
    {
     "name": "stderr",
     "output_type": "stream",
     "text": [
      "/Users/jessemarkowitz/opt/anaconda3/envs/learn-env/lib/python3.8/site-packages/pandas/core/indexing.py:1765: SettingWithCopyWarning: \n",
      "A value is trying to be set on a copy of a slice from a DataFrame.\n",
      "Try using .loc[row_indexer,col_indexer] = value instead\n",
      "\n",
      "See the caveats in the documentation: https://pandas.pydata.org/pandas-docs/stable/user_guide/indexing.html#returning-a-view-versus-a-copy\n",
      "  isetter(loc, value)\n",
      "/Users/jessemarkowitz/opt/anaconda3/envs/learn-env/lib/python3.8/site-packages/pandas/core/series.py:4517: SettingWithCopyWarning: \n",
      "A value is trying to be set on a copy of a slice from a DataFrame\n",
      "\n",
      "See the caveats in the documentation: https://pandas.pydata.org/pandas-docs/stable/user_guide/indexing.html#returning-a-view-versus-a-copy\n",
      "  return super().fillna(\n",
      "<ipython-input-92-41f05342683b>:6: SettingWithCopyWarning: \n",
      "A value is trying to be set on a copy of a slice from a DataFrame.\n",
      "Try using .loc[row_indexer,col_indexer] = value instead\n",
      "\n",
      "See the caveats in the documentation: https://pandas.pydata.org/pandas-docs/stable/user_guide/indexing.html#returning-a-view-versus-a-copy\n",
      "  df['BEAT_OF_OCCURRENCE'] = df['BEAT_OF_OCCURRENCE'].apply(str)\n",
      "<ipython-input-92-41f05342683b>:7: SettingWithCopyWarning: \n",
      "A value is trying to be set on a copy of a slice from a DataFrame.\n",
      "Try using .loc[row_indexer,col_indexer] = value instead\n",
      "\n",
      "See the caveats in the documentation: https://pandas.pydata.org/pandas-docs/stable/user_guide/indexing.html#returning-a-view-versus-a-copy\n",
      "  df['BEAT_OF_OCCURRENCE'] = df['BEAT_OF_OCCURRENCE'].apply(lambda x: x[:-4])\n"
     ]
    }
   ],
   "source": [
    "X_train_smaller_clean = cleaning_pipeline.fit_transform(X_train_smaller)"
   ]
  },
  {
   "cell_type": "markdown",
   "metadata": {},
   "source": [
    "**GradBoost:**"
   ]
  },
  {
   "cell_type": "code",
   "execution_count": 127,
   "metadata": {},
   "outputs": [],
   "source": [
    "gradboost = GradientBoostingClassifier(random_state=42)\n",
    "gradboost_scaler = StandardScaler()\n",
    "\n",
    "gradboost_pipe = Pipeline(steps=[\n",
    "    ('ss', gradboost_scaler),\n",
    "    ('grad', gradboost)\n",
    "])"
   ]
  },
  {
   "cell_type": "code",
   "execution_count": 128,
   "metadata": {},
   "outputs": [
    {
     "data": {
      "text/plain": [
       "Pipeline(steps=[('ss', StandardScaler()),\n",
       "                ('grad', GradientBoostingClassifier(random_state=42))])"
      ]
     },
     "execution_count": 128,
     "metadata": {},
     "output_type": "execute_result"
    }
   ],
   "source": [
    "gradboost_pipe.fit(X_train_smaller_clean, y_train)"
   ]
  },
  {
   "cell_type": "code",
   "execution_count": 135,
   "metadata": {},
   "outputs": [
    {
     "data": {
      "text/plain": [
       "0.9052298526123747"
      ]
     },
     "execution_count": 135,
     "metadata": {},
     "output_type": "execute_result"
    }
   ],
   "source": [
    "gradboost_pipe.score(X_train_smaller_clean, y_train)"
   ]
  },
  {
   "cell_type": "code",
   "execution_count": 137,
   "metadata": {},
   "outputs": [
    {
     "ename": "KeyboardInterrupt",
     "evalue": "",
     "output_type": "error",
     "traceback": [
      "\u001b[0;31m---------------------------------------------------------------------------\u001b[0m",
      "\u001b[0;31mKeyboardInterrupt\u001b[0m                         Traceback (most recent call last)",
      "\u001b[0;32m<ipython-input-137-a8d00e6214ca>\u001b[0m in \u001b[0;36m<module>\u001b[0;34m\u001b[0m\n\u001b[0;32m----> 1\u001b[0;31m \u001b[0mprint_cv_scores\u001b[0m\u001b[0;34m(\u001b[0m\u001b[0mgradboost_pipe\u001b[0m\u001b[0;34m)\u001b[0m\u001b[0;34m\u001b[0m\u001b[0;34m\u001b[0m\u001b[0m\n\u001b[0m",
      "\u001b[0;32m<ipython-input-134-8ba4b8498c87>\u001b[0m in \u001b[0;36mprint_cv_scores\u001b[0;34m(pipe)\u001b[0m\n\u001b[1;32m      4\u001b[0m \u001b[0;34m\u001b[0m\u001b[0m\n\u001b[1;32m      5\u001b[0m     \u001b[0;31m# we pass in pipe to cross validate along with a feature list.\u001b[0m\u001b[0;34m\u001b[0m\u001b[0;34m\u001b[0m\u001b[0;34m\u001b[0m\u001b[0m\n\u001b[0;32m----> 6\u001b[0;31m     results = cross_validate(pipe, X_train_smaller_clean, \n\u001b[0m\u001b[1;32m      7\u001b[0m                                    \u001b[0my_train\u001b[0m\u001b[0;34m,\u001b[0m\u001b[0;34m\u001b[0m\u001b[0;34m\u001b[0m\u001b[0m\n\u001b[1;32m      8\u001b[0m                                    return_train_score=True)\n",
      "\u001b[0;32m~/opt/anaconda3/envs/learn-env/lib/python3.8/site-packages/sklearn/utils/validation.py\u001b[0m in \u001b[0;36minner_f\u001b[0;34m(*args, **kwargs)\u001b[0m\n\u001b[1;32m     70\u001b[0m                           FutureWarning)\n\u001b[1;32m     71\u001b[0m         \u001b[0mkwargs\u001b[0m\u001b[0;34m.\u001b[0m\u001b[0mupdate\u001b[0m\u001b[0;34m(\u001b[0m\u001b[0;34m{\u001b[0m\u001b[0mk\u001b[0m\u001b[0;34m:\u001b[0m \u001b[0marg\u001b[0m \u001b[0;32mfor\u001b[0m \u001b[0mk\u001b[0m\u001b[0;34m,\u001b[0m \u001b[0marg\u001b[0m \u001b[0;32min\u001b[0m \u001b[0mzip\u001b[0m\u001b[0;34m(\u001b[0m\u001b[0msig\u001b[0m\u001b[0;34m.\u001b[0m\u001b[0mparameters\u001b[0m\u001b[0;34m,\u001b[0m \u001b[0margs\u001b[0m\u001b[0;34m)\u001b[0m\u001b[0;34m}\u001b[0m\u001b[0;34m)\u001b[0m\u001b[0;34m\u001b[0m\u001b[0;34m\u001b[0m\u001b[0m\n\u001b[0;32m---> 72\u001b[0;31m         \u001b[0;32mreturn\u001b[0m \u001b[0mf\u001b[0m\u001b[0;34m(\u001b[0m\u001b[0;34m**\u001b[0m\u001b[0mkwargs\u001b[0m\u001b[0;34m)\u001b[0m\u001b[0;34m\u001b[0m\u001b[0;34m\u001b[0m\u001b[0m\n\u001b[0m\u001b[1;32m     73\u001b[0m     \u001b[0;32mreturn\u001b[0m \u001b[0minner_f\u001b[0m\u001b[0;34m\u001b[0m\u001b[0;34m\u001b[0m\u001b[0m\n\u001b[1;32m     74\u001b[0m \u001b[0;34m\u001b[0m\u001b[0m\n",
      "\u001b[0;32m~/opt/anaconda3/envs/learn-env/lib/python3.8/site-packages/sklearn/model_selection/_validation.py\u001b[0m in \u001b[0;36mcross_validate\u001b[0;34m(estimator, X, y, groups, scoring, cv, n_jobs, verbose, fit_params, pre_dispatch, return_train_score, return_estimator, error_score)\u001b[0m\n\u001b[1;32m    240\u001b[0m     parallel = Parallel(n_jobs=n_jobs, verbose=verbose,\n\u001b[1;32m    241\u001b[0m                         pre_dispatch=pre_dispatch)\n\u001b[0;32m--> 242\u001b[0;31m     scores = parallel(\n\u001b[0m\u001b[1;32m    243\u001b[0m         delayed(_fit_and_score)(\n\u001b[1;32m    244\u001b[0m             \u001b[0mclone\u001b[0m\u001b[0;34m(\u001b[0m\u001b[0mestimator\u001b[0m\u001b[0;34m)\u001b[0m\u001b[0;34m,\u001b[0m \u001b[0mX\u001b[0m\u001b[0;34m,\u001b[0m \u001b[0my\u001b[0m\u001b[0;34m,\u001b[0m \u001b[0mscorers\u001b[0m\u001b[0;34m,\u001b[0m \u001b[0mtrain\u001b[0m\u001b[0;34m,\u001b[0m \u001b[0mtest\u001b[0m\u001b[0;34m,\u001b[0m \u001b[0mverbose\u001b[0m\u001b[0;34m,\u001b[0m \u001b[0;32mNone\u001b[0m\u001b[0;34m,\u001b[0m\u001b[0;34m\u001b[0m\u001b[0;34m\u001b[0m\u001b[0m\n",
      "\u001b[0;32m~/opt/anaconda3/envs/learn-env/lib/python3.8/site-packages/joblib/parallel.py\u001b[0m in \u001b[0;36m__call__\u001b[0;34m(self, iterable)\u001b[0m\n\u001b[1;32m   1046\u001b[0m             \u001b[0;31m# remaining jobs.\u001b[0m\u001b[0;34m\u001b[0m\u001b[0;34m\u001b[0m\u001b[0;34m\u001b[0m\u001b[0m\n\u001b[1;32m   1047\u001b[0m             \u001b[0mself\u001b[0m\u001b[0;34m.\u001b[0m\u001b[0m_iterating\u001b[0m \u001b[0;34m=\u001b[0m \u001b[0;32mFalse\u001b[0m\u001b[0;34m\u001b[0m\u001b[0;34m\u001b[0m\u001b[0m\n\u001b[0;32m-> 1048\u001b[0;31m             \u001b[0;32mif\u001b[0m \u001b[0mself\u001b[0m\u001b[0;34m.\u001b[0m\u001b[0mdispatch_one_batch\u001b[0m\u001b[0;34m(\u001b[0m\u001b[0miterator\u001b[0m\u001b[0;34m)\u001b[0m\u001b[0;34m:\u001b[0m\u001b[0;34m\u001b[0m\u001b[0;34m\u001b[0m\u001b[0m\n\u001b[0m\u001b[1;32m   1049\u001b[0m                 \u001b[0mself\u001b[0m\u001b[0;34m.\u001b[0m\u001b[0m_iterating\u001b[0m \u001b[0;34m=\u001b[0m \u001b[0mself\u001b[0m\u001b[0;34m.\u001b[0m\u001b[0m_original_iterator\u001b[0m \u001b[0;32mis\u001b[0m \u001b[0;32mnot\u001b[0m \u001b[0;32mNone\u001b[0m\u001b[0;34m\u001b[0m\u001b[0;34m\u001b[0m\u001b[0m\n\u001b[1;32m   1050\u001b[0m \u001b[0;34m\u001b[0m\u001b[0m\n",
      "\u001b[0;32m~/opt/anaconda3/envs/learn-env/lib/python3.8/site-packages/joblib/parallel.py\u001b[0m in \u001b[0;36mdispatch_one_batch\u001b[0;34m(self, iterator)\u001b[0m\n\u001b[1;32m    864\u001b[0m                 \u001b[0;32mreturn\u001b[0m \u001b[0;32mFalse\u001b[0m\u001b[0;34m\u001b[0m\u001b[0;34m\u001b[0m\u001b[0m\n\u001b[1;32m    865\u001b[0m             \u001b[0;32melse\u001b[0m\u001b[0;34m:\u001b[0m\u001b[0;34m\u001b[0m\u001b[0;34m\u001b[0m\u001b[0m\n\u001b[0;32m--> 866\u001b[0;31m                 \u001b[0mself\u001b[0m\u001b[0;34m.\u001b[0m\u001b[0m_dispatch\u001b[0m\u001b[0;34m(\u001b[0m\u001b[0mtasks\u001b[0m\u001b[0;34m)\u001b[0m\u001b[0;34m\u001b[0m\u001b[0;34m\u001b[0m\u001b[0m\n\u001b[0m\u001b[1;32m    867\u001b[0m                 \u001b[0;32mreturn\u001b[0m \u001b[0;32mTrue\u001b[0m\u001b[0;34m\u001b[0m\u001b[0;34m\u001b[0m\u001b[0m\n\u001b[1;32m    868\u001b[0m \u001b[0;34m\u001b[0m\u001b[0m\n",
      "\u001b[0;32m~/opt/anaconda3/envs/learn-env/lib/python3.8/site-packages/joblib/parallel.py\u001b[0m in \u001b[0;36m_dispatch\u001b[0;34m(self, batch)\u001b[0m\n\u001b[1;32m    782\u001b[0m         \u001b[0;32mwith\u001b[0m \u001b[0mself\u001b[0m\u001b[0;34m.\u001b[0m\u001b[0m_lock\u001b[0m\u001b[0;34m:\u001b[0m\u001b[0;34m\u001b[0m\u001b[0;34m\u001b[0m\u001b[0m\n\u001b[1;32m    783\u001b[0m             \u001b[0mjob_idx\u001b[0m \u001b[0;34m=\u001b[0m \u001b[0mlen\u001b[0m\u001b[0;34m(\u001b[0m\u001b[0mself\u001b[0m\u001b[0;34m.\u001b[0m\u001b[0m_jobs\u001b[0m\u001b[0;34m)\u001b[0m\u001b[0;34m\u001b[0m\u001b[0;34m\u001b[0m\u001b[0m\n\u001b[0;32m--> 784\u001b[0;31m             \u001b[0mjob\u001b[0m \u001b[0;34m=\u001b[0m \u001b[0mself\u001b[0m\u001b[0;34m.\u001b[0m\u001b[0m_backend\u001b[0m\u001b[0;34m.\u001b[0m\u001b[0mapply_async\u001b[0m\u001b[0;34m(\u001b[0m\u001b[0mbatch\u001b[0m\u001b[0;34m,\u001b[0m \u001b[0mcallback\u001b[0m\u001b[0;34m=\u001b[0m\u001b[0mcb\u001b[0m\u001b[0;34m)\u001b[0m\u001b[0;34m\u001b[0m\u001b[0;34m\u001b[0m\u001b[0m\n\u001b[0m\u001b[1;32m    785\u001b[0m             \u001b[0;31m# A job can complete so quickly than its callback is\u001b[0m\u001b[0;34m\u001b[0m\u001b[0;34m\u001b[0m\u001b[0;34m\u001b[0m\u001b[0m\n\u001b[1;32m    786\u001b[0m             \u001b[0;31m# called before we get here, causing self._jobs to\u001b[0m\u001b[0;34m\u001b[0m\u001b[0;34m\u001b[0m\u001b[0;34m\u001b[0m\u001b[0m\n",
      "\u001b[0;32m~/opt/anaconda3/envs/learn-env/lib/python3.8/site-packages/joblib/_parallel_backends.py\u001b[0m in \u001b[0;36mapply_async\u001b[0;34m(self, func, callback)\u001b[0m\n\u001b[1;32m    206\u001b[0m     \u001b[0;32mdef\u001b[0m \u001b[0mapply_async\u001b[0m\u001b[0;34m(\u001b[0m\u001b[0mself\u001b[0m\u001b[0;34m,\u001b[0m \u001b[0mfunc\u001b[0m\u001b[0;34m,\u001b[0m \u001b[0mcallback\u001b[0m\u001b[0;34m=\u001b[0m\u001b[0;32mNone\u001b[0m\u001b[0;34m)\u001b[0m\u001b[0;34m:\u001b[0m\u001b[0;34m\u001b[0m\u001b[0;34m\u001b[0m\u001b[0m\n\u001b[1;32m    207\u001b[0m         \u001b[0;34m\"\"\"Schedule a func to be run\"\"\"\u001b[0m\u001b[0;34m\u001b[0m\u001b[0;34m\u001b[0m\u001b[0m\n\u001b[0;32m--> 208\u001b[0;31m         \u001b[0mresult\u001b[0m \u001b[0;34m=\u001b[0m \u001b[0mImmediateResult\u001b[0m\u001b[0;34m(\u001b[0m\u001b[0mfunc\u001b[0m\u001b[0;34m)\u001b[0m\u001b[0;34m\u001b[0m\u001b[0;34m\u001b[0m\u001b[0m\n\u001b[0m\u001b[1;32m    209\u001b[0m         \u001b[0;32mif\u001b[0m \u001b[0mcallback\u001b[0m\u001b[0;34m:\u001b[0m\u001b[0;34m\u001b[0m\u001b[0;34m\u001b[0m\u001b[0m\n\u001b[1;32m    210\u001b[0m             \u001b[0mcallback\u001b[0m\u001b[0;34m(\u001b[0m\u001b[0mresult\u001b[0m\u001b[0;34m)\u001b[0m\u001b[0;34m\u001b[0m\u001b[0;34m\u001b[0m\u001b[0m\n",
      "\u001b[0;32m~/opt/anaconda3/envs/learn-env/lib/python3.8/site-packages/joblib/_parallel_backends.py\u001b[0m in \u001b[0;36m__init__\u001b[0;34m(self, batch)\u001b[0m\n\u001b[1;32m    570\u001b[0m         \u001b[0;31m# Don't delay the application, to avoid keeping the input\u001b[0m\u001b[0;34m\u001b[0m\u001b[0;34m\u001b[0m\u001b[0;34m\u001b[0m\u001b[0m\n\u001b[1;32m    571\u001b[0m         \u001b[0;31m# arguments in memory\u001b[0m\u001b[0;34m\u001b[0m\u001b[0;34m\u001b[0m\u001b[0;34m\u001b[0m\u001b[0m\n\u001b[0;32m--> 572\u001b[0;31m         \u001b[0mself\u001b[0m\u001b[0;34m.\u001b[0m\u001b[0mresults\u001b[0m \u001b[0;34m=\u001b[0m \u001b[0mbatch\u001b[0m\u001b[0;34m(\u001b[0m\u001b[0;34m)\u001b[0m\u001b[0;34m\u001b[0m\u001b[0;34m\u001b[0m\u001b[0m\n\u001b[0m\u001b[1;32m    573\u001b[0m \u001b[0;34m\u001b[0m\u001b[0m\n\u001b[1;32m    574\u001b[0m     \u001b[0;32mdef\u001b[0m \u001b[0mget\u001b[0m\u001b[0;34m(\u001b[0m\u001b[0mself\u001b[0m\u001b[0;34m)\u001b[0m\u001b[0;34m:\u001b[0m\u001b[0;34m\u001b[0m\u001b[0;34m\u001b[0m\u001b[0m\n",
      "\u001b[0;32m~/opt/anaconda3/envs/learn-env/lib/python3.8/site-packages/joblib/parallel.py\u001b[0m in \u001b[0;36m__call__\u001b[0;34m(self)\u001b[0m\n\u001b[1;32m    260\u001b[0m         \u001b[0;31m# change the default number of processes to -1\u001b[0m\u001b[0;34m\u001b[0m\u001b[0;34m\u001b[0m\u001b[0;34m\u001b[0m\u001b[0m\n\u001b[1;32m    261\u001b[0m         \u001b[0;32mwith\u001b[0m \u001b[0mparallel_backend\u001b[0m\u001b[0;34m(\u001b[0m\u001b[0mself\u001b[0m\u001b[0;34m.\u001b[0m\u001b[0m_backend\u001b[0m\u001b[0;34m,\u001b[0m \u001b[0mn_jobs\u001b[0m\u001b[0;34m=\u001b[0m\u001b[0mself\u001b[0m\u001b[0;34m.\u001b[0m\u001b[0m_n_jobs\u001b[0m\u001b[0;34m)\u001b[0m\u001b[0;34m:\u001b[0m\u001b[0;34m\u001b[0m\u001b[0;34m\u001b[0m\u001b[0m\n\u001b[0;32m--> 262\u001b[0;31m             return [func(*args, **kwargs)\n\u001b[0m\u001b[1;32m    263\u001b[0m                     for func, args, kwargs in self.items]\n\u001b[1;32m    264\u001b[0m \u001b[0;34m\u001b[0m\u001b[0m\n",
      "\u001b[0;32m~/opt/anaconda3/envs/learn-env/lib/python3.8/site-packages/joblib/parallel.py\u001b[0m in \u001b[0;36m<listcomp>\u001b[0;34m(.0)\u001b[0m\n\u001b[1;32m    260\u001b[0m         \u001b[0;31m# change the default number of processes to -1\u001b[0m\u001b[0;34m\u001b[0m\u001b[0;34m\u001b[0m\u001b[0;34m\u001b[0m\u001b[0m\n\u001b[1;32m    261\u001b[0m         \u001b[0;32mwith\u001b[0m \u001b[0mparallel_backend\u001b[0m\u001b[0;34m(\u001b[0m\u001b[0mself\u001b[0m\u001b[0;34m.\u001b[0m\u001b[0m_backend\u001b[0m\u001b[0;34m,\u001b[0m \u001b[0mn_jobs\u001b[0m\u001b[0;34m=\u001b[0m\u001b[0mself\u001b[0m\u001b[0;34m.\u001b[0m\u001b[0m_n_jobs\u001b[0m\u001b[0;34m)\u001b[0m\u001b[0;34m:\u001b[0m\u001b[0;34m\u001b[0m\u001b[0;34m\u001b[0m\u001b[0m\n\u001b[0;32m--> 262\u001b[0;31m             return [func(*args, **kwargs)\n\u001b[0m\u001b[1;32m    263\u001b[0m                     for func, args, kwargs in self.items]\n\u001b[1;32m    264\u001b[0m \u001b[0;34m\u001b[0m\u001b[0m\n",
      "\u001b[0;32m~/opt/anaconda3/envs/learn-env/lib/python3.8/site-packages/sklearn/model_selection/_validation.py\u001b[0m in \u001b[0;36m_fit_and_score\u001b[0;34m(estimator, X, y, scorer, train, test, verbose, parameters, fit_params, return_train_score, return_parameters, return_n_test_samples, return_times, return_estimator, error_score)\u001b[0m\n\u001b[1;32m    529\u001b[0m             \u001b[0mestimator\u001b[0m\u001b[0;34m.\u001b[0m\u001b[0mfit\u001b[0m\u001b[0;34m(\u001b[0m\u001b[0mX_train\u001b[0m\u001b[0;34m,\u001b[0m \u001b[0;34m**\u001b[0m\u001b[0mfit_params\u001b[0m\u001b[0;34m)\u001b[0m\u001b[0;34m\u001b[0m\u001b[0;34m\u001b[0m\u001b[0m\n\u001b[1;32m    530\u001b[0m         \u001b[0;32melse\u001b[0m\u001b[0;34m:\u001b[0m\u001b[0;34m\u001b[0m\u001b[0;34m\u001b[0m\u001b[0m\n\u001b[0;32m--> 531\u001b[0;31m             \u001b[0mestimator\u001b[0m\u001b[0;34m.\u001b[0m\u001b[0mfit\u001b[0m\u001b[0;34m(\u001b[0m\u001b[0mX_train\u001b[0m\u001b[0;34m,\u001b[0m \u001b[0my_train\u001b[0m\u001b[0;34m,\u001b[0m \u001b[0;34m**\u001b[0m\u001b[0mfit_params\u001b[0m\u001b[0;34m)\u001b[0m\u001b[0;34m\u001b[0m\u001b[0;34m\u001b[0m\u001b[0m\n\u001b[0m\u001b[1;32m    532\u001b[0m \u001b[0;34m\u001b[0m\u001b[0m\n\u001b[1;32m    533\u001b[0m     \u001b[0;32mexcept\u001b[0m \u001b[0mException\u001b[0m \u001b[0;32mas\u001b[0m \u001b[0me\u001b[0m\u001b[0;34m:\u001b[0m\u001b[0;34m\u001b[0m\u001b[0;34m\u001b[0m\u001b[0m\n",
      "\u001b[0;32m~/opt/anaconda3/envs/learn-env/lib/python3.8/site-packages/sklearn/pipeline.py\u001b[0m in \u001b[0;36mfit\u001b[0;34m(self, X, y, **fit_params)\u001b[0m\n\u001b[1;32m    333\u001b[0m             \u001b[0;32mif\u001b[0m \u001b[0mself\u001b[0m\u001b[0;34m.\u001b[0m\u001b[0m_final_estimator\u001b[0m \u001b[0;34m!=\u001b[0m \u001b[0;34m'passthrough'\u001b[0m\u001b[0;34m:\u001b[0m\u001b[0;34m\u001b[0m\u001b[0;34m\u001b[0m\u001b[0m\n\u001b[1;32m    334\u001b[0m                 \u001b[0mfit_params_last_step\u001b[0m \u001b[0;34m=\u001b[0m \u001b[0mfit_params_steps\u001b[0m\u001b[0;34m[\u001b[0m\u001b[0mself\u001b[0m\u001b[0;34m.\u001b[0m\u001b[0msteps\u001b[0m\u001b[0;34m[\u001b[0m\u001b[0;34m-\u001b[0m\u001b[0;36m1\u001b[0m\u001b[0;34m]\u001b[0m\u001b[0;34m[\u001b[0m\u001b[0;36m0\u001b[0m\u001b[0;34m]\u001b[0m\u001b[0;34m]\u001b[0m\u001b[0;34m\u001b[0m\u001b[0;34m\u001b[0m\u001b[0m\n\u001b[0;32m--> 335\u001b[0;31m                 \u001b[0mself\u001b[0m\u001b[0;34m.\u001b[0m\u001b[0m_final_estimator\u001b[0m\u001b[0;34m.\u001b[0m\u001b[0mfit\u001b[0m\u001b[0;34m(\u001b[0m\u001b[0mXt\u001b[0m\u001b[0;34m,\u001b[0m \u001b[0my\u001b[0m\u001b[0;34m,\u001b[0m \u001b[0;34m**\u001b[0m\u001b[0mfit_params_last_step\u001b[0m\u001b[0;34m)\u001b[0m\u001b[0;34m\u001b[0m\u001b[0;34m\u001b[0m\u001b[0m\n\u001b[0m\u001b[1;32m    336\u001b[0m \u001b[0;34m\u001b[0m\u001b[0m\n\u001b[1;32m    337\u001b[0m         \u001b[0;32mreturn\u001b[0m \u001b[0mself\u001b[0m\u001b[0;34m\u001b[0m\u001b[0;34m\u001b[0m\u001b[0m\n",
      "\u001b[0;32m~/opt/anaconda3/envs/learn-env/lib/python3.8/site-packages/sklearn/ensemble/_gb.py\u001b[0m in \u001b[0;36mfit\u001b[0;34m(self, X, y, sample_weight, monitor)\u001b[0m\n\u001b[1;32m    496\u001b[0m \u001b[0;34m\u001b[0m\u001b[0m\n\u001b[1;32m    497\u001b[0m         \u001b[0;31m# fit the boosting stages\u001b[0m\u001b[0;34m\u001b[0m\u001b[0;34m\u001b[0m\u001b[0;34m\u001b[0m\u001b[0m\n\u001b[0;32m--> 498\u001b[0;31m         n_stages = self._fit_stages(\n\u001b[0m\u001b[1;32m    499\u001b[0m             \u001b[0mX\u001b[0m\u001b[0;34m,\u001b[0m \u001b[0my\u001b[0m\u001b[0;34m,\u001b[0m \u001b[0mraw_predictions\u001b[0m\u001b[0;34m,\u001b[0m \u001b[0msample_weight\u001b[0m\u001b[0;34m,\u001b[0m \u001b[0mself\u001b[0m\u001b[0;34m.\u001b[0m\u001b[0m_rng\u001b[0m\u001b[0;34m,\u001b[0m \u001b[0mX_val\u001b[0m\u001b[0;34m,\u001b[0m \u001b[0my_val\u001b[0m\u001b[0;34m,\u001b[0m\u001b[0;34m\u001b[0m\u001b[0;34m\u001b[0m\u001b[0m\n\u001b[1;32m    500\u001b[0m             sample_weight_val, begin_at_stage, monitor, X_idx_sorted)\n",
      "\u001b[0;32m~/opt/anaconda3/envs/learn-env/lib/python3.8/site-packages/sklearn/ensemble/_gb.py\u001b[0m in \u001b[0;36m_fit_stages\u001b[0;34m(self, X, y, raw_predictions, sample_weight, random_state, X_val, y_val, sample_weight_val, begin_at_stage, monitor, X_idx_sorted)\u001b[0m\n\u001b[1;32m    553\u001b[0m \u001b[0;34m\u001b[0m\u001b[0m\n\u001b[1;32m    554\u001b[0m             \u001b[0;31m# fit next stage of trees\u001b[0m\u001b[0;34m\u001b[0m\u001b[0;34m\u001b[0m\u001b[0;34m\u001b[0m\u001b[0m\n\u001b[0;32m--> 555\u001b[0;31m             raw_predictions = self._fit_stage(\n\u001b[0m\u001b[1;32m    556\u001b[0m                 \u001b[0mi\u001b[0m\u001b[0;34m,\u001b[0m \u001b[0mX\u001b[0m\u001b[0;34m,\u001b[0m \u001b[0my\u001b[0m\u001b[0;34m,\u001b[0m \u001b[0mraw_predictions\u001b[0m\u001b[0;34m,\u001b[0m \u001b[0msample_weight\u001b[0m\u001b[0;34m,\u001b[0m \u001b[0msample_mask\u001b[0m\u001b[0;34m,\u001b[0m\u001b[0;34m\u001b[0m\u001b[0;34m\u001b[0m\u001b[0m\n\u001b[1;32m    557\u001b[0m                 random_state, X_idx_sorted, X_csc, X_csr)\n",
      "\u001b[0;32m~/opt/anaconda3/envs/learn-env/lib/python3.8/site-packages/sklearn/ensemble/_gb.py\u001b[0m in \u001b[0;36m_fit_stage\u001b[0;34m(self, i, X, y, raw_predictions, sample_weight, sample_mask, random_state, X_idx_sorted, X_csc, X_csr)\u001b[0m\n\u001b[1;32m    209\u001b[0m \u001b[0;34m\u001b[0m\u001b[0m\n\u001b[1;32m    210\u001b[0m             \u001b[0mX\u001b[0m \u001b[0;34m=\u001b[0m \u001b[0mX_csr\u001b[0m \u001b[0;32mif\u001b[0m \u001b[0mX_csr\u001b[0m \u001b[0;32mis\u001b[0m \u001b[0;32mnot\u001b[0m \u001b[0;32mNone\u001b[0m \u001b[0;32melse\u001b[0m \u001b[0mX\u001b[0m\u001b[0;34m\u001b[0m\u001b[0;34m\u001b[0m\u001b[0m\n\u001b[0;32m--> 211\u001b[0;31m             tree.fit(X, residual, sample_weight=sample_weight,\n\u001b[0m\u001b[1;32m    212\u001b[0m                      check_input=False, X_idx_sorted=X_idx_sorted)\n\u001b[1;32m    213\u001b[0m \u001b[0;34m\u001b[0m\u001b[0m\n",
      "\u001b[0;32m~/opt/anaconda3/envs/learn-env/lib/python3.8/site-packages/sklearn/tree/_classes.py\u001b[0m in \u001b[0;36mfit\u001b[0;34m(self, X, y, sample_weight, check_input, X_idx_sorted)\u001b[0m\n\u001b[1;32m   1240\u001b[0m         \"\"\"\n\u001b[1;32m   1241\u001b[0m \u001b[0;34m\u001b[0m\u001b[0m\n\u001b[0;32m-> 1242\u001b[0;31m         super().fit(\n\u001b[0m\u001b[1;32m   1243\u001b[0m             \u001b[0mX\u001b[0m\u001b[0;34m,\u001b[0m \u001b[0my\u001b[0m\u001b[0;34m,\u001b[0m\u001b[0;34m\u001b[0m\u001b[0;34m\u001b[0m\u001b[0m\n\u001b[1;32m   1244\u001b[0m             \u001b[0msample_weight\u001b[0m\u001b[0;34m=\u001b[0m\u001b[0msample_weight\u001b[0m\u001b[0;34m,\u001b[0m\u001b[0;34m\u001b[0m\u001b[0;34m\u001b[0m\u001b[0m\n",
      "\u001b[0;32m~/opt/anaconda3/envs/learn-env/lib/python3.8/site-packages/sklearn/tree/_classes.py\u001b[0m in \u001b[0;36mfit\u001b[0;34m(self, X, y, sample_weight, check_input, X_idx_sorted)\u001b[0m\n\u001b[1;32m    373\u001b[0m                                            min_impurity_split)\n\u001b[1;32m    374\u001b[0m \u001b[0;34m\u001b[0m\u001b[0m\n\u001b[0;32m--> 375\u001b[0;31m         \u001b[0mbuilder\u001b[0m\u001b[0;34m.\u001b[0m\u001b[0mbuild\u001b[0m\u001b[0;34m(\u001b[0m\u001b[0mself\u001b[0m\u001b[0;34m.\u001b[0m\u001b[0mtree_\u001b[0m\u001b[0;34m,\u001b[0m \u001b[0mX\u001b[0m\u001b[0;34m,\u001b[0m \u001b[0my\u001b[0m\u001b[0;34m,\u001b[0m \u001b[0msample_weight\u001b[0m\u001b[0;34m,\u001b[0m \u001b[0mX_idx_sorted\u001b[0m\u001b[0;34m)\u001b[0m\u001b[0;34m\u001b[0m\u001b[0;34m\u001b[0m\u001b[0m\n\u001b[0m\u001b[1;32m    376\u001b[0m \u001b[0;34m\u001b[0m\u001b[0m\n\u001b[1;32m    377\u001b[0m         \u001b[0;32mif\u001b[0m \u001b[0mself\u001b[0m\u001b[0;34m.\u001b[0m\u001b[0mn_outputs_\u001b[0m \u001b[0;34m==\u001b[0m \u001b[0;36m1\u001b[0m \u001b[0;32mand\u001b[0m \u001b[0mis_classifier\u001b[0m\u001b[0;34m(\u001b[0m\u001b[0mself\u001b[0m\u001b[0;34m)\u001b[0m\u001b[0;34m:\u001b[0m\u001b[0;34m\u001b[0m\u001b[0;34m\u001b[0m\u001b[0m\n",
      "\u001b[0;31mKeyboardInterrupt\u001b[0m: "
     ]
    }
   ],
   "source": [
    "print_cv_scores(gradboost_pipe)"
   ]
  },
  {
   "cell_type": "code",
   "execution_count": null,
   "metadata": {},
   "outputs": [],
   "source": [
    "gradboost_param_grid = {\n",
    "    'grad__n_estimators': [50, 100, 500, 1000], \n",
    "    'grad__'}"
   ]
  },
  {
   "cell_type": "markdown",
   "metadata": {},
   "source": [
    "## Independent Iteration\n",
    "\n",
    "To save on time, I'm just going to run parts of the pipeline separately. The goal is to have a fully cleaned, imputed, and one-hot-encoded version of `X_train` to then run easily in a cross-val pipeline."
   ]
  },
  {
   "cell_type": "code",
   "execution_count": 157,
   "metadata": {
    "scrolled": true
   },
   "outputs": [
    {
     "name": "stderr",
     "output_type": "stream",
     "text": [
      "/opt/anaconda3/envs/learn-env/lib/python3.8/site-packages/pandas/core/indexing.py:1765: SettingWithCopyWarning: \n",
      "A value is trying to be set on a copy of a slice from a DataFrame.\n",
      "Try using .loc[row_indexer,col_indexer] = value instead\n",
      "\n",
      "See the caveats in the documentation: https://pandas.pydata.org/pandas-docs/stable/user_guide/indexing.html#returning-a-view-versus-a-copy\n",
      "  isetter(loc, value)\n",
      "/opt/anaconda3/envs/learn-env/lib/python3.8/site-packages/pandas/core/series.py:4517: SettingWithCopyWarning: \n",
      "A value is trying to be set on a copy of a slice from a DataFrame\n",
      "\n",
      "See the caveats in the documentation: https://pandas.pydata.org/pandas-docs/stable/user_guide/indexing.html#returning-a-view-versus-a-copy\n",
      "  return super().fillna(\n",
      "/opt/anaconda3/envs/learn-env/lib/python3.8/site-packages/pandas/core/indexing.py:1765: SettingWithCopyWarning: \n",
      "A value is trying to be set on a copy of a slice from a DataFrame.\n",
      "Try using .loc[row_indexer,col_indexer] = value instead\n",
      "\n",
      "See the caveats in the documentation: https://pandas.pydata.org/pandas-docs/stable/user_guide/indexing.html#returning-a-view-versus-a-copy\n",
      "  isetter(loc, value)\n",
      "/opt/anaconda3/envs/learn-env/lib/python3.8/site-packages/pandas/core/indexing.py:1765: SettingWithCopyWarning: \n",
      "A value is trying to be set on a copy of a slice from a DataFrame.\n",
      "Try using .loc[row_indexer,col_indexer] = value instead\n",
      "\n",
      "See the caveats in the documentation: https://pandas.pydata.org/pandas-docs/stable/user_guide/indexing.html#returning-a-view-versus-a-copy\n",
      "  isetter(loc, value)\n",
      "<ipython-input-144-93e380e117e4>:6: SettingWithCopyWarning: \n",
      "A value is trying to be set on a copy of a slice from a DataFrame.\n",
      "Try using .loc[row_indexer,col_indexer] = value instead\n",
      "\n",
      "See the caveats in the documentation: https://pandas.pydata.org/pandas-docs/stable/user_guide/indexing.html#returning-a-view-versus-a-copy\n",
      "  df['BEAT_OF_OCCURRENCE'] = df['BEAT_OF_OCCURRENCE'].astype(str)\n",
      "<ipython-input-144-93e380e117e4>:7: SettingWithCopyWarning: \n",
      "A value is trying to be set on a copy of a slice from a DataFrame.\n",
      "Try using .loc[row_indexer,col_indexer] = value instead\n",
      "\n",
      "See the caveats in the documentation: https://pandas.pydata.org/pandas-docs/stable/user_guide/indexing.html#returning-a-view-versus-a-copy\n",
      "  df['BEAT_OF_OCCURRENCE'] = df['BEAT_OF_OCCURRENCE'].apply(lambda x: x[:-4])\n",
      "/opt/anaconda3/envs/learn-env/lib/python3.8/site-packages/pandas/core/indexing.py:1765: SettingWithCopyWarning: \n",
      "A value is trying to be set on a copy of a slice from a DataFrame.\n",
      "Try using .loc[row_indexer,col_indexer] = value instead\n",
      "\n",
      "See the caveats in the documentation: https://pandas.pydata.org/pandas-docs/stable/user_guide/indexing.html#returning-a-view-versus-a-copy\n",
      "  isetter(loc, value)\n",
      "/opt/anaconda3/envs/learn-env/lib/python3.8/site-packages/pandas/core/indexing.py:1765: SettingWithCopyWarning: \n",
      "A value is trying to be set on a copy of a slice from a DataFrame.\n",
      "Try using .loc[row_indexer,col_indexer] = value instead\n",
      "\n",
      "See the caveats in the documentation: https://pandas.pydata.org/pandas-docs/stable/user_guide/indexing.html#returning-a-view-versus-a-copy\n",
      "  isetter(loc, value)\n",
      "/opt/anaconda3/envs/learn-env/lib/python3.8/site-packages/pandas/core/indexing.py:1765: SettingWithCopyWarning: \n",
      "A value is trying to be set on a copy of a slice from a DataFrame.\n",
      "Try using .loc[row_indexer,col_indexer] = value instead\n",
      "\n",
      "See the caveats in the documentation: https://pandas.pydata.org/pandas-docs/stable/user_guide/indexing.html#returning-a-view-versus-a-copy\n",
      "  isetter(loc, value)\n",
      "/opt/anaconda3/envs/learn-env/lib/python3.8/site-packages/pandas/core/series.py:4517: SettingWithCopyWarning: \n",
      "A value is trying to be set on a copy of a slice from a DataFrame\n",
      "\n",
      "See the caveats in the documentation: https://pandas.pydata.org/pandas-docs/stable/user_guide/indexing.html#returning-a-view-versus-a-copy\n",
      "  return super().fillna(\n"
     ]
    }
   ],
   "source": [
    "# Use cleaning_pipline to clean up the values\n",
    "X_train_transformed = cleaning_pipeline.fit_transform(X_train)"
   ]
  },
  {
   "cell_type": "code",
   "execution_count": 160,
   "metadata": {
    "scrolled": true
   },
   "outputs": [
    {
     "data": {
      "text/plain": [
       "PERSON_TYPE                     0\n",
       "SEAT_NO                         0\n",
       "STATE                           0\n",
       "SEX                             0\n",
       "AGE                        262506\n",
       "DRIVERS_LICENSE_CLASS           0\n",
       "SAFETY_EQUIPMENT                0\n",
       "AIRBAG_DEPLOYED                 0\n",
       "EJECTION                        0\n",
       "DRIVER_ACTION                   0\n",
       "DRIVER_VISION                   0\n",
       "PHYSICAL_CONDITION              0\n",
       "BAC_RESULT                      0\n",
       "POSTED_SPEED_LIMIT          10801\n",
       "TRAFFIC_CONTROL_DEVICE          0\n",
       "DEVICE_CONDITION                0\n",
       "WEATHER_CONDITION               0\n",
       "LIGHTING_CONDITION              0\n",
       "FIRST_CRASH_TYPE                0\n",
       "TRAFFICWAY_TYPE                 0\n",
       "ALIGNMENT                       0\n",
       "ROADWAY_SURFACE_COND            0\n",
       "ROAD_DEFECT                     0\n",
       "CRASH_TYPE                      0\n",
       "INTERSECTION_RELATED_I          0\n",
       "HIT_AND_RUN_I                   0\n",
       "DAMAGE                          0\n",
       "PRIM_CONTRIBUTORY_CAUSE         0\n",
       "SEC_CONTRIBUTORY_CAUSE          0\n",
       "BEAT_OF_OCCURRENCE              0\n",
       "NUM_UNITS                       0\n",
       "CRASH_HOUR                      0\n",
       "CRASH_DAY_OF_WEEK               0\n",
       "CRASH_MONTH                     0\n",
       "CRASH_YEAR                      0\n",
       "dtype: int64"
      ]
     },
     "execution_count": 160,
     "metadata": {},
     "output_type": "execute_result"
    }
   ],
   "source": [
    "X_train_transformed.isna().sum()"
   ]
  },
  {
   "cell_type": "code",
   "execution_count": 175,
   "metadata": {},
   "outputs": [],
   "source": [
    "# Impute missing values for AGE and POSTED_SPEED_LIMIT\n",
    "cat_ind = ColumnTransformer(transformers=[\n",
    "    ('ohe', OneHotEncoder(drop='first', sparse=False), X_train_transformed.select_dtypes('object').columns)\n",
    "], remainder='passthrough')\n",
    "\n",
    "X_train_trans_imp = cat_ind.fit_transform(X_train_transformed)"
   ]
  },
  {
   "cell_type": "code",
   "execution_count": 177,
   "metadata": {},
   "outputs": [],
   "source": [
    "# Create a pipeline to use with cross_validate\n",
    "ind_model_pipe = Pipeline(steps=[\n",
    "    ('simple', SimpleImputer(strategy='median', fill_value=0)),\n",
    "    ('ss', StandardScaler()),\n",
    "    ('lr', LogisticRegression(random_state=42))\n",
    "])"
   ]
  },
  {
   "cell_type": "code",
   "execution_count": 179,
   "metadata": {
    "scrolled": true
   },
   "outputs": [
    {
     "name": "stderr",
     "output_type": "stream",
     "text": [
      "/opt/anaconda3/envs/learn-env/lib/python3.8/site-packages/sklearn/linear_model/_logistic.py:762: ConvergenceWarning: lbfgs failed to converge (status=1):\n",
      "STOP: TOTAL NO. of ITERATIONS REACHED LIMIT.\n",
      "\n",
      "Increase the number of iterations (max_iter) or scale the data as shown in:\n",
      "    https://scikit-learn.org/stable/modules/preprocessing.html\n",
      "Please also refer to the documentation for alternative solver options:\n",
      "    https://scikit-learn.org/stable/modules/linear_model.html#logistic-regression\n",
      "  n_iter_i = _check_optimize_result(\n",
      "/opt/anaconda3/envs/learn-env/lib/python3.8/site-packages/sklearn/linear_model/_logistic.py:762: ConvergenceWarning: lbfgs failed to converge (status=1):\n",
      "STOP: TOTAL NO. of ITERATIONS REACHED LIMIT.\n",
      "\n",
      "Increase the number of iterations (max_iter) or scale the data as shown in:\n",
      "    https://scikit-learn.org/stable/modules/preprocessing.html\n",
      "Please also refer to the documentation for alternative solver options:\n",
      "    https://scikit-learn.org/stable/modules/linear_model.html#logistic-regression\n",
      "  n_iter_i = _check_optimize_result(\n",
      "/opt/anaconda3/envs/learn-env/lib/python3.8/site-packages/sklearn/linear_model/_logistic.py:762: ConvergenceWarning: lbfgs failed to converge (status=1):\n",
      "STOP: TOTAL NO. of ITERATIONS REACHED LIMIT.\n",
      "\n",
      "Increase the number of iterations (max_iter) or scale the data as shown in:\n",
      "    https://scikit-learn.org/stable/modules/preprocessing.html\n",
      "Please also refer to the documentation for alternative solver options:\n",
      "    https://scikit-learn.org/stable/modules/linear_model.html#logistic-regression\n",
      "  n_iter_i = _check_optimize_result(\n",
      "/opt/anaconda3/envs/learn-env/lib/python3.8/site-packages/sklearn/linear_model/_logistic.py:762: ConvergenceWarning: lbfgs failed to converge (status=1):\n",
      "STOP: TOTAL NO. of ITERATIONS REACHED LIMIT.\n",
      "\n",
      "Increase the number of iterations (max_iter) or scale the data as shown in:\n",
      "    https://scikit-learn.org/stable/modules/preprocessing.html\n",
      "Please also refer to the documentation for alternative solver options:\n",
      "    https://scikit-learn.org/stable/modules/linear_model.html#logistic-regression\n",
      "  n_iter_i = _check_optimize_result(\n",
      "/opt/anaconda3/envs/learn-env/lib/python3.8/site-packages/sklearn/linear_model/_logistic.py:762: ConvergenceWarning: lbfgs failed to converge (status=1):\n",
      "STOP: TOTAL NO. of ITERATIONS REACHED LIMIT.\n",
      "\n",
      "Increase the number of iterations (max_iter) or scale the data as shown in:\n",
      "    https://scikit-learn.org/stable/modules/preprocessing.html\n",
      "Please also refer to the documentation for alternative solver options:\n",
      "    https://scikit-learn.org/stable/modules/linear_model.html#logistic-regression\n",
      "  n_iter_i = _check_optimize_result(\n"
     ]
    },
    {
     "name": "stdout",
     "output_type": "stream",
     "text": [
      "[0.93272265 0.93275889 0.93260417 0.9327798  0.93273798]\n",
      "0.9327206989217338\n",
      "##############\n",
      "[0.93188635 0.93233795 0.93295124 0.93243831 0.93275053]\n",
      "0.9324728760830053\n"
     ]
    }
   ],
   "source": [
    "print_cv_scores(ind_model_pipe)"
   ]
  },
  {
   "cell_type": "code",
   "execution_count": null,
   "metadata": {},
   "outputs": [],
   "source": []
  }
 ],
 "metadata": {
  "kernelspec": {
   "display_name": "Python 3",
   "language": "python",
   "name": "python3"
  },
  "language_info": {
   "codemirror_mode": {
    "name": "ipython",
    "version": 3
   },
   "file_extension": ".py",
   "mimetype": "text/x-python",
   "name": "python",
   "nbconvert_exporter": "python",
   "pygments_lexer": "ipython3",
   "version": "3.8.5"
  }
 },
 "nbformat": 4,
 "nbformat_minor": 4
}
